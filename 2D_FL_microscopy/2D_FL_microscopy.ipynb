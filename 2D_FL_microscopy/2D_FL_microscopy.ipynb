{
 "cells": [
  {
   "cell_type": "markdown",
   "metadata": {},
   "source": [
    "### import modules\n",
    "1. setup matplot.rcParams to export vectorized plots\n",
    "2. dxchange is for loading and saving .diff files"
   ]
  },
  {
   "cell_type": "code",
   "execution_count": 4,
   "metadata": {},
   "outputs": [],
   "source": [
    "import numpy as np\n",
    "import matplotlib.pyplot as plt\n",
    "from matplotlib import gridspec\n",
    "import matplotlib\n",
    "%matplotlib inline\n",
    "matplotlib.rcParams['pdf.fonttype'] = 'truetype'\n",
    "fontProperties = {'family': 'serif', 'serif': ['Helvetica'], 'weight': 'normal', 'size': 12}\n",
    "plt.rc('font', **fontProperties)\n",
    "from mpl_toolkits.axes_grid1 import make_axes_locatable\n",
    "import dxchange"
   ]
  },
  {
   "cell_type": "code",
   "execution_count": 5,
   "metadata": {},
   "outputs": [
    {
     "name": "stdout",
     "output_type": "stream",
     "text": [
      "2000\n",
      "[1.000e-02 2.000e-02 3.000e-02 ... 1.998e+01 1.999e+01 2.000e+01]\n"
     ]
    }
   ],
   "source": [
    "E_min = 0\n",
    "E_max = 20 #keV\n",
    "E_step = 0.01\n",
    "E_num = int((E_max-E_min)/E_step)\n",
    "\n",
    "E_channel = np.linspace(E_step, E_max, E_num) \n",
    "print(len(E_channel))\n",
    "print(E_channel)"
   ]
  },
  {
   "cell_type": "code",
   "execution_count": 6,
   "metadata": {},
   "outputs": [],
   "source": [
    "## Create model of K and C map\n",
    "image_size = 20\n",
    "K_map = np.zeros((image_size, image_size))\n",
    "\n",
    "K_bg = 0.6\n",
    "K_dist = 0.0\n",
    "\n",
    "K_map.fill(K_bg)\n",
    "\n",
    "## upper-left rectangle\n",
    "K_map[2:8, 2:8] = K_dist\n",
    "\n",
    "## upper-right circle\n",
    "K_map[1, 14] = K_dist\n",
    "K_map[2, 12:17] = K_dist\n",
    "K_map[3:5, 11:18] = K_dist\n",
    "K_map[5, 11:19] = K_dist\n",
    "K_map[6, 11:18] = K_dist\n",
    "K_map[7, 12:18] = K_dist\n",
    "K_map[8, 13:17] = K_dist\n",
    "\n",
    "## lower-right rectangle\n",
    "K_map[11:19, 11:18] = K_dist\n",
    "\n",
    "## lower-left \n",
    "K_map[11, 3:5] = K_dist\n",
    "K_map[11, 6] = K_dist\n",
    "K_map[12, 2:4] = K_dist\n",
    "K_map[12, 7] = K_dist\n",
    "K_map[13, 2] = K_dist\n",
    "K_map[13, 8] = K_dist\n",
    "K_map[14, 1] = K_dist\n",
    "K_map[15, 8] = K_dist\n",
    "K_map[16, 2] = K_dist\n",
    "K_map[16, 7:9] = K_dist\n",
    "K_map[17, 3] = K_dist\n",
    "K_map[17, 6:8] = K_dist\n",
    "K_map[18, 5] = K_dist\n",
    "\n",
    "C_map = K_map\n",
    "\n",
    "dxchange.write_tiff(K_map, \"K_map\", dtype='float32', overwrite=True)\n",
    "dxchange.write_tiff(C_map, \"C_map\", dtype='float32', overwrite=True)"
   ]
  },
  {
   "cell_type": "code",
   "execution_count": 7,
   "metadata": {},
   "outputs": [
    {
     "data": {
      "text/plain": [
       "Text(0.5, 1.0, 'intensity')"
      ]
     },
     "execution_count": 7,
     "metadata": {},
     "output_type": "execute_result"
    },
    {
     "data": {
      "image/png": "[encoded data removed]",
      "text/plain": [
       "<Figure size 360x360 with 2 Axes>"
      ]
     },
     "metadata": {
      "needs_background": "light"
     },
     "output_type": "display_data"
    }
   ],
   "source": [
    "## Plot model\n",
    "fig1 = plt.figure(figsize=(5,5))\n",
    "gs1 = gridspec.GridSpec(nrows=1, ncols=1, width_ratios=[1])\n",
    "fig1_ax1 = fig1.add_subplot(gs1[0,0])\n",
    "fig1_ax1.set_xticks(np.arange(0, image_size, 1))\n",
    "fig1_ax1.set_yticks(np.arange(0, image_size, 1))\n",
    "# fig1_ax1.grid(color='w', linewidth=2)\n",
    "pos = fig1_ax1.imshow(K_map, cmap='jet', vmin=0, vmax=1.4, extent=[0, 20, 0, 20], origin='upper')\n",
    "divider = make_axes_locatable(fig1_ax1)\n",
    "cax = divider.append_axes(\"right\", size=\"5%\", pad=0.05)\n",
    "ticks = np.array([0, 0.2, 0.4, 0.6, 0.8, 1.0, 1.2, 1.4])\n",
    "cbar = fig1.colorbar(pos, cax=cax, ticks=ticks)\n",
    "cbar.ax.tick_params(labelsize=14) \n",
    "cbar.ax.set_title('intensity', size='14')"
   ]
  },
  {
   "cell_type": "code",
   "execution_count": 8,
   "metadata": {},
   "outputs": [],
   "source": [
    "## Create model of Ga and O map\n",
    "image_size = 20\n",
    "Ga_map = np.zeros((image_size, image_size))\n",
    "\n",
    "Ga_bg = 1.20\n",
    "Ga_dist = 1.10\n",
    "\n",
    "Ga_map.fill(Ga_bg)\n",
    "\n",
    "## upper-left rectangle\n",
    "Ga_map[2:8, 2:8] = Ga_dist\n",
    "\n",
    "## upper-right circle\n",
    "Ga_map[1, 14] = Ga_dist\n",
    "Ga_map[2, 12:17] = Ga_dist\n",
    "Ga_map[3:5, 11:18] = Ga_dist\n",
    "Ga_map[5, 11:19] = Ga_dist\n",
    "Ga_map[6, 11:18] = Ga_dist\n",
    "Ga_map[7, 12:18] = Ga_dist\n",
    "Ga_map[8, 13:17] = Ga_dist\n",
    "\n",
    "## lower-right rectangle\n",
    "Ga_map[11:19, 11:18] = Ga_dist\n",
    "\n",
    "## lower-left \n",
    "Ga_map[11, 3:5] = Ga_dist\n",
    "Ga_map[11, 6] = Ga_dist\n",
    "Ga_map[12, 2:4] = Ga_dist\n",
    "Ga_map[12, 7] = Ga_dist\n",
    "Ga_map[13, 2] = Ga_dist\n",
    "Ga_map[13, 8] = Ga_dist\n",
    "Ga_map[14, 1] = Ga_dist\n",
    "Ga_map[15, 8] = Ga_dist\n",
    "Ga_map[16, 2] = Ga_dist\n",
    "Ga_map[16, 7:9] = Ga_dist\n",
    "Ga_map[17, 3] = Ga_dist\n",
    "Ga_map[17, 6:8] = Ga_dist\n",
    "Ga_map[18, 5] = Ga_dist\n",
    "\n",
    "O_map = Ga_map\n",
    "\n",
    "dxchange.write_tiff(Ga_map, \"Ga_map\", dtype='float32', overwrite=True)\n",
    "dxchange.write_tiff(O_map, \"O_map\", dtype='float32', overwrite=True)"
   ]
  },
  {
   "cell_type": "code",
   "execution_count": 9,
   "metadata": {},
   "outputs": [
    {
     "data": {
      "text/plain": [
       "Text(0.5, 1.0, 'intensity')"
      ]
     },
     "execution_count": 9,
     "metadata": {},
     "output_type": "execute_result"
    },
    {
     "data": {
      "image/png": "[encoded data removed]",
      "text/plain": [
       "<Figure size 360x360 with 2 Axes>"
      ]
     },
     "metadata": {
      "needs_background": "light"
     },
     "output_type": "display_data"
    }
   ],
   "source": [
    "## Plot model\n",
    "fig2 = plt.figure(figsize=(5,5))\n",
    "gs2 = gridspec.GridSpec(nrows=1, ncols=1, width_ratios=[1])\n",
    "fig2_ax1 = fig2.add_subplot(gs2[0,0])\n",
    "fig2_ax1.set_xticks(np.arange(0, image_size, 1))\n",
    "fig2_ax1.set_yticks(np.arange(0, image_size, 1))\n",
    "# fig2_ax1.grid(color='w', linewidth=2)\n",
    "pos = fig2_ax1.imshow(Ga_map, cmap='jet', vmin=0, vmax=1.4, extent=[0, 20, 0, 20], origin='upper')\n",
    "divider = make_axes_locatable(fig2_ax1)\n",
    "cax = divider.append_axes(\"right\", size=\"5%\", pad=0.05)\n",
    "ticks = np.array([0, 0.2, 0.4, 0.6, 0.8, 1.0, 1.2, 1.4])\n",
    "cbar = fig2.colorbar(pos, cax=cax, ticks=ticks)\n",
    "cbar.ax.tick_params(labelsize=14) \n",
    "cbar.ax.set_title('intensity', size='14')"
   ]
  },
  {
   "cell_type": "code",
   "execution_count": 10,
   "metadata": {},
   "outputs": [],
   "source": [
    "## Create model of Fe and Si map\n",
    "image_size = 20\n",
    "Fe_map = np.zeros((image_size, image_size))\n",
    "\n",
    "Fe_bg = 0.10\n",
    "Fe_dist = 0.25\n",
    "\n",
    "Fe_map.fill(Fe_bg)\n",
    "\n",
    "## upper-left rectangle\n",
    "Fe_map[2:8, 2:8] = Fe_dist\n",
    "\n",
    "## upper-right circle\n",
    "Fe_map[1, 14] = Fe_dist\n",
    "Fe_map[2, 12:17] = Fe_dist\n",
    "Fe_map[3:5, 11:18] = Fe_dist\n",
    "Fe_map[5, 11:19] = Fe_dist\n",
    "Fe_map[6, 11:18] = Fe_dist\n",
    "Fe_map[7, 12:18] = Fe_dist\n",
    "Fe_map[8, 13:17] = Fe_dist\n",
    "\n",
    "## lower-right rectangle\n",
    "Fe_map[11:19, 11:18] = Fe_dist\n",
    "\n",
    "## lower-left \n",
    "Fe_map[11, 3:5] = Fe_dist\n",
    "Fe_map[11, 6] = Fe_dist\n",
    "Fe_map[12, 2:4] = Fe_dist\n",
    "Fe_map[12, 7] = Fe_dist\n",
    "Fe_map[13, 2] = Fe_dist\n",
    "Fe_map[13, 8] = Fe_dist\n",
    "Fe_map[14, 1] = Fe_dist\n",
    "Fe_map[15, 8] = Fe_dist\n",
    "Fe_map[16, 2] = Fe_dist\n",
    "Fe_map[16, 7:9] = Fe_dist\n",
    "Fe_map[17, 3] = Fe_dist\n",
    "Fe_map[17, 6:8] = Fe_dist\n",
    "Fe_map[18, 5] = Fe_dist\n",
    "\n",
    "Si_map = Fe_map\n",
    "\n",
    "dxchange.write_tiff(Si_map, \"Si_map\", dtype='float32', overwrite=True)\n",
    "dxchange.write_tiff(Fe_map, \"Fe_map\", dtype='float32', overwrite=True)"
   ]
  },
  {
   "cell_type": "code",
   "execution_count": 11,
   "metadata": {},
   "outputs": [
    {
     "data": {
      "text/plain": [
       "Text(0.5, 1.0, 'intensity')"
      ]
     },
     "execution_count": 11,
     "metadata": {},
     "output_type": "execute_result"
    },
    {
     "data": {
      "image/png": "[encoded data removed]",
      "text/plain": [
       "<Figure size 360x360 with 2 Axes>"
      ]
     },
     "metadata": {
      "needs_background": "light"
     },
     "output_type": "display_data"
    }
   ],
   "source": [
    "## Plot model\n",
    "fig3 = plt.figure(figsize=(5,5))\n",
    "gs3 = gridspec.GridSpec(nrows=1, ncols=1, width_ratios=[1])\n",
    "fig3_ax1 = fig3.add_subplot(gs3[0,0])\n",
    "fig3_ax1.set_xticks(np.arange(0, image_size, 1))\n",
    "fig3_ax1.set_yticks(np.arange(0, image_size, 1))\n",
    "# fig3_ax1.grid(color='w', linewidth=2)\n",
    "pos = fig3_ax1.imshow(Fe_map, cmap='jet', vmin=0, vmax=1.4, extent=[0, 20, 0, 20], origin='upper')\n",
    "divider = make_axes_locatable(fig3_ax1)\n",
    "cax = divider.append_axes(\"right\", size=\"5%\", pad=0.05)\n",
    "ticks = np.array([0, 0.2, 0.4, 0.6, 0.8, 1.0, 1.2, 1.4])\n",
    "cbar = fig3.colorbar(pos, cax=cax, ticks=ticks)\n",
    "cbar.ax.tick_params(labelsize=14) \n",
    "cbar.ax.set_title('intensity', size='14')"
   ]
  },
  {
   "cell_type": "code",
   "execution_count": 12,
   "metadata": {},
   "outputs": [],
   "source": [
    "## Create model of Pd and Ca map\n",
    "image_size = 20\n",
    "Pd_map = np.zeros((image_size, image_size))\n",
    "\n",
    "Pd_bg = 0.00\n",
    "Pd_dist = 1.38\n",
    "Pd_dist_2 = 1.10\n",
    "\n",
    "Pd_map.fill(Pd_bg)\n",
    "\n",
    "## upper-left rectangle\n",
    "Pd_map[2:8, 2:8] = Pd_dist\n",
    "Pd_map[2, 4:7] = Pd_dist_2\n",
    "Pd_map[3, 3:8] = Pd_dist_2\n",
    "Pd_map[4, 2:8] = Pd_dist_2\n",
    "Pd_map[5, 2:8] = Pd_dist_2\n",
    "Pd_map[6, 2:8] = Pd_dist_2\n",
    "Pd_map[7, 3:7] = Pd_dist_2\n",
    "\n",
    "## upper-right circle\n",
    "Pd_map[1, 14] = Pd_dist\n",
    "Pd_map[2, 12:17] = Pd_dist\n",
    "Pd_map[3:5, 11:18] = Pd_dist\n",
    "Pd_map[5, 11:19] = Pd_dist\n",
    "Pd_map[6, 11:18] = Pd_dist\n",
    "Pd_map[7, 12:18] = Pd_dist\n",
    "Pd_map[8, 13:17] = Pd_dist\n",
    "\n",
    "## lower-right rectangle\n",
    "Pd_map[11:19, 11:18] = Pd_dist\n",
    "\n",
    "## lower-left \n",
    "Pd_map[11, 3:5] = Pd_dist\n",
    "Pd_map[11, 6] = Pd_dist\n",
    "Pd_map[12, 2:4] = Pd_dist\n",
    "Pd_map[12, 7] = Pd_dist\n",
    "Pd_map[13, 2] = Pd_dist\n",
    "Pd_map[13, 8] = Pd_dist\n",
    "Pd_map[14, 1] = Pd_dist\n",
    "Pd_map[15, 8] = Pd_dist\n",
    "Pd_map[16, 2] = Pd_dist\n",
    "Pd_map[16, 7:9] = Pd_dist\n",
    "Pd_map[17, 3] = Pd_dist\n",
    "Pd_map[17, 6:8] = Pd_dist\n",
    "Pd_map[18, 5] = Pd_dist\n",
    "\n",
    "Ca_map = Pd_map\n",
    "\n",
    "dxchange.write_tiff(Ca_map, \"Ca_map\", dtype='float32', overwrite=True)\n",
    "dxchange.write_tiff(Pd_map, \"Pd_map\", dtype='float32', overwrite=True)"
   ]
  },
  {
   "cell_type": "code",
   "execution_count": 13,
   "metadata": {},
   "outputs": [
    {
     "data": {
      "text/plain": [
       "Text(0.5, 1.0, 'intensity')"
      ]
     },
     "execution_count": 13,
     "metadata": {},
     "output_type": "execute_result"
    },
    {
     "data": {
      "image/png": "[encoded data removed]",
      "text/plain": [
       "<Figure size 360x360 with 2 Axes>"
      ]
     },
     "metadata": {
      "needs_background": "light"
     },
     "output_type": "display_data"
    }
   ],
   "source": [
    "## Plot model\n",
    "fig4 = plt.figure(figsize=(5,5))\n",
    "gs4 = gridspec.GridSpec(nrows=1, ncols=1, width_ratios=[1])\n",
    "fig4_ax1 = fig4.add_subplot(gs4[0,0])\n",
    "fig4_ax1.set_xticks(np.arange(0, image_size, 1))\n",
    "fig4_ax1.set_yticks(np.arange(0, image_size, 1))\n",
    "# fig4_ax1.grid(color='w', linewidth=2)\n",
    "pos = fig4_ax1.imshow(Pd_map, cmap='jet', vmin=0, vmax=1.4, extent=[0, 20, 0, 20], origin='upper')\n",
    "divider = make_axes_locatable(fig4_ax1)\n",
    "cax = divider.append_axes(\"right\", size=\"5%\", pad=0.05)\n",
    "ticks = np.array([0, 0.2, 0.4, 0.6, 0.8, 1.0, 1.2, 1.4])\n",
    "cbar = fig4.colorbar(pos, cax=cax, ticks=ticks)\n",
    "cbar.ax.tick_params(labelsize=14) \n",
    "cbar.ax.set_title('intensity', size='14')"
   ]
  },
  {
   "cell_type": "code",
   "execution_count": 14,
   "metadata": {},
   "outputs": [],
   "source": [
    "## Create model of Pd and Ca map\n",
    "image_size = 20\n",
    "Sn_map = np.zeros((image_size, image_size))\n",
    "\n",
    "Sn_bg = 0.00\n",
    "Sn_dist = 0.60\n",
    "Sn_dist_2 = 1.10\n",
    "\n",
    "Sn_map.fill(Sn_bg)\n",
    "\n",
    "## upper-left rectangle\n",
    "Sn_map[2:8, 2:8] = Sn_dist\n",
    "Sn_map[2, 4:7] = Sn_dist_2\n",
    "Sn_map[3, 3:8] = Sn_dist_2\n",
    "Sn_map[4, 2:8] = Sn_dist_2\n",
    "Sn_map[5, 2:8] = Sn_dist_2\n",
    "Sn_map[6, 2:8] = Sn_dist_2\n",
    "Sn_map[7, 3:7] = Sn_dist_2\n",
    "\n",
    "## upper-right circle\n",
    "Sn_map[1, 14] = Sn_dist\n",
    "Sn_map[2, 12:17] = Sn_dist\n",
    "Sn_map[3:5, 11:18] = Sn_dist\n",
    "Sn_map[5, 11:19] = Sn_dist\n",
    "Sn_map[6, 11:18] = Sn_dist\n",
    "Sn_map[7, 12:18] = Sn_dist\n",
    "Sn_map[8, 13:17] = Sn_dist\n",
    "\n",
    "## lower-right rectangle\n",
    "Sn_map[11:19, 11:18] = Sn_dist\n",
    "\n",
    "## lower-left \n",
    "Sn_map[11, 3:5] = Sn_dist\n",
    "Sn_map[11, 6] = Sn_dist\n",
    "Sn_map[12, 2:4] = Sn_dist\n",
    "Sn_map[12, 7] = Sn_dist\n",
    "Sn_map[13, 2] = Sn_dist\n",
    "Sn_map[13, 8] = Sn_dist\n",
    "Sn_map[14, 1] = Sn_dist\n",
    "Sn_map[15, 8] = Sn_dist\n",
    "Sn_map[16, 2] = Sn_dist\n",
    "Sn_map[16, 7:9] = Sn_dist\n",
    "Sn_map[17, 3] = Sn_dist\n",
    "Sn_map[17, 6:8] = Sn_dist\n",
    "Sn_map[18, 5] = Sn_dist\n",
    "\n",
    "Fe_map_2 = Sn_map\n",
    "\n",
    "dxchange.write_tiff(Sn_map, \"Sn_map\", dtype='float32', overwrite=True)\n",
    "dxchange.write_tiff(Fe_map_2, \"Fe_map_2\", dtype='float32', overwrite=True)"
   ]
  },
  {
   "cell_type": "code",
   "execution_count": 15,
   "metadata": {},
   "outputs": [
    {
     "data": {
      "text/plain": [
       "Text(0.5, 1.0, 'intensity')"
      ]
     },
     "execution_count": 15,
     "metadata": {},
     "output_type": "execute_result"
    },
    {
     "data": {
      "image/png": "[encoded data removed]",
      "text/plain": [
       "<Figure size 360x360 with 2 Axes>"
      ]
     },
     "metadata": {
      "needs_background": "light"
     },
     "output_type": "display_data"
    }
   ],
   "source": [
    "## Plot model\n",
    "fig5 = plt.figure(figsize=(5,5))\n",
    "gs5 = gridspec.GridSpec(nrows=1, ncols=1, width_ratios=[1])\n",
    "fig5_ax1 = fig5.add_subplot(gs5[0,0])\n",
    "fig5_ax1.set_xticks(np.arange(0, image_size, 1))\n",
    "fig5_ax1.set_yticks(np.arange(0, image_size, 1))\n",
    "# fig4_ax1.grid(color='w', linewidth=2)\n",
    "pos = fig5_ax1.imshow(Sn_map, cmap='jet', vmin=0, vmax=1.4, extent=[0, 20, 0, 20], origin='upper')\n",
    "divider = make_axes_locatable(fig5_ax1)\n",
    "cax = divider.append_axes(\"right\", size=\"5%\", pad=0.05)\n",
    "ticks = np.array([0, 0.2, 0.4, 0.6, 0.8, 1.0, 1.2, 1.4])\n",
    "cbar = fig5.colorbar(pos, cax=cax, ticks=ticks)\n",
    "cbar.ax.tick_params(labelsize=14) \n",
    "cbar.ax.set_title('intensity', size='14')"
   ]
  },
  {
   "cell_type": "code",
   "execution_count": 16,
   "metadata": {},
   "outputs": [
    {
     "data": {
      "text/plain": [
       "Text(0.5, 1.0, 'intensity')"
      ]
     },
     "execution_count": 16,
     "metadata": {},
     "output_type": "execute_result"
    },
    {
     "data": {
      "image/png": "[encoded data removed]",
      "text/plain": [
       "<Figure size 1080x216 with 10 Axes>"
      ]
     },
     "metadata": {
      "needs_background": "light"
     },
     "output_type": "display_data"
    }
   ],
   "source": [
    "## Plot all 5 models\n",
    "fig6 = plt.figure(figsize=(15,3))\n",
    "gs6 = gridspec.GridSpec(nrows=1, ncols=5, width_ratios=[1,1,1,1,1])\n",
    "\n",
    "fig6_ax1 = fig6.add_subplot(gs6[0,0])\n",
    "fig6_ax1.set_xticks(np.arange(0, image_size, 1))\n",
    "fig6_ax1.set_yticks(np.arange(0, image_size, 1))\n",
    "# fig6_ax1.grid(color='w', linewidth=2)\n",
    "fig6_ax1.axis('off')\n",
    "pos = fig6_ax1.imshow(K_map, cmap='jet', vmin=0, vmax=1.4, extent=[0, 20, 0, 20], origin='upper')\n",
    "divider = make_axes_locatable(fig6_ax1)\n",
    "cax = divider.append_axes(\"right\", size=\"5%\", pad=0.05)\n",
    "ticks = np.array([0, 0.2, 0.4, 0.6, 0.8, 1.0, 1.2, 1.4])\n",
    "cbar = fig6.colorbar(pos, cax=cax, ticks=ticks)\n",
    "cbar.ax.tick_params(labelsize=14) \n",
    "cbar.ax.set_title('intensity', size='14')\n",
    "\n",
    "fig6_ax2 = fig6.add_subplot(gs6[0,1])\n",
    "fig6_ax2.set_xticks(np.arange(0, image_size, 1))\n",
    "fig6_ax2.set_yticks(np.arange(0, image_size, 1))\n",
    "# fig6_ax2.grid(color='w', linewidth=2)\n",
    "fig6_ax2.axis('off')\n",
    "pos = fig6_ax2.imshow(Ga_map, cmap='jet', vmin=0, vmax=1.4, extent=[0, 20, 0, 20], origin='upper')\n",
    "divider = make_axes_locatable(fig6_ax2)\n",
    "cax = divider.append_axes(\"right\", size=\"5%\", pad=0.05)\n",
    "ticks = np.array([0, 0.2, 0.4, 0.6, 0.8, 1.0, 1.2, 1.4])\n",
    "cbar = fig6.colorbar(pos, cax=cax, ticks=ticks)\n",
    "cbar.ax.tick_params(labelsize=14) \n",
    "cbar.ax.set_title('intensity', size='14')\n",
    "\n",
    "fig6_ax3 = fig6.add_subplot(gs6[0,2])\n",
    "fig6_ax3.set_xticks(np.arange(0, image_size, 1))\n",
    "fig6_ax3.set_yticks(np.arange(0, image_size, 1))\n",
    "# fig6_ax3.grid(color='w', linewidth=2)\n",
    "fig6_ax3.axis('off')\n",
    "pos = fig6_ax3.imshow(Fe_map, cmap='jet', vmin=0, vmax=1.4, extent=[0, 20, 0, 20], origin='upper')\n",
    "divider = make_axes_locatable(fig6_ax3)\n",
    "cax = divider.append_axes(\"right\", size=\"5%\", pad=0.05)\n",
    "ticks = np.array([0, 0.2, 0.4, 0.6, 0.8, 1.0, 1.2, 1.4])\n",
    "cbar = fig6.colorbar(pos, cax=cax, ticks=ticks)\n",
    "cbar.ax.tick_params(labelsize=14) \n",
    "cbar.ax.set_title('intensity', size='14')\n",
    "\n",
    "fig6_ax4 = fig6.add_subplot(gs6[0,3])\n",
    "fig6_ax4.set_xticks(np.arange(0, image_size, 1))\n",
    "fig6_ax4.set_yticks(np.arange(0, image_size, 1))\n",
    "# fig6_ax4.grid(color='w', linewidth=2)\n",
    "fig6_ax4.axis('off')\n",
    "pos = fig6_ax4.imshow(Pd_map, cmap='jet', vmin=0, vmax=1.4, extent=[0, 20, 0, 20], origin='upper')\n",
    "divider = make_axes_locatable(fig6_ax4)\n",
    "cax = divider.append_axes(\"right\", size=\"5%\", pad=0.05)\n",
    "ticks = np.array([0, 0.2, 0.4, 0.6, 0.8, 1.0, 1.2, 1.4])\n",
    "cbar = fig6.colorbar(pos, cax=cax, ticks=ticks)\n",
    "cbar.ax.tick_params(labelsize=14) \n",
    "cbar.ax.set_title('intensity', size='14')\n",
    "\n",
    "fig6_ax5 = fig6.add_subplot(gs6[0,4])\n",
    "fig6_ax5.set_xticks(np.arange(0, image_size, 1))\n",
    "fig6_ax5.set_yticks(np.arange(0, image_size, 1))\n",
    "# fig6_ax5.grid(color='w', linewidth=2)\n",
    "fig6_ax5.axis('off')\n",
    "pos = fig6_ax5.imshow(Sn_map, cmap='jet', vmin=0, vmax=1.4, extent=[0, 20, 0, 20], origin='upper')\n",
    "divider = make_axes_locatable(fig6_ax5)\n",
    "cax = divider.append_axes(\"right\", size=\"5%\", pad=0.05)\n",
    "ticks = np.array([0, 0.2, 0.4, 0.6, 0.8, 1.0, 1.2, 1.4])\n",
    "cbar = fig6.colorbar(pos, cax=cax, ticks=ticks)\n",
    "cbar.ax.tick_params(labelsize=14) \n",
    "cbar.ax.set_title('intensity', size='14')"
   ]
  },
  {
   "cell_type": "code",
   "execution_count": 17,
   "metadata": {},
   "outputs": [],
   "source": [
    "from scipy.ndimage import rotate as sp_rotate"
   ]
  },
  {
   "cell_type": "code",
   "execution_count": 21,
   "metadata": {},
   "outputs": [
    {
     "data": {
      "text/plain": [
       "Text(0.5, 1.0, 'intensity')"
      ]
     },
     "execution_count": 21,
     "metadata": {},
     "output_type": "execute_result"
    },
    {
     "data": {
      "image/png": "[encoded data removed]",
      "text/plain": [
       "<Figure size 1080x360 with 6 Axes>"
      ]
     },
     "metadata": {
      "needs_background": "light"
     },
     "output_type": "display_data"
    }
   ],
   "source": [
    "K_map_45_1 = sp_rotate(K_map, 45, reshape=False, order=1)\n",
    "K_map_45_2 = sp_rotate(K_map, 45, reshape=False, order=2)\n",
    "\n",
    "fig7 = plt.figure(figsize=(15,5))\n",
    "gs7 = gridspec.GridSpec(nrows=1, ncols=3, width_ratios=[1,1,1])\n",
    "\n",
    "fig7_ax1 = fig7.add_subplot(gs7[0,0])\n",
    "fig7_ax1.axis('off')\n",
    "pos = fig7_ax1.imshow(K_map, cmap='jet', vmin=0, vmax=1.4, extent=[0, 20, 0, 20], origin='upper')\n",
    "divider = make_axes_locatable(fig7_ax1)\n",
    "cax = divider.append_axes(\"right\", size=\"5%\", pad=0.05)\n",
    "ticks = np.array([0, 0.2, 0.4, 0.6, 0.8, 1.0, 1.2, 1.4])\n",
    "cbar = fig7.colorbar(pos, cax=cax, ticks=ticks)\n",
    "cbar.ax.tick_params(labelsize=14) \n",
    "cbar.ax.set_title('intensity', size='14')\n",
    "\n",
    "fig7_ax2 = fig7.add_subplot(gs7[0,1])\n",
    "pos = fig7_ax2.imshow(K_map_45_1, cmap='jet', vmin=0, vmax=1.4, extent=[0, 20, 0, 20], origin='upper')\n",
    "fig7_ax2.axis('off')\n",
    "divider = make_axes_locatable(fig7_ax2)\n",
    "cax = divider.append_axes(\"right\", size=\"5%\", pad=0.05)\n",
    "ticks = np.array([0, 0.2, 0.4, 0.6, 0.8, 1.0, 1.2, 1.4])\n",
    "cbar = fig7.colorbar(pos, cax=cax, ticks=ticks)\n",
    "cbar.ax.tick_params(labelsize=14) \n",
    "cbar.ax.set_title('intensity', size='14')\n",
    "\n",
    "fig7_ax3 = fig7.add_subplot(gs7[0,2])\n",
    "pos = fig7_ax3.imshow(K_map_45_2, cmap='jet', vmin=0, vmax=1.4, extent=[0, 20, 0, 20], origin='upper')\n",
    "fig7_ax3.axis('off')\n",
    "divider = make_axes_locatable(fig7_ax3)\n",
    "cax = divider.append_axes(\"right\", size=\"5%\", pad=0.05)\n",
    "ticks = np.array([0, 0.2, 0.4, 0.6, 0.8, 1.0, 1.2, 1.4])\n",
    "cbar = fig7.colorbar(pos, cax=cax, ticks=ticks)\n",
    "cbar.ax.tick_params(labelsize=14) \n",
    "cbar.ax.set_title('intensity', size='14')"
   ]
  },
  {
   "cell_type": "code",
   "execution_count": null,
   "metadata": {},
   "outputs": [],
   "source": []
  }
 ],
 "metadata": {
  "kernelspec": {
   "display_name": "Python 3",
   "language": "python",
   "name": "python3"
  },
  "language_info": {
   "codemirror_mode": {
    "name": "ipython",
    "version": 3
   },
   "file_extension": ".py",
   "mimetype": "text/x-python",
   "name": "python",
   "nbconvert_exporter": "python",
   "pygments_lexer": "ipython3",
   "version": "3.7.6"
  }
 },
 "nbformat": 4,
 "nbformat_minor": 4
}
