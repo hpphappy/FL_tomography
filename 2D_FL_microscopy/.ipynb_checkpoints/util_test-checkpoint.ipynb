{
 "cells": [
  {
   "cell_type": "code",
   "execution_count": 1,
   "metadata": {},
   "outputs": [],
   "source": [
    "import numpy as np\n",
    "import dxchange\n",
    "import xraylib as xlib\n",
    "import xraylib_np as xlib_np\n",
    "import xraydb as xdb\n",
    "from scipy.ndimage import rotate as sp_rotate\n",
    "from tqdm import tqdm\n",
    "import pandas as pd\n",
    "\n",
    "import matplotlib.pyplot as plt\n",
    "from matplotlib import gridspec\n",
    "import matplotlib\n",
    "%matplotlib inline\n",
    "matplotlib.rcParams['pdf.fonttype'] = 'truetype'\n",
    "fontProperties = {'family': 'serif', 'serif': ['Helvetica'], 'weight': 'normal', 'size': 12}\n",
    "plt.rc('font', **fontProperties)\n",
    "from mpl_toolkits.axes_grid1 import make_axes_locatable"
   ]
  },
  {
   "cell_type": "markdown",
   "metadata": {},
   "source": [
    "## Define experimental coefficients"
   ]
  },
  {
   "cell_type": "code",
   "execution_count": 2,
   "metadata": {},
   "outputs": [
    {
     "name": "stdout",
     "output_type": "stream",
     "text": [
      "[ 0.5  1.5  2.5  3.5  4.5  5.5  6.5  7.5  8.5  9.5 10.5 11.5 12.5 13.5\n",
      " 14.5 15.5 16.5 17.5 18.5 19.5]\n"
     ]
    }
   ],
   "source": [
    "##Define the rotating angles of the sample\n",
    "theta_st = 0\n",
    "theta_end = 180\n",
    "n_theta = 12\n",
    "theta_ls = - np.linspace(theta_st, theta_end, n_theta)\n",
    "\n",
    "## Define sample size in number of pixles on one side, assuing a N x N-pixel sample\n",
    "sample_size = 20 \n",
    "\n",
    "## Define sample size in mm on one side\n",
    "sample_size_l = 0.1 \n",
    "\n",
    "## Define probe posision, the position is defined to pass through the center of the voxel\n",
    "prob_pos_ls = np.array([x for x in np.arange(sample_size)]) + 0.5\n",
    "print(prob_pos_ls)"
   ]
  },
  {
   "cell_type": "markdown",
   "metadata": {},
   "source": [
    "## Define the elements in the sample"
   ]
  },
  {
   "cell_type": "code",
   "execution_count": 3,
   "metadata": {},
   "outputs": [],
   "source": [
    "element_ls = np.array([\"C\", \"O\", \"Si\", \"Ca\", \"Fe\"])  \n",
    "an_lib = {\"C\": 6, \"O\": 8, \"Si\": 14, \"Ca\": 20, \"Fe\": 26}\n",
    "\n",
    "an_ls = np.array(list(an_lib.values()))\n",
    "probe_energy = np.array([20.0])\n",
    "\n",
    "## genrate the library of the total attenuation cross section for the involved elements\n",
    "cs_probe_ls = xlib_np.CS_Total(an_ls, probe_energy).flatten()\n",
    "cs_probe_lib = dict(zip(element_ls, cs_probe_ls))\n",
    "\n",
    "aw_ls = xlib_np.AtomicWeight(an_ls)\n",
    "aw_lib = dict(zip(element_ls, aw_ls)) "
   ]
  },
  {
   "cell_type": "code",
   "execution_count": 7,
   "metadata": {},
   "outputs": [
    {
     "name": "stdout",
     "output_type": "stream",
     "text": [
      "{'element': 'C', 'detected_fl_unit': array([0., 0., 0., ..., 0., 0., 0.])}\n",
      "[27]\n",
      "[2.82651208e-05]\n",
      "{'element': 'O', 'detected_fl_unit': array([0., 0., 0., ..., 0., 0., 0.])}\n",
      "[51]\n",
      "[0.00230431]\n",
      "{'element': 'Si', 'detected_fl_unit': array([0., 0., 0., ..., 0., 0., 0.])}\n",
      "[173 183]\n",
      "[0.18564898 0.00343441]\n",
      "{'element': 'Ca', 'detected_fl_unit': array([0., 0., 0., ..., 0., 0., 0.])}\n",
      "[368 400]\n",
      "[1.70695052 0.14299364]\n",
      "{'element': 'Fe', 'detected_fl_unit': array([0., 0., 0., ..., 0., 0., 0.])}\n",
      "[ 69  71 638 640 705]\n",
      "[0.10915776 0.03630501 2.36742459 4.63625614 0.62413127]\n"
     ]
    }
   ],
   "source": [
    "# def MakeFLlinesDictionary(element_name, fl_lines_xdb, fl_lines, probe_energy):\n",
    "for element_name in element_ls:\n",
    "    FL_dic = {'element': element_name}\n",
    "    fl_cs_ls = xlib_np.CS_FluorLine_Kissel_Cascade(np.array([an_lib[element_name]]), fl_lines, probe_energy)\n",
    "    i = 0 \n",
    "    detected_fl_unit_concentration = np.zeros((2000))\n",
    "    for name, line in xdb.xray_lines(element_name).items():\n",
    "        if name in set(fl_lines_xdb):\n",
    "            idx_nearest, value_nearest = find_nearest(det_energy_list, line[0])\n",
    "#             FL_dic[name] = [value_nearest, fl_cs_ls[0,i][0]]\n",
    "            detected_fl_unit_concentration[idx_nearest] += fl_cs_ls[0,i][0]\n",
    "            i+=1\n",
    "    FL_dic['detected_fl_unit'] = detected_fl_unit_concentration\n",
    "    \n",
    "    print(FL_dic)\n",
    "    print(np.nonzero(FL_dic['detected_fl_unit'])[0])\n",
    "    print(FL_dic['detected_fl_unit'][np.nonzero(FL_dic['detected_fl_unit'])])"
   ]
  },
  {
   "cell_type": "markdown",
   "metadata": {},
   "source": [
    "## Define the function that calculates the attenuation"
   ]
  },
  {
   "cell_type": "code",
   "execution_count": 57,
   "metadata": {},
   "outputs": [],
   "source": [
    "def attenuation(theta_ls, sample_size, sample_size_l, element_ls):\n",
    "    \"\"\"\n",
    "    Calculate the attenuation ratio of the incident beam before the beam travels to a certain voxel\n",
    "    Assuming that the x-ray probe goes along the direction of axis=1 of the sample array\n",
    "    \n",
    "    Parameters\n",
    "    ----------\n",
    "    theta_ls: ndarray\n",
    "        The angles that the sample rotates from the initial angle in the experiment\n",
    "    \n",
    "    sample_size: int scalar\n",
    "        sample size in number of pixles on one side, assuing a N x N-pixel sample\n",
    "    \n",
    "    sample_size_l: scalar\n",
    "        sample size in mm\n",
    "    \n",
    "    element_ls: ndarray\n",
    "        elements in the sample\n",
    "        \n",
    "    Returns: ndarray\n",
    "    -------\n",
    "        dimension of the returned array is n_theta x sample_size x sample_size\n",
    "\n",
    "    \"\"\"\n",
    "    att_acc_map = np.zeros((len(theta_ls), sample_size, sample_size))\n",
    "    for i, theta in enumerate(theta_ls):\n",
    "        for j, element in enumerate(element_ls):\n",
    "            concentration_map = dxchange.reader.read_tiff(element + '_map.tiff')\n",
    "            concentration_map_rot = sp_rotate(concentration_map, theta, reshape=False, order=1)\n",
    "            lac_single = concentration_map_rot * cs_probe_lib[element]            \n",
    "            lac_acc = np.cumsum(lac_single, axis=1)  \n",
    "            lac_acc = np.insert(lac_acc, 0, np.zeros(sample_size), axis=1)\n",
    "            lac_acc = np.delete(lac_acc, sample_size, axis=1)\n",
    "            att_acc = lac_acc * (sample_size_l / sample_size)\n",
    "            att_acc_map[i,:,:] += att_acc\n",
    "    return np.exp(-att_acc_map)"
   ]
  },
  {
   "cell_type": "code",
   "execution_count": 58,
   "metadata": {},
   "outputs": [
    {
     "data": {
      "image/png": "[encoded data removed]",
      "text/plain": [
       "<Figure size 360x360 with 2 Axes>"
      ]
     },
     "metadata": {
      "needs_background": "light"
     },
     "output_type": "display_data"
    }
   ],
   "source": [
    "Att_probe = attenuation(theta_ls, sample_size, sample_size_l, element_ls)\n",
    "\n",
    "fig1 = plt.figure(figsize=(5,5))\n",
    "gs1 = gridspec.GridSpec(nrows=1, ncols=1, width_ratios=[1])\n",
    "fig1_ax1 = fig1.add_subplot(gs1[0,0])\n",
    "\n",
    "pos = fig1_ax1.imshow(Att_probe[0,:,:], cmap='jet', vmin=0, vmax=1.0, origin='upper')\n",
    "divider = make_axes_locatable(fig1_ax1)\n",
    "cax = divider.append_axes(\"right\", size=\"5%\", pad=0.05)\n",
    "# ticks = np.array([0, 0.2, 0.4, 0.6, 0.8, 1.0, 1.2, 1.4])\n",
    "cbar = fig1.colorbar(pos, cax=cax)\n",
    "cbar.ax.tick_params(labelsize=14) \n",
    "# cbar.ax.set_title('intensity', size='14')"
   ]
  },
  {
   "cell_type": "markdown",
   "metadata": {},
   "source": [
    "## Define the positions of detectorlets in terms of indices\n",
    "### Defaul XRF detector parameters\n",
    "1. The position of the XRF detector: 1.6 cm from the edge of the sample\n",
    "2. The size of the XRF detector is 2.4 mm\n",
    "3. The number of detectorlets is 5\n",
    "4. The number of energy channels is 2000, from 0 - 20 keV"
   ]
  },
  {
   "cell_type": "code",
   "execution_count": 59,
   "metadata": {},
   "outputs": [
    {
     "name": "stdout",
     "output_type": "stream",
     "text": [
      "0.005\n",
      "[3220.5 3220.5 3220.5 3220.5 3220.5]\n",
      "[-469.5 -229.5   10.5  250.5  490.5]\n",
      "[[3220.5 -469.5]\n",
      " [3220.5 -229.5]\n",
      " [3220.5   10.5]\n",
      " [3220.5  250.5]\n",
      " [3220.5  490.5]]\n",
      "[3220.5 -469.5]\n"
     ]
    }
   ],
   "source": [
    "## Calculate the size of the voxel (unit in mm) using the length of the sample edge divided by the number of the pixels \n",
    "voxel_size = sample_size_l / sample_size\n",
    "print(voxel_size)\n",
    "\n",
    "## distance of the XRF detector from the sample edge\n",
    "det_from_sample = 16\n",
    "\n",
    "## diameter of the XRF detector\n",
    "det_size_l = 2.4\n",
    "det_size = np.ceil(det_size_l/voxel_size)\n",
    "\n",
    "## number of the detectorlets\n",
    "n_det = 5\n",
    "\n",
    "## x index of the location of the XRF detector\n",
    "det_axis_0_pixel = sample_size + np.ceil(det_from_sample/voxel_size) + 0.5\n",
    "det_axis_0_pixel_ls = np.full(n_det, det_axis_0_pixel)\n",
    "\n",
    "## y index of the location of the XRF detector\n",
    "det_axis_1_pixel_ls = np.linspace(np.ceil(sample_size/2) - det_size, \n",
    "                                  np.ceil(sample_size/2) + det_size, n_det) + 0.5\n",
    "\n",
    "## biding x-index and y-index array into [(x1,y1), (x2,y2), ..., (x_Ndet, y_Ndet)]\n",
    "det_pos_ls = np.array(list(zip(det_axis_0_pixel_ls, det_axis_1_pixel_ls)))\n",
    "\n",
    "print(det_axis_0_pixel_ls)\n",
    "print(det_axis_1_pixel_ls)\n",
    "print(det_pos_ls)\n",
    "print(det_pos_ls[0])"
   ]
  },
  {
   "cell_type": "markdown",
   "metadata": {},
   "source": [
    "### Calculate the XRF signal for each beamlet at each signal\n",
    "\n",
    "1. Calcualte FL_map, the emitted FL signal at each voxel given the intensity enters each voxel are all 1.\n",
    "    - [x] For each element, look up the emitting energy of K$_\\alpha$, K$_\\beta$, L$_\\alpha$ and L$_\\beta$ lines at 20 eV probe beam. Combine 4 lines for each element, construct FL_map_unit, the emitting FL with units of dimension (n_element, 2000)\n",
    "    - [ ] For each angle, combine the map of elemental concentration with (FL_map_unit) to get FL_map\n",
    "    - [ ] The dimension of FL_map is (n_theta, sample_size, sample_size, 2000)\n",
    "\n",
    "\n",
    "2. Calcualte the attenuation due to self absorption \n",
    "    - [x] First we need P, the intersecting length map for each beam path from the FL-emitting voxel to the detectorlet\n",
    "    - [x] The dimension of P is (n_det, sample_size * sample_size, intersecting length) \n",
    "\n",
    "            \n",
    "3. Then we calculate SA, the attenuation of each energy due to self-absorption(SA) from the FL-emitting voxel to the edge to the sample\n",
    "    - [ ] For each sample angle, summing over (map elemental concentration)$\\odot$(map of intersecting length) and do an average over n_det detectorlets\n",
    "    - [ ] The dimension of SA is (n_theta, sample_size, sample_size, 2000)\n",
    "    \n",
    "\n",
    "4. Combine incident beam probe attenuation, FL_map and the self absorption to get the XRF signal for each beamlet at each signal\n",
    "    - The expected size of data array is 2000 (the # of the energy channels) per beamlet per angle\n",
    "    - The expected size of the total data array is (N_theta, sample_size, 2000)"
   ]
  },
  {
   "cell_type": "markdown",
   "metadata": {},
   "source": [
    "### 1-1 Calculate FL_map_unit"
   ]
  },
  {
   "cell_type": "code",
   "execution_count": 9,
   "metadata": {},
   "outputs": [],
   "source": [
    "fl_lines_xdb = np.array(['Ka2', 'Ka1', 'Kb1', 'Lb1', 'La2', 'La1'])\n",
    "fl_lines = np.array([xlib.KA2_LINE, xlib.KA1_LINE, xlib.KB1_LINE, xlib.LB1_LINE, xlib.LA2_LINE, xlib.LA1_LINE])\n",
    "\n",
    "det_energy_u = 20.0E3\n",
    "det_energy_bins = 2000\n",
    "det_energy_list = np.linspace(det_energy_u / det_energy_bins, det_energy_u, 2000)\n",
    "# print(det_energy_list)\n",
    "\n",
    "def find_nearest(a, a0):\n",
    "    \"Element in nd array `a` closest to the scalar value `a0`\"\n",
    "    idx = np.abs(a - a0).argmin()\n",
    "    return idx, a.flat[idx]\n",
    "\n",
    "## Returns fl cross section at each energy in det_energy_list per unit concentration of the element\n",
    "def MakeFLlinesDictionary(element_name, fl_lines_xdb, fl_lines, probe_energy):\n",
    "# for element_name in element_ls:\n",
    "    FL_dic = {'element': element_name}\n",
    "    fl_cs_ls = xlib_np.CS_FluorLine_Kissel_Cascade(np.array([an_lib[element_name]]), fl_lines, probe_energy)\n",
    "    i = 0 \n",
    "    detected_fl_unit_concentration = np.zeros((2000))\n",
    "    for name, line in xdb.xray_lines(element_name).items():\n",
    "        if name in set(fl_lines_xdb):\n",
    "            idx_nearest, value_nearest = find_nearest(det_energy_list, line[0])\n",
    "#             FL_dic[name] = [value_nearest, fl_cs_ls[0,i][0]]\n",
    "            detected_fl_unit_concentration[idx_nearest] += fl_cs_ls[0,i][0]\n",
    "            i+=1\n",
    "    FL_dic['detected_fl_unit'] = detected_fl_unit_concentration\n",
    "    return FL_dic"
   ]
  },
  {
   "cell_type": "code",
   "execution_count": 11,
   "metadata": {},
   "outputs": [
    {
     "name": "stdout",
     "output_type": "stream",
     "text": [
      "{'element': 'C', 'detected_fl_unit': array([0., 0., 0., ..., 0., 0., 0.])}\n",
      "{'element': 'O', 'detected_fl_unit': array([0., 0., 0., ..., 0., 0., 0.])}\n",
      "{'element': 'Si', 'detected_fl_unit': array([0., 0., 0., ..., 0., 0., 0.])}\n",
      "{'element': 'Ca', 'detected_fl_unit': array([0., 0., 0., ..., 0., 0., 0.])}\n",
      "{'element': 'Fe', 'detected_fl_unit': array([0., 0., 0., ..., 0., 0., 0.])}\n"
     ]
    }
   ],
   "source": [
    "for i, theta in enumerate(theta_ls):\n",
    "    for j, element in enumerate(element_ls):\n",
    "        concentration_map = dxchange.reader.read_tiff(element + '_map.tiff')\n",
    "        concentration_map_rot = sp_rotate(concentration_map, theta, reshape=False, order=1)\n",
    "        f = MakeFLlinesDictionary(element_name, fl_lines_xdb, fl_lines, probe_energy)\n",
    "        \n",
    "for element_name in element_ls:\n",
    "    f = MakeFLlinesDictionary(element_name, fl_lines_xdb, fl_lines, probe_energy)"
   ]
  },
  {
   "cell_type": "markdown",
   "metadata": {},
   "source": [
    "### 2-1: Define the function of line representing the beam path from the FL-emitting voxel to the detectorlets"
   ]
  },
  {
   "cell_type": "code",
   "execution_count": 7,
   "metadata": {},
   "outputs": [],
   "source": [
    "## define a line passing through the FL emitting from the center of the source voxel (x1, y1) in the 2D sample \n",
    "## and the detectorlet (xd, yd)\n",
    "def trace_beam_yint(x1, y1, xd, yd, sample_x_edge):\n",
    "    m = (yd - y1)/(xd - x1)\n",
    "    y_int = m * (sample_x_edge - x1) + y1\n",
    "    return m, y_int\n",
    "\n",
    "def trace_beam_xint(x1, y1, xd, yd, sample_y_edge):\n",
    "    if yd == y1:\n",
    "        m = 0\n",
    "        x_int = np.array([])\n",
    "    else:\n",
    "        m = (yd - y1)/(xd - x1)\n",
    "        x_int = (sample_y_edge - y1)/m + x1\n",
    "    return m, x_int"
   ]
  },
  {
   "cell_type": "markdown",
   "metadata": {},
   "source": [
    "### 2-2: Calculate P (the intersecting length map): \n",
    "1. for each detectorlect (total n_det)\n",
    "2. for each voxel (total sample_size x sample_size)\n",
    "3. we have a 2D map of intersecting length (total sample_size x sample_size)\n",
    "\n",
    "#### The dimension of P:\n",
    "n_det x (sample_size x sample_sizes) x (sample_size x sample_sizes)"
   ]
  },
  {
   "cell_type": "markdown",
   "metadata": {},
   "source": [
    "#### P: environment of development"
   ]
  },
  {
   "cell_type": "code",
   "execution_count": 20,
   "metadata": {},
   "outputs": [
    {
     "name": "stdout",
     "output_type": "stream",
     "text": [
      "[0.5 0.5]\n"
     ]
    }
   ],
   "source": [
    "## define index position of center of the source voxel (x1, y1), note that it's shifted by 0.5 to represent the center\n",
    "x1, y1 = np.indices((sample_size, sample_size))\n",
    "x1, y1 = x1 + 0.5, y1 + 0.5\n",
    "voxel_pos_ls = np.dstack((x1, y1))\n",
    "print(voxel_pos_ls[0][0])\n",
    "\n",
    "## define sample edges: \n",
    "## sample_x_edge is the edge that is closer to the XRF detector\n",
    "## sample_y_edge has two components representing the left and the right edge\n",
    "sample_x_edge = sample_size\n",
    "sample_y_edge = np.array([0, sample_size])\n",
    "\n",
    "\n",
    "## make voxel_pos_ls 1D array for looping: voxel_pos_ls_flat\n",
    "voxel_pos_ls_flat =  np.reshape(voxel_pos_ls, (1, voxel_pos_ls.shape[0]*voxel_pos_ls.shape[0], 2))[0]\n",
    "\n",
    "P = np.zeros((n_det, sample_size * sample_size, sample_size, sample_size))\n",
    "# i = 0\n",
    "for det_pos in det_pos_ls:\n",
    "#     i+=1\n",
    "#     j = 0\n",
    "    for v in voxel_pos_ls_flat:\n",
    "#         j+=1\n",
    "#         print(i)\n",
    "#         print(j)\n",
    "        # find x-value when the beam passes through sample_y_edges(left & right), the one with larger x is the intersection with lower edge\n",
    "        if v[1] == det_pos[1]:\n",
    "            xint = sample_size\n",
    "        else:\n",
    "            xint = np.max(trace_beam_xint(v[0], v[1], det_pos[0], det_pos[1], sample_y_edge)[1])\n",
    "        xint_sample = np.clip(xint, 0, sample_size)\n",
    "        \n",
    "        # find y-value when the beam passes through sample_x_edge(bottom)\n",
    "        m = trace_beam_yint(v[0], v[1], det_pos[0], det_pos[1], sample_x_edge)[0]\n",
    "        yint = trace_beam_yint(v[0], v[1], det_pos[0], det_pos[1], sample_x_edge)[1]\n",
    "        yint_sample = np.clip(yint, 0, sample_size)\n",
    "        \n",
    "        \n",
    "#         print('\\n')\n",
    "#         print('int. wi sample (x,y): (%.2f, %.2f)' %(xint_sample, yint_sample))\n",
    "#         print('\\n')\n",
    "    \n",
    "       \n",
    "               \n",
    "        # when the beam enters a voxel, it either intersects the x boundary or y boundary of the voxel\n",
    "        # find the x,y-value of the boundary except the ones on the sample edge\n",
    "        if np.floor(xint_sample) != np.floor(v[0]):\n",
    "            x_edge_ls = np.linspace(np.ceil(xint_sample)-1, np.ceil(v[0]), int(np.abs(np.ceil(xint_sample) - np.ceil(v[0]))))\n",
    "        else: \n",
    "            x_edge_ls = np.array([])\n",
    "            \n",
    "        \n",
    "        if np.floor(yint_sample) != np.floor(v[1]):            \n",
    "            if m < 0:\n",
    "                y_edge_ls = np.linspace(np.floor(yint_sample)+1, np.floor(v[1]), int(np.abs(np.floor(yint_sample)+1 - np.floor(v[1]))) + 1)            \n",
    "           \n",
    "            if m > 0:\n",
    "                y_edge_ls = np.linspace(np.ceil(yint_sample)-1, np.ceil(v[1]), int(np.abs(np.ceil(yint_sample) - np.ceil(v[1]))))\n",
    "        else:\n",
    "            y_edge_ls = np.array([])\n",
    "        \n",
    "#         print(x_edge_ls)\n",
    "#         print(m)\n",
    "#         print(y_edge_ls)\n",
    "#         print('\\n')\n",
    "        \n",
    "        # find all intersections (except the initial intersection): \n",
    "        # 1. find y-value of intersection given x_edge_ls\n",
    "        # 2. find x-value of intersection given y_edge_ls\n",
    "        y_int_x_edge_ls = trace_beam_yint(v[0], v[1], det_pos[0], det_pos[1], x_edge_ls)[1] #solve y intersections given x edge\n",
    "        x_int_y_edge_ls = trace_beam_xint(v[0], v[1], det_pos[0], det_pos[1], y_edge_ls)[1] #solve x intersections given y edge\n",
    "#         print('%.1f, %.1f, %.1f, %.1f'%(v[0], v[1], det_pos[0], det_pos[1]))\n",
    "#         print('\\n')\n",
    "#         print('%.1f, %.1f' %(yint_sample, v[1]))\n",
    "#         print(y_edge_ls)\n",
    "#         print(x_int_y_edge_ls)\n",
    "#         print('\\n')\n",
    "#         print(x_edge_ls)\n",
    "#         print(y_int_x_edge_ls)\n",
    "#         print('\\n')\n",
    "        \n",
    "        # compile the x,y coordinates of the intersection: (x,y) = (x_edge_ls, y_int_x_edge_ls) and (x_int_y_edge_ls,y_edge_ls)\n",
    "        int_x_edge_ls = np.dstack((x_edge_ls,y_int_x_edge_ls))[0]\n",
    "        int_y_edge_ls = np.dstack((x_int_y_edge_ls,y_edge_ls))[0]\n",
    "#         print(int_y_edge_ls)\n",
    "        \n",
    "        \n",
    "        # mix all intersections\n",
    "        # put the initial intersection [xint_sample, yint_sample] back\n",
    "        # sort them using the x coordinate\n",
    "        int_ls = np.concatenate((int_x_edge_ls, int_y_edge_ls))\n",
    "        int_ls = np.vstack((np.array([xint_sample, yint_sample]), int_ls))\n",
    "        int_ls = int_ls[np.argsort(int_ls[:,0])]\n",
    "#         print(int_ls)\n",
    "        \n",
    "        # calculate the intersecting length in the intersecting voxels\n",
    "        int_length = np.sqrt(np.diff(int_ls[:,0])**2 + np.diff(int_ls[:,1])**2)  \n",
    "        # just in case that we count some intersections twice, delete the duplicates\n",
    "        idx_duplicate = np.array(np.where(int_length==0)).flatten()\n",
    "        int_ls = np.delete(int_ls, idx_duplicate, 0)\n",
    "        int_length = np.delete(int_length, idx_duplicate) \n",
    "        \n",
    "        # determine the indices of the intersecting voxels according to the intersecting x,y-coordinates\n",
    "        int_ls_shift = np.zeros((int_ls.shape))\n",
    "        int_ls_shift[1:] = int_ls[:-1]\n",
    "        int_idx = np.floor((int_ls_shift + int_ls_shift)/2)[1:]\n",
    "        \n",
    "#         print(int_ls)\n",
    "#         print(int_ls_shift)\n",
    "#         print(int_idx)\n",
    "#         print(int_idx.shape)\n",
    "#         print(int_length)\n",
    "#         print(int_length.shape)\n",
    "        \n",
    "        int_idx = (int_idx[:,0].astype('int'), int_idx[:,1].astype('int'))\n",
    "        \n",
    "        ## construct the int_length_map, and scale the intersecting length based on the voxel size\n",
    "        int_length_map = np.zeros((sample_size, sample_size))\n",
    "        int_length_map[int_idx] = int_length * voxel_size\n",
    "        \n",
    "#         a = pd.DataFrame(np.round(int_length_map, 2))        \n",
    "#         a.columns = ['']*a.shape[1]\n",
    "#         print(a.to_string(index=False))      "
   ]
  },
  {
   "cell_type": "markdown",
   "metadata": {},
   "source": [
    "#### P: final work"
   ]
  },
  {
   "cell_type": "code",
   "execution_count": 33,
   "metadata": {},
   "outputs": [],
   "source": [
    "## define index position of center of the source voxel (x1, y1), note that it's shifted by 0.5 to represent the center\n",
    "x1, y1 = np.indices((sample_size, sample_size))\n",
    "x1, y1 = x1 + 0.5, y1 + 0.5\n",
    "voxel_pos_ls = np.dstack((x1, y1))\n",
    "\n",
    "## define sample edges: \n",
    "## sample_x_edge is the edge that is closer to the XRF detector\n",
    "## sample_y_edge has two components representing the left and the right edge\n",
    "sample_x_edge = sample_size\n",
    "sample_y_edge = np.array([0, sample_size])\n",
    "\n",
    "\n",
    "## make voxel_pos_ls 1D array for looping: voxel_pos_ls_flat\n",
    "voxel_pos_ls_flat =  np.reshape(voxel_pos_ls, (1, voxel_pos_ls.shape[0]*voxel_pos_ls.shape[0], 2))[0]\n",
    "\n",
    "P = np.zeros((n_det, sample_size * sample_size, sample_size, sample_size))\n",
    "for i, det_pos in enumerate(det_pos_ls):\n",
    "    for j, v in enumerate(voxel_pos_ls_flat):\n",
    "        # find x-value when the beam passes through sample_y_edges(left & right), the one with larger x is the intersection with lower edge\n",
    "        if v[1] == det_pos[1]:\n",
    "            xint = sample_size\n",
    "        else:\n",
    "            xint = np.max(trace_beam_xint(v[0], v[1], det_pos[0], det_pos[1], sample_y_edge)[1])\n",
    "        xint_sample = np.clip(xint, 0, sample_size)\n",
    "        \n",
    "        # find y-value when the beam passes through sample_x_edge(bottom)\n",
    "        m = trace_beam_yint(v[0], v[1], det_pos[0], det_pos[1], sample_x_edge)[0]\n",
    "        yint = trace_beam_yint(v[0], v[1], det_pos[0], det_pos[1], sample_x_edge)[1]\n",
    "        yint_sample = np.clip(yint, 0, sample_size)\n",
    "    \n",
    "               \n",
    "        # when the beam enters a voxel, it either intersects the x boundary or y boundary of the voxel\n",
    "        # find the x,y-value of the boundary except the ones on the sample edge\n",
    "        if np.floor(xint_sample) != np.floor(v[0]):\n",
    "            x_edge_ls = np.linspace(np.ceil(xint_sample)-1, np.ceil(v[0]), int(np.abs(np.ceil(xint_sample) - np.ceil(v[0]))))\n",
    "        else: \n",
    "            x_edge_ls = np.array([])\n",
    "            \n",
    "        \n",
    "        if np.floor(yint_sample) != np.floor(v[1]):            \n",
    "            if m < 0:\n",
    "                y_edge_ls = np.linspace(np.floor(yint_sample)+1, np.floor(v[1]), int(np.abs(np.floor(yint_sample)+1 - np.floor(v[1]))) + 1)            \n",
    "           \n",
    "            if m > 0:\n",
    "                y_edge_ls = np.linspace(np.ceil(yint_sample)-1, np.ceil(v[1]), int(np.abs(np.ceil(yint_sample) - np.ceil(v[1]))))\n",
    "        else:\n",
    "            y_edge_ls = np.array([])\n",
    "        \n",
    "        \n",
    "        # find all intersections (except the initial intersection): \n",
    "        # 1. find y-value of intersection given x_edge_ls\n",
    "        # 2. find x-value of intersection given y_edge_ls\n",
    "        y_int_x_edge_ls = trace_beam_yint(v[0], v[1], det_pos[0], det_pos[1], x_edge_ls)[1] #solve y intersections given x edge\n",
    "        x_int_y_edge_ls = trace_beam_xint(v[0], v[1], det_pos[0], det_pos[1], y_edge_ls)[1] #solve x intersections given y edge\n",
    "        \n",
    "        # compile the x,y coordinates of the intersection: (x,y) = (x_edge_ls, y_int_x_edge_ls) and (x_int_y_edge_ls,y_edge_ls)\n",
    "        int_x_edge_ls = np.dstack((x_edge_ls,y_int_x_edge_ls))[0]\n",
    "        int_y_edge_ls = np.dstack((x_int_y_edge_ls,y_edge_ls))[0]\n",
    "\n",
    "        # sort them using the x coordinate\n",
    "        int_ls = np.concatenate((int_x_edge_ls, int_y_edge_ls))\n",
    "        int_ls = np.vstack((np.array([xint_sample, yint_sample]), int_ls))\n",
    "        int_ls = int_ls[np.argsort(int_ls[:,0])]\n",
    "        \n",
    "        # calculate the intersecting length in the intersecting voxels\n",
    "        int_length = np.sqrt(np.diff(int_ls[:,0])**2 + np.diff(int_ls[:,1])**2) \n",
    "        # just in case that we count some intersections twice, delete the duplicates\n",
    "        idx_duplicate = np.array(np.where(int_length==0)).flatten()\n",
    "        int_ls = np.delete(int_ls, idx_duplicate, 0)\n",
    "        int_length = np.delete(int_length, idx_duplicate) \n",
    "        \n",
    "        # determine the indices of the intersecting voxels according to the intersecting x,y-coordinates\n",
    "        int_ls_shift = np.zeros((int_ls.shape))\n",
    "        int_ls_shift[1:] = int_ls[:-1]\n",
    "        int_idx = np.floor((int_ls_shift + int_ls_shift)/2)[1:]        \n",
    "        int_idx = (int_idx[:,0].astype('int'), int_idx[:,1].astype('int'))\n",
    "        \n",
    "        # construct the int_length_map, and scale the intersecting length based on the voxel size\n",
    "        int_length_map = np.zeros((sample_size, sample_size))\n",
    "        int_length_map[int_idx] = int_length * voxel_size\n",
    "         \n",
    "        # determine the index of the current FL-emitting voxel, and fill P\n",
    "#         x_idx_FL_vox = j // 20\n",
    "#         y_idx_FL_vox = j % 20\n",
    "#         print(int_length_map.shape)\n",
    "#         print(P[i, j, :, :].shape)\n",
    "        P[i, j, :, :] = int_length_map\n",
    "\n",
    "# b = np.round(P[0,0,:,:],2)\n",
    "# c = np.sum(P[:,0,:,:], axis=0)\n",
    "# a = pd.DataFrame(c)        \n",
    "# a.columns = ['']*a.shape[1]\n",
    "# print(a.to_string(index=False))  "
   ]
  },
  {
   "cell_type": "markdown",
   "metadata": {},
   "source": [
    "### 3-1: Calculate SA (the map of attenuation ratio due to self-absorption of the FL signal):\n",
    "1. for each sample angle (n_theta)\n",
    "2. for each FL emitting voxel (sample_size x sample_size),\n",
    "3. we have an attenuation ratio when the photon reaches the edge of the sample(due to self absorption)\n",
    "\n",
    "#### The dimension of SA:\n",
    "n_theta x sample_size x sample_size"
   ]
  },
  {
   "cell_type": "code",
   "execution_count": 34,
   "metadata": {},
   "outputs": [
    {
     "name": "stderr",
     "output_type": "stream",
     "text": [
      "                                               \r"
     ]
    }
   ],
   "source": [
    "def stack(arr, count):\n",
    "    return np.stack([arr for _ in range(count)], axis=0)\n",
    "\n",
    "SA = np.zeros((len(theta_ls), sample_size, sample_size))\n",
    "SA_temp = np.zeros((len(theta_ls), sample_size * sample_size))\n",
    "m = 0\n",
    "for i, theta in enumerate(tqdm(theta_ls.tolist(), leave=False)):\n",
    "    m += 1\n",
    "    n = 0\n",
    "    for j in np.arange(sample_size * sample_size):\n",
    "        n += 1\n",
    "#         print(m)\n",
    "#         print(n)\n",
    "        att_elemental_sum = 0\n",
    "        for k, element in enumerate(element_ls):\n",
    "            concentration_map = dxchange.reader.read_tiff(element + '_map.tiff')\n",
    "            concentration_map_rot = sp_rotate(concentration_map, theta, reshape=False, order=1)\n",
    "            lac_single = concentration_map_rot * cs_probe_lib[element]\n",
    "            lac_single = stack(lac_single, n_det)            \n",
    "            att = P[:,j,:,:] * lac_single\n",
    "            att_avg = np.mean(np.array([np.sum(a) for a in att]))\n",
    "            att_elemental_sum += att_avg\n",
    "        x_idx_FL_vox = j // 20\n",
    "        y_idx_FL_vox = j % 20\n",
    "        SA[i, x_idx_FL_vox, y_idx_FL_vox] = att_elemental_sum\n",
    "# pbar.close();   del pbar"
   ]
  },
  {
   "cell_type": "code",
   "execution_count": 86,
   "metadata": {},
   "outputs": [
    {
     "name": "stdout",
     "output_type": "stream",
     "text": [
      "(3, 2, 2)\n",
      "\n",
      "\n",
      "[[ 2  2]\n",
      " [ 8 10]\n",
      " [14 16]]\n",
      "\n",
      "\n",
      "[[10 12]\n",
      " [14 16]]\n",
      "\n",
      "\n"
     ]
    }
   ],
   "source": [
    "a = np.array([[[1,1],[1,1]], [[3,4],[5,6]], [[6,7],[8,9]]])\n",
    "\n",
    "\n",
    "print(a.shape)\n",
    "print('\\n')\n",
    "\n",
    "b = np.sum(a, axis=1)\n",
    "print(b)\n",
    "print('\\n')\n",
    "\n",
    "c = np.sum(a, axis=0)\n",
    "print(c)\n",
    "print('\\n')\n"
   ]
  },
  {
   "cell_type": "code",
   "execution_count": 126,
   "metadata": {},
   "outputs": [
    {
     "name": "stdout",
     "output_type": "stream",
     "text": [
      "[[[1 1]\n",
      "  [1 1]]\n",
      "\n",
      " [[3 4]\n",
      "  [5 6]]]\n",
      "[ 4 18]\n"
     ]
    }
   ],
   "source": [
    "def repeat(arr, count):\n",
    "    return np.stack([arr for _ in range(count)], axis=0)\n",
    "\n",
    "a = np.array([[1,1],[1,1]])\n",
    "aa = repeat(a,2)\n",
    "# print(aa)\n",
    "\n",
    "b = np.array([[1,1],[1,1]])\n",
    "c = np.array([[3,4],[5,6]])\n",
    "bc = np.stack((b,c))\n",
    "# print(bc)\n",
    "\n",
    "d = aa*bc\n",
    "print(d)\n",
    "f = np.array([np.sum(a) for a in d])\n",
    "print(f)"
   ]
  },
  {
   "cell_type": "code",
   "execution_count": 165,
   "metadata": {},
   "outputs": [
    {
     "name": "stdout",
     "output_type": "stream",
     "text": [
      "(array([3, 6]),)\n"
     ]
    }
   ],
   "source": [
    "a = np.array([0,0,0,1,0,0,1])\n",
    "print(np.nonzero(a))"
   ]
  },
  {
   "cell_type": "code",
   "execution_count": 63,
   "metadata": {},
   "outputs": [
    {
     "name": "stdout",
     "output_type": "stream",
     "text": [
      "{'1': 1, '2': 2, '3': 5}\n"
     ]
    }
   ],
   "source": [
    "a = {'1': 1, '2': 2}\n",
    "a['3']=5\n",
    "print(a)"
   ]
  },
  {
   "cell_type": "code",
   "execution_count": null,
   "metadata": {},
   "outputs": [],
   "source": []
  }
 ],
 "metadata": {
  "kernelspec": {
   "display_name": "Python 3",
   "language": "python",
   "name": "python3"
  },
  "language_info": {
   "codemirror_mode": {
    "name": "ipython",
    "version": 3
   },
   "file_extension": ".py",
   "mimetype": "text/x-python",
   "name": "python",
   "nbconvert_exporter": "python",
   "pygments_lexer": "ipython3",
   "version": "3.7.6"
  }
 },
 "nbformat": 4,
 "nbformat_minor": 4
}
