{
 "cells": [
  {
   "cell_type": "code",
   "execution_count": 1,
   "metadata": {},
   "outputs": [],
   "source": [
    "import numpy as np\n",
    "import dxchange\n",
    "import xraylib as xlib\n",
    "import xraylib_np as xlib_np\n",
    "import xraydb as xdb\n",
    "from scipy.ndimage import rotate as sp_rotate\n",
    "from tqdm import tqdm\n",
    "import pandas as pd\n",
    "import os\n",
    "\n",
    "import matplotlib.pyplot as plt\n",
    "from matplotlib import gridspec\n",
    "import matplotlib\n",
    "%matplotlib inline\n",
    "matplotlib.rcParams['pdf.fonttype'] = 'truetype'\n",
    "fontProperties = {'family': 'serif', 'serif': ['Helvetica'], 'weight': 'normal', 'size': 12}\n",
    "plt.rc('font', **fontProperties)\n",
    "from mpl_toolkits.axes_grid1 import make_axes_locatable"
   ]
  },
  {
   "cell_type": "markdown",
   "metadata": {},
   "source": [
    "## Define experimental coefficients"
   ]
  },
  {
   "cell_type": "code",
   "execution_count": 2,
   "metadata": {},
   "outputs": [
    {
     "name": "stdout",
     "output_type": "stream",
     "text": [
      "[ 0.5  1.5  2.5  3.5  4.5  5.5  6.5  7.5  8.5  9.5 10.5 11.5 12.5 13.5\n",
      " 14.5 15.5 16.5 17.5 18.5 19.5]\n"
     ]
    }
   ],
   "source": [
    "##Define the rotating angles of the sample\n",
    "theta_st = 0\n",
    "theta_end = 180\n",
    "n_theta = 12\n",
    "theta_ls = - np.linspace(theta_st, theta_end, n_theta)\n",
    "\n",
    "## Define sample size in number of pixles on one side, assuing a N x N-pixel sample\n",
    "sample_size = 20 \n",
    "\n",
    "## Define sample size in mm on one side\n",
    "sample_size_l = 0.1 \n",
    "\n",
    "## Define probe posision, the position is defined to pass through the center of the voxel\n",
    "prob_pos_ls = np.array([x for x in np.arange(sample_size)]) + 0.5\n",
    "print(prob_pos_ls)"
   ]
  },
  {
   "cell_type": "markdown",
   "metadata": {},
   "source": [
    "## Define the elements in the sample"
   ]
  },
  {
   "cell_type": "code",
   "execution_count": 3,
   "metadata": {},
   "outputs": [],
   "source": [
    "element_ls = np.array([\"C\", \"O\", \"Si\", \"Ca\", \"Fe\"])  \n",
    "an_lib = {\"C\": 6, \"O\": 8, \"Si\": 14, \"Ca\": 20, \"Fe\": 26}\n",
    "\n",
    "an_ls = np.array(list(an_lib.values()))\n",
    "probe_energy = np.array([20.0])\n",
    "\n",
    "## genrate the library of the total attenuation cross section for the involved elements at 20 keV\n",
    "cs_probe_ls = xlib_np.CS_Total(an_ls, probe_energy).flatten()\n",
    "cs_probe_lib = dict(zip(element_ls, cs_probe_ls))\n",
    "\n",
    "aw_ls = xlib_np.AtomicWeight(an_ls)\n",
    "aw_lib = dict(zip(element_ls, aw_ls)) "
   ]
  },
  {
   "cell_type": "code",
   "execution_count": 4,
   "metadata": {},
   "outputs": [
    {
     "name": "stdout",
     "output_type": "stream",
     "text": [
      "{'element': 'C', 'detected_fl_unit': array([0., 0., 0., ..., 0., 0., 0.])}\n",
      "[2027]\n",
      "[2.82651208e-05]\n",
      "{'element': 'O', 'detected_fl_unit': array([0., 0., 0., ..., 0., 0., 0.])}\n",
      "[2051]\n",
      "[0.00230431]\n",
      "{'element': 'Si', 'detected_fl_unit': array([0., 0., 0., ..., 0., 0., 0.])}\n",
      "[2173 2183]\n",
      "[0.18564898 0.00343441]\n",
      "{'element': 'Ca', 'detected_fl_unit': array([0., 0., 0., ..., 0., 0., 0.])}\n",
      "[2368 2400]\n",
      "[1.70695052 0.14299364]\n",
      "{'element': 'Fe', 'detected_fl_unit': array([0., 0., 0., ..., 0., 0., 0.])}\n",
      "[2069 2071 2638 2640 2705]\n",
      "[0.10915776 0.03630501 2.36742459 4.63625614 0.62413127]\n"
     ]
    }
   ],
   "source": [
    "fl_lines_xdb = np.array(['Ka2', 'Ka1', 'Kb1', 'Lb1', 'La2', 'La1'])\n",
    "fl_lines = np.array([xlib.KA2_LINE, xlib.KA1_LINE, xlib.KB1_LINE, xlib.LB1_LINE, xlib.LA2_LINE, xlib.LA1_LINE])\n",
    "\n",
    "det_energy_u = 20.0E3\n",
    "n_det_energy_bins = 2000\n",
    "det_energy_list = np.linspace(det_energy_u / n_det_energy_bins, det_energy_u, 2000)\n",
    "det_energy_list_full = np.linspace(- det_energy_u + det_energy_u / n_det_energy_bins, det_energy_u, n_det_energy_bins*2)\n",
    "# print(det_energy_list)\n",
    "\n",
    "def find_nearest(a, a0):\n",
    "    \"Element in nd array `a` closest to the scalar value `a0`\"\n",
    "    idx = np.abs(a - a0).argmin()\n",
    "    return idx, a.flat[idx]\n",
    "# def MakeFLlinesDictionary(element_name, fl_lines_xdb, fl_lines, probe_energy):\n",
    "for element_name in element_ls:\n",
    "    FL_dic = {'element': element_name}\n",
    "    fl_cs_ls = xlib_np.CS_FluorLine_Kissel_Cascade(np.array([an_lib[element_name]]), fl_lines, probe_energy)\n",
    "#     print(fl_cs_ls)\n",
    "    i = 0 \n",
    "    detected_fl_unit_concentration = np.zeros((n_det_energy_bins*2))\n",
    "    for name, line in xdb.xray_lines(element_name).items():\n",
    "        if name in set(fl_lines_xdb):\n",
    "            idx_nearest, value_nearest = find_nearest(det_energy_list_full, line[0])\n",
    "#             FL_dic[name] = [value_nearest, fl_cs_ls[0,i][0]]\n",
    "            detected_fl_unit_concentration[idx_nearest] += fl_cs_ls[0,i][0]\n",
    "            i+=1\n",
    "    FL_dic['detected_fl_unit'] = detected_fl_unit_concentration\n",
    "    \n",
    "    print(FL_dic)\n",
    "    print(np.nonzero(FL_dic['detected_fl_unit'])[0])\n",
    "    print(FL_dic['detected_fl_unit'][np.nonzero(FL_dic['detected_fl_unit'])])"
   ]
  },
  {
   "cell_type": "markdown",
   "metadata": {},
   "source": [
    "## Define the function that calculates the attenuation"
   ]
  },
  {
   "cell_type": "code",
   "execution_count": 5,
   "metadata": {},
   "outputs": [],
   "source": [
    "def attenuation(src_path, theta_ls, sample_size, sample_size_l, element_ls):\n",
    "    \"\"\"\n",
    "    Calculate the attenuation ratio of the incident beam before the beam travels to a certain voxel\n",
    "    Assuming that the x-ray probe goes along the direction of axis=1 of the sample array\n",
    "    \n",
    "    Parameters\n",
    "    ----------\n",
    "    theta_ls: ndarray\n",
    "        The angles that the sample rotates from the initial angle in the experiment\n",
    "    \n",
    "    sample_size: int scalar\n",
    "        sample size in number of pixles on one side, assuing a N x N-pixel sample\n",
    "    \n",
    "    sample_size_l: scalar\n",
    "        sample size in mm\n",
    "    \n",
    "    element_ls: ndarray\n",
    "        elements in the sample\n",
    "        \n",
    "    Returns: ndarray\n",
    "    -------\n",
    "        dimension of the returned array is n_theta x sample_size x sample_size\n",
    "\n",
    "    \"\"\"\n",
    "    att_acc_map = np.zeros((len(theta_ls), sample_size, sample_size))\n",
    "    for i, theta in enumerate(theta_ls):\n",
    "        for j, element in enumerate(element_ls):\n",
    "            concentration_map_fname = os.path.join(src_path, element + '_map.tiff')\n",
    "            concentration_map = dxchange.reader.read_tiff(concentration_map_fname)\n",
    "            concentration_map_rot = sp_rotate(concentration_map, theta, reshape=False, order=1)\n",
    "            lac_single = concentration_map_rot * cs_probe_lib[element]            \n",
    "            lac_acc = np.cumsum(lac_single, axis=1)  \n",
    "            lac_acc = np.insert(lac_acc, 0, np.zeros(sample_size), axis=1)\n",
    "            lac_acc = np.delete(lac_acc, sample_size, axis=1)\n",
    "            att_acc = lac_acc * (sample_size_l / sample_size)\n",
    "            att_acc_map[i,:,:] += att_acc\n",
    "    return np.exp(-att_acc_map)"
   ]
  },
  {
   "cell_type": "code",
   "execution_count": 6,
   "metadata": {},
   "outputs": [
    {
     "data": {
      "image/png": "[encoded data removed]",
      "text/plain": [
       "<Figure size 360x360 with 2 Axes>"
      ]
     },
     "metadata": {
      "needs_background": "light"
     },
     "output_type": "display_data"
    }
   ],
   "source": [
    "src_path = './data/sample1'\n",
    "Att_probe = attenuation(src_path ,theta_ls, sample_size, sample_size_l, element_ls)\n",
    "\n",
    "\n",
    "\n",
    "fig1 = plt.figure(figsize=(5,5))\n",
    "gs1 = gridspec.GridSpec(nrows=1, ncols=1, width_ratios=[1])\n",
    "fig1_ax1 = fig1.add_subplot(gs1[0,0])\n",
    "\n",
    "pos = fig1_ax1.imshow(Att_probe[0,:,:], cmap='jet', vmin=0, vmax=1.0, origin='upper')\n",
    "divider = make_axes_locatable(fig1_ax1)\n",
    "cax = divider.append_axes(\"right\", size=\"5%\", pad=0.05)\n",
    "# ticks = np.array([0, 0.2, 0.4, 0.6, 0.8, 1.0, 1.2, 1.4])\n",
    "cbar = fig1.colorbar(pos, cax=cax)\n",
    "cbar.ax.tick_params(labelsize=14) \n",
    "# cbar.ax.set_title('intensity', size='14')"
   ]
  },
  {
   "cell_type": "markdown",
   "metadata": {},
   "source": [
    "## Define the positions of detectorlets in terms of indices\n",
    "### Defaul XRF detector parameters\n",
    "1. The position of the XRF detector: 1.6 cm from the edge of the sample\n",
    "2. The size of the XRF detector is 2.4 mm\n",
    "3. The number of detectorlets is 5\n",
    "4. The number of energy channels is 2000, from 0 - 20 keV"
   ]
  },
  {
   "cell_type": "code",
   "execution_count": 7,
   "metadata": {},
   "outputs": [
    {
     "name": "stdout",
     "output_type": "stream",
     "text": [
      "0.005\n",
      "[3220.5 3220.5 3220.5 3220.5 3220.5]\n",
      "[-469.5 -229.5   10.5  250.5  490.5]\n",
      "[[3220.5 -469.5]\n",
      " [3220.5 -229.5]\n",
      " [3220.5   10.5]\n",
      " [3220.5  250.5]\n",
      " [3220.5  490.5]]\n",
      "[3220.5 -469.5]\n"
     ]
    }
   ],
   "source": [
    "## Calculate the size of the voxel (unit in mm) using the length of the sample edge divided by the number of the pixels \n",
    "voxel_size = sample_size_l / sample_size\n",
    "print(voxel_size)\n",
    "\n",
    "## distance of the XRF detector from the sample edge\n",
    "det_from_sample = 16\n",
    "\n",
    "## diameter of the XRF detector\n",
    "det_size_l = 2.4\n",
    "det_size = np.ceil(det_size_l/voxel_size)\n",
    "\n",
    "## number of the detectorlets\n",
    "n_det = 5\n",
    "\n",
    "## x index of the location of the XRF detector\n",
    "det_axis_0_pixel = sample_size + np.ceil(det_from_sample/voxel_size) + 0.5\n",
    "det_axis_0_pixel_ls = np.full(n_det, det_axis_0_pixel)\n",
    "\n",
    "## y index of the location of the XRF detector\n",
    "det_axis_1_pixel_ls = np.linspace(np.ceil(sample_size/2) - det_size, \n",
    "                                  np.ceil(sample_size/2) + det_size, n_det) + 0.5\n",
    "\n",
    "## biding x-index and y-index array into [(x1,y1), (x2,y2), ..., (x_Ndet, y_Ndet)]\n",
    "det_pos_ls = np.array(list(zip(det_axis_0_pixel_ls, det_axis_1_pixel_ls)))\n",
    "\n",
    "print(det_axis_0_pixel_ls)\n",
    "print(det_axis_1_pixel_ls)\n",
    "print(det_pos_ls)\n",
    "print(det_pos_ls[0])"
   ]
  },
  {
   "cell_type": "markdown",
   "metadata": {},
   "source": [
    "### Calculate the XRF signal for each beamlet at each signal\n",
    "\n",
    "1. Calcualte FL_map, the emitted FL signal at each voxel given the intensity enters each voxel are all 1.\n",
    "    - [x] For each element, look up the emitting energy of K$_\\alpha$, K$_\\beta$, L$_\\alpha$ and L$_\\beta$ lines at 20 eV probe beam. Combine 4 lines for each element, construct FL_map_unit, the emitting FL with units of dimension (n_element, 2000)\n",
    "    - [x] For each angle, combine the map of elemental concentration with (FL_map_unit) to get FL_map\n",
    "    - [x] The dimension of FL_map is (n_theta, sample_size * sample_size, 2000)\n",
    "\n",
    "\n",
    "2. Calcualte the attenuation due to self absorption \n",
    "    - [x] First we need P, the intersecting length map for each beam path from the FL-emitting voxel to the detectorlet\n",
    "    - [x] The dimension of P is (n_det, sample_size * sample_size, intersecting length) \n",
    "\n",
    "            \n",
    "3. Then we calculate SA, the attenuation of each energy due to self-absorption(SA) from the FL-emitting voxel to the edge to the sample\n",
    "    - [x] For each sample angle, summing over (map elemental concentration)$\\odot$(map of intersecting length) and do an average over n_det detectorlets\n",
    "    - [x] The dimension of SA is (n_theta, sample_size, sample_size, 2000)\n",
    "    \n",
    "\n",
    "4. Combine incident beam probe attenuation, FL_map and the self absorption to get the XRF signal for each beamlet at each signal\n",
    "    - [ ] The expected size of data array is 2000 (the # of the energy channels) per beamlet per angle\n",
    "    - [ ] The expected size of the total data array is (N_theta, sample_size, 2000)"
   ]
  },
  {
   "cell_type": "markdown",
   "metadata": {},
   "source": [
    "### 1-1 Calculate FL_map_unit"
   ]
  },
  {
   "cell_type": "code",
   "execution_count": 8,
   "metadata": {},
   "outputs": [],
   "source": [
    "def find_nearest(a, a0):\n",
    "    \"Element in nd array `a` closest to the scalar value `a0`\"\n",
    "    idx = np.abs(a - a0).argmin()\n",
    "    return idx, a.flat[idx]\n",
    "\n",
    "## Returns fl cross section at each energy in det_energy_list per unit concentration of the element\n",
    "def MakeFLlinesDictionary(element_name, fl_lines_xdb, fl_lines, probe_energy):\n",
    "# for element_name in element_ls:\n",
    "    FL_dic = {'element': element_name}\n",
    "    fl_cs_ls = xlib_np.CS_FluorLine_Kissel_Cascade(np.array([an_lib[element_name]]), fl_lines, probe_energy)\n",
    "    i = 0 \n",
    "    detected_fl_unit_concentration = np.zeros((n_det_energy_bins*2))\n",
    "    for name, line in xdb.xray_lines(element_name).items():\n",
    "        if name in set(fl_lines_xdb):\n",
    "            idx_nearest, value_nearest = find_nearest(det_energy_list_full, line[0])            \n",
    "            detected_fl_unit_concentration[idx_nearest] += fl_cs_ls[0,i][0]\n",
    "            i+=1\n",
    "    FL_dic['detected_fl_unit'] = detected_fl_unit_concentration * voxel_size\n",
    "    return FL_dic\n",
    "\n",
    "def Broadening_line(fl_unit, det_energy_list_full, sigma, offset):\n",
    "    fl_unit_f = np.fft.fft(fl_unit)\n",
    "    b = (1/(np.sqrt(2*np.pi)*sigma))*np.exp(-(det_energy_list_full**2)/(2*sigma**2))\n",
    "    bf = np.fft.fft(b)\n",
    "    broadening_signal = np.fft.ifftshift(np.fft.ifft(fl_unit_f*bf))\n",
    "    \n",
    "#     n_offset = int(offset/(det_energy_u / n_det_energy_bins))\n",
    "#     offset_index_ls = np.arange(n_offset).tolist()\n",
    "#     broadening_signal = np.delete(broadening_signal, offset_index_ls)\n",
    "#     broadening_signal = np.append(broadening_signal, np.zeros((n_offset)))\n",
    "    \n",
    "    return np.real(broadening_signal)"
   ]
  },
  {
   "cell_type": "code",
   "execution_count": 9,
   "metadata": {},
   "outputs": [
    {
     "name": "stdout",
     "output_type": "stream",
     "text": [
      "(12, 400, 2000)\n"
     ]
    }
   ],
   "source": [
    "fl_lines_xdb = np.array(['Ka2', 'Ka1', 'Kb1', 'Lb1', 'La2', 'La1'])\n",
    "fl_lines = np.array([xlib.KA2_LINE, xlib.KA1_LINE, xlib.KB1_LINE, xlib.LB1_LINE, xlib.LA2_LINE, xlib.LA1_LINE])\n",
    "\n",
    "det_energy_u = 20.0E3\n",
    "n_det_energy_bins = 2000\n",
    "det_energy_list = np.linspace(det_energy_u / n_det_energy_bins, det_energy_u, n_det_energy_bins)\n",
    "det_energy_list_full = np.linspace(- det_energy_u + det_energy_u / n_det_energy_bins, det_energy_u, n_det_energy_bins*2)\n",
    "# print(det_energy_list)\n",
    "\n",
    "offset = det_energy_u/2\n",
    "sigma = 100 ## eV\n",
    "\n",
    "## Calculate the FL signal emitted when shined by a incident beam with unit intensity\n",
    "fl_map_tot = np.zeros((n_theta, sample_size * sample_size, n_det_energy_bins))\n",
    "for i, theta in enumerate(theta_ls):\n",
    "    for j, element in enumerate(element_ls):\n",
    "        concentration_map_fname = os.path.join(src_path, element + '_map.tiff')\n",
    "        concentration_map = dxchange.reader.read_tiff(concentration_map_fname)\n",
    "        concentration_map_rot = sp_rotate(concentration_map, theta, reshape=False, order=1)\n",
    "        concentration_map_rot_flat = concentration_map_rot.flatten()\n",
    "        \n",
    "        ## FL signal emitted at unitary concentration of the current element over 2000 energy bins\n",
    "        fl_unit = MakeFLlinesDictionary(element, fl_lines_xdb, fl_lines, probe_energy)['detected_fl_unit']\n",
    "        ## Broaden FL signal based on the energy resolution of the detector\n",
    "        fl_unit_b = Broadening_line(fl_unit, det_energy_list_full, sigma, offset)\n",
    "        \n",
    "        ## delete the negative part of the energy array\n",
    "        n_negative_energy = n_det_energy_bins\n",
    "        negative_energy_index_ls = np.arange(n_negative_energy).tolist()\n",
    "        fl_unit_b = np.delete(fl_unit_b, negative_energy_index_ls)\n",
    "        \n",
    "        ## FL signal over 2000 energy bins for each voxel\n",
    "        fl_map = np.array([fl_unit_b * concentration for concentration in concentration_map_rot_flat])\n",
    "        ## summing over the contribution from all elements\n",
    "        fl_map_tot[i,:,:] += fl_map\n",
    "print(fl_map_tot.shape)"
   ]
  },
  {
   "cell_type": "code",
   "execution_count": 10,
   "metadata": {},
   "outputs": [
    {
     "data": {
      "text/plain": [
       "[<matplotlib.lines.Line2D at 0xb1f2a92d0>]"
      ]
     },
     "execution_count": 10,
     "metadata": {},
     "output_type": "execute_result"
    },
    {
     "data": {
      "image/png": "[encoded data removed]",
      "text/plain": [
       "<Figure size 720x288 with 2 Axes>"
      ]
     },
     "metadata": {
      "needs_background": "light"
     },
     "output_type": "display_data"
    }
   ],
   "source": [
    "a = fl_map_tot[0,0,:]\n",
    "a1 = fl_map_tot[0,34,:]\n",
    "# print(np.nonzero(a-a1))\n",
    "\n",
    "plt.figure(figsize=(10,4))\n",
    "plt.subplot(211)\n",
    "plt.plot(det_energy_list, a)\n",
    "# plt.xlim(0,10000)\n",
    "# plt.ylim(0,0.0005)\n",
    "\n",
    "plt.subplot(212)\n",
    "plt.plot(det_energy_list, a1)\n",
    "# plt.xlim(0,10000)\n",
    "# plt.ylim(0,0.00000005)"
   ]
  },
  {
   "cell_type": "markdown",
   "metadata": {},
   "source": [
    "### 2-1: Define the function of line representing the beam path from the FL-emitting voxel to the detectorlets"
   ]
  },
  {
   "cell_type": "code",
   "execution_count": 11,
   "metadata": {},
   "outputs": [],
   "source": [
    "## define a line passing through the FL emitting from the center of the source voxel (x1, y1) in the 2D sample \n",
    "## and the detectorlet (xd, yd)\n",
    "def trace_beam_yint(x1, y1, xd, yd, sample_x_edge):\n",
    "    m = (yd - y1)/(xd - x1)\n",
    "    y_int = m * (sample_x_edge - x1) + y1\n",
    "    return m, y_int\n",
    "\n",
    "def trace_beam_xint(x1, y1, xd, yd, sample_y_edge):\n",
    "    if yd == y1:\n",
    "        m = 0\n",
    "        x_int = np.array([])\n",
    "    else:\n",
    "        m = (yd - y1)/(xd - x1)\n",
    "        x_int = (sample_y_edge - y1)/m + x1\n",
    "    return m, x_int"
   ]
  },
  {
   "cell_type": "markdown",
   "metadata": {},
   "source": [
    "### 2-2: Calculate P (the intersecting length map): \n",
    "1. for each detectorlect (total n_det)\n",
    "2. for each voxel (total sample_size x sample_size)\n",
    "3. we have a 2D map of intersecting length (total sample_size x sample_size)\n",
    "\n",
    "#### The dimension of P:\n",
    "(n_det, sample_size * sample_size, sample_size * sample_size)"
   ]
  },
  {
   "cell_type": "markdown",
   "metadata": {},
   "source": [
    "#### P: environment of development"
   ]
  },
  {
   "cell_type": "code",
   "execution_count": 12,
   "metadata": {},
   "outputs": [
    {
     "name": "stdout",
     "output_type": "stream",
     "text": [
      "[0.5 0.5]\n"
     ]
    }
   ],
   "source": [
    "## define index position of center of the source voxel (x1, y1), note that it's shifted by 0.5 to represent the center\n",
    "x1, y1 = np.indices((sample_size, sample_size))\n",
    "x1, y1 = x1 + 0.5, y1 + 0.5\n",
    "voxel_pos_ls = np.dstack((x1, y1))\n",
    "print(voxel_pos_ls[0][0])\n",
    "\n",
    "## define sample edges: \n",
    "## sample_x_edge is the edge that is closer to the XRF detector\n",
    "## sample_y_edge has two components representing the left and the right edge\n",
    "sample_x_edge = sample_size\n",
    "sample_y_edge = np.array([0, sample_size])\n",
    "\n",
    "\n",
    "## make voxel_pos_ls 1D array for looping: voxel_pos_ls_flat\n",
    "voxel_pos_ls_flat =  np.reshape(voxel_pos_ls, (1, voxel_pos_ls.shape[0]*voxel_pos_ls.shape[0], 2))[0]\n",
    "\n",
    "P = np.zeros((n_det, sample_size * sample_size, sample_size, sample_size))\n",
    "# i = 0\n",
    "for det_pos in det_pos_ls:\n",
    "#     i+=1\n",
    "#     j = 0\n",
    "    for v in voxel_pos_ls_flat:\n",
    "#         j+=1\n",
    "#         print(i)\n",
    "#         print(j)\n",
    "        # find x-value when the beam passes through sample_y_edges(left & right), the one with larger x is the intersection with lower edge\n",
    "        if v[1] == det_pos[1]:\n",
    "            xint = sample_size\n",
    "        else:\n",
    "            xint = np.max(trace_beam_xint(v[0], v[1], det_pos[0], det_pos[1], sample_y_edge)[1])\n",
    "        xint_sample = np.clip(xint, 0, sample_size)\n",
    "        \n",
    "        # find y-value when the beam passes through sample_x_edge(bottom)\n",
    "        m = trace_beam_yint(v[0], v[1], det_pos[0], det_pos[1], sample_x_edge)[0]\n",
    "        yint = trace_beam_yint(v[0], v[1], det_pos[0], det_pos[1], sample_x_edge)[1]\n",
    "        yint_sample = np.clip(yint, 0, sample_size)\n",
    "        \n",
    "        \n",
    "#         print('\\n')\n",
    "#         print('int. wi sample (x,y): (%.2f, %.2f)' %(xint_sample, yint_sample))\n",
    "#         print('\\n')\n",
    "    \n",
    "       \n",
    "               \n",
    "        # when the beam enters a voxel, it either intersects the x boundary or y boundary of the voxel\n",
    "        # find the x,y-value of the boundary except the ones on the sample edge\n",
    "        if np.floor(xint_sample) != np.floor(v[0]):\n",
    "            x_edge_ls = np.linspace(np.ceil(xint_sample)-1, np.ceil(v[0]), int(np.abs(np.ceil(xint_sample) - np.ceil(v[0]))))\n",
    "        else: \n",
    "            x_edge_ls = np.array([])\n",
    "            \n",
    "        \n",
    "        if np.floor(yint_sample) != np.floor(v[1]):            \n",
    "            if m < 0:\n",
    "                y_edge_ls = np.linspace(np.floor(yint_sample)+1, np.floor(v[1]), int(np.abs(np.floor(yint_sample)+1 - np.floor(v[1]))) + 1)            \n",
    "           \n",
    "            if m > 0:\n",
    "                y_edge_ls = np.linspace(np.ceil(yint_sample)-1, np.ceil(v[1]), int(np.abs(np.ceil(yint_sample) - np.ceil(v[1]))))\n",
    "        else:\n",
    "            y_edge_ls = np.array([])\n",
    "        \n",
    "#         print(x_edge_ls)\n",
    "#         print(m)\n",
    "#         print(y_edge_ls)\n",
    "#         print('\\n')\n",
    "        \n",
    "        # find all intersections (except the initial intersection): \n",
    "        # 1. find y-value of intersection given x_edge_ls\n",
    "        # 2. find x-value of intersection given y_edge_ls\n",
    "        y_int_x_edge_ls = trace_beam_yint(v[0], v[1], det_pos[0], det_pos[1], x_edge_ls)[1] #solve y intersections given x edge\n",
    "        x_int_y_edge_ls = trace_beam_xint(v[0], v[1], det_pos[0], det_pos[1], y_edge_ls)[1] #solve x intersections given y edge\n",
    "#         print('%.1f, %.1f, %.1f, %.1f'%(v[0], v[1], det_pos[0], det_pos[1]))\n",
    "#         print('\\n')\n",
    "#         print('%.1f, %.1f' %(yint_sample, v[1]))\n",
    "#         print(y_edge_ls)\n",
    "#         print(x_int_y_edge_ls)\n",
    "#         print('\\n')\n",
    "#         print(x_edge_ls)\n",
    "#         print(y_int_x_edge_ls)\n",
    "#         print('\\n')\n",
    "        \n",
    "        # compile the x,y coordinates of the intersection: (x,y) = (x_edge_ls, y_int_x_edge_ls) and (x_int_y_edge_ls,y_edge_ls)\n",
    "        int_x_edge_ls = np.dstack((x_edge_ls,y_int_x_edge_ls))[0]\n",
    "        int_y_edge_ls = np.dstack((x_int_y_edge_ls,y_edge_ls))[0]\n",
    "#         print(int_y_edge_ls)\n",
    "        \n",
    "        \n",
    "        # mix all intersections\n",
    "        # put the initial intersection [xint_sample, yint_sample] back\n",
    "        # sort them using the x coordinate\n",
    "        int_ls = np.concatenate((int_x_edge_ls, int_y_edge_ls))\n",
    "        int_ls = np.vstack((np.array([xint_sample, yint_sample]), int_ls))\n",
    "        int_ls = int_ls[np.argsort(int_ls[:,0])]\n",
    "#         print(int_ls)\n",
    "        \n",
    "        # calculate the intersecting length in the intersecting voxels\n",
    "        int_length = np.sqrt(np.diff(int_ls[:,0])**2 + np.diff(int_ls[:,1])**2)  \n",
    "        # just in case that we count some intersections twice, delete the duplicates\n",
    "        idx_duplicate = np.array(np.where(int_length==0)).flatten()\n",
    "        int_ls = np.delete(int_ls, idx_duplicate, 0)\n",
    "        int_length = np.delete(int_length, idx_duplicate) \n",
    "        \n",
    "        # determine the indices of the intersecting voxels according to the intersecting x,y-coordinates\n",
    "        int_ls_shift = np.zeros((int_ls.shape))\n",
    "        int_ls_shift[1:] = int_ls[:-1]\n",
    "        int_idx = np.floor((int_ls_shift + int_ls_shift)/2)[1:]\n",
    "        \n",
    "#         print(int_ls)\n",
    "#         print(int_ls_shift)\n",
    "#         print(int_idx)\n",
    "#         print(int_idx.shape)\n",
    "#         print(int_length)\n",
    "#         print(int_length.shape)\n",
    "        \n",
    "        int_idx = (int_idx[:,0].astype('int'), int_idx[:,1].astype('int'))\n",
    "        \n",
    "        ## construct the int_length_map, and scale the intersecting length based on the voxel size\n",
    "        int_length_map = np.zeros((sample_size, sample_size))\n",
    "        int_length_map[int_idx] = int_length * voxel_size\n",
    "        \n",
    "#         a = pd.DataFrame(np.round(int_length_map, 2))        \n",
    "#         a.columns = ['']*a.shape[1]\n",
    "#         print(a.to_string(index=False))      "
   ]
  },
  {
   "cell_type": "markdown",
   "metadata": {},
   "source": [
    "#### P: final work"
   ]
  },
  {
   "cell_type": "code",
   "execution_count": 13,
   "metadata": {},
   "outputs": [
    {
     "name": "stdout",
     "output_type": "stream",
     "text": [
      "(5, 400, 400)\n"
     ]
    }
   ],
   "source": [
    "## define index position of center of the source voxel (x1, y1), note that it's shifted by 0.5 to represent the center\n",
    "x1, y1 = np.indices((sample_size, sample_size))\n",
    "x1, y1 = x1 + 0.5, y1 + 0.5\n",
    "voxel_pos_ls = np.dstack((x1, y1))\n",
    "\n",
    "## define sample edges: \n",
    "## sample_x_edge is the edge that is closer to the XRF detector\n",
    "## sample_y_edge has two components representing the left and the right edge\n",
    "sample_x_edge = sample_size\n",
    "sample_y_edge = np.array([0, sample_size])\n",
    "\n",
    "\n",
    "## make voxel_pos_ls 1D array for looping: voxel_pos_ls_flat\n",
    "voxel_pos_ls_flat =  np.reshape(voxel_pos_ls, (1, voxel_pos_ls.shape[0]*voxel_pos_ls.shape[0], 2))[0]\n",
    "\n",
    "P = np.zeros((n_det, sample_size * sample_size, sample_size * sample_size))\n",
    "for i, det_pos in enumerate(det_pos_ls):\n",
    "    for j, v in enumerate(voxel_pos_ls_flat):\n",
    "        # find x-value when the beam passes through sample_y_edges(left & right), the one with larger x is the intersection with lower edge\n",
    "        if v[1] == det_pos[1]:\n",
    "            xint = sample_size\n",
    "        else:\n",
    "            xint = np.max(trace_beam_xint(v[0], v[1], det_pos[0], det_pos[1], sample_y_edge)[1])\n",
    "        xint_sample = np.clip(xint, 0, sample_size)\n",
    "        \n",
    "        # find y-value when the beam passes through sample_x_edge(bottom)\n",
    "        m = trace_beam_yint(v[0], v[1], det_pos[0], det_pos[1], sample_x_edge)[0]\n",
    "        yint = trace_beam_yint(v[0], v[1], det_pos[0], det_pos[1], sample_x_edge)[1]\n",
    "        yint_sample = np.clip(yint, 0, sample_size)\n",
    "    \n",
    "               \n",
    "        # when the beam enters a voxel, it either intersects the x boundary or y boundary of the voxel\n",
    "        # find the x,y-value of the boundary except the ones on the sample edge\n",
    "        if np.floor(xint_sample) != np.floor(v[0]):\n",
    "            x_edge_ls = np.linspace(np.ceil(xint_sample)-1, np.ceil(v[0]), int(np.abs(np.ceil(xint_sample) - np.ceil(v[0]))))\n",
    "        else: \n",
    "            x_edge_ls = np.array([])\n",
    "            \n",
    "        \n",
    "        if np.floor(yint_sample) != np.floor(v[1]):            \n",
    "            if m < 0:\n",
    "                y_edge_ls = np.linspace(np.floor(yint_sample)+1, np.floor(v[1]), int(np.abs(np.floor(yint_sample)+1 - np.floor(v[1]))) + 1)            \n",
    "           \n",
    "            if m > 0:\n",
    "                y_edge_ls = np.linspace(np.ceil(yint_sample)-1, np.ceil(v[1]), int(np.abs(np.ceil(yint_sample) - np.ceil(v[1]))))\n",
    "        else:\n",
    "            y_edge_ls = np.array([])\n",
    "        \n",
    "        \n",
    "        # find all intersections (except the initial intersection): \n",
    "        # 1. find y-value of intersection given x_edge_ls\n",
    "        # 2. find x-value of intersection given y_edge_ls\n",
    "        y_int_x_edge_ls = trace_beam_yint(v[0], v[1], det_pos[0], det_pos[1], x_edge_ls)[1] #solve y intersections given x edge\n",
    "        x_int_y_edge_ls = trace_beam_xint(v[0], v[1], det_pos[0], det_pos[1], y_edge_ls)[1] #solve x intersections given y edge\n",
    "        \n",
    "        # compile the x,y coordinates of the intersection: (x,y) = (x_edge_ls, y_int_x_edge_ls) and (x_int_y_edge_ls,y_edge_ls)\n",
    "        int_x_edge_ls = np.dstack((x_edge_ls,y_int_x_edge_ls))[0]\n",
    "        int_y_edge_ls = np.dstack((x_int_y_edge_ls,y_edge_ls))[0]\n",
    "\n",
    "        # sort them using the x coordinate\n",
    "        int_ls = np.concatenate((int_x_edge_ls, int_y_edge_ls))\n",
    "        int_ls = np.vstack((np.array([xint_sample, yint_sample]), int_ls))\n",
    "        int_ls = int_ls[np.argsort(int_ls[:,0])]\n",
    "        \n",
    "        # calculate the intersecting length in the intersecting voxels\n",
    "        int_length = np.sqrt(np.diff(int_ls[:,0])**2 + np.diff(int_ls[:,1])**2) \n",
    "        # just in case that we count some intersections twice, delete the duplicates\n",
    "        idx_duplicate = np.array(np.where(int_length==0)).flatten()\n",
    "        int_ls = np.delete(int_ls, idx_duplicate, 0)\n",
    "        int_length = np.delete(int_length, idx_duplicate) \n",
    "        \n",
    "        # determine the indices of the intersecting voxels according to the intersecting x,y-coordinates\n",
    "        int_ls_shift = np.zeros((int_ls.shape))\n",
    "        int_ls_shift[1:] = int_ls[:-1]\n",
    "        int_idx = np.floor((int_ls_shift + int_ls_shift)/2)[1:]        \n",
    "        int_idx = (int_idx[:,0].astype('int'), int_idx[:,1].astype('int'))\n",
    "        \n",
    "        # construct the int_length_map, and scale the intersecting length based on the voxel size\n",
    "        int_length_map = np.zeros((sample_size, sample_size))\n",
    "        int_length_map[int_idx] = int_length * voxel_size  \n",
    "         \n",
    "        # determine the index of the current FL-emitting voxel, and fill P\n",
    "#         x_idx_FL_vox = j // 20\n",
    "#         y_idx_FL_vox = j % 20\n",
    "#         print(int_length_map.shape)\n",
    "#         print(P[i, j, :, :].shape)\n",
    "        P[i, j, :] = int_length_map.flatten()\n",
    "    \n",
    "print(P.shape)"
   ]
  },
  {
   "cell_type": "markdown",
   "metadata": {},
   "source": [
    "### 3-1: Calculate SA (the map of attenuation ratio due to self-absorption of the FL signal):\n",
    "1. for each sample angle (n_theta)\n",
    "2. for each FL emitting voxel (sample_size x sample_size),\n",
    "3. we have an attenuation ratio when the photon for each energy reaches the edge of the sample(due to self absorption)\n",
    "\n",
    "#### The dimension of SA:\n",
    "(n_theta, sample_size * sample_size, n_energy_bins)"
   ]
  },
  {
   "cell_type": "code",
   "execution_count": 14,
   "metadata": {},
   "outputs": [
    {
     "name": "stdout",
     "output_type": "stream",
     "text": [
      "{'C': array([2.37300326, 0.4419728 , 0.25617493, ..., 0.07075734, 0.07075734,\n",
      "       0.07075734]), 'O': array([5.95282482, 0.86530609, 0.37793248, ..., 0.07086802, 0.07086802,\n",
      "       0.07086802]), 'Si': array([33.87943243,  4.46340724,  1.43646241, ...,  0.07080043,\n",
      "        0.07080043,  0.07080043]), 'Ca': array([9.34034659e+01, 1.30591685e+01, 4.07953879e+00, ...,\n",
      "       7.11267727e-02, 7.11267727e-02, 7.11267727e-02]), 'Fe': array([1.70691113e+02, 2.56830231e+01, 8.17748849e+00, ...,\n",
      "       6.67805315e-02, 6.67805315e-02, 6.67805315e-02])}\n",
      "(2000,)\n"
     ]
    }
   ],
   "source": [
    "det_energy_u = 20.0E3\n",
    "n_det_energy_bins = 2000\n",
    "det_energy_list = np.linspace(det_energy_u / n_det_energy_bins, det_energy_u, 2000)\n",
    "\n",
    "## genrate the library of the total attenuation cross section for the involved elements from 0-20keV\n",
    "att_cs_ls = xlib_np.CS_Total(an_ls, det_energy_list)\n",
    "att_cs_lib = dict(zip(element_ls, att_cs_ls))\n",
    "print(att_cs_lib)\n",
    "print(att_cs_lib['C'].shape)"
   ]
  },
  {
   "cell_type": "code",
   "execution_count": 271,
   "metadata": {},
   "outputs": [
    {
     "name": "stderr",
     "output_type": "stream",
     "text": [
      "                                               \r"
     ]
    }
   ],
   "source": [
    "SA = np.zeros((len(theta_ls), sample_size * sample_size, n_det_energy_bins))\n",
    "for i, theta in enumerate(tqdm(theta_ls.tolist(), leave=False)):\n",
    "    for j in np.arange(sample_size * sample_size):\n",
    "        \n",
    "        att_exponent_elemental_sum = np.zeros((len(element_ls), n_det, n_det_energy_bins))\n",
    "        for k, element in enumerate(element_ls):\n",
    "            concentration_map_fname = os.path.join(src_path, element + '_map.tiff')\n",
    "            concentration_map = dxchange.reader.read_tiff(concentration_map_fname)\n",
    "            concentration_map_rot = sp_rotate(concentration_map, theta, reshape=False, order=1)\n",
    "            ## flattened concentration_map after rotation (n_theta, sample_size * sample_size)\n",
    "            concentration_map_rot_flat = concentration_map_rot.flatten()\n",
    "            \n",
    "            ## linear attenuation coefficient for each energy at each voxel: (sample_size * sample_size, n_eneygy_bins)\n",
    "            lac = np.array([att_cs_lib[element] * concentration for concentration in concentration_map_rot_flat])\n",
    "            \n",
    "            ## att_exponent = [(intersecting_length_path1 * lac), (intersecting_length_path2 * lac), ..., (intersecting_length_path5 * lac)]:\n",
    "            ## att_exponent (for each energy, at each_voxel, for each beam path): (n_det, sample_size * sample_size, n_eneygy_bins)\n",
    "            att_exponent = np.array([P[m,j,:][:,np.newaxis] * lac for m in range(n_det)])\n",
    "\n",
    "            \n",
    "            ## att_exponent summing over voxels (for each energy, for each beam path): (n_det, n_eneygy_bins)\n",
    "            att_exponent_voxel_sum = np.sum(att_exponent, axis=1)\n",
    "\n",
    "            ## filling att_exponent_voxel_sum to att_exponent_elemental_sum for each element\n",
    "            att_exponent_elemental_sum[k, :, :] = att_exponent_voxel_sum\n",
    "        \n",
    "        ## summing over the attenation exponent contributed by each element\n",
    "        att_exponent_elemental_sum =  np.sum(att_exponent_elemental_sum, axis=0) \n",
    "        \n",
    "        \n",
    "        ## calculate the attenuation caused by all elements\n",
    "        att = np.exp(- att_exponent_elemental_sum)\n",
    "        ## calculate the attenuation averaged all paths\n",
    "        att_path_ave = np.average(att, axis=0)\n",
    "        SA[i,j,:] = att_path_ave"
   ]
  },
  {
   "cell_type": "code",
   "execution_count": 263,
   "metadata": {},
   "outputs": [
    {
     "name": "stdout",
     "output_type": "stream",
     "text": [
      "(12, 400, 2000)\n",
      "12\n"
     ]
    }
   ],
   "source": [
    "print(SA.shape)\n",
    "SA_re = SA.reshape(12,20,20,2000)\n",
    "\n",
    "print(SA_re.shape[0])"
   ]
  },
  {
   "cell_type": "markdown",
   "metadata": {},
   "source": [
    "## 4. Let's make the cake with the prepared ingredient!"
   ]
  },
  {
   "cell_type": "markdown",
   "metadata": {},
   "source": [
    "### 4-1: Combine probe attenuation and the self absorbtion to get XRF signal!"
   ]
  },
  {
   "cell_type": "code",
   "execution_count": 83,
   "metadata": {},
   "outputs": [],
   "source": [
    "def repeat(arr, count):\n",
    "    return np.stack([arr for _ in range(count)], axis=0)"
   ]
  },
  {
   "cell_type": "code",
   "execution_count": 283,
   "metadata": {},
   "outputs": [
    {
     "name": "stdout",
     "output_type": "stream",
     "text": [
      "(4800, 2000)\n",
      "(4800, 2000)\n",
      "(4800, 2000)\n",
      "(12, 20, 20, 2000)\n",
      "(12, 20, 2000)\n"
     ]
    }
   ],
   "source": [
    "src_path = './data/sample1'\n",
    "\n",
    "## create the profile of the probe\n",
    "# create 1-D profile along axis 0, and then make it 2-D by copying the 1-D profile array along axis 1\n",
    "probe_intensity_1D = np.ones((sample_size, 1))\n",
    "probe_intensity_2D = probe_intensity_1D * np.ones((sample_size, sample_size))\n",
    "# flatten the array: (400,)\n",
    "probe_intensity_2D_flat = probe_intensity_2D.flatten()\n",
    "# print(probe_intensity_2D_flat.shape)\n",
    "\n",
    "## create the array representing the ratio of remaining intensity after the attenuation along the incident direction of the probe\n",
    "# flatten it: (n_theta, sample_size * sample_size)\n",
    "att_flat = attenuation(src_path ,theta_ls, sample_size, sample_size_l, element_ls).reshape(n_theta, sample_size * sample_size)\n",
    "# print(att_flat.shape)\n",
    "\n",
    "## Calculate the remaining intensity of the probe at each voxel at each sample angle\n",
    "att_probe_flat = probe_intensity_2D_flat * att_flat\n",
    "# print(att_probe_flat.shape)\n",
    "# flatten the calculated results and reshape it into a 2-D array with length=1 along axis 1\n",
    "att_probe_flat2 = att_probe_flat.flatten()\n",
    "att_probe_flat2 = np.array(att_probe_flat2[:,np.newaxis])\n",
    "# print(att_probe_flat2.shape)\n",
    "\n",
    "## Calculate the generated fluorescence signal based on the attenuated probe\n",
    "# print(fl_map_tot.shape)\n",
    "fl_map_tot_flat = fl_map_tot.reshape(n_theta*sample_size*sample_size, n_det_energy_bins)\n",
    "# print(fl_map_tot_flat.shape)\n",
    "fl_signal_flat = att_probe_flat2 * fl_map_tot_flat\n",
    "print(fl_signal_flat.shape)\n",
    "\n",
    "## flatten self-absroption matrix\n",
    "# print(SA.shape)\n",
    "SA_flat = SA.reshape(n_theta*sample_size*sample_size, n_det_energy_bins)\n",
    "print(SA_flat.shape)\n",
    "\n",
    "## Calculated the fluorescence signal collected by the detector after self-absorption\n",
    "fl_signal_SA_flat = fl_signal_flat * SA_flat\n",
    "print(fl_signal_SA_flat.shape)\n",
    "\n",
    "fl_signal_SA = fl_signal_SA_flat.reshape(n_theta, sample_size, sample_size, n_det_energy_bins)\n",
    "print(fl_signal_SA.shape)\n",
    "\n",
    "fl_signal_SA_beamlet = np.sum(fl_signal_SA, axis=2)\n",
    "print(fl_signal_SA_beamlet.shape)\n",
    "\n",
    "np.save('./data/XRF_sample1.npy', fl_signal_SA_beamlet)"
   ]
  },
  {
   "cell_type": "code",
   "execution_count": 289,
   "metadata": {},
   "outputs": [],
   "source": [
    "att_probe = att_flat.reshape(n_theta, sample_size, sample_size)\n",
    "# print(att_probe.shape)\n",
    "# print(att_probe)\n",
    "\n",
    "XRT = att_probe[:,:,-1]\n",
    "# print(XRT.shape)\n",
    "# print(XRT)\n",
    "np.save('./data/XRF_sample1.npy', XRT)"
   ]
  },
  {
   "cell_type": "code",
   "execution_count": 259,
   "metadata": {},
   "outputs": [
    {
     "data": {
      "text/plain": [
       "[<matplotlib.lines.Line2D at 0xb2cc691d0>]"
      ]
     },
     "execution_count": 259,
     "metadata": {},
     "output_type": "execute_result"
    },
    {
     "data": {
      "image/png": "[encoded data removed]",
      "text/plain": [
       "<Figure size 720x288 with 2 Axes>"
      ]
     },
     "metadata": {
      "needs_background": "light"
     },
     "output_type": "display_data"
    }
   ],
   "source": [
    "a = fl_signal_flat.reshape(n_theta, sample_size*sample_size, n_det_energy_bins)[0,0,:]\n",
    "a1 = fl_signal_flat.reshape(n_theta, sample_size*sample_size, n_det_energy_bins)[0,34,:]\n",
    "# print(np.nonzero(a-a1))\n",
    "\n",
    "plt.figure(figsize=(10,4))\n",
    "plt.subplot(211)\n",
    "plt.plot(det_energy_list, a)\n",
    "# plt.xlim(0,10000)\n",
    "# plt.ylim(0,0.0005)\n",
    "\n",
    "plt.subplot(212)\n",
    "plt.plot(det_energy_list, a1)\n",
    "# plt.xlim(0,10000)\n",
    "# plt.ylim(0,0.00000005)"
   ]
  },
  {
   "cell_type": "code",
   "execution_count": 261,
   "metadata": {},
   "outputs": [
    {
     "data": {
      "text/plain": [
       "[<matplotlib.lines.Line2D at 0xb2cf35850>]"
      ]
     },
     "execution_count": 261,
     "metadata": {},
     "output_type": "execute_result"
    },
    {
     "data": {
      "image/png": "[encoded data removed]",
      "text/plain": [
       "<Figure size 720x288 with 2 Axes>"
      ]
     },
     "metadata": {
      "needs_background": "light"
     },
     "output_type": "display_data"
    }
   ],
   "source": [
    "b = fl_signal_SA[0,0,:]\n",
    "b1 = fl_signal_SA[0,34,:]\n",
    "# print(np.nonzero(a-b))\n",
    "\n",
    "plt.figure(figsize=(10,4))\n",
    "plt.subplot(211)\n",
    "plt.plot(det_energy_list, b)\n",
    "# plt.xlim(0,10000)\n",
    "# plt.ylim(0,0.0005)\n",
    "\n",
    "plt.subplot(212)\n",
    "plt.plot(det_energy_list, b1)\n",
    "# plt.xlim(0,10000)\n",
    "# plt.ylim(0,0.00000005)"
   ]
  },
  {
   "cell_type": "code",
   "execution_count": 255,
   "metadata": {},
   "outputs": [
    {
     "name": "stdout",
     "output_type": "stream",
     "text": [
      "[[ 380    0]\n",
      " [ 380    1]\n",
      " [ 380    2]\n",
      " ...\n",
      " [4799 1997]\n",
      " [4799 1998]\n",
      " [4799 1999]]\n"
     ]
    }
   ],
   "source": [
    "idx_nonzero = np.nonzero(fl_signal_flat-fl_signal_SA_flat)\n",
    "print(np.argwhere(fl_signal_flat-fl_signal_SA_flat == 0))\n",
    "# SA_difference = fl_signal_flat[idx_nonzero] - fl_signal_SA_flat[idx_nonzero]\n",
    "# print(np.max(SA_difference))\n",
    "\n",
    "# plt.figure(figsize = (5,5))\n",
    "# plt.scatter(idx_nonzero[0],idx_nonzero[1])"
   ]
  },
  {
   "cell_type": "code",
   "execution_count": 137,
   "metadata": {},
   "outputs": [
    {
     "name": "stdout",
     "output_type": "stream",
     "text": [
      "(3, 2, 2)\n",
      "\n",
      "\n",
      "[[ 2  2]\n",
      " [ 8 10]\n",
      " [14 16]]\n",
      "\n",
      "\n",
      "[[10 12]\n",
      " [14 16]]\n",
      "\n",
      "\n"
     ]
    }
   ],
   "source": [
    "a = np.array([[[1,1],[1,1]], [[3,4],[5,6]], [[6,7],[8,9]]])\n",
    "\n",
    "\n",
    "print(a.shape)\n",
    "print('\\n')\n",
    "\n",
    "b = np.sum(a, axis=1)\n",
    "print(b)\n",
    "print('\\n')\n",
    "\n",
    "c = np.sum(a, axis=0)\n",
    "print(c)\n",
    "print('\\n')\n"
   ]
  },
  {
   "cell_type": "code",
   "execution_count": 156,
   "metadata": {},
   "outputs": [
    {
     "name": "stdout",
     "output_type": "stream",
     "text": [
      "\n",
      "\n",
      "[[[  6.  10.  14.  18.  22.  26.  30.  34.]\n",
      "  [ 12.  20.  28.  36.  44.  52.  60.  68.]\n",
      "  [ 18.  30.  42.  54.  66.  78.  90. 102.]\n",
      "  [ 24.  40.  56.  72.  88. 104. 120. 136.]\n",
      "  [ 30.  50.  70.  90. 110. 130. 150. 170.]]\n",
      "\n",
      " [[ 12.  20.  28.  36.  44.  52.  60.  68.]\n",
      "  [ 24.  40.  56.  72.  88. 104. 120. 136.]\n",
      "  [ 36.  60.  84. 108. 132. 156. 180. 204.]\n",
      "  [ 48.  80. 112. 144. 176. 208. 240. 272.]\n",
      "  [ 60. 100. 140. 180. 220. 260. 300. 340.]]]\n",
      "\n",
      "\n",
      "[[ 18.  30.  42.  54.  66.  78.  90. 102.]\n",
      " [ 36.  60.  84. 108. 132. 156. 180. 204.]\n",
      " [ 54.  90. 126. 162. 198. 234. 270. 306.]\n",
      " [ 72. 120. 168. 216. 264. 312. 360. 408.]\n",
      " [ 90. 150. 210. 270. 330. 390. 450. 510.]]\n"
     ]
    }
   ],
   "source": [
    "def repeat(arr, count):\n",
    "    return np.stack([arr for _ in range(count)], axis=0)\n",
    "\n",
    "# a = np.array([[1,1],[1,1]])\n",
    "# aa = repeat(a,2)\n",
    "# print(aa)\n",
    "\n",
    "a1 = np.array([[1,2,3,4,5,6,7,8], [2,3,4,5,6,7,8,9], [1,2,3,4,5,6,7,8], [2,3,4,5,6,7,8,9]])  ## lac\n",
    "a2 = 2 * np.array([[1,2,3,4,5,6,7,8], [2,3,4,5,6,7,8,9], [1,2,3,4,5,6,7,8], [2,3,4,5,6,7,8,9]])  ## lac\n",
    "b = np.array([[1,1,1,1], [2,2,2,2], [3,3,3,3], [4,4,4,4], [5,5,5,5]])  ## intersecting length\n",
    "\n",
    "\n",
    "c0 = b[0,:][:,np.newaxis]\n",
    "c1 = b[1,:][:,np.newaxis]\n",
    "c2 = b[2,:][:,np.newaxis]\n",
    "c3 = b[3,:][:,np.newaxis]\n",
    "c4 = b[4,:][:,np.newaxis]\n",
    " \n",
    "# d1 = (c0 + c1 + c2 + c3 + c4) * a1 / 5\n",
    "d0 = np.zeros((2, 5, 8))\n",
    "d2 = np.array([b[i,:][:,np.newaxis] * a1 for i in range(5)])\n",
    "d3 = np.array([b[i,:][:,np.newaxis] * a2 for i in range(5)])\n",
    "\n",
    "\n",
    "d4 = np.sum(d2, axis=1) ## summing over voxels\n",
    "d5 = np.sum(d3, axis=1) ## summing over voxels\n",
    "d0[0,:,:] = d4\n",
    "d0[1,:,:] = d5\n",
    "\n",
    "d6 = np.sum(d0, axis=0) ## summing over elements\n",
    "\n",
    "# print(d2)\n",
    "# print('\\n')\n",
    "# print(d4)\n",
    "# print('\\n')\n",
    "# print(d3)\n",
    "# print('\\n')\n",
    "# print(d5)\n",
    "print('\\n')\n",
    "print(d0)\n",
    "print('\\n')\n",
    "print(d6)"
   ]
  },
  {
   "cell_type": "code",
   "execution_count": 228,
   "metadata": {},
   "outputs": [
    {
     "name": "stdout",
     "output_type": "stream",
     "text": [
      "[[1 1 1]\n",
      " [2 2 2]]\n",
      "[2 3 4]\n",
      "[[2 3 4]\n",
      " [4 6 8]]\n"
     ]
    }
   ],
   "source": [
    "a = np.array([[1,1,1],[2,2,2]])\n",
    "b = np.array([2,3,4])\n",
    "\n",
    "print(a)\n",
    "print(b)\n",
    "print(a*b)"
   ]
  },
  {
   "cell_type": "code",
   "execution_count": 23,
   "metadata": {},
   "outputs": [
    {
     "name": "stdout",
     "output_type": "stream",
     "text": [
      "[[1]\n",
      " [2]\n",
      " [2]\n",
      " [1]]\n",
      "[[1. 1. 1. 1.]\n",
      " [1. 1. 1. 1.]\n",
      " [1. 1. 1. 1.]\n",
      " [1. 1. 1. 1.]]\n",
      "[[1. 1. 1. 1.]\n",
      " [2. 2. 2. 2.]\n",
      " [2. 2. 2. 2.]\n",
      " [1. 1. 1. 1.]]\n"
     ]
    }
   ],
   "source": [
    "a = np.array([1,2,2,1])\n",
    "a = np.array(a[:, np.newaxis])\n",
    "b = np.ones((4, 4))\n",
    "print(a)\n",
    "print(b)\n",
    "print(a*b)"
   ]
  },
  {
   "cell_type": "code",
   "execution_count": 270,
   "metadata": {},
   "outputs": [
    {
     "name": "stdout",
     "output_type": "stream",
     "text": [
      "(4, 9, 3)\n",
      "[[[1 2 3]\n",
      "  [2 3 4]\n",
      "  [3 4 5]\n",
      "  [4 5 6]\n",
      "  [5 6 7]\n",
      "  [6 7 8]\n",
      "  [7 8 9]\n",
      "  [9 9 9]\n",
      "  [9 9 9]]\n",
      "\n",
      " [[2 3 4]\n",
      "  [2 3 4]\n",
      "  [2 3 4]\n",
      "  [2 3 4]\n",
      "  [2 3 4]\n",
      "  [2 3 4]\n",
      "  [2 3 4]\n",
      "  [2 3 4]\n",
      "  [2 3 4]]\n",
      "\n",
      " [[3 4 5]\n",
      "  [3 4 5]\n",
      "  [3 4 5]\n",
      "  [3 4 5]\n",
      "  [3 4 5]\n",
      "  [3 4 5]\n",
      "  [3 4 5]\n",
      "  [3 4 5]\n",
      "  [3 4 5]]\n",
      "\n",
      " [[4 5 6]\n",
      "  [4 5 6]\n",
      "  [4 5 6]\n",
      "  [4 5 6]\n",
      "  [4 5 6]\n",
      "  [4 5 6]\n",
      "  [4 5 6]\n",
      "  [4 5 6]\n",
      "  [4 5 6]]]\n",
      "(4, 3)\n",
      "[[46 53 60]\n",
      " [18 27 36]\n",
      " [27 36 45]\n",
      " [36 45 54]]\n"
     ]
    }
   ],
   "source": [
    "def repeat(arr, count):\n",
    "    return np.stack([arr for _ in range(count)], axis=0)\n",
    "\n",
    "a = np.array([[[1,2,3],[2,3,4],[3,4,5],[4,5,6],[5,6,7],[6,7,8],[7,8,9],[9,9,9],[9,9,9]],\n",
    "              [[2,3,4],[2,3,4],[2,3,4],[2,3,4],[2,3,4],[2,3,4],[2,3,4],[2,3,4],[2,3,4]],\n",
    "              [[3,4,5],[3,4,5],[3,4,5],[3,4,5],[3,4,5],[3,4,5],[3,4,5],[3,4,5],[3,4,5]],\n",
    "              [[4,5,6],[4,5,6],[4,5,6],[4,5,6],[4,5,6],[4,5,6],[4,5,6],[4,5,6],[4,5,6]]])\n",
    "print(a.shape)\n",
    "print(a)\n",
    "\n",
    "b = np.sum(a, axis=1)\n",
    "print(b.shape)\n",
    "print(b)\n",
    "\n",
    "# b = np.array([0.1,0.2,0.3,0.4])\n",
    "# b = np.array(b[:, np.newaxis])\n",
    "# print(b.shape)\n",
    "# print(b)\n",
    "\n",
    "# d = a[0]\n",
    "# print(d)"
   ]
  },
  {
   "cell_type": "code",
   "execution_count": null,
   "metadata": {},
   "outputs": [],
   "source": []
  }
 ],
 "metadata": {
  "kernelspec": {
   "display_name": "Python 3",
   "language": "python",
   "name": "python3"
  },
  "language_info": {
   "codemirror_mode": {
    "name": "ipython",
    "version": 3
   },
   "file_extension": ".py",
   "mimetype": "text/x-python",
   "name": "python",
   "nbconvert_exporter": "python",
   "pygments_lexer": "ipython3",
   "version": "3.7.6"
  }
 },
 "nbformat": 4,
 "nbformat_minor": 4
}
