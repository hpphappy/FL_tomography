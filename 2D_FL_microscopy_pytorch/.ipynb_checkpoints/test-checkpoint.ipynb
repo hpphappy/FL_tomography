{
 "cells": [
  {
   "cell_type": "code",
   "execution_count": 1,
   "metadata": {},
   "outputs": [],
   "source": [
    "import numpy as np\n",
    "import torch\n",
    "import torch.nn as nn\n",
    "import matplotlib.pyplot as plt"
   ]
  },
  {
   "cell_type": "code",
   "execution_count": 2,
   "metadata": {},
   "outputs": [],
   "source": [
    "device = torch.device(\"cpu\")"
   ]
  },
  {
   "cell_type": "code",
   "execution_count": 39,
   "metadata": {},
   "outputs": [],
   "source": [
    "class PPM(nn.Module):\n",
    "    def __init__(self, n):\n",
    "        \n",
    "        super(PPM, self).__init__()\n",
    "        \n",
    "        self.n = n\n",
    "        self.x = self.init_x()\n",
    "        \n",
    "    def init_x(self):\n",
    "\n",
    "        return nn.Parameter(torch.zeros(2,3,4))\n",
    "    \n",
    "    def forward(self, X):\n",
    "        \n",
    "        X[:, 3*self.n:3*(self.n+1), :] = self.x\n",
    "        \n",
    "        output=X\n",
    "        \n",
    "        return output\n",
    "        "
   ]
  },
  {
   "cell_type": "code",
   "execution_count": 77,
   "metadata": {},
   "outputs": [],
   "source": [
    "model = PPM(0)"
   ]
  },
  {
   "cell_type": "code",
   "execution_count": 76,
   "metadata": {},
   "outputs": [],
   "source": [
    "y=torch.randn(2,9,4)\n",
    "\n",
    "X = torch.zeros(2,9,4)\n",
    "\n",
    "loss_fn = nn.MSELoss()\n",
    "optimizer = torch.optim.Adam(model.parameters(), lr=0.01)\n",
    "\n",
    "\n",
    "\n",
    "Y=model(X)\n",
    "loss = loss_fn(Y, y)\n",
    "optimizer.zero_grad()\n",
    "loss.backward()\n",
    "optimizer.step()\n",
    "   \n",
    "\n",
    "X[:,:3,:] = model.x\n",
    "X=torch.tensor(X.detach().numpy())\n",
    "\n",
    "\n",
    "Y=model(X)\n",
    "loss = loss_fn(Y, y)\n",
    "optimizer.zero_grad()\n",
    "\n",
    "loss.backward()\n"
   ]
  },
  {
   "cell_type": "code",
   "execution_count": null,
   "metadata": {},
   "outputs": [],
   "source": []
  }
 ],
 "metadata": {
  "kernelspec": {
   "display_name": "Python 3",
   "language": "python",
   "name": "python3"
  },
  "language_info": {
   "codemirror_mode": {
    "name": "ipython",
    "version": 3
   },
   "file_extension": ".py",
   "mimetype": "text/x-python",
   "name": "python",
   "nbconvert_exporter": "python",
   "pygments_lexer": "ipython3",
   "version": "3.7.3"
  }
 },
 "nbformat": 4,
 "nbformat_minor": 2
}
