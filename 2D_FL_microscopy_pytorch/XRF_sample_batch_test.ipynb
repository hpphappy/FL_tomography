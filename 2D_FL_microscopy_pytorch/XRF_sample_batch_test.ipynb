{
 "cells": [
  {
   "cell_type": "code",
   "execution_count": 255,
   "metadata": {},
   "outputs": [],
   "source": [
    "import numpy as np\n",
    "import torch\n",
    "import torch.nn as nn\n",
    "import matplotlib.pyplot as plt"
   ]
  },
  {
   "cell_type": "code",
   "execution_count": 256,
   "metadata": {},
   "outputs": [],
   "source": [
    "device = tc.device(\"cpu\")"
   ]
  },
  {
   "cell_type": "markdown",
   "metadata": {},
   "source": [
    "# Load data:"
   ]
  },
  {
   "cell_type": "code",
   "execution_count": 277,
   "metadata": {},
   "outputs": [
    {
     "name": "stdout",
     "output_type": "stream",
     "text": [
      "(12, 30, 8)\n"
     ]
    }
   ],
   "source": [
    "data = np.load('data/test_data_elemental_lines/XRF_sample1.npy')\n",
    "print(data.shape)"
   ]
  },
  {
   "cell_type": "code",
   "execution_count": 258,
   "metadata": {},
   "outputs": [
    {
     "data": {
      "image/png": "[encoded data removed]",
      "text/plain": [
       "<Figure size 432x288 with 1 Axes>"
      ]
     },
     "metadata": {
      "needs_background": "light"
     },
     "output_type": "display_data"
    }
   ],
   "source": [
    "plt.contourf(data[0,:,:]) # Third angle:\n",
    "plt.xlabel('transition lines')\n",
    "plt.ylabel('position')\n",
    "plt.show()"
   ]
  },
  {
   "cell_type": "code",
   "execution_count": 259,
   "metadata": {},
   "outputs": [
    {
     "data": {
      "image/png": "[encoded data removed]",
      "text/plain": [
       "<Figure size 432x288 with 1 Axes>"
      ]
     },
     "metadata": {
      "needs_background": "light"
     },
     "output_type": "display_data"
    }
   ],
   "source": [
    "plt.contourf(data[:,:,6].transpose()) # Third angle:\n",
    "plt.xlabel('angle')\n",
    "plt.ylabel('position')\n",
    "plt.show()"
   ]
  },
  {
   "cell_type": "markdown",
   "metadata": {},
   "source": [
    "# Test how reshape works:"
   ]
  },
  {
   "cell_type": "markdown",
   "metadata": {},
   "source": [
    "# Make mini-batch:"
   ]
  },
  {
   "cell_type": "code",
   "execution_count": 261,
   "metadata": {},
   "outputs": [
    {
     "name": "stdout",
     "output_type": "stream",
     "text": [
      "(30, 8)\n"
     ]
    },
    {
     "data": {
      "text/plain": [
       "(5, 6, 8)"
      ]
     },
     "execution_count": 261,
     "metadata": {},
     "output_type": "execute_result"
    }
   ],
   "source": [
    "n_minibatch=5\n",
    "minibatch_size = data[0].shape[0]//n_minibatch\n",
    "\n",
    "# Take first angle:\n",
    "angle = data[0]\n",
    "print(angle.shape)\n",
    "\n",
    "# Reshape\n",
    "y = angle.reshape(n_minibatch, minibatch_size, -1)\n",
    "y.shape"
   ]
  },
  {
   "cell_type": "markdown",
   "metadata": {},
   "source": [
    "# Inherit nn.Module to make our own model:"
   ]
  },
  {
   "cell_type": "code",
   "execution_count": 269,
   "metadata": {},
   "outputs": [],
   "source": [
    "class PPM(nn.Module):\n",
    "    def __init__(self, p):\n",
    "        \"\"\"\n",
    "        Initialize the attributes of PPM. \n",
    "        \"\"\"\n",
    "        super(PPM, self).__init__() # inherit the __init__ from nn.Module.\n",
    "        self.p = p  # indicate which minibatch to calculate the gradient  \n",
    "        self.xp = self.init_xp() # initialize the values of the minibatch\n",
    "        \n",
    "    def init_xp(self):\n",
    "        \"\"\"\n",
    "        Initialize self.x with 5x6x30 zero tensor. \n",
    "        \"\"\"\n",
    "        return nn.Parameter(tc.zeros(5, 6, 30))\n",
    "\n",
    "        \n",
    "    def forward(self, X):  # convert X to y_hat; dimension changes from (5, 30, 30) to (30, 8)\n",
    "        \"\"\"\n",
    "        Forward propagation.\n",
    "        \"\"\"\n",
    "        X[:, 6*self.p:6*(self.p+1), :] = self.xp\n",
    "        X = tc.sum(X, axis=2)\n",
    "        h1 =  tc.randn(30, 8)\n",
    "        h2 =  tc.randn(30, 5)\n",
    "        output = tc.matmul(h2, tc.matmul(X, h1))\n",
    "        \n",
    "#         output = X\n",
    "        return output"
   ]
  },
  {
   "cell_type": "code",
   "execution_count": 270,
   "metadata": {},
   "outputs": [
    {
     "name": "stdout",
     "output_type": "stream",
     "text": [
      "torch.Size([5, 30])\n",
      "torch.Size([30, 8])\n"
     ]
    }
   ],
   "source": [
    "X = tc.randn(5, 30, 30)\n",
    "X = tc.sum(X, axis =2)\n",
    "print(X.shape)\n",
    "\n",
    "h1 = tc.zeros(30, 8)\n",
    "h = tc.matmul(X, h1)\n",
    "\n",
    "h2 = tc.zeros(30, 5)\n",
    "h = tc.matmul(h2, h)\n",
    "\n",
    "print(h.shape)"
   ]
  },
  {
   "cell_type": "code",
   "execution_count": 271,
   "metadata": {
    "collapsed": true,
    "jupyter": {
     "outputs_hidden": true
    }
   },
   "outputs": [
    {
     "name": "stdout",
     "output_type": "stream",
     "text": [
      "torch.Size([5, 30])\n",
      "torch.Size([30, 5])\n",
      "torch.Size([30, 8])\n",
      "torch.Size([30, 8])\n"
     ]
    }
   ],
   "source": [
    "X = tc.randn(5,30,30)\n",
    "X_sum = tc.sum(X, dim = 2)\n",
    "print(h_sum.shape)\n",
    "\n",
    "m1 = tc.zeros(30, 5)\n",
    "print(m1.shape)\n",
    "m2 = tc.zeros(30, 8)\n",
    "print(m2.shape)\n",
    "\n",
    "print(tc.matmul(tc.matmul(m1, h_sum), m2).shape)"
   ]
  },
  {
   "cell_type": "code",
   "execution_count": 272,
   "metadata": {},
   "outputs": [
    {
     "data": {
      "text/plain": [
       "torch.Size([5, 6, 30])"
      ]
     },
     "execution_count": 272,
     "metadata": {},
     "output_type": "execute_result"
    }
   ],
   "source": [
    "model = [PPM(m) for m in range(n_minibatch)]\n",
    "list(model[0].parameters())[0].shape"
   ]
  },
  {
   "cell_type": "code",
   "execution_count": 285,
   "metadata": {},
   "outputs": [
    {
     "name": "stdout",
     "output_type": "stream",
     "text": [
      "tensor([[   71.1004,  -375.1943,  -382.2452,  1121.1023,   245.4089, -1215.6779,\n",
      "          -548.6149,   420.4432],\n",
      "        [   17.0814,   -90.1380,   -91.8320,   269.3377,    58.9579,  -292.0588,\n",
      "          -131.8012,   101.0088],\n",
      "        [  -15.8022,    83.3876,    84.9546,  -249.1668,   -54.5425,   270.1864,\n",
      "           121.9306,   -93.4442],\n",
      "        [   21.2903,  -112.3483,  -114.4596,   335.7031,    73.4853,  -364.0228,\n",
      "          -164.2773,   125.8976],\n",
      "        [  -18.3397,    96.7778,    98.5965,  -289.1776,   -63.3009,   313.5725,\n",
      "           141.5100,  -108.4493],\n",
      "        [  -34.1725,   180.3272,   183.7160,  -538.8282,  -117.9493,   584.2834,\n",
      "           263.6772,  -202.0749],\n",
      "        [   10.0846,   -53.2162,   -54.2163,   159.0131,    34.8079,  -172.4274,\n",
      "           -77.8135,    59.6341],\n",
      "        [    4.3595,   -23.0050,   -23.4373,    68.7403,    15.0472,   -74.5392,\n",
      "           -33.6383,    25.7795],\n",
      "        [    6.3223,   -33.3627,   -33.9897,    99.6898,    21.8221,  -108.0996,\n",
      "           -48.7835,    37.3863],\n",
      "        [   26.5883,  -140.3054,  -142.9421,   419.2407,    91.7716,  -454.6076,\n",
      "          -205.1567,   157.2264],\n",
      "        [  -21.8799,   115.4596,   117.6294,  -345.0000,   -75.5204,   374.1040,\n",
      "           168.8268,  -129.3842],\n",
      "        [   51.7923,  -273.3064,  -278.4425,   816.6553,   178.7655,  -885.5479,\n",
      "          -399.6328,   306.2675],\n",
      "        [    8.8687,   -46.7996,   -47.6791,   139.8400,    30.6109,  -151.6369,\n",
      "           -68.4311,    52.4437],\n",
      "        [   63.1235,  -333.1004,  -339.3603,   995.3233,   217.8759, -1079.2882,\n",
      "          -487.0645,   373.2727],\n",
      "        [    7.3401,   -38.7337,   -39.4616,   115.7385,    25.3351,  -125.5022,\n",
      "           -56.6370,    43.4050],\n",
      "        [   67.1137,  -354.1571,  -360.8127,  1058.2419,   231.6488, -1147.5146,\n",
      "          -517.8539,   396.8689],\n",
      "        [   40.4065,  -213.2238,  -217.2309,   637.1251,   139.4664,  -690.8726,\n",
      "          -311.7791,   238.9389],\n",
      "        [  -77.8287,   410.6998,   418.4179, -1227.1946,  -268.6325,  1330.7201,\n",
      "           600.5315,  -460.2307],\n",
      "        [  -49.9983,   263.8397,   268.7979,  -788.3682,  -172.5735,   854.8746,\n",
      "           385.7904,  -295.6591],\n",
      "        [  -16.9988,    89.7019,    91.3876,  -268.0344,   -58.6726,   290.6456,\n",
      "           131.1635,  -100.5200],\n",
      "        [  -15.9676,    84.2606,    85.8441,  -251.7756,   -55.1136,   273.0153,\n",
      "           123.2072,   -94.4226],\n",
      "        [  -44.0686,   232.5488,   236.9191,  -694.8693,  -152.1066,   753.4881,\n",
      "           340.0365,  -260.5945],\n",
      "        [   41.2857,  -217.8635,  -221.9577,   650.9888,   142.5012,  -705.9059,\n",
      "          -318.5634,   244.1381],\n",
      "        [   -9.0272,    47.6363,    48.5315,  -142.3400,   -31.1582,   154.3478,\n",
      "            69.6545,   -53.3813],\n",
      "        [  -13.3223,    70.3015,    71.6226,  -210.0649,   -45.9831,   227.7858,\n",
      "           102.7958,   -78.7799],\n",
      "        [  -16.9552,    89.4723,    91.1537,  -267.3484,   -58.5225,   289.9018,\n",
      "           130.8278,  -100.2628],\n",
      "        [  -10.3630,    54.6852,    55.7129,  -163.4026,   -35.7688,   177.1872,\n",
      "            79.9616,   -61.2803],\n",
      "        [   36.9026,  -194.7338,  -198.3934,   581.8759,   127.3724,  -630.9626,\n",
      "          -284.7427,   218.2189],\n",
      "        [  -16.8553,    88.9447,    90.6162,  -265.7720,   -58.1774,   288.1924,\n",
      "           130.0563,   -99.6716],\n",
      "        [  -37.5609,   198.2077,   201.9326,  -592.2562,  -129.6447,   642.2186,\n",
      "           289.8224,  -222.1118]], grad_fn=<MmBackward>)\n",
      "tensor([[ 8.2438e+01,  9.5800e+00, -2.3733e+00,  1.6122e+01, -3.8372e+01,\n",
      "         -7.9801e+01, -1.4981e+00, -2.2612e+01],\n",
      "        [ 1.7829e+02,  2.0718e+01, -5.1327e+00,  3.4868e+01, -8.2985e+01,\n",
      "         -1.7258e+02, -3.2399e+00, -4.8902e+01],\n",
      "        [ 5.4479e+02,  6.3309e+01, -1.5684e+01,  1.0654e+02, -2.5358e+02,\n",
      "         -5.2736e+02, -9.9002e+00, -1.4943e+02],\n",
      "        [ 4.2944e+02,  4.9904e+01, -1.2363e+01,  8.3985e+01, -1.9989e+02,\n",
      "         -4.1570e+02, -7.8040e+00, -1.1779e+02],\n",
      "        [ 1.5895e+01,  1.8471e+00, -4.5760e-01,  3.1085e+00, -7.3984e+00,\n",
      "         -1.5386e+01, -2.8885e-01, -4.3598e+00],\n",
      "        [-2.3135e+02, -2.6885e+01,  6.6605e+00, -4.5246e+01,  1.0769e+02,\n",
      "          2.2395e+02,  4.2043e+00,  6.3458e+01],\n",
      "        [ 7.9867e+02,  9.2812e+01, -2.2993e+01,  1.5620e+02, -3.7175e+02,\n",
      "         -7.7312e+02, -1.4514e+01, -2.1907e+02],\n",
      "        [ 1.0286e+03,  1.1954e+02, -2.9613e+01,  2.0117e+02, -4.7879e+02,\n",
      "         -9.9573e+02, -1.8693e+01, -2.8214e+02],\n",
      "        [-1.5614e+02, -1.8144e+01,  4.4950e+00, -3.0536e+01,  7.2675e+01,\n",
      "          1.5114e+02,  2.8374e+00,  4.2827e+01],\n",
      "        [ 9.9239e+02,  1.1532e+02, -2.8570e+01,  1.9408e+02, -4.6192e+02,\n",
      "         -9.6064e+02, -1.8034e+01, -2.7220e+02],\n",
      "        [ 1.8039e+02,  2.0963e+01, -5.1934e+00,  3.5280e+01, -8.3966e+01,\n",
      "         -1.7462e+02, -3.2782e+00, -4.9480e+01],\n",
      "        [ 9.6770e+02,  1.1245e+02, -2.7859e+01,  1.8925e+02, -4.5042e+02,\n",
      "         -9.3674e+02, -1.7586e+01, -2.6543e+02],\n",
      "        [-5.7654e+02, -6.6999e+01,  1.6598e+01, -1.1275e+02,  2.6836e+02,\n",
      "          5.5810e+02,  1.0477e+01,  1.5814e+02],\n",
      "        [-3.2189e+02, -3.7407e+01,  9.2670e+00, -6.2953e+01,  1.4983e+02,\n",
      "          3.1160e+02,  5.8496e+00,  8.8292e+01],\n",
      "        [ 9.4444e+02,  1.0975e+02, -2.7189e+01,  1.8470e+02, -4.3960e+02,\n",
      "         -9.1423e+02, -1.7163e+01, -2.5905e+02],\n",
      "        [ 1.5047e+02,  1.7486e+01, -4.3319e+00,  2.9428e+01, -7.0039e+01,\n",
      "         -1.4566e+02, -2.7345e+00, -4.1273e+01],\n",
      "        [ 5.2729e+02,  6.1275e+01, -1.5180e+01,  1.0312e+02, -2.4543e+02,\n",
      "         -5.1042e+02, -9.5821e+00, -1.4463e+02],\n",
      "        [ 4.9858e+02,  5.7938e+01, -1.4353e+01,  9.7506e+01, -2.3207e+02,\n",
      "         -4.8262e+02, -9.0604e+00, -1.3675e+02],\n",
      "        [ 5.1335e+02,  5.9655e+01, -1.4779e+01,  1.0040e+02, -2.3894e+02,\n",
      "         -4.9693e+02, -9.3289e+00, -1.4081e+02],\n",
      "        [-8.4985e+01, -9.8760e+00,  2.4466e+00, -1.6621e+01,  3.9557e+01,\n",
      "          8.2266e+01,  1.5444e+00,  2.3311e+01],\n",
      "        [-5.5723e+01, -6.4754e+00,  1.6042e+00, -1.0898e+01,  2.5937e+01,\n",
      "          5.3940e+01,  1.0126e+00,  1.5284e+01],\n",
      "        [-4.0868e+02, -4.7491e+01,  1.1765e+01, -7.9925e+01,  1.9022e+02,\n",
      "          3.9560e+02,  7.4267e+00,  1.1210e+02],\n",
      "        [-5.5243e+02, -6.4196e+01,  1.5904e+01, -1.0804e+02,  2.5713e+02,\n",
      "          5.3475e+02,  1.0039e+01,  1.5153e+02],\n",
      "        [ 6.6440e+02,  7.7209e+01, -1.9127e+01,  1.2994e+02, -3.0925e+02,\n",
      "         -6.4315e+02, -1.2074e+01, -1.8224e+02],\n",
      "        [ 8.3610e+02,  9.7161e+01, -2.4070e+01,  1.6352e+02, -3.8917e+02,\n",
      "         -8.0935e+02, -1.5194e+01, -2.2933e+02],\n",
      "        [-9.3666e+02, -1.0885e+02,  2.6965e+01, -1.8318e+02,  4.3598e+02,\n",
      "          9.0669e+02,  1.7021e+01,  2.5692e+02],\n",
      "        [-3.9813e+02, -4.6266e+01,  1.1462e+01, -7.7863e+01,  1.8531e+02,\n",
      "          3.8539e+02,  7.2351e+00,  1.0920e+02],\n",
      "        [-2.2124e+01, -2.5710e+00,  6.3692e-01, -4.3268e+00,  1.0298e+01,\n",
      "          2.1416e+01,  4.0205e-01,  6.0684e+00],\n",
      "        [-1.7209e+02, -1.9998e+01,  4.9542e+00, -3.3655e+01,  8.0098e+01,\n",
      "          1.6658e+02,  3.1272e+00,  4.7201e+01],\n",
      "        [ 3.5614e+02,  4.1386e+01, -1.0253e+01,  6.9650e+01, -1.6577e+02,\n",
      "         -3.4475e+02, -6.4720e+00, -9.7686e+01]], grad_fn=<MmBackward>)\n",
      "tensor([[ 6.8281e+01, -3.3412e+00,  2.2903e+01,  3.2693e+00,  4.0123e+01,\n",
      "          1.3699e+02,  1.0108e+01, -4.2417e+01],\n",
      "        [-1.0676e+02,  5.2240e+00, -3.5809e+01, -5.1117e+00, -6.2733e+01,\n",
      "         -2.1419e+02, -1.5805e+01,  6.6321e+01],\n",
      "        [ 1.1107e+02, -5.4351e+00,  3.7256e+01,  5.3182e+00,  6.5267e+01,\n",
      "          2.2285e+02,  1.6443e+01, -6.9000e+01],\n",
      "        [ 3.8219e+01, -1.8702e+00,  1.2820e+01,  1.8300e+00,  2.2458e+01,\n",
      "          7.6680e+01,  5.6580e+00, -2.3743e+01],\n",
      "        [-3.2518e+02,  1.5912e+01, -1.0907e+02, -1.5570e+01, -1.9108e+02,\n",
      "         -6.5241e+02, -4.8139e+01,  2.0200e+02],\n",
      "        [ 1.3579e+01, -6.6446e-01,  4.5547e+00,  6.5017e-01,  7.9792e+00,\n",
      "          2.7244e+01,  2.0102e+00, -8.4355e+00],\n",
      "        [-6.5156e+01,  3.1883e+00, -2.1855e+01, -3.1197e+00, -3.8287e+01,\n",
      "         -1.3072e+02, -9.6457e+00,  4.0476e+01],\n",
      "        [-5.4217e+01,  2.6530e+00, -1.8185e+01, -2.5959e+00, -3.1858e+01,\n",
      "         -1.0878e+02, -8.0262e+00,  3.3680e+01],\n",
      "        [ 2.2251e+02, -1.0888e+01,  7.4632e+01,  1.0654e+01,  1.3075e+02,\n",
      "          4.4642e+02,  3.2940e+01, -1.3822e+02],\n",
      "        [ 3.9151e+02, -1.9158e+01,  1.3132e+02,  1.8746e+01,  2.3006e+02,\n",
      "          7.8550e+02,  5.7959e+01, -2.4321e+02],\n",
      "        [-1.4361e+02,  7.0271e+00, -4.8169e+01, -6.8760e+00, -8.4385e+01,\n",
      "         -2.8812e+02, -2.1260e+01,  8.9211e+01],\n",
      "        [-5.9196e+01,  2.8966e+00, -1.9855e+01, -2.8343e+00, -3.4784e+01,\n",
      "         -1.1877e+02, -8.7633e+00,  3.6773e+01],\n",
      "        [ 9.4952e+01, -4.6463e+00,  3.1849e+01,  4.5463e+00,  5.5795e+01,\n",
      "          1.9050e+02,  1.4057e+01, -5.8986e+01],\n",
      "        [ 1.1748e+02, -5.7485e+00,  3.9404e+01,  5.6249e+00,  6.9032e+01,\n",
      "          2.3570e+02,  1.7391e+01, -7.2979e+01],\n",
      "        [-1.3734e+02,  6.7202e+00, -4.6065e+01, -6.5757e+00, -8.0700e+01,\n",
      "         -2.7554e+02, -2.0331e+01,  8.5315e+01],\n",
      "        [-8.5232e+01,  4.1706e+00, -2.8588e+01, -4.0809e+00, -5.0083e+01,\n",
      "         -1.7100e+02, -1.2618e+01,  5.2947e+01],\n",
      "        [-2.0923e+02,  1.0238e+01, -7.0178e+01, -1.0018e+01, -1.2294e+02,\n",
      "         -4.1977e+02, -3.0974e+01,  1.2997e+02],\n",
      "        [ 1.2182e+02, -5.9611e+00,  4.0862e+01,  5.8329e+00,  7.1585e+01,\n",
      "          2.4442e+02,  1.8035e+01, -7.5678e+01],\n",
      "        [ 4.4409e+02, -2.1730e+01,  1.4895e+02,  2.1263e+01,  2.6095e+02,\n",
      "          8.9098e+02,  6.5742e+01, -2.7587e+02],\n",
      "        [ 1.0262e+02, -5.0217e+00,  3.4422e+01,  4.9137e+00,  6.0303e+01,\n",
      "          2.0590e+02,  1.5192e+01, -6.3752e+01],\n",
      "        [ 6.9824e+01, -3.4167e+00,  2.3420e+01,  3.3432e+00,  4.1029e+01,\n",
      "          1.4009e+02,  1.0337e+01, -4.3376e+01],\n",
      "        [-4.0087e+02,  1.9616e+01, -1.3446e+02, -1.9194e+01, -2.3556e+02,\n",
      "         -8.0428e+02, -5.9345e+01,  2.4903e+02],\n",
      "        [ 5.6976e+01, -2.7880e+00,  1.9111e+01,  2.7280e+00,  3.3480e+01,\n",
      "          1.1431e+02,  8.4347e+00, -3.5394e+01],\n",
      "        [-1.5080e+02,  7.3789e+00, -5.0580e+01, -7.2202e+00, -8.8610e+01,\n",
      "         -3.0255e+02, -2.2324e+01,  9.3677e+01],\n",
      "        [-2.8655e+02,  1.4022e+01, -9.6116e+01, -1.3720e+01, -1.6838e+02,\n",
      "         -5.7492e+02, -4.2421e+01,  1.7801e+02],\n",
      "        [-2.5000e+02,  1.2233e+01, -8.3854e+01, -1.1970e+01, -1.4690e+02,\n",
      "         -5.0158e+02, -3.7010e+01,  1.5530e+02],\n",
      "        [ 9.0276e+01, -4.4174e+00,  3.0280e+01,  4.3224e+00,  5.3047e+01,\n",
      "          1.8112e+02,  1.3364e+01, -5.6081e+01],\n",
      "        [-1.3104e+02,  6.4121e+00, -4.3953e+01, -6.2742e+00, -7.7000e+01,\n",
      "         -2.6291e+02, -1.9399e+01,  8.1403e+01],\n",
      "        [ 2.2661e+02, -1.1089e+01,  7.6011e+01,  1.0850e+01,  1.3316e+02,\n",
      "          4.5466e+02,  3.3548e+01, -1.4078e+02],\n",
      "        [-2.1475e+01,  1.0508e+00, -7.2031e+00, -1.0282e+00, -1.2619e+01,\n",
      "         -4.3086e+01, -3.1791e+00,  1.3341e+01]], grad_fn=<MmBackward>)\n",
      "tensor([[ 400.3354, -254.4852, -102.8378,  359.8060, -174.0964,  361.2507,\n",
      "          187.0673, -382.4827],\n",
      "        [-106.8760,   67.9390,   27.4542,  -96.0561,   46.4779,  -96.4417,\n",
      "          -49.9407,  102.1100],\n",
      "        [ -41.9032,   26.6370,   10.7640,  -37.6610,   18.2227,  -37.8122,\n",
      "          -19.5804,   40.0345],\n",
      "        [ 722.2727, -459.1343, -185.5367,  649.1508, -314.0994,  651.7574,\n",
      "          337.5011, -690.0635],\n",
      "        [ 125.9135,  -80.0407,  -32.3445,  113.1662,  -54.7568,  113.6206,\n",
      "           58.8364, -120.2985],\n",
      "        [  -6.1484,    3.9084,    1.5794,   -5.5259,    2.6738,   -5.5481,\n",
      "           -2.8730,    5.8742],\n",
      "        [ 263.1484, -167.2782,  -67.5973,  236.5076, -114.4371,  237.4573,\n",
      "          122.9631, -251.4135],\n",
      "        [ 338.9253, -215.4480,  -87.0628,  304.6130, -147.3906,  305.8361,\n",
      "          158.3719, -323.8112],\n",
      "        [  -9.9624,    6.3329,    2.5591,   -8.9539,    4.3324,   -8.9898,\n",
      "           -4.6552,    9.5182],\n",
      "        [-230.4613,  146.4996,   59.2007, -207.1297,  100.2222, -207.9614,\n",
      "         -107.6891,  220.1840],\n",
      "        [ 331.8975, -210.9806,  -85.2575,  298.2966, -144.3344,  299.4944,\n",
      "          155.0879, -317.0967],\n",
      "        [-358.2223,  227.7147,   92.0198, -321.9564,  155.7824, -323.2491,\n",
      "         -167.3889,  342.2477],\n",
      "        [ -27.2988,   17.3533,    7.0125,  -24.5351,   11.8716,  -24.6336,\n",
      "          -12.7561,   26.0814],\n",
      "        [-337.2112,  214.3584,   86.6225, -303.0724,  146.6452, -304.2894,\n",
      "         -157.5709,  322.1736],\n",
      "        [ 762.0817, -484.4401, -195.7629,  684.9297, -331.4114,  687.6799,\n",
      "          356.1029, -728.0973],\n",
      "        [-488.7242,  310.6722,  125.5430, -439.2465,  212.5347, -441.0102,\n",
      "         -228.3694,  466.9299],\n",
      "        [ 399.1294, -253.7186, -102.5280,  358.7221, -173.5720,  360.1625,\n",
      "          186.5038, -381.3306],\n",
      "        [-160.3327,  101.9203,   41.1861, -144.1009,   69.7249, -144.6795,\n",
      "          -74.9197,  153.1828],\n",
      "        [ 360.9977, -229.4790,  -92.7327,  324.4507, -156.9894,  325.7535,\n",
      "          168.6857, -344.8992],\n",
      "        [ 136.4873,  -86.7622,  -35.0607,  122.6695,  -59.3551,  123.1621,\n",
      "           63.7773, -130.4007],\n",
      "        [ 207.5794, -131.9541,  -53.3228,  186.5643,  -90.2714,  187.3135,\n",
      "           96.9970, -198.3226],\n",
      "        [ -32.1774,   20.4546,    8.2657,  -28.9198,   13.9932,  -29.0360,\n",
      "          -15.0358,   30.7425],\n",
      "        [ 130.5162,  -82.9665,  -33.5269,  117.3029,  -56.7584,  117.7739,\n",
      "           60.9872, -124.6959],\n",
      "        [ -81.3835,   51.7339,   20.9057,  -73.1443,   35.3918,  -73.4380,\n",
      "          -38.0286,   77.7542],\n",
      "        [ 118.1095,  -75.0798,  -30.3398,  106.1522,  -51.3630,  106.5785,\n",
      "           55.1898, -112.8425],\n",
      "        [ -53.9291,   34.2817,   13.8533,  -48.4694,   23.4525,  -48.6640,\n",
      "          -25.1998,   51.5242],\n",
      "        [-284.2508,  180.6925,   73.0181, -255.4736,  123.6140, -256.4995,\n",
      "         -132.8237,  271.5748],\n",
      "        [ 845.6049, -537.5341, -217.2182,  759.9970, -367.7336,  763.0486,\n",
      "          395.1313, -807.8957],\n",
      "        [ 150.5366,  -95.6931,  -38.6697,  135.2965,  -65.4648,  135.8398,\n",
      "           70.3422, -143.8236],\n",
      "        [  36.9277,  -23.4742,   -9.4859,   33.1892,  -16.0590,   33.3224,\n",
      "           17.2554,  -35.2809]], grad_fn=<MmBackward>)\n",
      "tensor([[0., 0., 0., 0., 0., 0., 0., 0.],\n",
      "        [0., 0., 0., 0., 0., 0., 0., 0.],\n",
      "        [0., 0., 0., 0., 0., 0., 0., 0.],\n",
      "        [0., 0., 0., 0., 0., 0., 0., 0.],\n",
      "        [0., 0., 0., 0., 0., 0., 0., 0.],\n",
      "        [0., 0., 0., 0., 0., 0., 0., 0.],\n",
      "        [0., 0., 0., 0., 0., 0., 0., 0.],\n",
      "        [0., 0., 0., 0., 0., 0., 0., 0.],\n",
      "        [0., 0., 0., 0., 0., 0., 0., 0.],\n",
      "        [0., 0., 0., 0., 0., 0., 0., 0.],\n",
      "        [0., 0., 0., 0., 0., 0., 0., 0.],\n",
      "        [0., 0., 0., 0., 0., 0., 0., 0.],\n",
      "        [0., 0., 0., 0., 0., 0., 0., 0.],\n",
      "        [0., 0., 0., 0., 0., 0., 0., 0.],\n",
      "        [0., 0., 0., 0., 0., 0., 0., 0.],\n",
      "        [0., 0., 0., 0., 0., 0., 0., 0.],\n",
      "        [0., 0., 0., 0., 0., 0., 0., 0.],\n",
      "        [0., 0., 0., 0., 0., 0., 0., 0.],\n",
      "        [0., 0., 0., 0., 0., 0., 0., 0.],\n",
      "        [0., 0., 0., 0., 0., 0., 0., 0.],\n",
      "        [0., 0., 0., 0., 0., 0., 0., 0.],\n",
      "        [0., 0., 0., 0., 0., 0., 0., 0.],\n",
      "        [0., 0., 0., 0., 0., 0., 0., 0.],\n",
      "        [0., 0., 0., 0., 0., 0., 0., 0.],\n",
      "        [0., 0., 0., 0., 0., 0., 0., 0.],\n",
      "        [0., 0., 0., 0., 0., 0., 0., 0.],\n",
      "        [0., 0., 0., 0., 0., 0., 0., 0.],\n",
      "        [0., 0., 0., 0., 0., 0., 0., 0.],\n",
      "        [0., 0., 0., 0., 0., 0., 0., 0.],\n",
      "        [0., 0., 0., 0., 0., 0., 0., 0.]], grad_fn=<MmBackward>)\n"
     ]
    }
   ],
   "source": [
    "# y_true = tc.tensor(angle)\n",
    "\n",
    "y_true = tc.randn(30, 8)\n",
    "# y_true = tc.randn(5, 30, 30)\n",
    "\n",
    "X = tc.ones(5, 30, 30)\n",
    "\n",
    "loss_fn = nn.MSELoss()\n",
    "optimizer = [tc.optim.Adam(model[m].parameters(), lr=0.01) for m in range(n_minibatch)]\n",
    "\n",
    "    \n",
    "for m in range(n_minibatch):\n",
    "    \n",
    "    y_hat = model[m](X)\n",
    "    loss = loss_fn(y_hat, y_true)\n",
    "    \n",
    "    optimizer[m].zero_grad()\n",
    "    loss.backward()\n",
    "    optimizer[m].step()\n",
    "    \n",
    "#     print(model[m].xp)\n",
    "    print(y_hat)\n",
    "    X[:, minibatch_size*m:minibatch_size*(m+1),:] = model[m].xp\n",
    "    X = tc.tensor(X.detach().numpy())\n",
    "    \n",
    "\n",
    "    # Check whether model.parameters() is model.x\n",
    "#     print('Is model.parameters()= model.x?', list(model.parameters())[0] is model.x, '\\n') # or print(list(model.parameters())[0] == model.x)\n",
    "#     print('Print model.x', model.x, '\\n')\n",
    "#     print('Loss for angle {}: {}'.format(i, loss.item()) )"
   ]
  },
  {
   "cell_type": "code",
   "execution_count": 286,
   "metadata": {},
   "outputs": [
    {
     "name": "stdout",
     "output_type": "stream",
     "text": [
      "torch.Size([30, 8])\n"
     ]
    },
    {
     "data": {
      "image/png": "[encoded data removed]",
      "text/plain": [
       "<Figure size 432x288 with 1 Axes>"
      ]
     },
     "metadata": {
      "needs_background": "light"
     },
     "output_type": "display_data"
    }
   ],
   "source": [
    "Y = model[0](X)\n",
    "print(Y.shape)\n",
    "plt.contourf(Y.detach().numpy()) # Remember to detach from the computational graph and convert to numpy in order\n",
    "                                 # to make plot.\n",
    "plt.show()"
   ]
  },
  {
   "cell_type": "code",
   "execution_count": null,
   "metadata": {},
   "outputs": [],
   "source": []
  },
  {
   "cell_type": "code",
   "execution_count": null,
   "metadata": {},
   "outputs": [],
   "source": []
  }
 ],
 "metadata": {
  "kernelspec": {
   "display_name": "Python 3",
   "language": "python",
   "name": "python3"
  },
  "language_info": {
   "codemirror_mode": {
    "name": "ipython",
    "version": 3
   },
   "file_extension": ".py",
   "mimetype": "text/x-python",
   "name": "python",
   "nbconvert_exporter": "python",
   "pygments_lexer": "ipython3",
   "version": "3.7.6"
  }
 },
 "nbformat": 4,
 "nbformat_minor": 4
}
