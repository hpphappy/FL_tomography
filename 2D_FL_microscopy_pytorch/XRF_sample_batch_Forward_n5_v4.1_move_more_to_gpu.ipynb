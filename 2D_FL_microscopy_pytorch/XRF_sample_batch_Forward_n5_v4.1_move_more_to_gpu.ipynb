{
 "cells": [
  {
   "cell_type": "markdown",
   "metadata": {},
   "source": [
    "# XRF 2D forward model: 5 elements, 5 x 5 sample"
   ]
  },
  {
   "cell_type": "code",
   "execution_count": 179,
   "metadata": {},
   "outputs": [],
   "source": [
    "import os\n",
    "import numpy as np\n",
    "import dxchange\n",
    "\n",
    "import torch as tc\n",
    "# tc.set_default_tensor_type(tc.DoubleTensor)\n",
    "tc.set_default_tensor_type(tc.FloatTensor)\n",
    "tc.pi = tc.acos(tc.zeros(1)).item() * 2\n",
    "import torch.nn as nn\n",
    "import torch.nn.functional as F\n",
    "import matplotlib.pyplot as plt\n",
    "\n",
    "from matplotlib import gridspec\n",
    "from mpl_toolkits.axes_grid1 import make_axes_locatable\n",
    "from scipy.ndimage import rotate as sp_rotate\n",
    "\n",
    "from tqdm import tqdm\n",
    "from scipy.ndimage import rotate as sp_rotate\n",
    "import xraylib as xlib\n",
    "import xraylib_np as xlib_np\n",
    "import time"
   ]
  },
  {
   "cell_type": "code",
   "execution_count": 180,
   "metadata": {},
   "outputs": [
    {
     "name": "stdout",
     "output_type": "stream",
     "text": [
      "2\n"
     ]
    }
   ],
   "source": [
    "print(tc.cuda.device_count())"
   ]
  },
  {
   "cell_type": "code",
   "execution_count": 181,
   "metadata": {},
   "outputs": [
    {
     "name": "stdout",
     "output_type": "stream",
     "text": [
      "running on GPU\n",
      "device = cuda:1\n"
     ]
    }
   ],
   "source": [
    "if tc.cuda.is_available():  \n",
    "    dev = \"cuda:1\" \n",
    "    print(\"running on GPU\")\n",
    "else:  \n",
    "    dev = \"cpu\"\n",
    "    print(\"running on CPU\")\n",
    "\n",
    "device = tc.device(dev)\n",
    "print(\"device = %s\" %device)"
   ]
  },
  {
   "cell_type": "code",
   "execution_count": 182,
   "metadata": {},
   "outputs": [],
   "source": [
    "# device = tc.device(dev)  \n",
    "# a = tc.zeros(4,3)    \n",
    "# a = a.to(device)\n",
    "# print(a.device)"
   ]
  },
  {
   "cell_type": "code",
   "execution_count": 183,
   "metadata": {},
   "outputs": [],
   "source": [
    "# device = tc.device(\"cpu\")"
   ]
  },
  {
   "cell_type": "code",
   "execution_count": 184,
   "metadata": {},
   "outputs": [],
   "source": [
    "# dev = \"cpu\""
   ]
  },
  {
   "cell_type": "markdown",
   "metadata": {},
   "source": [
    "# Load data:"
   ]
  },
  {
   "cell_type": "code",
   "execution_count": 185,
   "metadata": {},
   "outputs": [
    {
     "name": "stdout",
     "output_type": "stream",
     "text": [
      "(4, 5, 8)\n",
      "torch.Size([4, 8, 5])\n"
     ]
    }
   ],
   "source": [
    "data = np.load('./data/sample3_data/XRF_sample3.npy').astype(np.float32)\n",
    "# data = np.load('./data/sample3_data/XRF_sample3.npy')\n",
    "print(data.shape)\n",
    "\n",
    "data = tc.from_numpy(np.transpose(data, axes=(0,2,1)))\n",
    "print(data.shape)"
   ]
  },
  {
   "cell_type": "code",
   "execution_count": 186,
   "metadata": {},
   "outputs": [
    {
     "name": "stdout",
     "output_type": "stream",
     "text": [
      "tensor([[     0.0000,      0.0000, 168212.5781,      0.0000,      0.0000],\n",
      "        [     0.0000,      0.0000,  80186.4062,  95002.6641,      0.0000],\n",
      "        [     0.0000,      0.0000, 171843.6250,      0.0000,      0.0000],\n",
      "        [     0.0000,  31050.3711,  87090.7344,      0.0000,      0.0000]])\n"
     ]
    },
    {
     "data": {
      "image/png": "[encoded data removed]",
      "text/plain": [
       "<Figure size 720x720 with 2 Axes>"
      ]
     },
     "metadata": {
      "needs_background": "light"
     },
     "output_type": "display_data"
    }
   ],
   "source": [
    "fig6 = plt.figure(figsize=(10,10))\n",
    "gs6 = gridspec.GridSpec(nrows=1, ncols=1)\n",
    "\n",
    "fig6_ax1 = fig6.add_subplot(gs6[0,0])\n",
    "fig6_ax1.set_xticks(np.arange(0, 5, 1))\n",
    "fig6_ax1.set_yticks(np.arange(0, 12, 1))\n",
    "# fig6_ax1.grid(color='w', linewidth=2)\n",
    "# fig6_ax1.set_xticks(np.arange(0, image_size, 1))\n",
    "# fig6_ax1.set_yticks(np.arange(0, image_size, 1))\n",
    "pos = fig6_ax1.imshow(data[:,6,:], cmap='jet', vmin=0, vmax=300000, origin='upper')\n",
    "divider = make_axes_locatable(fig6_ax1)\n",
    "cax = divider.append_axes(\"right\", size=\"5%\", pad=0.05)\n",
    "ticks = np.array([0, 0.2, 0.4, 0.6, 0.8, 1.0, 1.2, 1.4])\n",
    "cbar = fig6.colorbar(pos, cax=cax, ticks=ticks)\n",
    "cbar.ax.tick_params(labelsize=14) \n",
    "cbar.ax.set_title('intensity', size='14')\n",
    "\n",
    "\n",
    "\n",
    "# plt.imshow(data[:,0,:])\n",
    "# plt.xlabel('position')\n",
    "# plt.ylabel('angle')\n",
    "# plt.show()\n",
    "print(data[:,6,:])"
   ]
  },
  {
   "cell_type": "code",
   "execution_count": 187,
   "metadata": {},
   "outputs": [
    {
     "data": {
      "image/png": "[encoded data removed]",
      "text/plain": [
       "<Figure size 432x288 with 1 Axes>"
      ]
     },
     "metadata": {
      "needs_background": "light"
     },
     "output_type": "display_data"
    }
   ],
   "source": [
    "plt.imshow(tc.transpose(data[:,4,:], 0,1)) # Third angle:\n",
    "plt.xlabel('angle')\n",
    "plt.ylabel('position')\n",
    "plt.show()"
   ]
  },
  {
   "cell_type": "code",
   "execution_count": 188,
   "metadata": {},
   "outputs": [
    {
     "data": {
      "image/png": "[encoded data removed]",
      "text/plain": [
       "<Figure size 432x288 with 1 Axes>"
      ]
     },
     "metadata": {
      "needs_background": "light"
     },
     "output_type": "display_data"
    },
    {
     "name": "stdout",
     "output_type": "stream",
     "text": [
      "tensor([[0.0000e+00, 6.6401e-22, 2.0488e-11, 1.0038e+00, 0.0000e+00],\n",
      "        [0.0000e+00, 3.7763e-15, 6.2695e-07, 1.6366e+02, 0.0000e+00],\n",
      "        [0.0000e+00, 1.6163e+00, 3.6627e+01, 1.1293e+03, 0.0000e+00],\n",
      "        [0.0000e+00, 0.0000e+00, 2.2421e-44, 1.0450e-01, 0.0000e+00],\n",
      "        [0.0000e+00, 0.0000e+00, 2.3386e+04, 0.0000e+00, 0.0000e+00],\n",
      "        [0.0000e+00, 0.0000e+00, 6.2835e-27, 0.0000e+00, 0.0000e+00],\n",
      "        [0.0000e+00, 0.0000e+00, 8.0186e+04, 9.5003e+04, 0.0000e+00],\n",
      "        [0.0000e+00, 0.0000e+00, 2.6377e-15, 2.0693e+03, 0.0000e+00]])\n"
     ]
    }
   ],
   "source": [
    "plt.imshow(data[0,:,:]) # [angle, position, line_idx]\n",
    "plt.xlabel('position')\n",
    "plt.ylabel('angle')\n",
    "plt.show()\n",
    "print(data[1,:,:])"
   ]
  },
  {
   "cell_type": "markdown",
   "metadata": {},
   "source": [
    "# Test how reshape works:"
   ]
  },
  {
   "cell_type": "code",
   "execution_count": 189,
   "metadata": {},
   "outputs": [],
   "source": [
    "# xraylib uses keV\n",
    "fl_K = np.array([xlib.KA1_LINE, xlib.KA2_LINE, xlib.KA3_LINE, xlib.KB1_LINE, xlib.KB2_LINE,\n",
    "                 xlib.KB3_LINE, xlib.KB4_LINE, xlib.KB5_LINE])\n",
    "\n",
    "fl_L = np.array([xlib.LA1_LINE, xlib.LA2_LINE, xlib.LB1_LINE, xlib.LB2_LINE, xlib.LB3_LINE,\n",
    "                 xlib.LB4_LINE, xlib.LB5_LINE, xlib.LB6_LINE, xlib.LB7_LINE, xlib.LB9_LINE,\n",
    "                 xlib.LB10_LINE, xlib.LB15_LINE, xlib.LB17_LINE])\n",
    "\n",
    "fl_M = np.array([xlib.MA1_LINE, xlib.MA2_LINE, xlib.MB_LINE])\n",
    "\n",
    "fl_K_str = [\"Ka1\", \"Ka2\", \"Ka3\", \"Kb1\", \"Kb2\", \"Kb3\", \"Kb4\", \"Kb5\"]\n",
    "fl_L_str = [\"La1\", \"La2\", \"Lb1\", \"Lb2\", \"Lb3\", \"Lb4\",\"Lb5\", \"Lb6\",\n",
    "             \"Lb7\", \"Lb9\", \"Lb10\", \"Lb15\", \"Lb17\"]\n",
    "fl_Ma_str = [\"Ma1\", \"Ma2\", \"Mb\"]\n",
    "\n",
    "fl_line_groups = np.array([\"K\", \"L\", \"M\"])"
   ]
  },
  {
   "cell_type": "code",
   "execution_count": 190,
   "metadata": {},
   "outputs": [],
   "source": [
    "def MakeFLlinesDictionary(this_aN_dic, probe_energy,\n",
    "                          sample_size_n, sample_size_cm,\n",
    "                          fl_line_groups = np.array([\"K\", \"L\", \"M\"]), fl_K = fl_K, fl_L = fl_L, fl_M = fl_M,\n",
    "                          group_lines = True):\n",
    "    \"\"\"   \n",
    "    Parameters\n",
    "    ----------\n",
    "    this_aN_dic: dictionary\n",
    "        a dictionary of items with key = element symbol (string), and value = atomic number\n",
    "        e.g. this_aN_dic = {\"C\":6, \"O\": 8}\n",
    "\n",
    "    probe_energy : ndarray\n",
    "        This array is an array with only 1 element. The element is the keV energy of the incident beam.\n",
    "\n",
    "    sample_size_n: int scalar\n",
    "        sample size in number of pixles on one side, assuing a square sample of N x N pixels\n",
    "\n",
    "    sample_size_cm: scalar\n",
    "        sample size in cm\n",
    "\n",
    "    fl_line_groups : ndarray, optional\n",
    "        DESCRIPTION. The default is np.array([\"K\", \"L\", \"M\"]).\n",
    "\n",
    "    fl_K : ndarray, optional\n",
    "        The default is fl_K, an array of sub-lines of K line with the required format by xraylib.\n",
    "\n",
    "    fl_L : ndarray, optional\n",
    "        The default is fl_L, an array of sub-lines of L line with the required format by xraylib.\n",
    "\n",
    "    fl_M : ndarray, optional\n",
    "        The default is fl_M, an array of sub-lines of M line with the required format by xraylib.\n",
    "\n",
    "    group_lines : boolean, optional\n",
    "        Whether treating all K (or L, M) sub-lines as a single line. The default is True.\n",
    "\n",
    "    Returns\n",
    "    -------\n",
    "    FL_all_elements_dic : dictionary\n",
    "        The dictionary has 3 items. \n",
    "        1st item \n",
    "        key: \"(element_name, Line)\"\n",
    "        value: an ndarray of ndarrays of 2 elements(type: string), [element symbol, line group]\n",
    "        e.g. [['C', 'K'], ['O', 'K'], ['Si', 'K'], ['Si', 'L']]\n",
    "\n",
    "        2nd item\n",
    "        key: \"fl_energy\"\n",
    "        value: float, Fluorescence energy in keV for each line of all element\n",
    "\n",
    "        3rd item: \"detected_fl_unit_concentration\"\n",
    "        key: fluorescence yield assuming a unit concentration [1 g/cm^3 ]\n",
    "    \"\"\"\n",
    "\n",
    "    element_ls = np.array(list(this_aN_dic.keys()))\n",
    "    aN_ls = np.array(list(this_aN_dic.values()))\n",
    "\n",
    "    n_line_group = len(fl_line_groups)\n",
    "    FL_all_elements_dic = {\"element_Line\": [], \"fl_energy\": np.array([]), \"detected_fl_unit_concentration\": np.array([])}\n",
    "    voxel_size = sample_size_cm/sample_size_n   \n",
    "\n",
    "    fl_cs_K = xlib_np.CS_FluorLine_Kissel_Cascade(aN_ls, fl_K, probe_energy)\n",
    "    fl_cs_L = xlib_np.CS_FluorLine_Kissel_Cascade(aN_ls, fl_L, probe_energy)\n",
    "    fl_cs_M = xlib_np.CS_FluorLine_Kissel_Cascade(aN_ls, fl_M, probe_energy)\n",
    "\n",
    "    # Remove the extra dimension with only 1 element\n",
    "    fl_cs_K = np.reshape(fl_cs_K, (fl_cs_K.shape[:-1]))\n",
    "    fl_cs_L = np.reshape(fl_cs_L, (fl_cs_L.shape[:-1]))\n",
    "    fl_cs_M = np.reshape(fl_cs_M, (fl_cs_M.shape[:-1]))\n",
    "\n",
    "    fl_energy_K = xlib_np.LineEnergy(aN_ls, fl_K)\n",
    "    fl_energy_L = xlib_np.LineEnergy(aN_ls, fl_L)\n",
    "    fl_energy_M = xlib_np.LineEnergy(aN_ls, fl_M)\n",
    "\n",
    "    FL_all_elements_dic = {\"(element_name, Line)\": [], \"fl_energy\": np.array([]), \"detected_fl_unit_concentration\": np.array([]),\n",
    "                           \"n_line_group_each_element\": np.array([]), \"n_lines\": None}\n",
    "    if group_lines == True:\n",
    "        fl_energy_group = np.zeros((len(element_ls),n_line_group))\n",
    "        fl_cs_group = np.zeros((len(element_ls),n_line_group))\n",
    "        for i, element_name in enumerate(element_ls): \n",
    "\n",
    "            if np.sum(fl_energy_K[i] != 0):\n",
    "                fl_energy_group[i,0] = np.average(fl_energy_K[i], weights=fl_cs_K[i]) \n",
    "                fl_cs_group[i,0] = np.sum(fl_cs_K[i])\n",
    "            else:\n",
    "                fl_energy_group[i,0] = 0\n",
    "                fl_cs_group[i,0] = 0\n",
    "\n",
    "            if np.sum(fl_energy_L[i] != 0):\n",
    "                fl_energy_group[i,1] = np.average(fl_energy_L[i], weights=fl_cs_L[i]) \n",
    "                fl_cs_group[i,1] = np.sum(fl_cs_L[i])\n",
    "            else:\n",
    "                fl_energy_group[i,1] = 0\n",
    "                fl_cs_group[i,1] = 0\n",
    "\n",
    "            if np.sum(fl_energy_M[i] != 0):\n",
    "                fl_energy_group[i,2] = np.average(fl_energy_M[i], weights=fl_cs_M[i]) \n",
    "                fl_cs_group[i,2] = np.sum(fl_cs_M[i])\n",
    "            else:\n",
    "                fl_energy_group[i,2] = 0\n",
    "                fl_cs_group[i,2] = 0\n",
    "\n",
    "            element_Line = fl_line_groups[fl_energy_group[i]!= 0]\n",
    "            element_Line = [[element_name, element_Line[j]] for j in range(len(element_Line))]\n",
    "            for k in range(len(element_Line)):\n",
    "                FL_all_elements_dic[\"(element_name, Line)\"].append(element_Line[k])     \n",
    "\n",
    "            Line_energy = fl_energy_group[i][fl_energy_group[i]!=0]\n",
    "            FL_all_elements_dic[\"fl_energy\"] = np.append(FL_all_elements_dic[\"fl_energy\"], Line_energy)\n",
    "            fl_unit_con = fl_cs_group[i][fl_energy_group[i]!=0] * voxel_size\n",
    "            FL_all_elements_dic[\"detected_fl_unit_concentration\"] = np.append(FL_all_elements_dic[\"detected_fl_unit_concentration\"], fl_unit_con)\n",
    "            FL_all_elements_dic[\"n_line_group_each_element\"] = np.append(FL_all_elements_dic[\"n_line_group_each_element\"], len(fl_unit_con))\n",
    "            \n",
    "        FL_all_elements_dic[\"(element_name, Line)\"] = np.array(FL_all_elements_dic[\"(element_name, Line)\"])\n",
    "    \n",
    "    FL_all_elements_dic[\"n_lines\"] = len(FL_all_elements_dic[\"(element_name, Line)\"])\n",
    "    return FL_all_elements_dic"
   ]
  },
  {
   "cell_type": "code",
   "execution_count": 192,
   "metadata": {},
   "outputs": [
    {
     "name": "stdout",
     "output_type": "stream",
     "text": [
      "{'(element_name, Line)': array([['C', 'K'],\n",
      "       ['O', 'K'],\n",
      "       ['Si', 'K'],\n",
      "       ['Si', 'L'],\n",
      "       ['Ca', 'K'],\n",
      "       ['Ca', 'L'],\n",
      "       ['Fe', 'K'],\n",
      "       ['Fe', 'L']], dtype='<U2'), 'fl_energy': array([0.2774    , 0.5249    , 1.74239384, 0.1456018 , 3.72645881,\n",
      "       0.33630868, 6.47749773, 0.70737803]), 'detected_fl_unit_concentration': array([5.65302415e-08, 4.60862847e-06, 3.81601191e-04, 3.53124102e-08,\n",
      "       3.84288195e-03, 3.26019702e-06, 1.58892888e-02, 3.46092364e-04]), 'n_line_group_each_element': array([1., 1., 2., 2., 2.]), 'n_lines': 8}\n",
      "tensor([-0.0000, -1.5708, -3.1416, -4.7124])\n"
     ]
    }
   ],
   "source": [
    "theta_st = 0\n",
    "theta_end = 2 * np.pi\n",
    "n_theta = 4\n",
    "theta_ls = - tc.linspace(theta_st, theta_end, n_theta+1)[:-1]\n",
    "this_theta_idx = 0\n",
    "sample_size_n = 5\n",
    "sample_height_n = 1\n",
    "sample_size_cm = 0.01\n",
    "this_aN_dic = {\"C\": 6, \"O\": 8, \"Si\": 14, \"Ca\": 20, \"Fe\": 26}\n",
    "probe_energy = np.array([20.0])\n",
    "probe_cts = 1.0E7\n",
    "n_det = 5\n",
    "det_size_cm = 0.24\n",
    "det_from_sample_cm = 1.6\n",
    "\n",
    "fl_line_groups = np.array([\"K\", \"L\", \"M\"])\n",
    "fl_K = fl_K\n",
    "fl_L = fl_L\n",
    "fl_M = fl_M\n",
    "group_lines = True\n",
    "\n",
    "fl_all_lines_dic = MakeFLlinesDictionary(this_aN_dic, probe_energy,\n",
    "                      sample_size_n, sample_size_cm,\n",
    "                      fl_line_groups, fl_K, fl_L, fl_M,\n",
    "                      group_lines)\n",
    "\n",
    "print(fl_all_lines_dic)\n",
    "print(theta_ls)"
   ]
  },
  {
   "cell_type": "code",
   "execution_count": 193,
   "metadata": {},
   "outputs": [],
   "source": [
    "def rotate(arr, theta):\n",
    "    m0 = tc.tensor([tc.cos(theta), -tc.sin(theta), 0.0], device=dev)\n",
    "    m1 = tc.tensor([tc.sin(theta), tc.cos(theta), 0], device=dev)\n",
    "    m = tc.stack([m0, m1]).view(1, 2, 3)\n",
    "    m = m.repeat([arr.shape[0], 1, 1])\n",
    "    \n",
    "    g = F.affine_grid(m, arr.shape)\n",
    "    q = F.grid_sample(arr, g, padding_mode='border')\n",
    "    \n",
    "    return q"
   ]
  },
  {
   "cell_type": "code",
   "execution_count": 194,
   "metadata": {},
   "outputs": [],
   "source": [
    "## define a line passing through the FL emitting from the center of the source voxel (x1, y1) in the 2D sample \n",
    "## and the detectorlet (xd, yd)\n",
    "def trace_beam_yint(x1, y1, xd, yd, sample_x_edge):\n",
    "    m = (yd - y1)/(xd - x1)\n",
    "    y_int = m * (sample_x_edge - x1) + y1\n",
    "    return m, y_int\n",
    "\n",
    "def trace_beam_xint(x1, y1, xd, yd, sample_y_edge):\n",
    "    if yd == y1:\n",
    "        m = 0\n",
    "        x_int = np.array([])\n",
    "    else:\n",
    "        m = (yd - y1)/(xd - x1)\n",
    "        x_int = (sample_y_edge - y1)/m + x1\n",
    "    return m, x_int\n",
    "\n",
    "\n",
    "## Calculate P (the intersecting length map): \n",
    "# 1. for each detectorlect (total n_det)\n",
    "# 2. for each voxel (total sample_size x sample_size)\n",
    "# 3. we have a 2D map of intersecting length (total sample_size x sample_size)\n",
    "\n",
    "### The dimension of P:\n",
    "# (n_det, sample_size * sample_size, sample_size * sample_size)\n",
    "def intersecting_length_fl_detectorlet(n_det, det_size_cm, det_from_sample_cm, sample_size_n, sample_size_cm):\n",
    "\n",
    "    voxel_size_cm = sample_size_cm/sample_size_n\n",
    "    det_size_n = np.ceil(det_size_cm/voxel_size_cm)\n",
    "\n",
    "    x1, y1 = np.indices((sample_size_n, sample_size_n))\n",
    "    det_axis_0_idx = sample_size_n + np.ceil(det_from_sample_cm/voxel_size_cm) + 0.5\n",
    "    det_axis_0_idx_ls = np.full(n_det, det_axis_0_idx)\n",
    "\n",
    "    ## y index of the location of the XRF detector\n",
    "    det_axis_1_idx_ls = np.linspace(np.ceil(sample_size_n/2 - det_size_n/2), \n",
    "                                      np.ceil(sample_size_n/2 + det_size_n/2), n_det) + 0.5\n",
    "\n",
    "\n",
    "    ## biding x-index and y-index array into [(x1,y1), (x2,y2), ..., (x_Ndet, y_Ndet)]\n",
    "    det_pos_ls = np.array(list(zip(det_axis_0_idx_ls, det_axis_1_idx_ls)))\n",
    "\n",
    "    ## define sample edges: \n",
    "    ## sample_x_edge is the edge that is closer to the XRF detector\n",
    "    ## sample_y_edge has two components representing the left and the right edge\n",
    "    sample_x_edge = sample_size_n\n",
    "    sample_y_edge = np.array([0, sample_size_n]) \n",
    "\n",
    "    ## define index position of center of the source voxel (x1, y1), note that it's shifted by 0.5 to represent the center\n",
    "    x1, y1 = x1 + 0.5, y1 + 0.5\n",
    "    voxel_pos_ls = np.dstack((x1, y1))\n",
    "\n",
    "    ## make voxel_pos_ls 1D array for looping: voxel_pos_ls_flat\n",
    "    voxel_pos_ls_flat =  np.reshape(voxel_pos_ls, (1, voxel_pos_ls.shape[0] * voxel_pos_ls.shape[1], 2))[0]\n",
    "\n",
    "    P = np.zeros((n_det, sample_size_n * sample_size_n, sample_size_n * sample_size_n))\n",
    "    for i, det_pos in enumerate(det_pos_ls):\n",
    "        for j, v in enumerate(voxel_pos_ls_flat):\n",
    "            # find x-value when the beam passes the sample WITHOUT intersecting the sample_y_edges(left & right), namely the beam is parallel with the y edge of the sample. \n",
    "            # find x-value when the beam passes through sample_y_edges(left & right), the one with larger x is the intersection with lower edge\n",
    "            if v[1] == det_pos[1]:\n",
    "                xint = sample_size_n\n",
    "            else:\n",
    "                xint = np.max(trace_beam_xint(v[0], v[1], det_pos[0], det_pos[1], sample_y_edge)[1])\n",
    "            xint_sample = np.clip(xint, 0, sample_size_n)\n",
    "\n",
    "            # find y-value when the beam passes through sample_x_edge(bottom)\n",
    "            m = trace_beam_yint(v[0], v[1], det_pos[0], det_pos[1], sample_x_edge)[0]\n",
    "            yint = trace_beam_yint(v[0], v[1], det_pos[0], det_pos[1], sample_x_edge)[1]\n",
    "            yint_sample = np.clip(yint, 0, sample_size_n)\n",
    "\n",
    "\n",
    "            # when the beam intersects with a voxel, it either intersects with the x boundary or y boundary of the voxel\n",
    "            # find the x,y-value of the boundary except the ones on the sample edge\n",
    "            if np.floor(xint_sample) != np.floor(v[0]):\n",
    "                x_edge_ls = np.linspace(np.ceil(xint_sample)-1, np.ceil(v[0]), int(np.abs(np.ceil(xint_sample) - np.ceil(v[0]))))\n",
    "            else: \n",
    "                x_edge_ls = np.array([])\n",
    "\n",
    "\n",
    "            if np.floor(yint_sample) != np.floor(v[1]):            \n",
    "                if m < 0:\n",
    "                    y_edge_ls = np.linspace(np.floor(yint_sample)+1, np.floor(v[1]), int(np.abs(np.floor(yint_sample)+1 - np.floor(v[1]))) + 1)            \n",
    "\n",
    "                if m > 0:\n",
    "                    y_edge_ls = np.linspace(np.ceil(yint_sample)-1, np.ceil(v[1]), int(np.abs(np.ceil(yint_sample) - np.ceil(v[1]))))\n",
    "            else:\n",
    "                y_edge_ls = np.array([])\n",
    "\n",
    "\n",
    "            # find all intersections (except the initial intersection): \n",
    "            # 1. find y-value of intersection given x_edge_ls\n",
    "            # 2. find x-value of intersection given y_edge_ls\n",
    "            y_int_x_edge_ls = trace_beam_yint(v[0], v[1], det_pos[0], det_pos[1], x_edge_ls)[1] #solve y intersections given x edge\n",
    "            x_int_y_edge_ls = trace_beam_xint(v[0], v[1], det_pos[0], det_pos[1], y_edge_ls)[1] #solve x intersections given y edge\n",
    "\n",
    "            # compile the x,y coordinates of the intersection: (x,y) = (x_edge_ls, y_int_x_edge_ls) and (x_int_y_edge_ls,y_edge_ls)\n",
    "            int_x_edge_ls = np.dstack((x_edge_ls,y_int_x_edge_ls))[0]\n",
    "            int_y_edge_ls = np.dstack((x_int_y_edge_ls,y_edge_ls))[0]\n",
    "\n",
    "            # sort them using the x coordinate\n",
    "            int_ls = np.concatenate((int_x_edge_ls, int_y_edge_ls))\n",
    "            int_ls = np.vstack((np.array([xint_sample, yint_sample]), int_ls))\n",
    "            int_ls = int_ls[np.argsort(int_ls[:,0])]\n",
    "\n",
    "            # calculate the intersecting length in the intersecting voxels\n",
    "            int_length = np.sqrt(np.diff(int_ls[:,0])**2 + np.diff(int_ls[:,1])**2) \n",
    "            # just in case that we count some intersections twice, delete the duplicates\n",
    "            idx_duplicate = np.array(np.where(int_length==0)).flatten()\n",
    "            int_ls = np.delete(int_ls, idx_duplicate, 0)\n",
    "            int_length = np.delete(int_length, idx_duplicate) \n",
    "\n",
    "            # determine the indices of the intersecting voxels according to the intersecting x,y-coordinates\n",
    "            int_ls_shift = np.zeros((int_ls.shape))\n",
    "            int_ls_shift[1:] = int_ls[:-1]\n",
    "            int_idx = np.floor((int_ls + int_ls_shift)/2)[1:]        \n",
    "            int_idx = (int_idx[:,0].astype('int'), int_idx[:,1].astype('int'))\n",
    "\n",
    "            # construct the int_length_map, and scale the intersecting length based on the voxel size\n",
    "            int_length_map = np.zeros((sample_size_n, sample_size_n))\n",
    "            int_length_map[int_idx] = int_length * voxel_size_cm  \n",
    "\n",
    "            P[i, j, :] = int_length_map.flatten().astype(np.float32)\n",
    "        \n",
    "            \n",
    "    return P   "
   ]
  },
  {
   "cell_type": "markdown",
   "metadata": {},
   "source": [
    "## Initial guess: randn noise around the true model"
   ]
  },
  {
   "cell_type": "code",
   "execution_count": 195,
   "metadata": {},
   "outputs": [],
   "source": [
    "class PPM(nn.Module):\n",
    "    \n",
    "    fl_line_groups=np.array([\"K\", \"L\", \"M\"]) \n",
    "    fl_K=fl_K\n",
    "    fl_L=fl_L\n",
    "    fl_M=fl_M\n",
    "    group_lines=True\n",
    "    \n",
    "    def __init__(self, grid_concentration, p, n_element, sample_height_n, minibatch_size, sample_size_n, \n",
    "                 this_aN_dic, probe_energy, probe_cts, sample_size_cm, fl_line_groups, fl_K, fl_L, fl_M, group_lines, \n",
    "                 theta_st, theta_end, n_theta, \n",
    "                 n_det, det_size_cm, det_from_sample_cm):\n",
    "        \"\"\"\n",
    "        Initialize the attributes of PPM. \n",
    "        \"\"\"\n",
    "        super(PPM, self).__init__() # inherit the __init__ from nn.Module.\n",
    "        self.grid_concentration = grid_concentration\n",
    "        self.n_element = n_element\n",
    "        self.sample_height_n = sample_height_n\n",
    "        self.minibatch_size = minibatch_size\n",
    "        self.sample_size_n = sample_size_n\n",
    "        self.p = p  # indicate which minibatch to calculate the gradient  \n",
    "        self.xp = self.init_xp() # initialize the values of the minibatch\n",
    "        \n",
    "        self.probe_energy = probe_energy  \n",
    "        self.this_aN_dic = this_aN_dic\n",
    "        self.n_element = tc.as_tensor(len(self.this_aN_dic)).to(dev)\n",
    "        self.element_ls = np.array(list(this_aN_dic.keys()))\n",
    "        self.aN_ls = np.array(list(this_aN_dic.values()))\n",
    "        \n",
    "        self.probe_attCS_ls = tc.as_tensor(xlib_np.CS_Total(self.aN_ls, self.probe_energy).flatten()).to(dev)\n",
    "#         self.probe_attCS_dic = dict(zip(self.element_ls, self.probe_attCS_ls))\n",
    "        \n",
    "        self.sample_size_cm = sample_size_cm\n",
    "        self.fl_line_groups = fl_line_groups\n",
    "        self.fl_K = fl_K\n",
    "        self.fl_L = fl_L\n",
    "        self.fl_M = fl_M\n",
    "        self.group_lines = group_lines\n",
    "        self.fl_all_lines_dic = self.init_fl_all_lines_dic()\n",
    "        self.n_lines = tc.as_tensor(self.fl_all_lines_dic[\"n_lines\"]).to(dev)\n",
    "        self.FL_line_attCS_ls = tc.as_tensor(xlib_np.CS_Total(self.aN_ls, self.fl_all_lines_dic[\"fl_energy\"])).to(dev)\n",
    "        self.detected_fl_unit_concentration = tc.as_tensor(self.fl_all_lines_dic[\"detected_fl_unit_concentration\"]).float().to(dev)\n",
    "        self.n_line_group_each_element = tc.IntTensor(self.fl_all_lines_dic[\"n_line_group_each_element\"]).to(dev)\n",
    "        \n",
    "        self.theta_ls = - tc.linspace(theta_st, theta_end, n_theta+1)[:-1]\n",
    "        \n",
    "        self.n_det = n_det\n",
    "        self.det_size_cm = det_size_cm\n",
    "        self.det_from_sample_cm = det_from_sample_cm\n",
    "        self.P = tc.as_tensor(self.init_intersecting_length_fl_detectorlet()).to(dev)\n",
    "        \n",
    "        self.probe_cts = probe_cts\n",
    "        self.probe_before_attenuation_flat = self.init_probe()\n",
    "\n",
    "        \n",
    "    def init_xp(self):\n",
    "        \"\"\"\n",
    "        Initialize self.x with the tensor of the true model(noise may already be added) (n_element, n_z, minibatch_size (n_x is minibatched), n_y)\n",
    "        \"\"\"\n",
    "#         return nn.Parameter(tc.zeros(self.n_element, self.sample_height_n, self.minibatch_size, self.sample_size_n) + 0.5)\n",
    "        return nn.Parameter(self.grid_concentration[:, :, self.minibatch_size * self.p:self.minibatch_size*(self.p+1),:])\n",
    "\n",
    "    def init_fl_all_lines_dic(self):\n",
    "        \"\"\"\n",
    "        Initialize self.fl_all_lines_dic\n",
    "        \"\"\"\n",
    "        fl_all_lines_dic = MakeFLlinesDictionary(self.this_aN_dic, self.probe_energy,\n",
    "                      self.sample_size_n.cpu().numpy(), self.sample_size_cm.cpu().numpy(),\n",
    "                      self.fl_line_groups, self.fl_K, self.fl_L, self.fl_M,\n",
    "                      self.group_lines)\n",
    "        return fl_all_lines_dic\n",
    "    \n",
    "    def init_intersecting_length_fl_detectorlet(self):\n",
    "        \"\"\"\n",
    "        Initialize self.intersecting_length_fl_detectorlet\n",
    "        \"\"\"\n",
    "        \n",
    "        P = intersecting_length_fl_detectorlet(self.n_det.cpu().numpy(), self.det_size_cm, self.det_from_sample_cm, self.sample_size_n.cpu().numpy(), self.sample_size_cm.cpu().numpy())\n",
    "        return P\n",
    "    \n",
    "    def init_probe(self):\n",
    "        return self.probe_cts * tc.ones((self.sample_height_n * self.sample_size_n * self.sample_size_n), device=dev)\n",
    "    \n",
    "    def forward(self, grid_concentration, this_theta_idx):  # convert X to y_hat; dimension changes from (5, 30, 30) to (30, 8)\n",
    "        start_time = time.time()\n",
    "        \"\"\"\n",
    "        Forward propagation.\n",
    "        \"\"\"      \n",
    "        \n",
    "        ### 1: Calculate the map of attenuation and transmission ###\n",
    "        grid_concentration[:, :, minibatch_size * self.p:minibatch_size * (self.p+1), :] = self.xp\n",
    "        theta = self.theta_ls[this_theta_idx]\n",
    "\n",
    "        att_exponent_acc_map = tc.zeros((self.sample_height_n, self.sample_size_n, self.sample_size_n+1), device=dev)\n",
    "        concentration_map_rot = rotate(grid_concentration, theta)\n",
    "        for j in range(self.n_element):\n",
    "            lac_single = concentration_map_rot[j] * self.probe_attCS_ls[j]\n",
    "            lac_acc = tc.cumsum(lac_single, axis=2)            \n",
    "            lac_acc = tc.cat((tc.zeros((self.sample_height_n, self.sample_size_n, 1), device=dev), lac_acc), dim = 2)\n",
    "            att_exponent_acc = lac_acc * (self.sample_size_cm / self.sample_size_n)    \n",
    "            att_exponent_acc_map += att_exponent_acc\n",
    "        attenuation_map_theta_flat = tc.exp(-(att_exponent_acc_map[:,:,:-1])).view(self.sample_height_n * self.sample_size_n * self.sample_size_n)\n",
    "        transmission_theta = tc.exp(-att_exponent_acc_map[:,:,-1]).view(self.sample_height_n * self.sample_size_n)\n",
    "\n",
    "        fl_map_tot_flat_theta = tc.zeros((self.n_lines, self.sample_height_n * self.sample_size_n * self.sample_size_n), device=dev)\n",
    "        concentration_map_rot_flat = concentration_map_rot.view(self.n_element, self.sample_height_n * self.sample_size_n * self.sample_size_n)\n",
    "        \n",
    "        line_idx = 0\n",
    "        for j in range(self.n_element):\n",
    "            fl_unit = self.detected_fl_unit_concentration[line_idx:line_idx + self.n_line_group_each_element[j]]\n",
    "            \n",
    "            ## FL signal over the current elemental lines for each voxel\n",
    "            fl_map = [concentration_map_rot_flat[j] * fl_unit_single_line for fl_unit_single_line in fl_unit]\n",
    "            fl_map = tc.stack(fl_map)   \n",
    "            \n",
    "            fl_map_tot_flat_theta[line_idx:line_idx + self.n_line_group_each_element[j],:] = fl_map            \n",
    "            line_idx = line_idx + len(fl_unit)\n",
    "            \n",
    "        ### 3: Calculate SA (the map of attenuation ratio due to self-absorption of the FL signal):\n",
    "        # 1. for each FL emitting source voxel (sample_size x sample_size),\n",
    "        # 2. we have an attenuation ratio when the photon for each elemental line reaches the edge of the sample (due to self absorption) (n_elemental_line)\n",
    "\n",
    "\n",
    "        #### The dimension of SA:\n",
    "        # (n_lines, sample_height_n * sample_size_n * sample_size_n)\n",
    "        # generate an arrary of total attenuation cross section with the dimension: (n_element, n_elemental_lines)\n",
    "        # The component in the array represents the total attenuation cross section at some line energy in some element (with unitary concentration)\n",
    "\n",
    "        # The P matrix (intersecting length of the FL beam path with each voxel) was initialized. \n",
    "        # The dimension of P: (n_det, sample_height_n * sample_size_n * sample_size_n, sample_height_n * sample_size_n * sample_size_n)\n",
    "        SA_theta = tc.zeros((self.n_lines, self.sample_height_n * self.sample_size_n * self.sample_size_n), device=dev)\n",
    "        for j in range(self.sample_height_n * self.sample_size_n * self.sample_size_n):       \n",
    "            att_exponent_elemental_sum_temp = tc.zeros((self.n_element, self.n_det, self.n_lines), device=dev)\n",
    "            for k in range(self.n_element):\n",
    "                \n",
    "                ## llinear attenuation coefficient for each fl-line at each voxel: (self.n_lines, sample_size * sample_size)\n",
    "                lac = tc.stack([FL_line_attCS * concentration_map_rot_flat[k] for FL_line_attCS in self.FL_line_attCS_ls[k]], dim=1)\n",
    "\n",
    "                ## att_exponent = [(intersecting_length_path1 * lac), (intersecting_length_path2 * lac), ..., (intersecting_length_path5 * lac)]:\n",
    "                ## att_exponent (for each fl-line, at each_voxel, for each beam path): (self.n_det, sample_size * sample_size, self.n_lines)\n",
    "                att_exponent = tc.stack([tc.unsqueeze(self.P[m,j,:], dim=1) * lac for m in range(self.n_det)])\n",
    "\n",
    "\n",
    "                ## att_exponent summing over voxels (for each line, for each beam path): (self.n_det, n_elemental_line)\n",
    "                att_exponent_voxel_sum = tc.sum(att_exponent, axis=1)\n",
    "\n",
    "                ## filling att_exponent_voxel_sum to att_exponent_elemental_sum for each element\n",
    "                att_exponent_elemental_sum_temp[k, :, :] = att_exponent_voxel_sum\n",
    "\n",
    "            ## summing over the attenation exponent contributed by each element\n",
    "            att_exponent_elemental_sum =  tc.sum(att_exponent_elemental_sum_temp, axis=0)  \n",
    "\n",
    "            ## calculate the attenuation caused by all elements\n",
    "            att = tc.exp(- att_exponent_elemental_sum)\n",
    "\n",
    "            ## calculate the attenuation averaged all paths\n",
    "            att_path_ave = tc.mean(att, axis=0)\n",
    "            SA_theta[:,j] = att_path_ave\n",
    "              \n",
    "        #### Create XRF data ####\n",
    "        probe_after_attenuation_theta = self.probe_before_attenuation_flat * attenuation_map_theta_flat  \n",
    "\n",
    "        fl_signal_wo_SA_theta = tc.unsqueeze(probe_after_attenuation_theta, dim=0) * fl_map_tot_flat_theta\n",
    "        fl_signal_SA_theta = fl_signal_wo_SA_theta * SA_theta\n",
    "\n",
    "\n",
    "        fl_signal_SA_theta = fl_signal_SA_theta.view(-1, self.sample_height_n * self.sample_size_n, self.sample_size_n)\n",
    "        fl_signal_SA_theta = tc.sum(fl_signal_SA_theta, axis=2)\n",
    "        output = fl_signal_SA_theta\n",
    "#         print(\"running_time = %.3f\" %(time.time() - start_time))\n",
    "        return output"
   ]
  },
  {
   "cell_type": "markdown",
   "metadata": {},
   "source": [
    "# Inherit nn.Module to make our own model:"
   ]
  },
  {
   "cell_type": "code",
   "execution_count": 196,
   "metadata": {},
   "outputs": [],
   "source": [
    "theta_st = tc.tensor(0).to(dev)\n",
    "theta_end = tc.tensor(2 * np.pi).to(dev)\n",
    "n_theta =  tc.tensor(4).to(dev)\n",
    "theta_ls = - tc.linspace(theta_st, theta_end, n_theta+1)[:-1].to(dev)\n",
    "this_theta_idx = tc.tensor(0).to(dev)\n",
    "sample_size_n = tc.tensor(5).to(dev)\n",
    "sample_height_n = tc.tensor(1).to(dev)\n",
    "sample_size_cm = tc.tensor(0.01).to(dev)\n",
    "this_aN_dic = {\"C\": 6, \"O\": 8, \"Si\": 14, \"Ca\": 20, \"Fe\": 26}\n",
    "probe_energy = np.array([20.0])\n",
    "probe_cts = tc.tensor(1.0E7).to(dev)\n",
    "n_det = tc.tensor(5).to(dev)\n",
    "det_size_cm = 0.24\n",
    "det_from_sample_cm = 1.6\n",
    "\n",
    "fl_line_groups = np.array([\"K\", \"L\", \"M\"])\n",
    "fl_K = fl_K\n",
    "fl_L = fl_L\n",
    "fl_M = fl_M\n",
    "group_lines = True\n",
    "\n",
    "element_ls = np.array(list(this_aN_dic.keys()))"
   ]
  },
  {
   "cell_type": "markdown",
   "metadata": {},
   "source": [
    "### Construct the initial guess of the model from the true model plus noise"
   ]
  },
  {
   "cell_type": "code",
   "execution_count": 197,
   "metadata": {},
   "outputs": [
    {
     "name": "stdout",
     "output_type": "stream",
     "text": [
      "(5, 1, 5, 5)\n"
     ]
    }
   ],
   "source": [
    "X = np.load(os.path.join('./data/sample3_pad', 'grid_concentration.npy')).astype(np.float32)  # The shape of X(2d) is initally (5,5,5) = (n_element, n_x, n_y)\n",
    "X = X[:,np.newaxis,:,:]  # Create a new dimension for n_z; n_z = 1 for a 2d object\n",
    "X = X + 0.1 * np.random.rand(X.shape[0], X.shape[1], X.shape[2], X.shape[3])\n",
    "X = np.clip(X, 0, 10)\n",
    "print(X.shape)\n",
    "# print(X)\n",
    "\n",
    "# save the initial guess to the folder that saves the results of reconstruction\n",
    "recon_path = 'data/sample3_recon'\n",
    "if not os.path.exists(recon_path):\n",
    "    os.mkdir(recon_path)\n",
    "np.save(os.path.join(recon_path, 'sample3_recon.npy'), X)\n",
    "\n",
    "X = np.array(X).astype(np.float32)\n",
    "X = tc.from_numpy(X).float().to(dev) "
   ]
  },
  {
   "cell_type": "markdown",
   "metadata": {},
   "source": [
    "### Check if the instance of the forward model will be properly created ###"
   ]
  },
  {
   "cell_type": "markdown",
   "metadata": {},
   "source": [
    "### Create the instance of the forward model ###"
   ]
  },
  {
   "cell_type": "code",
   "execution_count": 198,
   "metadata": {},
   "outputs": [
    {
     "name": "stdout",
     "output_type": "stream",
     "text": [
      "torch.Size([4, 8, 5])\n"
     ]
    },
    {
     "name": "stderr",
     "output_type": "stream",
     "text": [
      "/home/hpphappy/anaconda3/envs/joint_XRF_XRT/lib/python3.7/site-packages/ipykernel_launcher.py:10: UserWarning: To copy construct from a tensor, it is recommended to use sourceTensor.clone().detach() or sourceTensor.clone().detach().requires_grad_(True), rather than torch.tensor(sourceTensor).\n",
      "  # Remove the CWD from sys.path while we load stuff.\n"
     ]
    }
   ],
   "source": [
    "# y_true = tc.randn(n_theta, 8, 10)\n",
    "y_true = data.to(dev)\n",
    "print(y_true.shape)\n",
    "# print(y_true)\n",
    "\n",
    "n_element = tc.tensor(len(this_aN_dic)).to(dev)\n",
    "\n",
    "n_minibatch = tc.tensor(1).to(dev)\n",
    "\n",
    "minibatch_size = tc.tensor(X.shape[2]//n_minibatch).to(dev)\n",
    "\n",
    "model = [PPM(X, m, n_element, sample_height_n, minibatch_size, sample_size_n, this_aN_dic, probe_energy, probe_cts,\n",
    "             sample_size_cm, fl_line_groups, fl_K, fl_L, fl_M, group_lines, theta_st, theta_end, n_theta,\n",
    "             n_det, det_size_cm, det_from_sample_cm).to(dev) for m in range(n_minibatch)]\n",
    "\n",
    "loss_fn = nn.MSELoss()\n",
    "optimizer = [tc.optim.Adam(model[m].parameters(), lr=0.01) for m in range(n_minibatch)]\n",
    "X_true = tc.from_numpy(np.load(os.path.join('./data/sample3_pad', 'grid_concentration.npy')).astype(np.float32))"
   ]
  },
  {
   "cell_type": "code",
   "execution_count": 199,
   "metadata": {},
   "outputs": [],
   "source": [
    "n_epoch = tc.tensor(10).to(dev)"
   ]
  },
  {
   "cell_type": "code",
   "execution_count": 200,
   "metadata": {},
   "outputs": [
    {
     "name": "stderr",
     "output_type": "stream",
     "text": [
      "  0%|          | 0/10 [00:00<?, ?it/s]/home/hpphappy/anaconda3/envs/joint_XRF_XRT/lib/python3.7/site-packages/torch/nn/functional.py:3447: UserWarning: Default grid_sample and affine_grid behavior has changed to align_corners=False since 1.3.0. Please specify align_corners=True if the old behavior is desired. See the documentation of grid_sample for details.\n",
      "  warnings.warn(\"Default grid_sample and affine_grid behavior has changed \"\n",
      "/home/hpphappy/anaconda3/envs/joint_XRF_XRT/lib/python3.7/site-packages/torch/nn/functional.py:3384: UserWarning: Default grid_sample and affine_grid behavior has changed to align_corners=False since 1.3.0. Please specify align_corners=True if the old behavior is desired. See the documentation of grid_sample for details.\n",
      "  warnings.warn(\"Default grid_sample and affine_grid behavior has changed \"\n",
      "100%|██████████| 10/10 [00:07<00:00,  1.34it/s]\n"
     ]
    },
    {
     "data": {
      "image/png": "[encoded data removed]",
      "text/plain": [
       "<Figure size 432x288 with 1 Axes>"
      ]
     },
     "metadata": {
      "needs_background": "light"
     },
     "output_type": "display_data"
    }
   ],
   "source": [
    "loss_xp_ls = tc.zeros(n_minibatch)\n",
    "loss_theta_ls = tc.zeros(len(theta_ls))\n",
    "loss_epoch = tc.zeros(n_epoch)\n",
    "mse_epoch = tc.zeros(n_epoch)\n",
    "\n",
    "\n",
    "\n",
    "for epoch in tqdm(range(n_epoch)):\n",
    "    for this_theta_idx in range(len(theta_ls)):\n",
    "#         print(\"this_theta_idx = %d\" %(this_theta_idx))\n",
    "        for m in range(n_minibatch):        \n",
    "            X = np.load(os.path.join(recon_path, 'sample3_recon.npy')).astype(np.float32)\n",
    "            X = tc.from_numpy(X).to(dev)\n",
    "#             print(X)\n",
    "            y_hat = model[m](X, this_theta_idx)\n",
    "            \n",
    "#             print(\"y_hat = \")\n",
    "#             print(y_hat)\n",
    "            \n",
    "#             print(\"y_true[this_theta_idx] = \")\n",
    "#             print(y_true[this_theta_idx])\n",
    "            \n",
    "            loss = loss_fn(y_hat, y_true[this_theta_idx])\n",
    "            loss_xp_ls[m] = loss\n",
    "            optimizer[m].zero_grad()\n",
    "            loss.backward()\n",
    "            optimizer[m].step()\n",
    "            \n",
    "            \n",
    "            X[:, :, minibatch_size*m:minibatch_size*(m+1),:] = model[m].xp\n",
    "            X[:, :, minibatch_size*m:minibatch_size*(m+1),:] = X[:, :, minibatch_size*m:minibatch_size*(m+1),:].clamp(0,10)\n",
    "            X = tc.tensor(X.detach().cpu().numpy())\n",
    "            np.save(os.path.join(recon_path, 'sample3_recon.npy'), X)\n",
    "\n",
    "        loss_theta_ls[this_theta_idx] = tc.sum(loss_xp_ls)\n",
    "    loss_epoch[epoch] = tc.mean(loss_theta_ls)\n",
    "    mse_epoch[epoch] = tc.mean(tc.square(X - X_true))\n",
    "#     print(loss_epoch[epoch])\n",
    "    tqdm._instances.clear()   \n",
    "\n",
    "plt.plot(loss_epoch.detach().numpy())\n",
    "plt.savefig(os.path.join(recon_path, 'loss_photon_count_epoch.pdf'))\n",
    "\n",
    "np.save(os.path.join(recon_path, 'loss_photon_count_epoch.npy'), loss_epoch.detach().numpy())  \n",
    "np.save(os.path.join(recon_path, 'mse_model.npy'), mse_epoch) \n",
    "\n",
    "with open(os.path.join(recon_path, 'recon_parameters.txt'), \"w\") as recon_paras:\n",
    "    recon_paras.writelines(\"%s\\n\" %element for element in element_ls)\n",
    "    recon_paras.write(\"n_minibatch = %d\" %n_minibatch)\n",
    "    recon_paras.write(\"theta_st = %.2f\\n\" %theta_st)\n",
    "    recon_paras.write(\"theta_end = %.2f\\n\" %theta_end)\n",
    "    recon_paras.write(\"n_theta = %d\\n\" %n_theta)\n",
    "    recon_paras.write(\"sample_size_n = %d\\n\" %sample_size_n)\n",
    "    recon_paras.write(\"sample_height_n = %d\\n\" %sample_height_n)\n",
    "    recon_paras.write(\"sample_size_cm = %.2f\\n\" %sample_size_cm)\n",
    "    recon_paras.write(\"probe_energy = %.2f\\n\" %probe_energy[0])\n",
    "    recon_paras.write(\"probe_cts = %.2e\\n\" %probe_cts)\n",
    "    recon_paras.write(\"n_det = %d\\n\" %n_det)\n",
    "    recon_paras.write(\"det_size_cm = %.2f\\n\" %det_size_cm)\n",
    "    recon_paras.write(\"det_from_sample_cm = %.2f\\n\" %det_from_sample_cm)\n",
    "\n",
    "         \n",
    "    \n",
    "# Check whether model.parameters() is model.x\n",
    "#     print('Is model.parameters()= model.x?', list(model.parameters())[0] is model.x, '\\n') # or print(list(model.parameters())[0] == model.x)\n",
    "#     print('Print model.x', model.x, '\\n')\n",
    "#     print('Loss for angle {}: {}'.format(i, loss.item()) )"
   ]
  },
  {
   "cell_type": "code",
   "execution_count": 201,
   "metadata": {},
   "outputs": [
    {
     "name": "stdout",
     "output_type": "stream",
     "text": [
      "torch.Size([5, 1, 5, 5])\n"
     ]
    },
    {
     "data": {
      "text/plain": [
       "Text(0.5, 1.0, 'intensity')"
      ]
     },
     "execution_count": 201,
     "metadata": {},
     "output_type": "execute_result"
    },
    {
     "data": {
      "image/png": "[encoded data removed]",
      "text/plain": [
       "<Figure size 1440x216 with 10 Axes>"
      ]
     },
     "metadata": {
      "needs_background": "light"
     },
     "output_type": "display_data"
    }
   ],
   "source": [
    "X = np.load(os.path.join(recon_path, 'sample3_recon.npy'))\n",
    "X = tc.tensor(X)\n",
    "print(X.shape)\n",
    "os.path.join(recon_path, 'sample3_recon.npy')\n",
    "\n",
    "image_size = 5\n",
    "fig6 = plt.figure(figsize=(20,3))\n",
    "gs6 = gridspec.GridSpec(nrows=1, ncols=5, width_ratios=[1,1,1,1,1])\n",
    "\n",
    "fig6_ax1 = fig6.add_subplot(gs6[0,0])\n",
    "fig6_ax1.set_xticks(np.arange(0, image_size, 1))\n",
    "fig6_ax1.set_yticks(np.arange(0, image_size, 1))\n",
    "# fig6_ax1.grid(color='w', linewidth=2)\n",
    "fig6_ax1.axis('off')\n",
    "pos = fig6_ax1.imshow(X[0,0], cmap='jet', vmin=0, vmax=1.4, extent=[0, 5, 5, 0], origin='upper')\n",
    "divider = make_axes_locatable(fig6_ax1)\n",
    "cax = divider.append_axes(\"right\", size=\"5%\", pad=0.05)\n",
    "ticks = np.array([0, 0.2, 0.4, 0.6, 0.8, 1.0, 1.2, 1.4])\n",
    "cbar = fig6.colorbar(pos, cax=cax, ticks=ticks)\n",
    "cbar.ax.tick_params(labelsize=14) \n",
    "cbar.ax.set_title('intensity', size='14')\n",
    "\n",
    "fig6_ax2 = fig6.add_subplot(gs6[0,1])\n",
    "fig6_ax2.set_xticks(np.arange(0, image_size, 1))\n",
    "fig6_ax2.set_yticks(np.arange(0, image_size, 1))\n",
    "# fig6_ax2.grid(color='w', linewidth=2)\n",
    "fig6_ax2.axis('off')\n",
    "pos = fig6_ax2.imshow(X[1,0], cmap='jet', vmin=0, vmax=1.4, extent=[0, 5, 5, 0], origin='upper')\n",
    "divider = make_axes_locatable(fig6_ax2)\n",
    "cax = divider.append_axes(\"right\", size=\"5%\", pad=0.05)\n",
    "ticks = np.array([0, 0.2, 0.4, 0.6, 0.8, 1.0, 1.2, 1.4])\n",
    "cbar = fig6.colorbar(pos, cax=cax, ticks=ticks)\n",
    "cbar.ax.tick_params(labelsize=14) \n",
    "cbar.ax.set_title('intensity', size='14')\n",
    "\n",
    "fig6_ax3 = fig6.add_subplot(gs6[0,2])\n",
    "fig6_ax3.set_xticks(np.arange(0, image_size, 1))\n",
    "fig6_ax3.set_yticks(np.arange(0, image_size, 1))\n",
    "# fig6_ax3.grid(color='w', linewidth=2)\n",
    "fig6_ax3.axis('off')\n",
    "pos = fig6_ax3.imshow(X[2,0], cmap='jet', vmin=0, vmax=1.4, extent=[0, 5, 5, 0], origin='upper')\n",
    "divider = make_axes_locatable(fig6_ax3)\n",
    "cax = divider.append_axes(\"right\", size=\"5%\", pad=0.05)\n",
    "ticks = np.array([0, 0.2, 0.4, 0.6, 0.8, 1.0, 1.2, 1.4])\n",
    "cbar = fig6.colorbar(pos, cax=cax, ticks=ticks)\n",
    "cbar.ax.tick_params(labelsize=14) \n",
    "cbar.ax.set_title('intensity', size='14')\n",
    "\n",
    "fig6_ax4 = fig6.add_subplot(gs6[0,3])\n",
    "fig6_ax4.set_xticks(np.arange(0, image_size, 1))\n",
    "fig6_ax4.set_yticks(np.arange(0, image_size, 1))\n",
    "# fig6_ax4.grid(color='w', linewidth=2)\n",
    "fig6_ax4.axis('off')\n",
    "pos = fig6_ax4.imshow(X[3,0], cmap='jet', vmin=0, vmax=1.4, extent=[0, 5, 5, 0], origin='upper')\n",
    "divider = make_axes_locatable(fig6_ax4)\n",
    "cax = divider.append_axes(\"right\", size=\"5%\", pad=0.05)\n",
    "ticks = np.array([0, 0.2, 0.4, 0.6, 0.8, 1.0, 1.2, 1.4])\n",
    "cbar = fig6.colorbar(pos, cax=cax, ticks=ticks)\n",
    "cbar.ax.tick_params(labelsize=14) \n",
    "cbar.ax.set_title('intensity', size='14')\n",
    "\n",
    "fig6_ax5 = fig6.add_subplot(gs6[0,4])\n",
    "fig6_ax5.set_xticks(np.arange(0, image_size, 1))\n",
    "fig6_ax5.set_yticks(np.arange(0, image_size, 1))\n",
    "# fig6_ax5.grid(color='w', linewidth=2)\n",
    "# fig6_ax5.axis('off')\n",
    "pos = fig6_ax5.imshow(X[4,0], cmap='jet', vmin=0, vmax=1.4, extent=[0, 5, 5, 0], origin='upper')\n",
    "divider = make_axes_locatable(fig6_ax5)\n",
    "cax = divider.append_axes(\"right\", size=\"5%\", pad=0.05)\n",
    "ticks = np.array([0, 0.2, 0.4, 0.6, 0.8, 1.0, 1.2, 1.4])\n",
    "cbar = fig6.colorbar(pos, cax=cax, ticks=ticks)\n",
    "cbar.ax.tick_params(labelsize=14) \n",
    "cbar.ax.set_title('intensity', size='14')"
   ]
  },
  {
   "cell_type": "code",
   "execution_count": 202,
   "metadata": {},
   "outputs": [
    {
     "data": {
      "text/plain": [
       "Text(0.5, 1.0, 'intensity')"
      ]
     },
     "execution_count": 202,
     "metadata": {},
     "output_type": "execute_result"
    },
    {
     "data": {
      "image/png": "[encoded data removed]",
      "text/plain": [
       "<Figure size 1440x216 with 10 Axes>"
      ]
     },
     "metadata": {
      "needs_background": "light"
     },
     "output_type": "display_data"
    }
   ],
   "source": [
    "## Plot true models\n",
    "\n",
    "X_true = np.load('./data/sample3_pad/grid_concentration.npy')\n",
    "\n",
    "fig6 = plt.figure(figsize=(20,3))\n",
    "gs6 = gridspec.GridSpec(nrows=1, ncols=5, width_ratios=[1,1,1,1,1])\n",
    "\n",
    "fig6_ax1 = fig6.add_subplot(gs6[0,0])\n",
    "fig6_ax1.set_xticks(np.arange(0, image_size, 1))\n",
    "fig6_ax1.set_yticks(np.arange(0, image_size, 1))\n",
    "# fig6_ax1.grid(color='w', linewidth=2)\n",
    "fig6_ax1.axis('off')\n",
    "pos = fig6_ax1.imshow(X_true[0], cmap='jet', vmin=0, vmax=1.4, extent=[0, 20, 20, 0], origin='upper')\n",
    "divider = make_axes_locatable(fig6_ax1)\n",
    "cax = divider.append_axes(\"right\", size=\"5%\", pad=0.05)\n",
    "ticks = np.array([0, 0.2, 0.4, 0.6, 0.8, 1.0, 1.2, 1.4])\n",
    "cbar = fig6.colorbar(pos, cax=cax, ticks=ticks)\n",
    "cbar.ax.tick_params(labelsize=14) \n",
    "cbar.ax.set_title('intensity', size='14')\n",
    "\n",
    "fig6_ax2 = fig6.add_subplot(gs6[0,1])\n",
    "fig6_ax2.set_xticks(np.arange(0, image_size, 1))\n",
    "fig6_ax2.set_yticks(np.arange(0, image_size, 1))\n",
    "# fig6_ax2.grid(color='w', linewidth=2)\n",
    "fig6_ax2.axis('off')\n",
    "pos = fig6_ax2.imshow(X_true[1], cmap='jet', vmin=0, vmax=1.4, extent=[0, 20, 20, 0], origin='upper')\n",
    "divider = make_axes_locatable(fig6_ax2)\n",
    "cax = divider.append_axes(\"right\", size=\"5%\", pad=0.05)\n",
    "ticks = np.array([0, 0.2, 0.4, 0.6, 0.8, 1.0, 1.2, 1.4])\n",
    "cbar = fig6.colorbar(pos, cax=cax, ticks=ticks)\n",
    "cbar.ax.tick_params(labelsize=14) \n",
    "cbar.ax.set_title('intensity', size='14')\n",
    "\n",
    "fig6_ax3 = fig6.add_subplot(gs6[0,2])\n",
    "fig6_ax3.set_xticks(np.arange(0, image_size, 1))\n",
    "fig6_ax3.set_yticks(np.arange(0, image_size, 1))\n",
    "# fig6_ax3.grid(color='w', linewidth=2)\n",
    "fig6_ax3.axis('off')\n",
    "pos = fig6_ax3.imshow(X_true[2], cmap='jet', vmin=0, vmax=1.4, extent=[0, 20, 20, 0], origin='upper')\n",
    "divider = make_axes_locatable(fig6_ax3)\n",
    "cax = divider.append_axes(\"right\", size=\"5%\", pad=0.05)\n",
    "ticks = np.array([0, 0.2, 0.4, 0.6, 0.8, 1.0, 1.2, 1.4])\n",
    "cbar = fig6.colorbar(pos, cax=cax, ticks=ticks)\n",
    "cbar.ax.tick_params(labelsize=14) \n",
    "cbar.ax.set_title('intensity', size='14')\n",
    "\n",
    "fig6_ax4 = fig6.add_subplot(gs6[0,3])\n",
    "fig6_ax4.set_xticks(np.arange(0, image_size, 1))\n",
    "fig6_ax4.set_yticks(np.arange(0, image_size, 1))\n",
    "# fig6_ax4.grid(color='w', linewidth=2)\n",
    "fig6_ax4.axis('off')\n",
    "pos = fig6_ax4.imshow(X_true[3], cmap='jet', vmin=0, vmax=1.4, extent=[0, 20, 20, 0], origin='upper')\n",
    "divider = make_axes_locatable(fig6_ax4)\n",
    "cax = divider.append_axes(\"right\", size=\"5%\", pad=0.05)\n",
    "ticks = np.array([0, 0.2, 0.4, 0.6, 0.8, 1.0, 1.2, 1.4])\n",
    "cbar = fig6.colorbar(pos, cax=cax, ticks=ticks)\n",
    "cbar.ax.tick_params(labelsize=14) \n",
    "cbar.ax.set_title('intensity', size='14')\n",
    "\n",
    "fig6_ax5 = fig6.add_subplot(gs6[0,4])\n",
    "fig6_ax5.set_xticks(np.arange(0, image_size, 1))\n",
    "fig6_ax5.set_yticks(np.arange(0, image_size, 1))\n",
    "# fig6_ax5.grid(color='w', linewidth=2)\n",
    "fig6_ax5.axis('off')\n",
    "pos = fig6_ax5.imshow(X_true[4], cmap='jet', vmin=0, vmax=1.4, extent=[0, 20, 20, 0], origin='upper')\n",
    "divider = make_axes_locatable(fig6_ax5)\n",
    "cax = divider.append_axes(\"right\", size=\"5%\", pad=0.05)\n",
    "ticks = np.array([0, 0.2, 0.4, 0.6, 0.8, 1.0, 1.2, 1.4])\n",
    "cbar = fig6.colorbar(pos, cax=cax, ticks=ticks)\n",
    "cbar.ax.tick_params(labelsize=14) \n",
    "cbar.ax.set_title('intensity', size='14')"
   ]
  },
  {
   "cell_type": "markdown",
   "metadata": {},
   "source": [
    "## Constant initial guess (0.5)"
   ]
  },
  {
   "cell_type": "code",
   "execution_count": 203,
   "metadata": {},
   "outputs": [],
   "source": [
    "class PPM(nn.Module):\n",
    "    \n",
    "    fl_line_groups=np.array([\"K\", \"L\", \"M\"]) \n",
    "    fl_K=fl_K\n",
    "    fl_L=fl_L\n",
    "    fl_M=fl_M\n",
    "    group_lines=True\n",
    "    \n",
    "    def __init__(self, grid_concentration, p, n_element, sample_height_n, minibatch_size, sample_size_n, \n",
    "                 this_aN_dic, probe_energy, probe_cts, sample_size_cm, fl_line_groups, fl_K, fl_L, fl_M, group_lines, \n",
    "                 theta_st, theta_end, n_theta, \n",
    "                 n_det, det_size_cm, det_from_sample_cm):\n",
    "        \"\"\"\n",
    "        Initialize the attributes of PPM. \n",
    "        \"\"\"\n",
    "        super(PPM, self).__init__() # inherit the __init__ from nn.Module.\n",
    "        self.grid_concentration = grid_concentration\n",
    "        self.n_element = n_element\n",
    "        self.sample_height_n = sample_height_n\n",
    "        self.minibatch_size = minibatch_size\n",
    "        self.sample_size_n = sample_size_n\n",
    "        self.p = p  # indicate which minibatch to calculate the gradient  \n",
    "        self.xp = self.init_xp() # initialize the values of the minibatch\n",
    "        \n",
    "        self.probe_energy = probe_energy  \n",
    "        self.this_aN_dic = this_aN_dic\n",
    "        self.n_element = tc.tensor(len(self.this_aN_dic)).to(dev)\n",
    "        self.element_ls = np.array(list(this_aN_dic.keys()))\n",
    "        self.aN_ls = np.array(list(this_aN_dic.values()))\n",
    "        \n",
    "        self.probe_attCS_ls = tc.tensor(xlib_np.CS_Total(self.aN_ls, self.probe_energy).flatten()).to(dev)\n",
    "#         self.probe_attCS_dic = dict(zip(self.element_ls, self.probe_attCS_ls))\n",
    "        \n",
    "        self.sample_size_cm = sample_size_cm\n",
    "        self.fl_line_groups = fl_line_groups\n",
    "        self.fl_K = fl_K\n",
    "        self.fl_L = fl_L\n",
    "        self.fl_M = fl_M\n",
    "        self.group_lines = group_lines\n",
    "        self.fl_all_lines_dic = self.init_fl_all_lines_dic()\n",
    "        self.n_lines = tc.tensor(self.fl_all_lines_dic[\"n_lines\"]).to(dev)\n",
    "        self.FL_line_attCS_ls = tc.tensor(xlib_np.CS_Total(self.aN_ls, self.fl_all_lines_dic[\"fl_energy\"])).to(dev)\n",
    "        self.detected_fl_unit_concentration = tc.tensor(self.fl_all_lines_dic[\"detected_fl_unit_concentration\"]).to(dev)\n",
    "        self.n_line_group_each_element = tc.IntTensor(self.fl_all_lines_dic[\"n_line_group_each_element\"]).to(dev)\n",
    "        \n",
    "        self.theta_ls = - tc.linspace(theta_st, theta_end, n_theta+1)[:-1]\n",
    "        \n",
    "        self.n_det = n_det\n",
    "        self.det_size_cm = det_size_cm\n",
    "        self.det_from_sample_cm = det_from_sample_cm\n",
    "        self.P = tc.tensor(self.init_intersecting_length_fl_detectorlet()).to(dev)\n",
    "        \n",
    "        self.probe_cts = probe_cts\n",
    "        self.probe_before_attenuation_flat = self.init_probe()\n",
    "\n",
    "        \n",
    "    def init_xp(self):\n",
    "        \"\"\"\n",
    "        Initialize self.x with the tensor of the true model(noise may already be added) (n_element, n_z, minibatch_size (n_x is minibatched), n_y)\n",
    "        \"\"\"\n",
    "        return nn.Parameter(tc.zeros(self.n_element, self.sample_height_n, self.minibatch_size, self.sample_size_n) + 0.5)\n",
    "#         return nn.Parameter(self.grid_concentration[:, :, self.minibatch_size * self.p:self.minibatch_size*(self.p+1),:])\n",
    "\n",
    "    def init_fl_all_lines_dic(self):\n",
    "        \"\"\"\n",
    "        Initialize self.fl_all_lines_dic\n",
    "        \"\"\"\n",
    "        fl_all_lines_dic = MakeFLlinesDictionary(self.this_aN_dic, self.probe_energy,\n",
    "                      self.sample_size_n.cpu().numpy(), self.sample_size_cm.cpu().numpy(),\n",
    "                      self.fl_line_groups, self.fl_K, self.fl_L, self.fl_M,\n",
    "                      self.group_lines)\n",
    "        return fl_all_lines_dic\n",
    "    \n",
    "    def init_intersecting_length_fl_detectorlet(self):\n",
    "        \"\"\"\n",
    "        Initialize self.intersecting_length_fl_detectorlet\n",
    "        \"\"\"\n",
    "        \n",
    "        P = intersecting_length_fl_detectorlet(self.n_det.cpu().numpy(), self.det_size_cm, self.det_from_sample_cm, self.sample_size_n.cpu().numpy(), self.sample_size_cm.cpu().numpy())\n",
    "        return P\n",
    "    \n",
    "    def init_probe(self):\n",
    "        return self.probe_cts * tc.ones((self.sample_height_n * self.sample_size_n * self.sample_size_n), device=dev)\n",
    "    \n",
    "    def forward(self, grid_concentration, this_theta_idx):  # convert X to y_hat; dimension changes from (5, 30, 30) to (30, 8)\n",
    "        start_time = time.time()\n",
    "        \"\"\"\n",
    "        Forward propagation.\n",
    "        \"\"\"      \n",
    "        \n",
    "        ### 1: Calculate the map of attenuation and transmission ###\n",
    "        grid_concentration[:, :, minibatch_size * self.p:minibatch_size * (self.p+1), :] = self.xp\n",
    "        theta = self.theta_ls[this_theta_idx]\n",
    "\n",
    "        att_exponent_acc_map = tc.zeros((self.sample_height_n, self.sample_size_n, self.sample_size_n+1), device=dev)\n",
    "        concentration_map_rot = rotate(grid_concentration, theta)\n",
    "        for j in range(self.n_element):\n",
    "            lac_single = concentration_map_rot[j] * self.probe_attCS_ls[j]\n",
    "            lac_acc = tc.cumsum(lac_single, axis=2)            \n",
    "            lac_acc = tc.cat((tc.zeros((self.sample_height_n, self.sample_size_n, 1), device=dev), lac_acc), dim = 2)\n",
    "            att_exponent_acc = lac_acc * (self.sample_size_cm / self.sample_size_n)    \n",
    "            att_exponent_acc_map += att_exponent_acc\n",
    "        attenuation_map_theta_flat = tc.exp(-(att_exponent_acc_map[:,:,:-1])).view(self.sample_height_n * self.sample_size_n * self.sample_size_n)\n",
    "        transmission_theta = tc.exp(-att_exponent_acc_map[:,:,-1]).view(self.sample_height_n * self.sample_size_n)\n",
    "\n",
    "        fl_map_tot_flat_theta = tc.zeros((self.n_lines, self.sample_height_n * self.sample_size_n * self.sample_size_n), device=dev)\n",
    "        concentration_map_rot_flat = concentration_map_rot.view(self.n_element, self.sample_height_n * self.sample_size_n * self.sample_size_n)\n",
    "        \n",
    "        line_idx = 0\n",
    "        for j in range(self.n_element):\n",
    "            fl_unit = self.detected_fl_unit_concentration[line_idx:line_idx + self.n_line_group_each_element[j]]\n",
    "            \n",
    "            ## FL signal over the current elemental lines for each voxel\n",
    "            fl_map = [concentration_map_rot_flat[j] * fl_unit_single_line for fl_unit_single_line in fl_unit]\n",
    "            fl_map = tc.stack(fl_map)   \n",
    "\n",
    "            fl_map_tot_flat_theta[line_idx:line_idx + fl_map.shape[0],:] = fl_map            \n",
    "            line_idx = line_idx + len(fl_unit)\n",
    "            \n",
    "        ### 3: Calculate SA (the map of attenuation ratio due to self-absorption of the FL signal):\n",
    "        # 1. for each FL emitting source voxel (sample_size x sample_size),\n",
    "        # 2. we have an attenuation ratio when the photon for each elemental line reaches the edge of the sample (due to self absorption) (n_elemental_line)\n",
    "\n",
    "\n",
    "        #### The dimension of SA:\n",
    "        # (n_theta, sample_size * sample_size, n_elemental_line)\n",
    "        # generate an arrary of total attenuation cross section with the dimension: (n_element, n_elemental_lines)\n",
    "        # The component in the array represents the total attenuation cross section at some line energy in some element (with unitary concentration)\n",
    "\n",
    "        # P = intersecting_length_fl_detectorlet(self.n_det, self.det_size_cm, self.det_from_sample_cm, self.sample_size_n, self.sample_size_cm)\n",
    "        SA_theta = tc.zeros((self.n_lines, self.sample_height_n * self.sample_size_n * self.sample_size_n), device=dev)\n",
    "        for j in range(self.sample_height_n * self.sample_size_n * self.sample_size_n):       \n",
    "            att_exponent_elemental_sum_temp = tc.zeros((self.n_element, self.n_det, self.n_lines), device=dev)\n",
    "            for k in range(self.n_element):\n",
    "\n",
    "                ## llinear attenuation coefficient for each fl-line at each voxel: (self.n_lines, sample_size * sample_size)\n",
    "                lac = tc.stack([FL_line_attCS * concentration_map_rot_flat[k] for FL_line_attCS in self.FL_line_attCS_ls[k]], dim=1)\n",
    "\n",
    "                ## att_exponent = [(intersecting_length_path1 * lac), (intersecting_length_path2 * lac), ..., (intersecting_length_path5 * lac)]:\n",
    "                ## att_exponent (for each fl-line, at each_voxel, for each beam path): (self.n_det, sample_size * sample_size, self.n_lines)\n",
    "                att_exponent = tc.stack([tc.unsqueeze(self.P[m,j,:], dim=1) * lac for m in range(self.n_det)])\n",
    "\n",
    "\n",
    "                ## att_exponent summing over voxels (for each line, for each beam path): (self.n_det, n_elemental_line)\n",
    "                att_exponent_voxel_sum = tc.sum(att_exponent, axis=1)\n",
    "\n",
    "                ## filling att_exponent_voxel_sum to att_exponent_elemental_sum for each element\n",
    "                att_exponent_elemental_sum_temp[k, :, :] = att_exponent_voxel_sum\n",
    "\n",
    "            ## summing over the attenation exponent contributed by each element\n",
    "            att_exponent_elemental_sum =  tc.sum(att_exponent_elemental_sum_temp, axis=0)  \n",
    "\n",
    "            ## calculate the attenuation caused by all elements\n",
    "            att = tc.exp(- att_exponent_elemental_sum)\n",
    "\n",
    "            ## calculate the attenuation averaged all paths\n",
    "            att_path_ave = tc.mean(att, axis=0)\n",
    "            SA_theta[:,j] = att_path_ave\n",
    "              \n",
    "        #### Create XRF data ####\n",
    "        probe_after_attenuation_theta = self.probe_before_attenuation_flat * attenuation_map_theta_flat  \n",
    "\n",
    "        fl_signal_wo_SA_theta = tc.unsqueeze(probe_after_attenuation_theta, dim=0) * fl_map_tot_flat_theta\n",
    "        fl_signal_SA_theta = fl_signal_wo_SA_theta * SA_theta\n",
    "\n",
    "\n",
    "        fl_signal_SA_theta = fl_signal_SA_theta.view(-1, self.sample_height_n * self.sample_size_n, self.sample_size_n)\n",
    "        fl_signal_SA_theta = tc.sum(fl_signal_SA_theta, axis=2)\n",
    "        output = fl_signal_SA_theta\n",
    "#         print(\"running_time = %.3f\" %(time.time() - start_time))\n",
    "        return output"
   ]
  },
  {
   "cell_type": "code",
   "execution_count": 204,
   "metadata": {},
   "outputs": [],
   "source": [
    "theta_st = tc.tensor(0).to(dev)\n",
    "theta_end = tc.tensor(2 * np.pi).to(dev)\n",
    "n_theta =  tc.tensor(4).to(dev)\n",
    "theta_ls = - tc.linspace(theta_st, theta_end, n_theta+1)[:-1].to(dev)\n",
    "# this_theta_idx = tc.tensor(0).to(dev)\n",
    "sample_size_n = tc.tensor(5).to(dev)\n",
    "sample_height_n = tc.tensor(1).to(dev)\n",
    "sample_size_cm = tc.tensor(0.01).to(dev)\n",
    "this_aN_dic = {\"C\": 6, \"O\": 8, \"Si\": 14, \"Ca\": 20, \"Fe\": 26}\n",
    "probe_energy = np.array([20.0])\n",
    "probe_cts = tc.tensor(1.0E7).to(dev)\n",
    "n_det = tc.tensor(5).to(dev)\n",
    "det_size_cm = 0.24\n",
    "det_from_sample_cm = 1.6\n",
    "\n",
    "fl_line_groups = np.array([\"K\", \"L\", \"M\"])\n",
    "fl_K = fl_K\n",
    "fl_L = fl_L\n",
    "fl_M = fl_M\n",
    "group_lines = True\n",
    "\n",
    "\n",
    "element_ls = np.array(list(this_aN_dic.keys()))"
   ]
  },
  {
   "cell_type": "code",
   "execution_count": 205,
   "metadata": {},
   "outputs": [
    {
     "name": "stdout",
     "output_type": "stream",
     "text": [
      "torch.Size([5, 1, 5, 5])\n"
     ]
    }
   ],
   "source": [
    "X = tc.zeros(len(this_aN_dic), sample_height_n, sample_size_n, sample_size_n) + 0.5\n",
    "print(X.shape)\n",
    "\n",
    "# save the initial guess to the folder that saves the results of reconstruction\n",
    "recon_path = 'data/sample3_recon'  \n",
    "np.save(os.path.join(recon_path, 'sample3_recon.npy'), X)"
   ]
  },
  {
   "cell_type": "code",
   "execution_count": 206,
   "metadata": {},
   "outputs": [
    {
     "name": "stderr",
     "output_type": "stream",
     "text": [
      "/home/hpphappy/anaconda3/envs/joint_XRF_XRT/lib/python3.7/site-packages/ipykernel_launcher.py:13: UserWarning: To copy construct from a tensor, it is recommended to use sourceTensor.clone().detach() or sourceTensor.clone().detach().requires_grad_(True), rather than torch.tensor(sourceTensor).\n",
      "  del sys.path[0]\n"
     ]
    }
   ],
   "source": [
    "# y_true = tc.randn(n_theta, 8, 10)\n",
    "y_true = data.to(dev)\n",
    "# print(y_true.shape)\n",
    "# print(y_true)\n",
    "\n",
    "X = np.array(X).astype(np.float32)\n",
    "X = tc.from_numpy(X).float().to(dev) \n",
    "\n",
    "n_element = tc.tensor(len(this_aN_dic)).to(dev)\n",
    "\n",
    "n_minibatch = tc.tensor(1).to(dev)\n",
    "\n",
    "minibatch_size = tc.tensor(X.shape[2]//n_minibatch).to(dev)\n",
    "\n",
    "model = [PPM(X, m, n_element, sample_height_n, minibatch_size, sample_size_n, this_aN_dic, probe_energy, probe_cts,\n",
    "             sample_size_cm, fl_line_groups, fl_K, fl_L, fl_M, group_lines, theta_st, theta_end, n_theta,\n",
    "             n_det, det_size_cm, det_from_sample_cm).to(dev) for m in range(n_minibatch)]\n",
    "\n",
    "loss_fn = nn.MSELoss()\n",
    "optimizer = [tc.optim.Adam(model[m].parameters(), lr=0.01) for m in range(n_minibatch)]\n",
    "X_true = tc.from_numpy(np.load(os.path.join('./data/sample3_pad', 'grid_concentration.npy')).astype(np.float32))"
   ]
  },
  {
   "cell_type": "code",
   "execution_count": 207,
   "metadata": {},
   "outputs": [
    {
     "name": "stdout",
     "output_type": "stream",
     "text": [
      "tensor([[0.5000, 0.5000, 0.5000, 0.5000, 0.5000],\n",
      "        [0.5000, 0.5000, 0.5000, 0.5000, 0.5000],\n",
      "        [0.5000, 0.5000, 0.5000, 0.5000, 0.5000],\n",
      "        [0.5000, 0.5000, 0.5000, 0.5000, 0.5000],\n",
      "        [0.5000, 0.5000, 0.5000, 0.5000, 0.5000]], device='cuda:1')\n"
     ]
    },
    {
     "data": {
      "text/plain": [
       "<matplotlib.image.AxesImage at 0x7fe2d3877b50>"
      ]
     },
     "execution_count": 207,
     "metadata": {},
     "output_type": "execute_result"
    },
    {
     "data": {
      "image/png": "[encoded data removed]",
      "text/plain": [
       "<Figure size 432x288 with 1 Axes>"
      ]
     },
     "metadata": {
      "needs_background": "light"
     },
     "output_type": "display_data"
    }
   ],
   "source": [
    "print(X[1,0])\n",
    "plt.imshow(X[0,0].cpu())"
   ]
  },
  {
   "cell_type": "code",
   "execution_count": 208,
   "metadata": {},
   "outputs": [],
   "source": [
    "n_epoch = 10"
   ]
  },
  {
   "cell_type": "code",
   "execution_count": 209,
   "metadata": {},
   "outputs": [
    {
     "name": "stderr",
     "output_type": "stream",
     "text": [
      "  0%|          | 0/10 [00:00<?, ?it/s]/home/hpphappy/anaconda3/envs/joint_XRF_XRT/lib/python3.7/site-packages/torch/nn/functional.py:3447: UserWarning: Default grid_sample and affine_grid behavior has changed to align_corners=False since 1.3.0. Please specify align_corners=True if the old behavior is desired. See the documentation of grid_sample for details.\n",
      "  warnings.warn(\"Default grid_sample and affine_grid behavior has changed \"\n",
      "/home/hpphappy/anaconda3/envs/joint_XRF_XRT/lib/python3.7/site-packages/torch/nn/functional.py:3384: UserWarning: Default grid_sample and affine_grid behavior has changed to align_corners=False since 1.3.0. Please specify align_corners=True if the old behavior is desired. See the documentation of grid_sample for details.\n",
      "  warnings.warn(\"Default grid_sample and affine_grid behavior has changed \"\n",
      "100%|██████████| 10/10 [00:07<00:00,  1.35it/s]\n"
     ]
    },
    {
     "data": {
      "image/png": "[encoded data removed]",
      "text/plain": [
       "<Figure size 432x288 with 1 Axes>"
      ]
     },
     "metadata": {
      "needs_background": "light"
     },
     "output_type": "display_data"
    }
   ],
   "source": [
    "loss_xp_ls = tc.zeros(n_minibatch)\n",
    "loss_theta_ls = tc.zeros(len(theta_ls))\n",
    "loss_epoch = tc.zeros(n_epoch)\n",
    "mse_epoch = tc.zeros(n_epoch)\n",
    "\n",
    "for epoch in tqdm(range(n_epoch)):\n",
    "    for this_theta_idx in range(len(theta_ls)):\n",
    "#         print(\"this_theta_idx = %d\" %(this_theta_idx))\n",
    "        for m in range(n_minibatch):        \n",
    "            X = np.load(os.path.join(recon_path, 'sample3_recon.npy')).astype(np.float32)\n",
    "            X = tc.from_numpy(X).to(dev)\n",
    "#             print(X)\n",
    "            y_hat = model[m](X, this_theta_idx)\n",
    "            \n",
    "#             print(\"y_hat = \")\n",
    "#             print(y_hat)\n",
    "            \n",
    "#             print(\"y_true[this_theta_idx] = \")\n",
    "#             print(y_true[this_theta_idx])\n",
    "            \n",
    "            loss = loss_fn(y_hat, y_true[this_theta_idx])\n",
    "            loss_xp_ls[m] = loss\n",
    "            optimizer[m].zero_grad()\n",
    "            loss.backward()\n",
    "            optimizer[m].step()\n",
    "            \n",
    "            \n",
    "            X[:, :, minibatch_size*m:minibatch_size*(m+1),:] = model[m].xp\n",
    "            X[:, :, minibatch_size*m:minibatch_size*(m+1),:] = X[:, :, minibatch_size*m:minibatch_size*(m+1),:].clamp(0,10)\n",
    "            X = tc.tensor(X.detach().cpu().numpy())\n",
    "            np.save(os.path.join(recon_path, 'sample3_recon.npy'), X)\n",
    "#         print(\"updated model after a theta\")\n",
    "#         print(X)    \n",
    "        loss_theta_ls[this_theta_idx] = tc.sum(loss_xp_ls)\n",
    "    loss_epoch[epoch] = tc.mean(loss_theta_ls)\n",
    "    mse_epoch[epoch] = tc.mean(tc.square(X - X_true))\n",
    "#     print(loss_epoch[epoch])\n",
    "    tqdm._instances.clear()   \n",
    "\n",
    "plt.plot(loss_epoch.detach().numpy())\n",
    "plt.savefig(os.path.join(recon_path, 'loss_photon_count_epoch.pdf'))\n",
    "\n",
    "np.save(os.path.join(recon_path, 'loss_photon_count_epoch.npy'), loss_epoch.detach().numpy())  \n",
    "np.save(os.path.join(recon_path, 'mse_model.npy'), mse_epoch) \n",
    "\n",
    "with open(os.path.join(recon_path, 'recon_parameters.txt'), \"w\") as recon_paras:\n",
    "    recon_paras.writelines(\"%s\\n\" %element for element in element_ls)\n",
    "    recon_paras.write(\"n_minibatch = %d\" %n_minibatch)\n",
    "    recon_paras.write(\"theta_st = %.2f\\n\" %theta_st)\n",
    "    recon_paras.write(\"theta_end = %.2f\\n\" %theta_end)\n",
    "    recon_paras.write(\"n_theta = %d\\n\" %n_theta)\n",
    "    recon_paras.write(\"sample_size_n = %d\\n\" %sample_size_n)\n",
    "    recon_paras.write(\"sample_height_n = %d\\n\" %sample_height_n)\n",
    "    recon_paras.write(\"sample_size_cm = %.2f\\n\" %sample_size_cm)\n",
    "    recon_paras.write(\"probe_energy = %.2f\\n\" %probe_energy[0])\n",
    "    recon_paras.write(\"probe_cts = %.2e\\n\" %probe_cts)\n",
    "    recon_paras.write(\"n_det = %d\\n\" %n_det)\n",
    "    recon_paras.write(\"det_size_cm = %.2f\\n\" %det_size_cm)\n",
    "    recon_paras.write(\"det_from_sample_cm = %.2f\\n\" %det_from_sample_cm)\n",
    "\n",
    "\n",
    "# Check whether model.parameters() is model.x\n",
    "#     print('Is model.parameters()= model.x?', list(model.parameters())[0] is model.x, '\\n') # or print(list(model.parameters())[0] == model.x)\n",
    "#     print('Print model.x', model.x, '\\n')\n",
    "#     print('Loss for angle {}: {}'.format(i, loss.item()) )"
   ]
  },
  {
   "cell_type": "code",
   "execution_count": 210,
   "metadata": {},
   "outputs": [
    {
     "data": {
      "image/png": "[encoded data removed]",
      "text/plain": [
       "<Figure size 432x288 with 1 Axes>"
      ]
     },
     "metadata": {
      "needs_background": "light"
     },
     "output_type": "display_data"
    }
   ],
   "source": [
    "plt.plot(mse_epoch)\n",
    "plt.savefig(os.path.join(recon_path, 'mse_epoch.pdf'))"
   ]
  },
  {
   "cell_type": "code",
   "execution_count": 211,
   "metadata": {},
   "outputs": [
    {
     "name": "stdout",
     "output_type": "stream",
     "text": [
      "torch.Size([5, 1, 5, 5])\n"
     ]
    },
    {
     "data": {
      "image/png": "[encoded data removed]",
      "text/plain": [
       "<Figure size 1440x216 with 10 Axes>"
      ]
     },
     "metadata": {
      "needs_background": "light"
     },
     "output_type": "display_data"
    }
   ],
   "source": [
    "X = np.load(os.path.join(recon_path, 'sample3_recon.npy'))\n",
    "X = tc.tensor(X)\n",
    "print(X.shape)\n",
    "\n",
    "image_size = 5\n",
    "fig6 = plt.figure(figsize=(20,3))\n",
    "gs6 = gridspec.GridSpec(nrows=1, ncols=5, width_ratios=[1,1,1,1,1])\n",
    "\n",
    "fig6_ax1 = fig6.add_subplot(gs6[0,0])\n",
    "fig6_ax1.set_xticks(np.arange(0, image_size, 1))\n",
    "fig6_ax1.set_yticks(np.arange(0, image_size, 1))\n",
    "# fig6_ax1.grid(color='w', linewidth=2)\n",
    "fig6_ax1.axis('off')\n",
    "pos = fig6_ax1.imshow(X[0,0], cmap='jet', vmin=0, vmax=1.4, extent=[0, 5, 5, 0], origin='upper')\n",
    "divider = make_axes_locatable(fig6_ax1)\n",
    "cax = divider.append_axes(\"right\", size=\"5%\", pad=0.05)\n",
    "ticks = np.array([0, 0.2, 0.4, 0.6, 0.8, 1.0, 1.2, 1.4])\n",
    "cbar = fig6.colorbar(pos, cax=cax, ticks=ticks)\n",
    "cbar.ax.tick_params(labelsize=14) \n",
    "cbar.ax.set_title('intensity', size='14')\n",
    "\n",
    "fig6_ax2 = fig6.add_subplot(gs6[0,1])\n",
    "fig6_ax2.set_xticks(np.arange(0, image_size, 1))\n",
    "fig6_ax2.set_yticks(np.arange(0, image_size, 1))\n",
    "# fig6_ax2.grid(color='w', linewidth=2)\n",
    "fig6_ax2.axis('off')\n",
    "pos = fig6_ax2.imshow(X[1,0], cmap='jet', vmin=0, vmax=1.4, extent=[0, 5, 5, 0], origin='upper')\n",
    "divider = make_axes_locatable(fig6_ax2)\n",
    "cax = divider.append_axes(\"right\", size=\"5%\", pad=0.05)\n",
    "ticks = np.array([0, 0.2, 0.4, 0.6, 0.8, 1.0, 1.2, 1.4])\n",
    "cbar = fig6.colorbar(pos, cax=cax, ticks=ticks)\n",
    "cbar.ax.tick_params(labelsize=14) \n",
    "cbar.ax.set_title('intensity', size='14')\n",
    "\n",
    "fig6_ax3 = fig6.add_subplot(gs6[0,2])\n",
    "fig6_ax3.set_xticks(np.arange(0, image_size, 1))\n",
    "fig6_ax3.set_yticks(np.arange(0, image_size, 1))\n",
    "# fig6_ax3.grid(color='w', linewidth=2)\n",
    "fig6_ax3.axis('off')\n",
    "pos = fig6_ax3.imshow(X[2,0], cmap='jet', vmin=0, vmax=1.4, extent=[0, 5, 5, 0], origin='upper')\n",
    "divider = make_axes_locatable(fig6_ax3)\n",
    "cax = divider.append_axes(\"right\", size=\"5%\", pad=0.05)\n",
    "ticks = np.array([0, 0.2, 0.4, 0.6, 0.8, 1.0, 1.2, 1.4])\n",
    "cbar = fig6.colorbar(pos, cax=cax, ticks=ticks)\n",
    "cbar.ax.tick_params(labelsize=14) \n",
    "cbar.ax.set_title('intensity', size='14')\n",
    "\n",
    "fig6_ax4 = fig6.add_subplot(gs6[0,3])\n",
    "fig6_ax4.set_xticks(np.arange(0, image_size, 1))\n",
    "fig6_ax4.set_yticks(np.arange(0, image_size, 1))\n",
    "# fig6_ax4.grid(color='w', linewidth=2)\n",
    "fig6_ax4.axis('off')\n",
    "pos = fig6_ax4.imshow(X[3,0], cmap='jet', vmin=0, vmax=1.4, extent=[0, 5, 5, 0], origin='upper')\n",
    "divider = make_axes_locatable(fig6_ax4)\n",
    "cax = divider.append_axes(\"right\", size=\"5%\", pad=0.05)\n",
    "ticks = np.array([0, 0.2, 0.4, 0.6, 0.8, 1.0, 1.2, 1.4])\n",
    "cbar = fig6.colorbar(pos, cax=cax, ticks=ticks)\n",
    "cbar.ax.tick_params(labelsize=14) \n",
    "cbar.ax.set_title('intensity', size='14')\n",
    "\n",
    "fig6_ax5 = fig6.add_subplot(gs6[0,4])\n",
    "fig6_ax5.set_xticks(np.arange(0, image_size, 1))\n",
    "fig6_ax5.set_yticks(np.arange(0, image_size, 1))\n",
    "# fig6_ax5.grid(color='w', linewidth=2)\n",
    "# fig6_ax5.axis('off')\n",
    "pos = fig6_ax5.imshow(X[4,0], cmap='jet', vmin=0, vmax=1.4, extent=[0, 5, 5, 0], origin='upper')\n",
    "divider = make_axes_locatable(fig6_ax5)\n",
    "cax = divider.append_axes(\"right\", size=\"5%\", pad=0.05)\n",
    "ticks = np.array([0, 0.2, 0.4, 0.6, 0.8, 1.0, 1.2, 1.4])\n",
    "cbar = fig6.colorbar(pos, cax=cax, ticks=ticks)\n",
    "cbar.ax.tick_params(labelsize=14) \n",
    "cbar.ax.set_title('intensity', size='14')\n",
    "\n",
    "dxchange.write_tiff(X, os.path.join(recon_path, \"recon_grid\"), dtype='float32', overwrite=True)"
   ]
  },
  {
   "cell_type": "code",
   "execution_count": 67,
   "metadata": {},
   "outputs": [
    {
     "name": "stdout",
     "output_type": "stream",
     "text": [
      "uint8\n"
     ]
    },
    {
     "data": {
      "text/plain": [
       "<matplotlib.image.AxesImage at 0x7f9fed17de90>"
      ]
     },
     "execution_count": 67,
     "metadata": {},
     "output_type": "execute_result"
    },
    {
     "data": {
      "image/png": "[encoded data removed]",
      "text/plain": [
       "<Figure size 432x288 with 1 Axes>"
      ]
     },
     "metadata": {
      "needs_background": "light"
     },
     "output_type": "display_data"
    }
   ],
   "source": [
    "from skimage import data\n",
    "from skimage.transform import rescale\n",
    "image = data.camera()\n",
    "print(image.dtype)\n",
    "plt.imshow(image)"
   ]
  },
  {
   "cell_type": "code",
   "execution_count": 73,
   "metadata": {},
   "outputs": [
    {
     "data": {
      "text/plain": [
       "<matplotlib.image.AxesImage at 0x7f887c1cd390>"
      ]
     },
     "execution_count": 73,
     "metadata": {},
     "output_type": "execute_result"
    },
    {
     "data": {
      "image/png": "[encoded data removed]",
      "text/plain": [
       "<Figure size 432x288 with 1 Axes>"
      ]
     },
     "metadata": {
      "needs_background": "light"
     },
     "output_type": "display_data"
    }
   ],
   "source": [
    "image_scale = rescale(image, 0.1)\n",
    "plt.imshow(image_scale)"
   ]
  },
  {
   "cell_type": "code",
   "execution_count": 74,
   "metadata": {},
   "outputs": [
    {
     "data": {
      "text/plain": [
       "(256, 256)"
      ]
     },
     "execution_count": 74,
     "metadata": {},
     "output_type": "execute_result"
    }
   ],
   "source": [
    "rescale(image, 0.5).shape"
   ]
  },
  {
   "cell_type": "code",
   "execution_count": 264,
   "metadata": {},
   "outputs": [
    {
     "data": {
      "text/plain": [
       "[<matplotlib.lines.Line2D at 0x7f8883b51a10>]"
      ]
     },
     "execution_count": 264,
     "metadata": {},
     "output_type": "execute_result"
    },
    {
     "data": {
      "image/png": "[encoded data removed]",
      "text/plain": [
       "<Figure size 432x288 with 1 Axes>"
      ]
     },
     "metadata": {
      "needs_background": "light"
     },
     "output_type": "display_data"
    }
   ],
   "source": [
    "a = tc.rand(5)\n",
    "plt.plot(a)"
   ]
  },
  {
   "cell_type": "code",
   "execution_count": null,
   "metadata": {},
   "outputs": [],
   "source": []
  }
 ],
 "metadata": {
  "kernelspec": {
   "display_name": "Python 3",
   "language": "python",
   "name": "python3"
  },
  "language_info": {
   "codemirror_mode": {
    "name": "ipython",
    "version": 3
   },
   "file_extension": ".py",
   "mimetype": "text/x-python",
   "name": "python",
   "nbconvert_exporter": "python",
   "pygments_lexer": "ipython3",
   "version": "3.7.7"
  }
 },
 "nbformat": 4,
 "nbformat_minor": 4
}
