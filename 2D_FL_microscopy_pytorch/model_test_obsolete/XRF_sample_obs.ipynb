{
 "cells": [
  {
   "cell_type": "code",
   "execution_count": 1,
   "metadata": {},
   "outputs": [],
   "source": [
    "import numpy as np\n",
    "import torch\n",
    "\n",
    "import torch.nn as nn\n",
    "import matplotlib.pyplot as plt"
   ]
  },
  {
   "cell_type": "code",
   "execution_count": 2,
   "metadata": {},
   "outputs": [],
   "source": [
    "device = torch.device(\"cpu\")"
   ]
  },
  {
   "cell_type": "markdown",
   "metadata": {},
   "source": [
    "# Load data:"
   ]
  },
  {
   "cell_type": "code",
   "execution_count": 3,
   "metadata": {},
   "outputs": [
    {
     "ename": "FileNotFoundError",
     "evalue": "[Errno 2] No such file or directory: 'XRF_sample1.npy'",
     "output_type": "error",
     "traceback": [
      "\u001b[0;31m---------------------------------------------------------------------------\u001b[0m",
      "\u001b[0;31mFileNotFoundError\u001b[0m                         Traceback (most recent call last)",
      "\u001b[0;32m<ipython-input-3-65304cb0e797>\u001b[0m in \u001b[0;36m<module>\u001b[0;34m\u001b[0m\n\u001b[0;32m----> 1\u001b[0;31m \u001b[0mdata\u001b[0m \u001b[0;34m=\u001b[0m \u001b[0mnp\u001b[0m\u001b[0;34m.\u001b[0m\u001b[0mload\u001b[0m\u001b[0;34m(\u001b[0m\u001b[0;34m'XRF_sample1.npy'\u001b[0m\u001b[0;34m)\u001b[0m\u001b[0;34m\u001b[0m\u001b[0;34m\u001b[0m\u001b[0m\n\u001b[0m",
      "\u001b[0;32m/opt/anaconda3/lib/python3.7/site-packages/numpy/lib/npyio.py\u001b[0m in \u001b[0;36mload\u001b[0;34m(file, mmap_mode, allow_pickle, fix_imports, encoding)\u001b[0m\n\u001b[1;32m    426\u001b[0m         \u001b[0mown_fid\u001b[0m \u001b[0;34m=\u001b[0m \u001b[0;32mFalse\u001b[0m\u001b[0;34m\u001b[0m\u001b[0;34m\u001b[0m\u001b[0m\n\u001b[1;32m    427\u001b[0m     \u001b[0;32melse\u001b[0m\u001b[0;34m:\u001b[0m\u001b[0;34m\u001b[0m\u001b[0;34m\u001b[0m\u001b[0m\n\u001b[0;32m--> 428\u001b[0;31m         \u001b[0mfid\u001b[0m \u001b[0;34m=\u001b[0m \u001b[0mopen\u001b[0m\u001b[0;34m(\u001b[0m\u001b[0mos_fspath\u001b[0m\u001b[0;34m(\u001b[0m\u001b[0mfile\u001b[0m\u001b[0;34m)\u001b[0m\u001b[0;34m,\u001b[0m \u001b[0;34m\"rb\"\u001b[0m\u001b[0;34m)\u001b[0m\u001b[0;34m\u001b[0m\u001b[0;34m\u001b[0m\u001b[0m\n\u001b[0m\u001b[1;32m    429\u001b[0m         \u001b[0mown_fid\u001b[0m \u001b[0;34m=\u001b[0m \u001b[0;32mTrue\u001b[0m\u001b[0;34m\u001b[0m\u001b[0;34m\u001b[0m\u001b[0m\n\u001b[1;32m    430\u001b[0m \u001b[0;34m\u001b[0m\u001b[0m\n",
      "\u001b[0;31mFileNotFoundError\u001b[0m: [Errno 2] No such file or directory: 'XRF_sample1.npy'"
     ]
    }
   ],
   "source": [
    "data = np.load('XRF_sample1.npy')"
   ]
  },
  {
   "cell_type": "code",
   "execution_count": 197,
   "metadata": {},
   "outputs": [
    {
     "data": {
      "image/png": "[encoded data removed]",
      "text/plain": [
       "<Figure size 432x288 with 1 Axes>"
      ]
     },
     "metadata": {
      "needs_background": "light"
     },
     "output_type": "display_data"
    }
   ],
   "source": [
    "plt.contourf(data[3,:,:]) # Third angle:\n",
    "plt.xlabel('transition lines')\n",
    "plt.ylabel('position')\n",
    "plt.show()"
   ]
  },
  {
   "cell_type": "markdown",
   "metadata": {},
   "source": [
    "# Test how reshape works:"
   ]
  },
  {
   "cell_type": "code",
   "execution_count": 138,
   "metadata": {},
   "outputs": [
    {
     "name": "stdout",
     "output_type": "stream",
     "text": [
      "(240,)\n",
      "(30, 8)\n",
      "[[ 1  2  3  4  5  6  7  8]\n",
      " [ 9 10 11 12 13 14 15 16]\n",
      " [17 18 19 20 21 22 23 24]\n",
      " [25 26 27 28 29 30 31 32]\n",
      " [33 34 35 36 37 38 39 40]]\n"
     ]
    }
   ],
   "source": [
    "batch_size=6\n",
    "\n",
    "a=np.arange(1,241)\n",
    "print(a.shape)\n",
    "\n",
    "b=a.reshape(30, 8)\n",
    "print(b.shape)\n",
    "\n",
    "c=b.reshape(batch_size, b.shape[0]//batch_size, -1)\n",
    "print(c[0])"
   ]
  },
  {
   "cell_type": "markdown",
   "metadata": {},
   "source": [
    "# Make mini-batch:"
   ]
  },
  {
   "cell_type": "code",
   "execution_count": 139,
   "metadata": {},
   "outputs": [
    {
     "data": {
      "text/plain": [
       "(6, 5, 8)"
      ]
     },
     "execution_count": 139,
     "metadata": {},
     "output_type": "execute_result"
    }
   ],
   "source": [
    "batch_size=6\n",
    "\n",
    "# Take first angle:\n",
    "angle = data[0]\n",
    "\n",
    "# Reshape\n",
    "second_dim = angle.shape[0]//batch_size\n",
    "y = angle.reshape(batch_size, second_dim, -1)\n",
    "y.shape"
   ]
  },
  {
   "cell_type": "markdown",
   "metadata": {},
   "source": [
    "# Inherit nn.Module to make our own model:"
   ]
  },
  {
   "cell_type": "code",
   "execution_count": 177,
   "metadata": {},
   "outputs": [],
   "source": [
    "class PPM(nn.Module):\n",
    "    def __init__(self, N, M, L):\n",
    "        \"\"\"\n",
    "        Initialize the attributes of PPM.\n",
    "        \"\"\"\n",
    "        super(PPM, self).__init__() # inherit the __init__ from nn.Module.\n",
    "        \n",
    "        self.N = N                  # N should be y.shape[1].\n",
    "        self.M = M                  # M is the number of elements.\n",
    "        self.L = L                  # L should be y.shape[2].\n",
    "        self.x = self.init_x()  # initialize self.x with method init_x().\n",
    "        \n",
    "    def init_x(self):\n",
    "        \"\"\"\n",
    "        Initialize self.x with 5x5 zero tensor.\n",
    "        \"\"\"\n",
    "        return nn.Parameter(torch.zeros(self.N, self.M))\n",
    "    \n",
    "    def F(self, h):\n",
    "        \"\"\"\n",
    "        Some function which would not change during training. This function is going to convert self.x to \n",
    "        the correct dimension as y. Here we use matrix multiplication as an example.\n",
    "        \"\"\"\n",
    "        M = torch.randn(self.M, self.L)\n",
    "        return torch.matmul(h, M)\n",
    "        \n",
    "    def forward(self):\n",
    "        \"\"\"\n",
    "        Forward propagation.\n",
    "        \"\"\"\n",
    "        output = self.F(self.x)\n",
    "        return output"
   ]
  },
  {
   "cell_type": "code",
   "execution_count": 163,
   "metadata": {},
   "outputs": [
    {
     "data": {
      "text/plain": [
       "Parameter containing:\n",
       "tensor([[ 2.2699e-03, -2.2676e-03,  2.2418e-03,  2.4104e-03,  2.1929e-03],\n",
       "        [ 7.2124e-05, -2.2986e-03,  1.0076e-03,  2.4625e-03,  1.1552e-03],\n",
       "        [ 2.7061e-03, -3.0262e-03,  2.4976e-03,  3.1778e-03,  1.3820e-03],\n",
       "        [ 1.5009e-03, -2.7303e-03,  1.6107e-03,  2.9473e-03, -8.5535e-04],\n",
       "        [ 4.1866e-04, -3.2479e-03, -3.4878e-04,  1.4187e-03, -1.5437e-03]],\n",
       "       requires_grad=True)"
      ]
     },
     "execution_count": 163,
     "metadata": {},
     "output_type": "execute_result"
    }
   ],
   "source": [
    "list(model.parameters())[0]"
   ]
  },
  {
   "cell_type": "code",
   "execution_count": 234,
   "metadata": {},
   "outputs": [
    {
     "name": "stdout",
     "output_type": "stream",
     "text": [
      "Is model.parameters()= model.x? True \n",
      "\n",
      "Print model.x Parameter containing:\n",
      "tensor([[ 0.0232, -0.0077,  0.0242,  0.0045, -0.0231],\n",
      "        [ 0.0121,  0.0129,  0.0019, -0.0126, -0.0242],\n",
      "        [ 0.0289, -0.0027,  0.0069, -0.0124, -0.0320],\n",
      "        [ 0.0113,  0.0105,  0.0027, -0.0281, -0.0205],\n",
      "        [ 0.0149,  0.0011, -0.0208, -0.0276, -0.0253]], requires_grad=True) \n",
      "\n",
      "Loss for angle 0: 0.0015877116192486566\n",
      "Is model.parameters()= model.x? True \n",
      "\n",
      "Print model.x Parameter containing:\n",
      "tensor([[ 0.0363, -0.0123,  0.0407, -0.0045, -0.0493],\n",
      "        [ 0.0389,  0.0270, -0.0066, -0.0434, -0.0539],\n",
      "        [ 0.0518,  0.0030,  0.0158, -0.0358, -0.0556],\n",
      "        [ 0.0338,  0.0170,  0.0114, -0.0527, -0.0427],\n",
      "        [ 0.0357,  0.0224, -0.0446, -0.0500, -0.0459]], requires_grad=True) \n",
      "\n",
      "Loss for angle 1: 0.006236762838791194\n",
      "Is model.parameters()= model.x? True \n",
      "\n",
      "Print model.x Parameter containing:\n",
      "tensor([[ 3.7309e-02, -2.9125e-02,  2.6433e-02, -2.2444e-02, -6.3496e-02],\n",
      "        [ 5.5862e-02,  1.6160e-02, -2.7089e-02, -7.4428e-02, -6.8178e-02],\n",
      "        [ 6.3302e-02, -1.3632e-02, -6.2142e-04, -6.1468e-02, -6.7040e-02],\n",
      "        [ 4.5442e-02,  7.7162e-05, -5.1229e-03, -7.8319e-02, -5.2566e-02],\n",
      "        [ 5.8927e-02,  4.6457e-02, -5.4878e-02, -6.7565e-02, -5.5253e-02]],\n",
      "       requires_grad=True) \n",
      "\n",
      "Loss for angle 2: 0.01642355440103189\n",
      "Is model.parameters()= model.x? True \n",
      "\n",
      "Print model.x Parameter containing:\n",
      "tensor([[ 0.0336, -0.0383,  0.0127, -0.0339, -0.0635],\n",
      "        [ 0.0568,  0.0077, -0.0406, -0.0955, -0.0679],\n",
      "        [ 0.0607, -0.0236, -0.0145, -0.0782, -0.0655],\n",
      "        [ 0.0435, -0.0092, -0.0189, -0.0984, -0.0504],\n",
      "        [ 0.0793,  0.0550, -0.0538, -0.0802, -0.0622]], requires_grad=True) \n",
      "\n",
      "Loss for angle 3: 0.009904508003962734\n",
      "Is model.parameters()= model.x? True \n",
      "\n",
      "Print model.x Parameter containing:\n",
      "tensor([[ 0.0274, -0.0529,  0.0127, -0.0176, -0.0762],\n",
      "        [ 0.0446, -0.0090, -0.0394, -0.0842, -0.0819],\n",
      "        [ 0.0512, -0.0385, -0.0138, -0.0681, -0.0771],\n",
      "        [ 0.0336, -0.0228, -0.0173, -0.0957, -0.0599],\n",
      "        [ 0.0682,  0.0486, -0.0448, -0.0793, -0.0715]], requires_grad=True) \n",
      "\n",
      "Loss for angle 4: 0.01683710134279316\n",
      "Is model.parameters()= model.x? True \n",
      "\n",
      "Print model.x Parameter containing:\n",
      "tensor([[ 0.0068, -0.0761,  0.0159,  0.0088, -0.0885],\n",
      "        [ 0.0180, -0.0335, -0.0349, -0.0582, -0.0911],\n",
      "        [ 0.0295, -0.0620, -0.0090, -0.0433, -0.0872],\n",
      "        [ 0.0139, -0.0461, -0.0108, -0.0718, -0.0685],\n",
      "        [ 0.0443,  0.0428, -0.0359, -0.0678, -0.0661]], requires_grad=True) \n",
      "\n",
      "Loss for angle 5: 0.020986090493650474\n",
      "Is model.parameters()= model.x? True \n",
      "\n",
      "Print model.x Parameter containing:\n",
      "tensor([[-0.0112, -0.1011,  0.0230,  0.0249, -0.0872],\n",
      "        [-0.0023, -0.0605, -0.0280, -0.0413, -0.0825],\n",
      "        [ 0.0126, -0.0870, -0.0007, -0.0268, -0.0832],\n",
      "        [-0.0006, -0.0707, -0.0014, -0.0552, -0.0637],\n",
      "        [ 0.0263,  0.0316, -0.0394, -0.0617, -0.0424]], requires_grad=True) \n",
      "\n",
      "Loss for angle 6: 0.007270000307264861\n",
      "Is model.parameters()= model.x? True \n",
      "\n",
      "Print model.x Parameter containing:\n",
      "tensor([[-0.0363, -0.1253,  0.0178,  0.0295, -0.0820],\n",
      "        [-0.0298, -0.0865, -0.0331, -0.0338, -0.0710],\n",
      "        [-0.0121, -0.1113, -0.0061, -0.0210, -0.0773],\n",
      "        [-0.0240, -0.0947, -0.0067, -0.0479, -0.0592],\n",
      "        [ 0.0048,  0.0211, -0.0345, -0.0515, -0.0196]], requires_grad=True) \n",
      "\n",
      "Loss for angle 7: 0.015193300442233946\n",
      "Is model.parameters()= model.x? True \n",
      "\n",
      "Print model.x Parameter containing:\n",
      "tensor([[-0.0627, -0.1317,  0.0098,  0.0361, -0.0789],\n",
      "        [-0.0602, -0.0934, -0.0386, -0.0220, -0.0635],\n",
      "        [-0.0394, -0.1181, -0.0139, -0.0122, -0.0743],\n",
      "        [-0.0511, -0.1022, -0.0150, -0.0367, -0.0579],\n",
      "        [-0.0226,  0.0192, -0.0208, -0.0332, -0.0008]], requires_grad=True) \n",
      "\n",
      "Loss for angle 8: 0.016840273460678148\n",
      "Is model.parameters()= model.x? True \n",
      "\n",
      "Print model.x Parameter containing:\n",
      "tensor([[-0.0764, -0.1218,  0.0078,  0.0408, -0.0924],\n",
      "        [-0.0788, -0.0835, -0.0389, -0.0113, -0.0719],\n",
      "        [-0.0552, -0.1090, -0.0166, -0.0054, -0.0870],\n",
      "        [-0.0677, -0.0944, -0.0186, -0.0283, -0.0704],\n",
      "        [-0.0460,  0.0214, -0.0063, -0.0108,  0.0193]], requires_grad=True) \n",
      "\n",
      "Loss for angle 9: 0.0199783357650093\n",
      "Is model.parameters()= model.x? True \n",
      "\n",
      "Print model.x Parameter containing:\n",
      "tensor([[-0.0865, -0.1214, -0.0035,  0.0270, -0.1032],\n",
      "        [-0.0919, -0.0834, -0.0512, -0.0200, -0.0814],\n",
      "        [-0.0674, -0.1094, -0.0303, -0.0173, -0.0976],\n",
      "        [-0.0813, -0.0956, -0.0326, -0.0381, -0.0809],\n",
      "        [-0.0548,  0.0209,  0.0058,  0.0105,  0.0231]], requires_grad=True) \n",
      "\n",
      "Loss for angle 10: 0.015075020494458111\n",
      "Is model.parameters()= model.x? True \n",
      "\n",
      "Print model.x Parameter containing:\n",
      "tensor([[-0.0958, -0.1295, -0.0240,  0.0117, -0.1013],\n",
      "        [-0.1010, -0.0923, -0.0737, -0.0308, -0.0808],\n",
      "        [-0.0767, -0.1184, -0.0533, -0.0310, -0.0959],\n",
      "        [-0.0911, -0.1051, -0.0564, -0.0504, -0.0804],\n",
      "        [-0.0526,  0.0206,  0.0043,  0.0287,  0.0151]], requires_grad=True) \n",
      "\n",
      "Loss for angle 11: 0.02054823774973375\n"
     ]
    }
   ],
   "source": [
    "Nangle=12\n",
    "\n",
    "model = PPM(5,5,8).to(device)\n",
    "\n",
    "loss_fn = nn.MSELoss()\n",
    "optimizer = torch.optim.Adam(model.parameters(), lr=0.01)\n",
    "\n",
    "for i in range(Nangle):\n",
    "    for j in range(batch_size):\n",
    "    \n",
    "        y_true = torch.from_numpy(y[j]).double()\n",
    "        y_hat = model()\n",
    "        y_hat = y_hat.double()\n",
    "    \n",
    "        loss = loss_fn(y_true, y_hat)\n",
    "    \n",
    "        optimizer.zero_grad() # reset gradient\n",
    "        loss.backward()      # calculate gradient with respect to loss function.\n",
    "        optimizer.step()      # update model parameters\n",
    "        \n",
    "    # Check whether model.parameters() is model.x\n",
    "    print('Is model.parameters()= model.x?', list(model.parameters())[0] is model.x, '\\n') # or print(list(model.parameters())[0] == model.x)\n",
    "    print('Print model.x', model.x, '\\n')\n",
    "    print('Loss for angle {}: {}'.format(i, loss.item()) )"
   ]
  },
  {
   "cell_type": "code",
   "execution_count": 229,
   "metadata": {},
   "outputs": [
    {
     "data": {
      "image/png": "[encoded data removed]",
      "text/plain": [
       "<Figure size 432x288 with 1 Axes>"
      ]
     },
     "metadata": {
      "needs_background": "light"
     },
     "output_type": "display_data"
    }
   ],
   "source": [
    "Y=model()\n",
    "plt.contourf(Y.detach().numpy()) # Remember to detach from the computational graph and convert to numpy in order\n",
    "                                 # to make plot.\n",
    "plt.show()"
   ]
  }
 ],
 "metadata": {
  "kernelspec": {
   "display_name": "Python 3",
   "language": "python",
   "name": "python3"
  },
  "language_info": {
   "codemirror_mode": {
    "name": "ipython",
    "version": 3
   },
   "file_extension": ".py",
   "mimetype": "text/x-python",
   "name": "python",
   "nbconvert_exporter": "python",
   "pygments_lexer": "ipython3",
   "version": "3.7.6"
  }
 },
 "nbformat": 4,
 "nbformat_minor": 4
}
