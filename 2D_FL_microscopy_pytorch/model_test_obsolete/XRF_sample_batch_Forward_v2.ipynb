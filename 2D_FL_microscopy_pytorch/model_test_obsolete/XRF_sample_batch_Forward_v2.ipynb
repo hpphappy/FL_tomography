{
 "cells": [
  {
   "cell_type": "code",
   "execution_count": 1,
   "metadata": {},
   "outputs": [],
   "source": [
    "import os\n",
    "import numpy as np\n",
    "\n",
    "import torch as tc\n",
    "# tc.set_default_tensor_type(tc.DoubleTensor)\n",
    "tc.set_default_tensor_type(tc.FloatTensor)\n",
    "tc.pi = tc.acos(tc.zeros(1)).item() * 2\n",
    "import torch.nn as nn\n",
    "import torch.nn.functional as F\n",
    "import matplotlib.pyplot as plt\n",
    "\n",
    "from matplotlib import gridspec\n",
    "from mpl_toolkits.axes_grid1 import make_axes_locatable\n",
    "from scipy.ndimage import rotate as sp_rotate\n",
    "\n",
    "from tqdm import tqdm\n",
    "from scipy.ndimage import rotate as sp_rotate\n",
    "import xraylib as xlib\n",
    "import xraylib_np as xlib_np"
   ]
  },
  {
   "cell_type": "code",
   "execution_count": 2,
   "metadata": {},
   "outputs": [],
   "source": [
    "device = tc.device(\"cpu\")"
   ]
  },
  {
   "cell_type": "markdown",
   "metadata": {},
   "source": [
    "# Load data:"
   ]
  },
  {
   "cell_type": "code",
   "execution_count": 3,
   "metadata": {},
   "outputs": [
    {
     "name": "stdout",
     "output_type": "stream",
     "text": [
      "(4, 5, 8)\n",
      "torch.float32\n"
     ]
    }
   ],
   "source": [
    "data = np.load('./data/sample3_data/XRF_sample3.npy').astype(np.float32)\n",
    "# data = np.load('./data/sample3_data/XRF_sample3.npy')\n",
    "print(data.shape)\n",
    "\n",
    "data = tc.from_numpy(np.transpose(data, axes=(0,2,1)))\n",
    "print(data.dtype)"
   ]
  },
  {
   "cell_type": "code",
   "execution_count": 4,
   "metadata": {},
   "outputs": [
    {
     "name": "stdout",
     "output_type": "stream",
     "text": [
      "tensor([[0.0000e+00, 3.3314e-22, 2.0488e-11, 1.0140e+00, 0.0000e+00],\n",
      "        [9.9210e-35, 5.8310e-03, 2.9549e-02, 3.4752e-01, 9.1679e-02],\n",
      "        [2.3349e-27, 4.1690e-06, 1.5566e-01, 3.2821e-01, 1.1367e-01],\n",
      "        [2.2412e-28, 2.8766e-07, 2.0250e-01, 3.9660e-01, 1.0898e-01]])\n"
     ]
    },
    {
     "data": {
      "image/png": "[encoded data removed]",
      "text/plain": [
       "<Figure size 720x720 with 2 Axes>"
      ]
     },
     "metadata": {
      "needs_background": "light"
     },
     "output_type": "display_data"
    }
   ],
   "source": [
    "fig6 = plt.figure(figsize=(10,10))\n",
    "gs6 = gridspec.GridSpec(nrows=1, ncols=1)\n",
    "\n",
    "fig6_ax1 = fig6.add_subplot(gs6[0,0])\n",
    "fig6_ax1.set_xticks(np.arange(0, 5, 1))\n",
    "fig6_ax1.set_yticks(np.arange(0, 12, 1))\n",
    "# fig6_ax1.grid(color='w', linewidth=2)\n",
    "# fig6_ax1.set_xticks(np.arange(0, image_size, 1))\n",
    "# fig6_ax1.set_yticks(np.arange(0, image_size, 1))\n",
    "pos = fig6_ax1.imshow(data[:,0,:], cmap='jet', vmin=0, vmax=2.0, origin='upper')\n",
    "divider = make_axes_locatable(fig6_ax1)\n",
    "cax = divider.append_axes(\"right\", size=\"5%\", pad=0.05)\n",
    "ticks = np.array([0, 0.2, 0.4, 0.6, 0.8, 1.0, 1.2, 1.4])\n",
    "cbar = fig6.colorbar(pos, cax=cax, ticks=ticks)\n",
    "cbar.ax.tick_params(labelsize=14) \n",
    "cbar.ax.set_title('intensity', size='14')\n",
    "\n",
    "\n",
    "\n",
    "# plt.imshow(data[:,0,:])\n",
    "# plt.xlabel('position')\n",
    "# plt.ylabel('angle')\n",
    "# plt.show()\n",
    "print(data[:,0,:])"
   ]
  },
  {
   "cell_type": "code",
   "execution_count": 5,
   "metadata": {},
   "outputs": [
    {
     "data": {
      "image/png": "[encoded data removed]",
      "text/plain": [
       "<Figure size 432x288 with 1 Axes>"
      ]
     },
     "metadata": {
      "needs_background": "light"
     },
     "output_type": "display_data"
    }
   ],
   "source": [
    "plt.imshow(tc.transpose(data[:,4,:], 0,1)) # Third angle:\n",
    "plt.xlabel('angle')\n",
    "plt.ylabel('position')\n",
    "plt.show()"
   ]
  },
  {
   "cell_type": "code",
   "execution_count": 6,
   "metadata": {},
   "outputs": [
    {
     "data": {
      "image/png": "[encoded data removed]",
      "text/plain": [
       "<Figure size 432x288 with 1 Axes>"
      ]
     },
     "metadata": {
      "needs_background": "light"
     },
     "output_type": "display_data"
    },
    {
     "name": "stdout",
     "output_type": "stream",
     "text": [
      "tensor([[9.9210e-35, 5.8310e-03, 2.9549e-02, 3.4752e-01, 9.1679e-02],\n",
      "        [8.8221e-23, 1.5640e+00, 4.9321e+00, 6.1261e+01, 1.4948e+01],\n",
      "        [2.0525e-03, 4.9736e+01, 1.4288e+02, 8.1188e+02, 1.0314e+02],\n",
      "        [0.0000e+00, 4.6215e-07, 2.5507e-03, 2.7297e-02, 8.0408e-03],\n",
      "        [0.0000e+00, 2.8087e+02, 3.3217e+04, 1.6767e+03, 0.0000e+00],\n",
      "        [0.0000e+00, 3.5032e-44, 1.3912e-17, 8.5212e-03, 0.0000e+00],\n",
      "        [0.0000e+00, 2.1090e+04, 1.4989e+05, 3.1179e+03, 0.0000e+00],\n",
      "        [0.0000e+00, 8.3421e-26, 2.1076e-01, 2.6169e+00, 0.0000e+00]])\n"
     ]
    }
   ],
   "source": [
    "plt.imshow(data[0,:,:]) # Third angle:\n",
    "plt.xlabel('position')\n",
    "plt.ylabel('angle')\n",
    "plt.show()\n",
    "print(data[1,:,:])"
   ]
  },
  {
   "cell_type": "markdown",
   "metadata": {},
   "source": [
    "# Test how reshape works:"
   ]
  },
  {
   "cell_type": "markdown",
   "metadata": {},
   "source": [
    "# Make mini-batch:"
   ]
  },
  {
   "cell_type": "code",
   "execution_count": 7,
   "metadata": {},
   "outputs": [
    {
     "name": "stdout",
     "output_type": "stream",
     "text": [
      "torch.Size([8, 5])\n"
     ]
    },
    {
     "data": {
      "text/plain": [
       "torch.Size([8, 1, 5])"
      ]
     },
     "execution_count": 7,
     "metadata": {},
     "output_type": "execute_result"
    }
   ],
   "source": [
    "n_minibatch=1\n",
    "minibatch_size = data[0].shape[1]//n_minibatch\n",
    "\n",
    "# Take first angle:\n",
    "angle = data[0]\n",
    "print(angle.shape)\n",
    "\n",
    "# Reshape\n",
    "y = angle.reshape(-1, n_minibatch, minibatch_size)\n",
    "y.shape"
   ]
  },
  {
   "cell_type": "code",
   "execution_count": 8,
   "metadata": {},
   "outputs": [],
   "source": [
    "# xraylib uses keV\n",
    "fl_K = np.array([xlib.KA1_LINE, xlib.KA2_LINE, xlib.KA3_LINE, xlib.KB1_LINE, xlib.KB2_LINE,\n",
    "                 xlib.KB3_LINE, xlib.KB4_LINE, xlib.KB5_LINE])\n",
    "\n",
    "fl_L = np.array([xlib.LA1_LINE, xlib.LA2_LINE, xlib.LB1_LINE, xlib.LB2_LINE, xlib.LB3_LINE,\n",
    "                 xlib.LB4_LINE, xlib.LB5_LINE, xlib.LB6_LINE, xlib.LB7_LINE, xlib.LB9_LINE,\n",
    "                 xlib.LB10_LINE, xlib.LB15_LINE, xlib.LB17_LINE])\n",
    "\n",
    "fl_M = np.array([xlib.MA1_LINE, xlib.MA2_LINE, xlib.MB_LINE])\n",
    "\n",
    "fl_K_str = [\"Ka1\", \"Ka2\", \"Ka3\", \"Kb1\", \"Kb2\", \"Kb3\", \"Kb4\", \"Kb5\"]\n",
    "fl_L_str = [\"La1\", \"La2\", \"Lb1\", \"Lb2\", \"Lb3\", \"Lb4\",\"Lb5\", \"Lb6\",\n",
    "             \"Lb7\", \"Lb9\", \"Lb10\", \"Lb15\", \"Lb17\"]\n",
    "fl_Ma_str = [\"Ma1\", \"Ma2\", \"Mb\"]\n",
    "\n",
    "fl_line_groups = np.array([\"K\", \"L\", \"M\"])"
   ]
  },
  {
   "cell_type": "code",
   "execution_count": 9,
   "metadata": {},
   "outputs": [],
   "source": [
    "def MakeFLlinesDictionary(this_aN_dic, probe_energy,\n",
    "                          sample_size_n, sample_size_cm,\n",
    "                          fl_line_groups = np.array([\"K\", \"L\", \"M\"]), fl_K = fl_K, fl_L = fl_L, fl_M = fl_M,\n",
    "                          group_lines = True):\n",
    "    \"\"\"   \n",
    "\n",
    "    Parameters\n",
    "    ----------\n",
    "    this_aN_dic: dictionary\n",
    "        a dictionary of items with key = element symbol (string), and value = atomic number\n",
    "        e.g. this_aN_dic = {\"C\":6, \"O\": 8}\n",
    "\n",
    "    probe_energy : ndarray\n",
    "        This array is an array with only 1 element. The element is the keV energy of the incident beam.\n",
    "\n",
    "    sample_size_n: int scalar\n",
    "        sample size in number of pixles on one side, assuing a square sample of N x N pixels\n",
    "\n",
    "    sample_size_cm: scalar\n",
    "        sample size in cm\n",
    "\n",
    "    fl_line_groups : ndarray, optional\n",
    "        DESCRIPTION. The default is np.array([\"K\", \"L\", \"M\"]).\n",
    "\n",
    "    fl_K : ndarray, optional\n",
    "        The default is fl_K, an array of sub-lines of K line with the required format by xraylib.\n",
    "\n",
    "    fl_L : ndarray, optional\n",
    "        The default is fl_L, an array of sub-lines of L line with the required format by xraylib.\n",
    "\n",
    "    fl_M : ndarray, optional\n",
    "        The default is fl_M, an array of sub-lines of M line with the required format by xraylib.\n",
    "\n",
    "    group_lines : boolean, optional\n",
    "        Whether treating all K (or L, M) sub-lines as a single line. The default is True.\n",
    "\n",
    "    Returns\n",
    "    -------\n",
    "    FL_all_elements_dic : dictionary\n",
    "        The dictionary has 3 items. \n",
    "        1st item \n",
    "        key: \"(element_name, Line)\"\n",
    "        value: an ndarray of ndarrays of 2 elements(type: string), [element symbol, line group]\n",
    "        e.g. [['C', 'K'], ['O', 'K'], ['Si', 'K'], ['Si', 'L']]\n",
    "\n",
    "        2nd item\n",
    "        key: \"fl_energy\"\n",
    "        value: float, Fluorescence energy in keV for each line of all element\n",
    "\n",
    "        3rd item: \"detected_fl_unit_concentration\"\n",
    "        key: fluorescence yield assuming a unit concentration [1 g/cm^3 ]\n",
    "    \"\"\"\n",
    "\n",
    "    element_ls = np.array(list(this_aN_dic.keys()))\n",
    "    aN_ls = np.array(list(this_aN_dic.values()))\n",
    "\n",
    "    n_line_group = len(fl_line_groups)\n",
    "    FL_all_elements_dic = {\"element_Line\": [], \"fl_energy\": np.array([]), \"detected_fl_unit_concentration\": np.array([])}\n",
    "    voxel_size = sample_size_cm/sample_size_n\n",
    "\n",
    "    fl_cs_K = xlib_np.CS_FluorLine_Kissel_Cascade(aN_ls, fl_K, probe_energy)\n",
    "    fl_cs_L = xlib_np.CS_FluorLine_Kissel_Cascade(aN_ls, fl_L, probe_energy)\n",
    "    fl_cs_M = xlib_np.CS_FluorLine_Kissel_Cascade(aN_ls, fl_M, probe_energy)\n",
    "\n",
    "    # Remove the extra dimension with only 1 element\n",
    "    fl_cs_K = np.reshape(fl_cs_K, (fl_cs_K.shape[:-1]))\n",
    "    fl_cs_L = np.reshape(fl_cs_L, (fl_cs_L.shape[:-1]))\n",
    "    fl_cs_M = np.reshape(fl_cs_M, (fl_cs_M.shape[:-1]))\n",
    "\n",
    "\n",
    "    fl_energy_K = xlib_np.LineEnergy(aN_ls, fl_K)\n",
    "    fl_energy_L = xlib_np.LineEnergy(aN_ls, fl_L)\n",
    "    fl_energy_M = xlib_np.LineEnergy(aN_ls, fl_M)\n",
    "\n",
    "    FL_all_elements_dic = {\"(element_name, Line)\": [], \"fl_energy\": np.array([]), \"detected_fl_unit_concentration\": np.array([])}\n",
    "    if group_lines == True:\n",
    "        fl_energy_group = np.zeros((len(element_ls),n_line_group))\n",
    "        fl_cs_group = np.zeros((len(element_ls),n_line_group))\n",
    "        for i, element_name in enumerate(element_ls): \n",
    "\n",
    "            if np.sum(fl_energy_K[i] != 0):\n",
    "                fl_energy_group[i,0] = np.average(fl_energy_K[i], weights=fl_cs_K[i]) \n",
    "                fl_cs_group[i,0] = np.sum(fl_cs_K[i])\n",
    "            else:\n",
    "                fl_energy_group[i,0] = 0\n",
    "                fl_cs_group[i,0] = 0\n",
    "\n",
    "            if np.sum(fl_energy_L[i] != 0):\n",
    "                fl_energy_group[i,1] = np.average(fl_energy_L[i], weights=fl_cs_L[i]) \n",
    "                fl_cs_group[i,1] = np.sum(fl_cs_L[i])\n",
    "            else:\n",
    "                fl_energy_group[i,1] = 0\n",
    "                fl_cs_group[i,1] = 0\n",
    "\n",
    "            if np.sum(fl_energy_M[i] != 0):\n",
    "                fl_energy_group[i,2] = np.average(fl_energy_M[i], weights=fl_cs_M[i]) \n",
    "                fl_cs_group[i,2] = np.sum(fl_cs_M[i])\n",
    "            else:\n",
    "                fl_energy_group[i,2] = 0\n",
    "                fl_cs_group[i,2] = 0\n",
    "\n",
    "            element_Line = fl_line_groups[fl_energy_group[i]!= 0]\n",
    "            element_Line = [[element_name, element_Line[j]] for j in range(len(element_Line))]\n",
    "            for k in range(len(element_Line)):\n",
    "                FL_all_elements_dic[\"(element_name, Line)\"].append(element_Line[k])     \n",
    "\n",
    "            Line_energy = fl_energy_group[i][fl_energy_group[i]!=0]\n",
    "            FL_all_elements_dic[\"fl_energy\"] = np.append(FL_all_elements_dic[\"fl_energy\"], Line_energy)\n",
    "\n",
    "            fl_unit_con = fl_cs_group[i][fl_energy_group[i]!=0] * voxel_size\n",
    "            FL_all_elements_dic[\"detected_fl_unit_concentration\"] = np.append(FL_all_elements_dic[\"detected_fl_unit_concentration\"], fl_unit_con)\n",
    "\n",
    "        FL_all_elements_dic[\"(element_name, Line)\"] = np.array(FL_all_elements_dic[\"(element_name, Line)\"])     \n",
    "    return FL_all_elements_dic"
   ]
  },
  {
   "cell_type": "code",
   "execution_count": 10,
   "metadata": {},
   "outputs": [],
   "source": [
    "def rotate(arr, theta):\n",
    "    m0 = tc.tensor([tc.cos(theta), -tc.sin(theta), 0.0])\n",
    "    m1 = tc.tensor([tc.sin(theta), tc.cos(theta), 0])\n",
    "    m = tc.stack([m0, m1]).view(1, 2, 3)\n",
    "    m = m.repeat([arr.shape[0], 1, 1])\n",
    "    \n",
    "    g = F.affine_grid(m, arr.shape)\n",
    "    q = F.grid_sample(arr, g, padding_mode='border')\n",
    "    \n",
    "    return q"
   ]
  },
  {
   "cell_type": "code",
   "execution_count": 11,
   "metadata": {},
   "outputs": [],
   "source": [
    "## define a line passing through the FL emitting from the center of the source voxel (x1, y1) in the 2D sample \n",
    "## and the detectorlet (xd, yd)\n",
    "def trace_beam_yint(x1, y1, xd, yd, sample_x_edge):\n",
    "    m = (yd - y1)/(xd - x1)\n",
    "    y_int = m * (sample_x_edge - x1) + y1\n",
    "    return m, y_int\n",
    "\n",
    "def trace_beam_xint(x1, y1, xd, yd, sample_y_edge):\n",
    "    if yd == y1:\n",
    "        m = 0\n",
    "        x_int = np.array([])\n",
    "    else:\n",
    "        m = (yd - y1)/(xd - x1)\n",
    "        x_int = (sample_y_edge - y1)/m + x1\n",
    "    return m, x_int\n",
    "\n",
    "\n",
    "## Calculate P (the intersecting length map): \n",
    "# 1. for each detectorlect (total n_det)\n",
    "# 2. for each voxel (total sample_size x sample_size)\n",
    "# 3. we have a 2D map of intersecting length (total sample_size x sample_size)\n",
    "\n",
    "### The dimension of P:\n",
    "# (n_det, sample_size * sample_size, sample_size * sample_size)\n",
    "def intersecting_length_fl_detectorlet(n_det, det_size_cm, det_from_sample_cm, sample_size_n, sample_size_cm):\n",
    "\n",
    "    voxel_size_cm = sample_size_cm/sample_size_n\n",
    "    det_size_n = np.ceil(det_size_cm/voxel_size_cm)\n",
    "\n",
    "    x1, y1 = np.indices((sample_size_n, sample_size_n))\n",
    "    det_axis_0_idx = sample_size_n + np.ceil(det_from_sample_cm/voxel_size_cm) + 0.5\n",
    "    det_axis_0_idx_ls = np.full(n_det, det_axis_0_idx)\n",
    "\n",
    "    ## y index of the location of the XRF detector\n",
    "    det_axis_1_idx_ls = np.linspace(np.ceil(sample_size_n/2 - det_size_n/2), \n",
    "                                      np.ceil(sample_size_n/2 + det_size_n/2), n_det) + 0.5\n",
    "\n",
    "\n",
    "    ## biding x-index and y-index array into [(x1,y1), (x2,y2), ..., (x_Ndet, y_Ndet)]\n",
    "    det_pos_ls = np.array(list(zip(det_axis_0_idx_ls, det_axis_1_idx_ls)))\n",
    "\n",
    "    ## define sample edges: \n",
    "    ## sample_x_edge is the edge that is closer to the XRF detector\n",
    "    ## sample_y_edge has two components representing the left and the right edge\n",
    "    sample_x_edge = sample_size_n\n",
    "    sample_y_edge = np.array([0, sample_size_n]) \n",
    "\n",
    "    ## define index position of center of the source voxel (x1, y1), note that it's shifted by 0.5 to represent the center\n",
    "    x1, y1 = x1 + 0.5, y1 + 0.5\n",
    "    voxel_pos_ls = np.dstack((x1, y1))\n",
    "\n",
    "    ## make voxel_pos_ls 1D array for looping: voxel_pos_ls_flat\n",
    "    voxel_pos_ls_flat =  np.reshape(voxel_pos_ls, (1, voxel_pos_ls.shape[0] * voxel_pos_ls.shape[1], 2))[0]\n",
    "\n",
    "    P = np.zeros((n_det, sample_size_n * sample_size_n, sample_size_n * sample_size_n))\n",
    "    for i, det_pos in enumerate(det_pos_ls):\n",
    "        for j, v in enumerate(voxel_pos_ls_flat):\n",
    "            # find x-value when the beam passes the sample WITHOUT intersecting the sample_y_edges(left & right), namely the beam is parallel with the y edge of the sample. \n",
    "            # find x-value when the beam passes through sample_y_edges(left & right), the one with larger x is the intersection with lower edge\n",
    "            if v[1] == det_pos[1]:\n",
    "                xint = sample_size_n\n",
    "            else:\n",
    "                xint = np.max(trace_beam_xint(v[0], v[1], det_pos[0], det_pos[1], sample_y_edge)[1])\n",
    "            xint_sample = np.clip(xint, 0, sample_size_n)\n",
    "\n",
    "            # find y-value when the beam passes through sample_x_edge(bottom)\n",
    "            m = trace_beam_yint(v[0], v[1], det_pos[0], det_pos[1], sample_x_edge)[0]\n",
    "            yint = trace_beam_yint(v[0], v[1], det_pos[0], det_pos[1], sample_x_edge)[1]\n",
    "            yint_sample = np.clip(yint, 0, sample_size_n)\n",
    "\n",
    "\n",
    "            # when the beam intersects with a voxel, it either intersects with the x boundary or y boundary of the voxel\n",
    "            # find the x,y-value of the boundary except the ones on the sample edge\n",
    "            if np.floor(xint_sample) != np.floor(v[0]):\n",
    "                x_edge_ls = np.linspace(np.ceil(xint_sample)-1, np.ceil(v[0]), int(np.abs(np.ceil(xint_sample) - np.ceil(v[0]))))\n",
    "            else: \n",
    "                x_edge_ls = np.array([])\n",
    "\n",
    "\n",
    "            if np.floor(yint_sample) != np.floor(v[1]):            \n",
    "                if m < 0:\n",
    "                    y_edge_ls = np.linspace(np.floor(yint_sample)+1, np.floor(v[1]), int(np.abs(np.floor(yint_sample)+1 - np.floor(v[1]))) + 1)            \n",
    "\n",
    "                if m > 0:\n",
    "                    y_edge_ls = np.linspace(np.ceil(yint_sample)-1, np.ceil(v[1]), int(np.abs(np.ceil(yint_sample) - np.ceil(v[1]))))\n",
    "            else:\n",
    "                y_edge_ls = np.array([])\n",
    "\n",
    "\n",
    "            # find all intersections (except the initial intersection): \n",
    "            # 1. find y-value of intersection given x_edge_ls\n",
    "            # 2. find x-value of intersection given y_edge_ls\n",
    "            y_int_x_edge_ls = trace_beam_yint(v[0], v[1], det_pos[0], det_pos[1], x_edge_ls)[1] #solve y intersections given x edge\n",
    "            x_int_y_edge_ls = trace_beam_xint(v[0], v[1], det_pos[0], det_pos[1], y_edge_ls)[1] #solve x intersections given y edge\n",
    "\n",
    "            # compile the x,y coordinates of the intersection: (x,y) = (x_edge_ls, y_int_x_edge_ls) and (x_int_y_edge_ls,y_edge_ls)\n",
    "            int_x_edge_ls = np.dstack((x_edge_ls,y_int_x_edge_ls))[0]\n",
    "            int_y_edge_ls = np.dstack((x_int_y_edge_ls,y_edge_ls))[0]\n",
    "\n",
    "            # sort them using the x coordinate\n",
    "            int_ls = np.concatenate((int_x_edge_ls, int_y_edge_ls))\n",
    "            int_ls = np.vstack((np.array([xint_sample, yint_sample]), int_ls))\n",
    "            int_ls = int_ls[np.argsort(int_ls[:,0])]\n",
    "\n",
    "            # calculate the intersecting length in the intersecting voxels\n",
    "            int_length = np.sqrt(np.diff(int_ls[:,0])**2 + np.diff(int_ls[:,1])**2) \n",
    "            # just in case that we count some intersections twice, delete the duplicates\n",
    "            idx_duplicate = np.array(np.where(int_length==0)).flatten()\n",
    "            int_ls = np.delete(int_ls, idx_duplicate, 0)\n",
    "            int_length = np.delete(int_length, idx_duplicate) \n",
    "\n",
    "            # determine the indices of the intersecting voxels according to the intersecting x,y-coordinates\n",
    "            int_ls_shift = np.zeros((int_ls.shape))\n",
    "            int_ls_shift[1:] = int_ls[:-1]\n",
    "            int_idx = np.floor((int_ls_shift + int_ls_shift)/2)[1:]        \n",
    "            int_idx = (int_idx[:,0].astype('int'), int_idx[:,1].astype('int'))\n",
    "\n",
    "            # construct the int_length_map, and scale the intersecting length based on the voxel size\n",
    "            int_length_map = np.zeros((sample_size_n, sample_size_n))\n",
    "            int_length_map[int_idx] = int_length * voxel_size_cm  \n",
    "\n",
    "            P[i, j, :] = int_length_map.flatten()\n",
    "            \n",
    "    P = tc.from_numpy(P)\n",
    "            \n",
    "    return P   "
   ]
  },
  {
   "cell_type": "markdown",
   "metadata": {},
   "source": [
    "## Initial guess: randn noise around the true model"
   ]
  },
  {
   "cell_type": "code",
   "execution_count": 12,
   "metadata": {},
   "outputs": [],
   "source": [
    "class PPM(nn.Module):\n",
    "    def __init__(self, grid_concentration, p, n_element, sample_height_n, minibatch_size, sample_size_n):\n",
    "        \"\"\"\n",
    "        Initialize the attributes of PPM. \n",
    "        \"\"\"\n",
    "        super(PPM, self).__init__() # inherit the __init__ from nn.Module.\n",
    "        self.grid_concentration = grid_concentration\n",
    "        self.n_element = n_element\n",
    "        self.sample_height_n = sample_height_n\n",
    "        self.minibatch_size = minibatch_size\n",
    "        self.sample_size_n = sample_size_n\n",
    "        self.p = p  # indicate which minibatch to calculate the gradient  \n",
    "        self.xp = self.init_xp() # initialize the values of the minibatch\n",
    "        \n",
    "        \n",
    "    def init_xp(self):\n",
    "        \"\"\"\n",
    "        Initialize self.x with 5x6x30 zero tensor. (n_minibatch x minibatch_dim0 x minibatch_dim1)\n",
    "        \"\"\"\n",
    "#         return nn.Parameter(tc.zeros(self.n_element, self.sample_height_n, self.minibatch_size, self.sample_size_n) + 0.5)\n",
    "        return nn.Parameter(self.grid_concentration[:, :, self.minibatch_size * self.p:self.minibatch_size*(self.p+1),:])\n",
    "    \n",
    "    \n",
    "    def forward(self, grid_concentration, theta_st, theta_end, n_theta, this_theta_idx, sample_height_n, sample_size_n,\n",
    "                sample_size_cm, this_aN_dic, probe_energy, probe_cts, n_det, det_size_cm, det_from_sample_cm):  # convert X to y_hat; dimension changes from (5, 30, 30) to (30, 8)\n",
    "        \"\"\"\n",
    "        Forward propagation.\n",
    "        \"\"\"      \n",
    "        \n",
    "        ### 1: Calculate the map of attenuation and transmission ###\n",
    "        grid_concentration[:, :, minibatch_size * self.p:minibatch_size * (self.p+1), :] = self.xp\n",
    "        \n",
    "        element_ls = np.array(list(this_aN_dic.keys()))\n",
    "        aN_ls = np.array(list(this_aN_dic.values()))\n",
    "\n",
    "        probe_attCS_ls = xlib_np.CS_Total(aN_ls, probe_energy).flatten()\n",
    "        probe_attCS_dic = dict(zip(element_ls, probe_attCS_ls))\n",
    "\n",
    "        theta_ls = - tc.linspace(theta_st, theta_end, n_theta)\n",
    "        theta = theta_ls[this_theta_idx]\n",
    "\n",
    "        att_exponent_acc_map = tc.zeros((sample_height_n, sample_size_n, sample_size_n+1))\n",
    "        concentration_map_rot = rotate(grid_concentration, theta)\n",
    "        \n",
    "#         print(concentration_map_rot)\n",
    "        for j, element in enumerate(element_ls):\n",
    "            lac_single = concentration_map_rot[j] * probe_attCS_dic[element]\n",
    "            lac_acc = tc.cumsum(lac_single, axis=2)\n",
    "            lac_acc = tc.cat((tc.zeros((sample_height_n, sample_size_n, 1)), lac_acc), dim = 2)\n",
    "            att_exponent_acc = lac_acc * (sample_size_cm / sample_size_n)    \n",
    "            att_exponent_acc_map += att_exponent_acc\n",
    "        attenuation_map_theta_flat = tc.exp(-(att_exponent_acc_map[:,:,:-1])).view(sample_height_n * sample_size_n * sample_size_n)\n",
    "        transmission_theta = tc.exp(-att_exponent_acc_map[:,:,-1]).view(sample_height_n * sample_size_n)\n",
    "\n",
    "        ### 2: Calculate FL signal generated at each voxel assuming single photon enters each voxel###\n",
    "        ## The dimension of FL_map is ( n_elemental_line, sample_size * sample_size)\n",
    "        fl_all_lines_dic = MakeFLlinesDictionary(this_aN_dic, probe_energy,\n",
    "                              sample_size_n, sample_size_cm,\n",
    "                              fl_line_groups = np.array([\"K\", \"L\", \"M\"]), fl_K = fl_K, fl_L = fl_L, fl_M = fl_M,\n",
    "                              group_lines = True)\n",
    "\n",
    "        fl_map_tot_flat_theta = tc.zeros((len(fl_all_lines_dic[\"(element_name, Line)\"]), sample_height_n * sample_size_n * sample_size_n))\n",
    "        concentration_map_rot = rotate(grid_concentration, theta)\n",
    "        concentration_map_rot_flat = concentration_map_rot.view(len(this_aN_dic), sample_height_n * sample_size_n * sample_size_n)\n",
    "        \n",
    "        line_idx = 0\n",
    "        for j, element in enumerate(element_ls):\n",
    "            fl_unit = fl_all_lines_dic[\"detected_fl_unit_concentration\"][fl_all_lines_dic[\"(element_name, Line)\"][:,0] == element]\n",
    "\n",
    "            ## FL signal over the current elemental lines for each voxel\n",
    "            fl_map = [concentration_map_rot_flat[j] * fl_unit_single_line for fl_unit_single_line in fl_unit]\n",
    "            fl_map = tc.stack(fl_map)   \n",
    "\n",
    "            fl_map_tot_flat_theta[line_idx:line_idx + fl_map.shape[0],:] = fl_map            \n",
    "            line_idx = line_idx + len(fl_unit)\n",
    "            \n",
    "        ### 3: Calculate SA (the map of attenuation ratio due to self-absorption of the FL signal):\n",
    "        # 1. for each FL emitting source voxel (sample_size x sample_size),\n",
    "        # 2. we have an attenuation ratio when the photon for each elemental line reaches the edge of the sample (due to self absorption) (n_elemental_line)\n",
    "\n",
    "\n",
    "        #### The dimension of SA:\n",
    "        # (n_theta, sample_size * sample_size, n_elemental_line)\n",
    "        # generate an arrary of total attenuation cross section with the dimension: (n_element, n_elemental_lines)\n",
    "        # The component in the array represents the total attenuation cross section at some line energy in some element (with unitary concentration)\n",
    "        FL_line_attCS_ls = tc.from_numpy(xlib_np.CS_Total(aN_ls, fl_all_lines_dic[\"fl_energy\"]))\n",
    "\n",
    "        # print(FL_line_attCS_ls.shape)\n",
    "        P = intersecting_length_fl_detectorlet(n_det, det_size_cm, det_from_sample_cm, sample_size_n, sample_size_cm)\n",
    "        SA_theta = tc.zeros((len(fl_all_lines_dic[\"(element_name, Line)\"]), sample_height_n * sample_size_n * sample_size_n))\n",
    "        for j in np.arange(sample_height_n * sample_size_n * sample_size_n):       \n",
    "            att_exponent_elemental_sum_temp = tc.zeros((len(element_ls), n_det, len(fl_all_lines_dic[\"(element_name, Line)\"])))\n",
    "            for k, element in enumerate(element_ls):\n",
    "                ## flattened concentration_map after rotation: (sample_height_n * sample_size_n * sample_size_n)\n",
    "                concentration_map_rot_flat = concentration_map_rot[k].view(sample_height_n * sample_size_n * sample_size_n)\n",
    "        #         print(concentration_map_rot_flat.shape)\n",
    "\n",
    "                ## llinear attenuation coefficient for each fl-line at each voxel: (len(fl_lines_all[\"(element_name, Line)\"]), sample_size * sample_size)\n",
    "                lac = tc.stack([FL_line_attCS * concentration_map_rot_flat for FL_line_attCS in FL_line_attCS_ls[k]])\n",
    "                lac = tc.transpose(lac,1,0)\n",
    "\n",
    "                ## att_exponent = [(intersecting_length_path1 * lac), (intersecting_length_path2 * lac), ..., (intersecting_length_path5 * lac)]:\n",
    "                ## att_exponent (for each fl-line, at each_voxel, for each beam path): (n_det, sample_size * sample_size, len(fl_lines_all[\"(element_name, Line)\"]))\n",
    "                att_exponent = tc.stack([tc.unsqueeze(P[m,j,:], dim=1) * lac for m in range(n_det)])\n",
    "\n",
    "\n",
    "                ## att_exponent summing over voxels (for each line, for each beam path): (n_det, n_elemental_line)\n",
    "                att_exponent_voxel_sum = tc.sum(att_exponent, axis=1)\n",
    "\n",
    "                ## filling att_exponent_voxel_sum to att_exponent_elemental_sum for each element\n",
    "                att_exponent_elemental_sum_temp[k, :, :] = att_exponent_voxel_sum\n",
    "\n",
    "            ## summing over the attenation exponent contributed by each element\n",
    "            att_exponent_elemental_sum =  tc.sum(att_exponent_elemental_sum_temp, axis=0)  \n",
    "\n",
    "            ## calculate the attenuation caused by all elements\n",
    "            att = tc.exp(- att_exponent_elemental_sum)\n",
    "\n",
    "            ## calculate the attenuation averaged all paths\n",
    "            att_path_ave = tc.mean(att, axis=0)\n",
    "            SA_theta[:,j] = att_path_ave\n",
    "              \n",
    "        #### Create XRF data ####\n",
    "        probe_before_attenuation_flat = probe_cts * tc.ones((sample_height_n * sample_size_n * sample_size_n))\n",
    "        probe_after_attenuation_theta = probe_before_attenuation_flat * attenuation_map_theta_flat  \n",
    "\n",
    "        fl_signal_wo_SA_theta = tc.unsqueeze(probe_after_attenuation_theta, dim=0) * fl_map_tot_flat_theta\n",
    "        fl_signal_SA_theta = fl_signal_wo_SA_theta * SA_theta\n",
    "\n",
    "\n",
    "        fl_signal_SA_theta = fl_signal_SA_theta.view(-1, sample_size_n * sample_height_n, sample_size_n)\n",
    "        fl_signal_SA_theta = tc.sum(fl_signal_SA_theta, axis=2)\n",
    "        output = fl_signal_SA_theta\n",
    "        return output"
   ]
  },
  {
   "cell_type": "markdown",
   "metadata": {},
   "source": [
    "# Inherit nn.Module to make our own model:"
   ]
  },
  {
   "cell_type": "code",
   "execution_count": 13,
   "metadata": {},
   "outputs": [],
   "source": [
    "theta_st = 0\n",
    "theta_end = 180\n",
    "n_theta = 4\n",
    "theta_ls = - tc.linspace(theta_st, theta_end, n_theta)\n",
    "this_theta_idx = 0\n",
    "sample_size_n = 5\n",
    "sample_height_n = 1\n",
    "sample_size_cm = 0.01\n",
    "this_aN_dic = {\"C\": 6, \"O\": 8, \"Si\": 14, \"Ca\": 20, \"Fe\": 26}\n",
    "probe_energy = np.array([20.0])\n",
    "probe_cts = 1.0E7\n",
    "n_det = 5\n",
    "det_size_cm = 0.24\n",
    "det_from_sample_cm = 1.6"
   ]
  },
  {
   "cell_type": "markdown",
   "metadata": {},
   "source": [
    "### Construct the initial guess of the model from the true model plus noise"
   ]
  },
  {
   "cell_type": "code",
   "execution_count": 14,
   "metadata": {},
   "outputs": [],
   "source": [
    "X = np.load(os.path.join('./data/sample3_pad', 'grid_concentration.npy')).astype(np.float32)  # The shape of X(2d) is initally (5,5,5) = (n_element, n_x, n_y)\n",
    "X = X[:,np.newaxis,:,:]  # Create a new dimension for n_z; n_z = 1 for a 2d object\n",
    "X = X + 0.1 * np.random.randn(X.shape[0], X.shape[1], X.shape[2], X.shape[3])\n",
    "X = np.clip(X, 0, 10)\n",
    "# print(X.shape)\n",
    "# print(X)\n",
    "\n",
    "# save the initial guess to the folder that saves the results of reconstruction\n",
    "recon_path = 'data/sample3_recon'  \n",
    "np.save(os.path.join(recon_path, 'sample3_recon.npy'), X)"
   ]
  },
  {
   "cell_type": "markdown",
   "metadata": {},
   "source": [
    "### Check if the instance of the forward model will be properly created ###"
   ]
  },
  {
   "cell_type": "code",
   "execution_count": 19,
   "metadata": {},
   "outputs": [],
   "source": [
    "# y_true = data\n",
    "# # print(y_true.shape)\n",
    "\n",
    "# n_element = len(this_aN_dic)\n",
    "# n_minibatch = 1\n",
    "# minibatch_size = y_true[0].shape[1]//n_minibatch # distribute 5 translational positions into minibatches\n",
    "\n",
    "# X = np.array(X).astype(np.float32)\n",
    "# X = tc.from_numpy(X) \n",
    "# # print(X)\n",
    "\n",
    "# model = [PPM(X, m, n_element, sample_height_n, minibatch_size, sample_size_n) for m in range(5)]\n",
    "# loss_fn = nn.MSELoss()\n",
    "# optimizer = [tc.optim.Adam(model[m].parameters(), lr=0.01) for m in range(5)]"
   ]
  },
  {
   "cell_type": "code",
   "execution_count": 20,
   "metadata": {},
   "outputs": [],
   "source": [
    "# print(model[0].xp)"
   ]
  },
  {
   "cell_type": "code",
   "execution_count": 21,
   "metadata": {},
   "outputs": [],
   "source": [
    "# X = np.load(os.path.join(recon_path, 'sample3_recon.npy')).astype(np.float32)\n",
    "# X = tc.tensor(X)\n",
    "\n",
    "# y_hat = model[0](X, theta_st, theta_end, n_theta, this_theta_idx, sample_height_n, sample_size_n, sample_size_cm, this_aN_dic,\n",
    "#                              probe_energy, probe_cts, n_det, det_size_cm, det_from_sample_cm)\n",
    "\n",
    "# print(X)\n",
    "# print(y_hat)\n",
    "# print(data[0])"
   ]
  },
  {
   "cell_type": "markdown",
   "metadata": {},
   "source": [
    "### Create the instance of teh forward model ###"
   ]
  },
  {
   "cell_type": "code",
   "execution_count": 24,
   "metadata": {},
   "outputs": [],
   "source": [
    "# y_true = tc.randn(n_theta, 8, 10)\n",
    "y_true = data\n",
    "# print(y_true.shape)\n",
    "# print(y_true)\n",
    "\n",
    "X = np.array(X).astype(np.float32)\n",
    "X = tc.from_numpy(X) \n",
    "\n",
    "n_element = len(this_aN_dic)\n",
    "\n",
    "n_minibatch = 1\n",
    "minibatch_size = y_true[0].shape[1]//n_minibatch\n",
    "\n",
    "model = [PPM(X, m, n_element, sample_height_n, minibatch_size, sample_size_n) for m in range(5)]\n",
    "loss_fn = nn.MSELoss()\n",
    "optimizer = [tc.optim.Adam(model[m].parameters(), lr=0.01) for m in range(5)]"
   ]
  },
  {
   "cell_type": "code",
   "execution_count": 25,
   "metadata": {},
   "outputs": [],
   "source": [
    "n_epoch = 10"
   ]
  },
  {
   "cell_type": "code",
   "execution_count": 27,
   "metadata": {},
   "outputs": [
    {
     "name": "stderr",
     "output_type": "stream",
     "text": [
      "  0%|          | 0/10 [00:00<?, ?it/s]/opt/anaconda3/lib/python3.7/site-packages/torch/nn/functional.py:3447: UserWarning: Default grid_sample and affine_grid behavior has changed to align_corners=False since 1.3.0. Please specify align_corners=True if the old behavior is desired. See the documentation of grid_sample for details.\n",
      "  warnings.warn(\"Default grid_sample and affine_grid behavior has changed \"\n",
      "/opt/anaconda3/lib/python3.7/site-packages/torch/nn/functional.py:3384: UserWarning: Default grid_sample and affine_grid behavior has changed to align_corners=False since 1.3.0. Please specify align_corners=True if the old behavior is desired. See the documentation of grid_sample for details.\n",
      "  warnings.warn(\"Default grid_sample and affine_grid behavior has changed \"\n"
     ]
    },
    {
     "name": "stdout",
     "output_type": "stream",
     "text": [
      "this_theta_idx = 0\n",
      "this_theta_idx = 1\n"
     ]
    },
    {
     "name": "stderr",
     "output_type": "stream",
     "text": [
      " 10%|█         | 1/10 [00:00<00:03,  2.46it/s]"
     ]
    },
    {
     "name": "stdout",
     "output_type": "stream",
     "text": [
      "this_theta_idx = 2\n",
      "this_theta_idx = 3\n",
      "tensor(200021.6875, grad_fn=<SelectBackward>)\n",
      "this_theta_idx = 0\n",
      "this_theta_idx = 1\n",
      "this_theta_idx = 2\n",
      "this_theta_idx = 3\n"
     ]
    },
    {
     "name": "stderr",
     "output_type": "stream",
     "text": [
      " 20%|██        | 2/10 [00:00<00:03,  2.55it/s]"
     ]
    },
    {
     "name": "stdout",
     "output_type": "stream",
     "text": [
      "tensor(193617.2500, grad_fn=<SelectBackward>)\n",
      "this_theta_idx = 0\n",
      "this_theta_idx = 1\n",
      "this_theta_idx = 2\n"
     ]
    },
    {
     "name": "stderr",
     "output_type": "stream",
     "text": [
      " 30%|███       | 3/10 [00:01<00:02,  2.58it/s]"
     ]
    },
    {
     "name": "stdout",
     "output_type": "stream",
     "text": [
      "this_theta_idx = 3\n",
      "tensor(126979.8516, grad_fn=<SelectBackward>)\n",
      "this_theta_idx = 0\n",
      "this_theta_idx = 1\n"
     ]
    },
    {
     "name": "stderr",
     "output_type": "stream",
     "text": [
      " 40%|████      | 4/10 [00:01<00:02,  2.59it/s]"
     ]
    },
    {
     "name": "stdout",
     "output_type": "stream",
     "text": [
      "this_theta_idx = 2\n",
      "this_theta_idx = 3\n",
      "tensor(112204.7969, grad_fn=<SelectBackward>)\n",
      "this_theta_idx = 0\n",
      "this_theta_idx = 1\n",
      "this_theta_idx = 2\n",
      "this_theta_idx = 3\n"
     ]
    },
    {
     "name": "stderr",
     "output_type": "stream",
     "text": [
      " 50%|█████     | 5/10 [00:01<00:01,  2.59it/s]"
     ]
    },
    {
     "name": "stdout",
     "output_type": "stream",
     "text": [
      "tensor(80974.0156, grad_fn=<SelectBackward>)\n",
      "this_theta_idx = 0\n",
      "this_theta_idx = 1\n"
     ]
    },
    {
     "name": "stderr",
     "output_type": "stream",
     "text": [
      " 60%|██████    | 6/10 [00:02<00:01,  2.53it/s]"
     ]
    },
    {
     "name": "stdout",
     "output_type": "stream",
     "text": [
      "this_theta_idx = 2\n",
      "this_theta_idx = 3\n",
      "tensor(69153.0234, grad_fn=<SelectBackward>)\n",
      "this_theta_idx = 0\n",
      "this_theta_idx = 1\n"
     ]
    },
    {
     "name": "stderr",
     "output_type": "stream",
     "text": [
      " 70%|███████   | 7/10 [00:02<00:01,  2.53it/s]"
     ]
    },
    {
     "name": "stdout",
     "output_type": "stream",
     "text": [
      "this_theta_idx = 2\n",
      "this_theta_idx = 3\n",
      "tensor(49943.9297, grad_fn=<SelectBackward>)\n",
      "this_theta_idx = 0\n",
      "this_theta_idx = 1\n",
      "this_theta_idx = 2\n",
      "this_theta_idx = 3\n"
     ]
    },
    {
     "name": "stderr",
     "output_type": "stream",
     "text": [
      " 80%|████████  | 8/10 [00:03<00:00,  2.54it/s]"
     ]
    },
    {
     "name": "stdout",
     "output_type": "stream",
     "text": [
      "tensor(44562.2109, grad_fn=<SelectBackward>)\n",
      "this_theta_idx = 0\n",
      "this_theta_idx = 1\n",
      "this_theta_idx = 2\n"
     ]
    },
    {
     "name": "stderr",
     "output_type": "stream",
     "text": [
      " 90%|█████████ | 9/10 [00:03<00:00,  2.57it/s]"
     ]
    },
    {
     "name": "stdout",
     "output_type": "stream",
     "text": [
      "this_theta_idx = 3\n",
      "tensor(36558.7930, grad_fn=<SelectBackward>)\n",
      "this_theta_idx = 0\n",
      "this_theta_idx = 1\n",
      "this_theta_idx = 2\n",
      "this_theta_idx = 3\n"
     ]
    },
    {
     "name": "stderr",
     "output_type": "stream",
     "text": [
      "100%|██████████| 10/10 [00:03<00:00,  2.56it/s]"
     ]
    },
    {
     "name": "stdout",
     "output_type": "stream",
     "text": [
      "tensor(31112.6484, grad_fn=<SelectBackward>)\n"
     ]
    },
    {
     "name": "stderr",
     "output_type": "stream",
     "text": [
      "\n"
     ]
    },
    {
     "data": {
      "text/plain": [
       "[<matplotlib.lines.Line2D at 0x7ff67086d610>]"
      ]
     },
     "execution_count": 27,
     "metadata": {},
     "output_type": "execute_result"
    },
    {
     "data": {
      "image/png": "[encoded data removed]",
      "text/plain": [
       "<Figure size 432x288 with 1 Axes>"
      ]
     },
     "metadata": {
      "needs_background": "light"
     },
     "output_type": "display_data"
    }
   ],
   "source": [
    "loss_xp_ls = tc.zeros(n_minibatch)\n",
    "loss_theta_ls = tc.zeros(len(theta_ls))\n",
    "loss_epoch = tc.zeros(n_epoch)\n",
    "\n",
    "for epoch in tqdm(range(n_epoch)):\n",
    "    for this_theta_idx in range(len(theta_ls)):\n",
    "        print(\"this_theta_idx = %d\" %(this_theta_idx))\n",
    "        for m in range(n_minibatch):        \n",
    "            X = np.load(os.path.join(recon_path, 'sample3_recon.npy')).astype(np.float32)\n",
    "            X = tc.from_numpy(X)\n",
    "#             print(X)\n",
    "            y_hat = model[m](X, theta_st, theta_end, n_theta, this_theta_idx, sample_height_n, sample_size_n, sample_size_cm, this_aN_dic,\n",
    "                             probe_energy, probe_cts, n_det, det_size_cm, det_from_sample_cm)\n",
    "            \n",
    "#             print(\"y_hat = \")\n",
    "#             print(y_hat)\n",
    "            \n",
    "#             print(\"y_true[this_theta_idx] = \")\n",
    "#             print(y_true[this_theta_idx])\n",
    "            \n",
    "            loss = loss_fn(y_hat, y_true[this_theta_idx])\n",
    "            loss_xp_ls[m] = loss\n",
    "            optimizer[m].zero_grad()\n",
    "            loss.backward()\n",
    "            optimizer[m].step()\n",
    "            \n",
    "            \n",
    "            X[:, :, minibatch_size*m:minibatch_size*(m+1),:] = model[m].xp\n",
    "            X[:, :, minibatch_size*m:minibatch_size*(m+1),:] = X[:, :, minibatch_size*m:minibatch_size*(m+1),:].clamp(0,10)\n",
    "            X = tc.tensor(X.detach().numpy())\n",
    "            np.save(os.path.join(recon_path, 'sample3_recon.npy'), X)\n",
    "#         print(\"updated model after a theta\")\n",
    "#         print(X)    \n",
    "        loss_theta_ls[this_theta_idx] = tc.sum(loss_xp_ls)\n",
    "    loss_epoch[epoch] = tc.mean(loss_theta_ls)\n",
    "    print(loss_epoch[epoch])\n",
    "            \n",
    "plt.plot(loss_epoch.detach().numpy())          \n",
    "    \n",
    "# Check whether model.parameters() is model.x\n",
    "#     print('Is model.parameters()= model.x?', list(model.parameters())[0] is model.x, '\\n') # or print(list(model.parameters())[0] == model.x)\n",
    "#     print('Print model.x', model.x, '\\n')\n",
    "#     print('Loss for angle {}: {}'.format(i, loss.item()) )"
   ]
  },
  {
   "cell_type": "code",
   "execution_count": 28,
   "metadata": {
    "collapsed": true,
    "jupyter": {
     "outputs_hidden": true
    }
   },
   "outputs": [
    {
     "name": "stdout",
     "output_type": "stream",
     "text": [
      "torch.Size([5, 1, 5, 5])\n"
     ]
    },
    {
     "data": {
      "text/plain": [
       "Text(0.5, 1.0, 'intensity')"
      ]
     },
     "execution_count": 28,
     "metadata": {},
     "output_type": "execute_result"
    },
    {
     "data": {
      "image/png": "[encoded data removed]",
      "text/plain": [
       "<Figure size 1440x216 with 10 Axes>"
      ]
     },
     "metadata": {
      "needs_background": "light"
     },
     "output_type": "display_data"
    }
   ],
   "source": [
    "X = np.load(os.path.join(recon_path, 'sample3_recon.npy'))\n",
    "X = tc.tensor(X)\n",
    "print(X.shape)\n",
    "\n",
    "image_size = 5\n",
    "fig6 = plt.figure(figsize=(20,3))\n",
    "gs6 = gridspec.GridSpec(nrows=1, ncols=5, width_ratios=[1,1,1,1,1])\n",
    "\n",
    "fig6_ax1 = fig6.add_subplot(gs6[0,0])\n",
    "fig6_ax1.set_xticks(np.arange(0, image_size, 1))\n",
    "fig6_ax1.set_yticks(np.arange(0, image_size, 1))\n",
    "# fig6_ax1.grid(color='w', linewidth=2)\n",
    "fig6_ax1.axis('off')\n",
    "pos = fig6_ax1.imshow(X[0,0], cmap='jet', vmin=0, vmax=1.4, extent=[0, 5, 5, 0], origin='upper')\n",
    "divider = make_axes_locatable(fig6_ax1)\n",
    "cax = divider.append_axes(\"right\", size=\"5%\", pad=0.05)\n",
    "ticks = np.array([0, 0.2, 0.4, 0.6, 0.8, 1.0, 1.2, 1.4])\n",
    "cbar = fig6.colorbar(pos, cax=cax, ticks=ticks)\n",
    "cbar.ax.tick_params(labelsize=14) \n",
    "cbar.ax.set_title('intensity', size='14')\n",
    "\n",
    "fig6_ax2 = fig6.add_subplot(gs6[0,1])\n",
    "fig6_ax2.set_xticks(np.arange(0, image_size, 1))\n",
    "fig6_ax2.set_yticks(np.arange(0, image_size, 1))\n",
    "# fig6_ax2.grid(color='w', linewidth=2)\n",
    "fig6_ax2.axis('off')\n",
    "pos = fig6_ax2.imshow(X[1,0], cmap='jet', vmin=0, vmax=1.4, extent=[0, 5, 5, 0], origin='upper')\n",
    "divider = make_axes_locatable(fig6_ax2)\n",
    "cax = divider.append_axes(\"right\", size=\"5%\", pad=0.05)\n",
    "ticks = np.array([0, 0.2, 0.4, 0.6, 0.8, 1.0, 1.2, 1.4])\n",
    "cbar = fig6.colorbar(pos, cax=cax, ticks=ticks)\n",
    "cbar.ax.tick_params(labelsize=14) \n",
    "cbar.ax.set_title('intensity', size='14')\n",
    "\n",
    "fig6_ax3 = fig6.add_subplot(gs6[0,2])\n",
    "fig6_ax3.set_xticks(np.arange(0, image_size, 1))\n",
    "fig6_ax3.set_yticks(np.arange(0, image_size, 1))\n",
    "# fig6_ax3.grid(color='w', linewidth=2)\n",
    "fig6_ax3.axis('off')\n",
    "pos = fig6_ax3.imshow(X[2,0], cmap='jet', vmin=0, vmax=1.4, extent=[0, 5, 5, 0], origin='upper')\n",
    "divider = make_axes_locatable(fig6_ax3)\n",
    "cax = divider.append_axes(\"right\", size=\"5%\", pad=0.05)\n",
    "ticks = np.array([0, 0.2, 0.4, 0.6, 0.8, 1.0, 1.2, 1.4])\n",
    "cbar = fig6.colorbar(pos, cax=cax, ticks=ticks)\n",
    "cbar.ax.tick_params(labelsize=14) \n",
    "cbar.ax.set_title('intensity', size='14')\n",
    "\n",
    "fig6_ax4 = fig6.add_subplot(gs6[0,3])\n",
    "fig6_ax4.set_xticks(np.arange(0, image_size, 1))\n",
    "fig6_ax4.set_yticks(np.arange(0, image_size, 1))\n",
    "# fig6_ax4.grid(color='w', linewidth=2)\n",
    "fig6_ax4.axis('off')\n",
    "pos = fig6_ax4.imshow(X[3,0], cmap='jet', vmin=0, vmax=1.4, extent=[0, 5, 5, 0], origin='upper')\n",
    "divider = make_axes_locatable(fig6_ax4)\n",
    "cax = divider.append_axes(\"right\", size=\"5%\", pad=0.05)\n",
    "ticks = np.array([0, 0.2, 0.4, 0.6, 0.8, 1.0, 1.2, 1.4])\n",
    "cbar = fig6.colorbar(pos, cax=cax, ticks=ticks)\n",
    "cbar.ax.tick_params(labelsize=14) \n",
    "cbar.ax.set_title('intensity', size='14')\n",
    "\n",
    "fig6_ax5 = fig6.add_subplot(gs6[0,4])\n",
    "fig6_ax5.set_xticks(np.arange(0, image_size, 1))\n",
    "fig6_ax5.set_yticks(np.arange(0, image_size, 1))\n",
    "# fig6_ax5.grid(color='w', linewidth=2)\n",
    "# fig6_ax5.axis('off')\n",
    "pos = fig6_ax5.imshow(X[4,0], cmap='jet', vmin=0, vmax=1.4, extent=[0, 5, 5, 0], origin='upper')\n",
    "divider = make_axes_locatable(fig6_ax5)\n",
    "cax = divider.append_axes(\"right\", size=\"5%\", pad=0.05)\n",
    "ticks = np.array([0, 0.2, 0.4, 0.6, 0.8, 1.0, 1.2, 1.4])\n",
    "cbar = fig6.colorbar(pos, cax=cax, ticks=ticks)\n",
    "cbar.ax.tick_params(labelsize=14) \n",
    "cbar.ax.set_title('intensity', size='14')"
   ]
  },
  {
   "cell_type": "code",
   "execution_count": 235,
   "metadata": {
    "jupyter": {
     "source_hidden": true
    }
   },
   "outputs": [
    {
     "data": {
      "text/plain": [
       "Text(0.5, 1.0, 'intensity')"
      ]
     },
     "execution_count": 235,
     "metadata": {},
     "output_type": "execute_result"
    },
    {
     "data": {
      "image/png": "[encoded data removed]",
      "text/plain": [
       "<Figure size 1440x216 with 10 Axes>"
      ]
     },
     "metadata": {
      "needs_background": "light"
     },
     "output_type": "display_data"
    }
   ],
   "source": [
    "## Plot true models\n",
    "\n",
    "X_true = np.load('./data/sample3_pad/grid_concentration.npy')\n",
    "\n",
    "fig6 = plt.figure(figsize=(20,3))\n",
    "gs6 = gridspec.GridSpec(nrows=1, ncols=5, width_ratios=[1,1,1,1,1])\n",
    "\n",
    "fig6_ax1 = fig6.add_subplot(gs6[0,0])\n",
    "fig6_ax1.set_xticks(np.arange(0, image_size, 1))\n",
    "fig6_ax1.set_yticks(np.arange(0, image_size, 1))\n",
    "# fig6_ax1.grid(color='w', linewidth=2)\n",
    "fig6_ax1.axis('off')\n",
    "pos = fig6_ax1.imshow(X_true[0], cmap='jet', vmin=0, vmax=1.4, extent=[0, 20, 20, 0], origin='upper')\n",
    "divider = make_axes_locatable(fig6_ax1)\n",
    "cax = divider.append_axes(\"right\", size=\"5%\", pad=0.05)\n",
    "ticks = np.array([0, 0.2, 0.4, 0.6, 0.8, 1.0, 1.2, 1.4])\n",
    "cbar = fig6.colorbar(pos, cax=cax, ticks=ticks)\n",
    "cbar.ax.tick_params(labelsize=14) \n",
    "cbar.ax.set_title('intensity', size='14')\n",
    "\n",
    "fig6_ax2 = fig6.add_subplot(gs6[0,1])\n",
    "fig6_ax2.set_xticks(np.arange(0, image_size, 1))\n",
    "fig6_ax2.set_yticks(np.arange(0, image_size, 1))\n",
    "# fig6_ax2.grid(color='w', linewidth=2)\n",
    "fig6_ax2.axis('off')\n",
    "pos = fig6_ax2.imshow(X_true[1], cmap='jet', vmin=0, vmax=1.4, extent=[0, 20, 20, 0], origin='upper')\n",
    "divider = make_axes_locatable(fig6_ax2)\n",
    "cax = divider.append_axes(\"right\", size=\"5%\", pad=0.05)\n",
    "ticks = np.array([0, 0.2, 0.4, 0.6, 0.8, 1.0, 1.2, 1.4])\n",
    "cbar = fig6.colorbar(pos, cax=cax, ticks=ticks)\n",
    "cbar.ax.tick_params(labelsize=14) \n",
    "cbar.ax.set_title('intensity', size='14')\n",
    "\n",
    "fig6_ax3 = fig6.add_subplot(gs6[0,2])\n",
    "fig6_ax3.set_xticks(np.arange(0, image_size, 1))\n",
    "fig6_ax3.set_yticks(np.arange(0, image_size, 1))\n",
    "# fig6_ax3.grid(color='w', linewidth=2)\n",
    "fig6_ax3.axis('off')\n",
    "pos = fig6_ax3.imshow(X_true[2], cmap='jet', vmin=0, vmax=1.4, extent=[0, 20, 20, 0], origin='upper')\n",
    "divider = make_axes_locatable(fig6_ax3)\n",
    "cax = divider.append_axes(\"right\", size=\"5%\", pad=0.05)\n",
    "ticks = np.array([0, 0.2, 0.4, 0.6, 0.8, 1.0, 1.2, 1.4])\n",
    "cbar = fig6.colorbar(pos, cax=cax, ticks=ticks)\n",
    "cbar.ax.tick_params(labelsize=14) \n",
    "cbar.ax.set_title('intensity', size='14')\n",
    "\n",
    "fig6_ax4 = fig6.add_subplot(gs6[0,3])\n",
    "fig6_ax4.set_xticks(np.arange(0, image_size, 1))\n",
    "fig6_ax4.set_yticks(np.arange(0, image_size, 1))\n",
    "# fig6_ax4.grid(color='w', linewidth=2)\n",
    "fig6_ax4.axis('off')\n",
    "pos = fig6_ax4.imshow(X_true[3], cmap='jet', vmin=0, vmax=1.4, extent=[0, 20, 20, 0], origin='upper')\n",
    "divider = make_axes_locatable(fig6_ax4)\n",
    "cax = divider.append_axes(\"right\", size=\"5%\", pad=0.05)\n",
    "ticks = np.array([0, 0.2, 0.4, 0.6, 0.8, 1.0, 1.2, 1.4])\n",
    "cbar = fig6.colorbar(pos, cax=cax, ticks=ticks)\n",
    "cbar.ax.tick_params(labelsize=14) \n",
    "cbar.ax.set_title('intensity', size='14')\n",
    "\n",
    "fig6_ax5 = fig6.add_subplot(gs6[0,4])\n",
    "fig6_ax5.set_xticks(np.arange(0, image_size, 1))\n",
    "fig6_ax5.set_yticks(np.arange(0, image_size, 1))\n",
    "# fig6_ax5.grid(color='w', linewidth=2)\n",
    "fig6_ax5.axis('off')\n",
    "pos = fig6_ax5.imshow(X_true[4], cmap='jet', vmin=0, vmax=1.4, extent=[0, 20, 20, 0], origin='upper')\n",
    "divider = make_axes_locatable(fig6_ax5)\n",
    "cax = divider.append_axes(\"right\", size=\"5%\", pad=0.05)\n",
    "ticks = np.array([0, 0.2, 0.4, 0.6, 0.8, 1.0, 1.2, 1.4])\n",
    "cbar = fig6.colorbar(pos, cax=cax, ticks=ticks)\n",
    "cbar.ax.tick_params(labelsize=14) \n",
    "cbar.ax.set_title('intensity', size='14')"
   ]
  },
  {
   "cell_type": "markdown",
   "metadata": {},
   "source": [
    "## Constant initial guess (0.5)"
   ]
  },
  {
   "cell_type": "code",
   "execution_count": 218,
   "metadata": {},
   "outputs": [],
   "source": [
    "class PPM(nn.Module):\n",
    "    def __init__(self, grid_concentration, p, n_element, sample_height_n, minibatch_size, sample_size_n):\n",
    "        \"\"\"\n",
    "        Initialize the attributes of PPM. \n",
    "        \"\"\"\n",
    "        super(PPM, self).__init__() # inherit the __init__ from nn.Module.\n",
    "        self.grid_concentration = grid_concentration\n",
    "        self.n_element = n_element\n",
    "        self.sample_height_n = sample_height_n\n",
    "        self.minibatch_size = minibatch_size\n",
    "        self.sample_size_n = sample_size_n\n",
    "        self.p = p  # indicate which minibatch to calculate the gradient  \n",
    "        self.xp = self.init_xp() # initialize the values of the minibatch\n",
    "        \n",
    "        \n",
    "    def init_xp(self):\n",
    "        \"\"\"\n",
    "        Initialize self.x with 5x6x30 zero tensor. (n_minibatch x minibatch_dim0 x minibatch_dim1)\n",
    "        \"\"\"\n",
    "        return nn.Parameter(tc.zeros(self.n_element, self.sample_height_n, self.minibatch_size, self.sample_size_n) + 0.5)\n",
    "#         return nn.Parameter(self.grid_concentration[:, :, self.minibatch_size * self.p:self.minibatch_size*(self.p+1),:])\n",
    "    \n",
    "    \n",
    "    def forward(self, grid_concentration, theta_st, theta_end, n_theta, this_theta_idx, sample_height_n, sample_size_n,\n",
    "                sample_size_cm, this_aN_dic, probe_energy, probe_cts, n_det, det_size_cm, det_from_sample_cm):  # convert X to y_hat; dimension changes from (5, 30, 30) to (30, 8)\n",
    "        \"\"\"\n",
    "        Forward propagation.\n",
    "        \"\"\"      \n",
    "        \n",
    "        ### 1: Calculate the map of attenuation and transmission ###\n",
    "        grid_concentration[:, :, minibatch_size * self.p:minibatch_size * (self.p+1), :] = self.xp\n",
    "        \n",
    "        element_ls = np.array(list(this_aN_dic.keys()))\n",
    "        aN_ls = np.array(list(this_aN_dic.values()))\n",
    "\n",
    "        probe_attCS_ls = xlib_np.CS_Total(aN_ls, probe_energy).flatten()\n",
    "        probe_attCS_dic = dict(zip(element_ls, probe_attCS_ls))\n",
    "\n",
    "        theta_ls = - tc.linspace(theta_st, theta_end, n_theta)\n",
    "        theta = theta_ls[this_theta_idx]\n",
    "\n",
    "        att_exponent_acc_map = tc.zeros((sample_height_n, sample_size_n, sample_size_n+1))\n",
    "        concentration_map_rot = rotate(grid_concentration, theta)\n",
    "        \n",
    "#         print(concentration_map_rot)\n",
    "        for j, element in enumerate(element_ls):\n",
    "            lac_single = concentration_map_rot[j] * probe_attCS_dic[element]\n",
    "            lac_acc = tc.cumsum(lac_single, axis=2)\n",
    "            lac_acc = tc.cat((tc.zeros((sample_height_n, sample_size_n, 1)), lac_acc), dim = 2)\n",
    "            att_exponent_acc = lac_acc * (sample_size_cm / sample_size_n)    \n",
    "            att_exponent_acc_map += att_exponent_acc\n",
    "        attenuation_map_theta_flat = tc.exp(-(att_exponent_acc_map[:,:,:-1])).view(sample_height_n * sample_size_n * sample_size_n)\n",
    "        transmission_theta = tc.exp(-att_exponent_acc_map[:,:,-1]).view(sample_height_n * sample_size_n)\n",
    "\n",
    "        ### 2: Calculate FL signal generated at each voxel assuming single photon enters each voxel###\n",
    "        ## The dimension of FL_map is ( n_elemental_line, sample_size * sample_size)\n",
    "        fl_all_lines_dic = MakeFLlinesDictionary(this_aN_dic, probe_energy,\n",
    "                              sample_size_n, sample_size_cm,\n",
    "                              fl_line_groups = np.array([\"K\", \"L\", \"M\"]), fl_K = fl_K, fl_L = fl_L, fl_M = fl_M,\n",
    "                              group_lines = True)\n",
    "\n",
    "        fl_map_tot_flat_theta = tc.zeros((len(fl_all_lines_dic[\"(element_name, Line)\"]), sample_height_n * sample_size_n * sample_size_n))\n",
    "        concentration_map_rot = rotate(grid_concentration, theta)\n",
    "        concentration_map_rot_flat = concentration_map_rot.view(len(this_aN_dic), sample_height_n * sample_size_n * sample_size_n)\n",
    "        \n",
    "        line_idx = 0\n",
    "        for j, element in enumerate(element_ls):\n",
    "            fl_unit = fl_all_lines_dic[\"detected_fl_unit_concentration\"][fl_all_lines_dic[\"(element_name, Line)\"][:,0] == element]\n",
    "\n",
    "            ## FL signal over the current elemental lines for each voxel\n",
    "            fl_map = [concentration_map_rot_flat[j] * fl_unit_single_line for fl_unit_single_line in fl_unit]\n",
    "            fl_map = tc.stack(fl_map)   \n",
    "\n",
    "            fl_map_tot_flat_theta[line_idx:line_idx + fl_map.shape[0],:] = fl_map            \n",
    "            line_idx = line_idx + len(fl_unit)\n",
    "            \n",
    "        ### 3: Calculate SA (the map of attenuation ratio due to self-absorption of the FL signal):\n",
    "        # 1. for each FL emitting source voxel (sample_size x sample_size),\n",
    "        # 2. we have an attenuation ratio when the photon for each elemental line reaches the edge of the sample (due to self absorption) (n_elemental_line)\n",
    "\n",
    "\n",
    "        #### The dimension of SA:\n",
    "        # (n_theta, sample_size * sample_size, n_elemental_line)\n",
    "        # generate an arrary of total attenuation cross section with the dimension: (n_element, n_elemental_lines)\n",
    "        # The component in the array represents the total attenuation cross section at some line energy in some element (with unitary concentration)\n",
    "        FL_line_attCS_ls = tc.from_numpy(xlib_np.CS_Total(aN_ls, fl_all_lines_dic[\"fl_energy\"]))\n",
    "\n",
    "        # print(FL_line_attCS_ls.shape)\n",
    "        P = intersecting_length_fl_detectorlet(n_det, det_size_cm, det_from_sample_cm, sample_size_n, sample_size_cm)\n",
    "        SA_theta = tc.zeros((len(fl_all_lines_dic[\"(element_name, Line)\"]), sample_height_n * sample_size_n * sample_size_n))\n",
    "        for j in np.arange(sample_height_n * sample_size_n * sample_size_n):       \n",
    "            att_exponent_elemental_sum_temp = tc.zeros((len(element_ls), n_det, len(fl_all_lines_dic[\"(element_name, Line)\"])))\n",
    "            for k, element in enumerate(element_ls):\n",
    "                ## flattened concentration_map after rotation: (sample_height_n * sample_size_n * sample_size_n)\n",
    "                concentration_map_rot_flat = concentration_map_rot[k].view(sample_height_n * sample_size_n * sample_size_n)\n",
    "        #         print(concentration_map_rot_flat.shape)\n",
    "\n",
    "                ## llinear attenuation coefficient for each fl-line at each voxel: (len(fl_lines_all[\"(element_name, Line)\"]), sample_size * sample_size)\n",
    "                lac = tc.stack([FL_line_attCS * concentration_map_rot_flat for FL_line_attCS in FL_line_attCS_ls[k]])\n",
    "                lac = tc.transpose(lac,1,0)\n",
    "\n",
    "                ## att_exponent = [(intersecting_length_path1 * lac), (intersecting_length_path2 * lac), ..., (intersecting_length_path5 * lac)]:\n",
    "                ## att_exponent (for each fl-line, at each_voxel, for each beam path): (n_det, sample_size * sample_size, len(fl_lines_all[\"(element_name, Line)\"]))\n",
    "                att_exponent = tc.stack([tc.unsqueeze(P[m,j,:], dim=1) * lac for m in range(n_det)])\n",
    "\n",
    "\n",
    "                ## att_exponent summing over voxels (for each line, for each beam path): (n_det, n_elemental_line)\n",
    "                att_exponent_voxel_sum = tc.sum(att_exponent, axis=1)\n",
    "\n",
    "                ## filling att_exponent_voxel_sum to att_exponent_elemental_sum for each element\n",
    "                att_exponent_elemental_sum_temp[k, :, :] = att_exponent_voxel_sum\n",
    "\n",
    "            ## summing over the attenation exponent contributed by each element\n",
    "            att_exponent_elemental_sum =  tc.sum(att_exponent_elemental_sum_temp, axis=0)  \n",
    "\n",
    "            ## calculate the attenuation caused by all elements\n",
    "            att = tc.exp(- att_exponent_elemental_sum)\n",
    "\n",
    "            ## calculate the attenuation averaged all paths\n",
    "            att_path_ave = tc.mean(att, axis=0)\n",
    "            SA_theta[:,j] = att_path_ave\n",
    "              \n",
    "        #### Create XRF data ####\n",
    "        probe_before_attenuation_flat = probe_cts * tc.ones((sample_height_n * sample_size_n * sample_size_n))\n",
    "        probe_after_attenuation_theta = probe_before_attenuation_flat * attenuation_map_theta_flat  \n",
    "\n",
    "        fl_signal_wo_SA_theta = tc.unsqueeze(probe_after_attenuation_theta, dim=0) * fl_map_tot_flat_theta\n",
    "        fl_signal_SA_theta = fl_signal_wo_SA_theta * SA_theta\n",
    "\n",
    "\n",
    "        fl_signal_SA_theta = fl_signal_SA_theta.view(-1, sample_size_n * sample_height_n, sample_size_n)\n",
    "        fl_signal_SA_theta = tc.sum(fl_signal_SA_theta, axis=2)\n",
    "        output = fl_signal_SA_theta\n",
    "        return output"
   ]
  },
  {
   "cell_type": "code",
   "execution_count": 219,
   "metadata": {},
   "outputs": [],
   "source": [
    "theta_st = 0\n",
    "theta_end = 180\n",
    "n_theta = 4\n",
    "theta_ls = - tc.linspace(theta_st, theta_end, n_theta)\n",
    "this_theta_idx = 0\n",
    "sample_size_n = 5\n",
    "sample_height_n = 1\n",
    "sample_size_cm = 0.01\n",
    "this_aN_dic = {\"C\": 6, \"O\": 8, \"Si\": 14, \"Ca\": 20, \"Fe\": 26}\n",
    "probe_energy = np.array([20.0])\n",
    "probe_cts = 1.0E7\n",
    "n_det = 5\n",
    "det_size_cm = 0.24\n",
    "det_from_sample_cm = 1.6"
   ]
  },
  {
   "cell_type": "code",
   "execution_count": 220,
   "metadata": {},
   "outputs": [
    {
     "name": "stdout",
     "output_type": "stream",
     "text": [
      "(5, 1, 5, 5)\n",
      "[[[[8.45136084e-02 2.35563009e-02 0.00000000e+00 0.00000000e+00\n",
      "    0.00000000e+00]\n",
      "   [1.91671499e-01 4.31768786e-01 7.57625707e-01 5.29188341e-01\n",
      "    0.00000000e+00]\n",
      "   [0.00000000e+00 5.98708057e-01 1.31554591e-01 7.16826501e-01\n",
      "    0.00000000e+00]\n",
      "   [0.00000000e+00 6.10159057e-01 6.12368416e-01 4.94868842e-01\n",
      "    3.61249179e-02]\n",
      "   [0.00000000e+00 5.98274458e-03 7.67973935e-02 4.79199679e-02\n",
      "    9.59747015e-03]]]\n",
      "\n",
      "\n",
      " [[[0.00000000e+00 9.05490333e-02 4.15227986e-02 8.78756913e-02\n",
      "    0.00000000e+00]\n",
      "   [0.00000000e+00 1.20241125e+00 1.47337462e+00 1.17454269e+00\n",
      "    0.00000000e+00]\n",
      "   [7.93120554e-02 1.27563647e+00 9.60173472e-01 1.24771734e+00\n",
      "    2.28515098e-02]\n",
      "   [6.23018176e-02 9.88799566e-01 1.20745834e+00 1.29262862e+00\n",
      "    0.00000000e+00]\n",
      "   [0.00000000e+00 1.30984213e-01 1.07809749e-01 7.82371693e-02\n",
      "    0.00000000e+00]]]\n",
      "\n",
      "\n",
      " [[[1.05225298e-01 0.00000000e+00 0.00000000e+00 0.00000000e+00\n",
      "    0.00000000e+00]\n",
      "   [1.43125359e-01 0.00000000e+00 0.00000000e+00 2.72622654e-02\n",
      "    0.00000000e+00]\n",
      "   [0.00000000e+00 6.73185474e-02 2.66899489e-01 3.79981290e-02\n",
      "    3.13741157e-01]\n",
      "   [0.00000000e+00 1.35646687e-01 1.64132508e-01 2.65812753e-01\n",
      "    0.00000000e+00]\n",
      "   [8.97157785e-02 1.95736520e-01 0.00000000e+00 2.91802604e-01\n",
      "    9.99767965e-02]]]\n",
      "\n",
      "\n",
      " [[[6.98869728e-02 2.22537308e-01 0.00000000e+00 0.00000000e+00\n",
      "    4.86520274e-02]\n",
      "   [2.47329590e-01 0.00000000e+00 4.22036805e-03 0.00000000e+00\n",
      "    0.00000000e+00]\n",
      "   [0.00000000e+00 0.00000000e+00 1.29099410e+00 1.18305994e-01\n",
      "    6.39014099e-03]\n",
      "   [3.65887819e-02 7.45930275e-02 3.63731535e-02 0.00000000e+00\n",
      "    0.00000000e+00]\n",
      "   [0.00000000e+00 3.26816393e-02 1.53359737e-01 0.00000000e+00\n",
      "    1.51588010e-01]]]\n",
      "\n",
      "\n",
      " [[[0.00000000e+00 1.55968138e-01 8.15541103e-02 0.00000000e+00\n",
      "    0.00000000e+00]\n",
      "   [0.00000000e+00 0.00000000e+00 0.00000000e+00 0.00000000e+00\n",
      "    0.00000000e+00]\n",
      "   [0.00000000e+00 1.37592457e-03 5.85642070e-01 5.11107823e-01\n",
      "    0.00000000e+00]\n",
      "   [1.02055408e-01 0.00000000e+00 1.20411231e-01 0.00000000e+00\n",
      "    6.22977805e-02]\n",
      "   [0.00000000e+00 5.67273390e-02 6.20924994e-03 0.00000000e+00\n",
      "    0.00000000e+00]]]]\n"
     ]
    }
   ],
   "source": [
    "# X = tc.ones((5, 1, 5, 5))\n",
    "\n",
    "X = np.load(os.path.join('./data/sample3_pad', 'grid_concentration.npy')).astype(np.float32)\n",
    "X = X[:,np.newaxis,:,:]\n",
    "X = X + 0.1 * np.random.randn(X.shape[0], X.shape[1], X.shape[2], X.shape[3])\n",
    "X = np.clip(X, 0, 10)\n",
    "print(X.shape)\n",
    "print(X)\n",
    "recon_path = 'data/sample3_recon'\n",
    "np.save(os.path.join(recon_path, 'sample3_recon.npy'), X)"
   ]
  },
  {
   "cell_type": "code",
   "execution_count": 226,
   "metadata": {},
   "outputs": [
    {
     "name": "stdout",
     "output_type": "stream",
     "text": [
      "torch.Size([4, 8, 5])\n",
      "tensor([[[[0.8420, 0.7979, 0.7946, 0.8361, 0.7963],\n",
      "          [0.9398, 0.5634, 0.0319, 0.3057, 0.7256],\n",
      "          [0.8573, 0.4477, 0.6241, 0.7013, 0.8853],\n",
      "          [0.8012, 0.4952, 0.0617, 0.5265, 0.9270],\n",
      "          [0.8473, 0.9742, 0.8777, 0.8365, 0.8226]]],\n",
      "\n",
      "\n",
      "        [[[0.8410, 0.8274, 0.8528, 0.7800, 0.7546],\n",
      "          [0.9878, 0.5834, 0.0412, 0.3153, 0.7537],\n",
      "          [0.8781, 0.4762, 0.6922, 0.6960, 0.9371],\n",
      "          [0.7418, 0.3832, 0.0701, 0.5140, 0.9407],\n",
      "          [0.8587, 0.8843, 0.8398, 0.8624, 0.8509]]],\n",
      "\n",
      "\n",
      "        [[[0.7889, 0.7343, 0.7807, 0.7837, 0.7228],\n",
      "          [0.8875, 0.6013, 0.0427, 0.3375, 0.7333],\n",
      "          [0.7774, 0.4935, 0.6986, 0.7608, 0.8806],\n",
      "          [0.7423, 0.4428, 0.1708, 0.4442, 0.8865],\n",
      "          [0.7460, 0.9072, 0.7699, 0.8194, 0.7851]]],\n",
      "\n",
      "\n",
      "        [[[0.0931, 0.0971, 0.0861, 0.1718, 0.2479],\n",
      "          [0.0878, 0.0706, 0.0517, 0.5238, 0.7336],\n",
      "          [0.1164, 0.7410, 1.4168, 0.9178, 0.3116],\n",
      "          [0.1350, 0.5761, 0.2703, 0.0881, 0.0910],\n",
      "          [0.2753, 0.1520, 0.0216, 0.0164, 0.0339]]],\n",
      "\n",
      "\n",
      "        [[[0.0928, 0.0404, 0.0176, 0.1099, 0.1014],\n",
      "          [0.0542, 0.0579, 0.0587, 0.0823, 0.2114],\n",
      "          [0.1498, 0.1342, 0.8156, 0.6009, 0.1926],\n",
      "          [0.0286, 0.1481, 0.0215, 0.0759, 0.0724],\n",
      "          [0.1209, 0.0951, 0.0118, 0.0506, 0.1345]]]])\n"
     ]
    }
   ],
   "source": [
    "# y_true = tc.randn(n_theta, 8, 10)\n",
    "y_true = data\n",
    "print(y_true.shape)\n",
    "n_element = len(this_aN_dic)\n",
    "\n",
    "n_minibatch = 5\n",
    "minibatch_size = y_true[0].shape[1]//n_minibatch\n",
    "\n",
    "X = np.array(X).astype(np.float32)\n",
    "X = tc.from_numpy(X) \n",
    "X = X + 0.1 * tc.rand(X.shape)\n",
    "print(X)\n",
    "model = [PPM(X, m, n_element, sample_height_n, minibatch_size, sample_size_n) for m in range(5)]\n",
    "loss_fn = nn.MSELoss()\n",
    "optimizer = [tc.optim.Adam(model[m].parameters(), lr=0.01) for m in range(5)]"
   ]
  },
  {
   "cell_type": "code",
   "execution_count": 227,
   "metadata": {},
   "outputs": [
    {
     "name": "stdout",
     "output_type": "stream",
     "text": [
      "Parameter containing:\n",
      "tensor([[[[0.5000, 0.5000, 0.5000, 0.5000, 0.5000]]],\n",
      "\n",
      "\n",
      "        [[[0.5000, 0.5000, 0.5000, 0.5000, 0.5000]]],\n",
      "\n",
      "\n",
      "        [[[0.5000, 0.5000, 0.5000, 0.5000, 0.5000]]],\n",
      "\n",
      "\n",
      "        [[[0.5000, 0.5000, 0.5000, 0.5000, 0.5000]]],\n",
      "\n",
      "\n",
      "        [[[0.5000, 0.5000, 0.5000, 0.5000, 0.5000]]]], requires_grad=True)\n"
     ]
    }
   ],
   "source": [
    "print(model[0].xp)"
   ]
  },
  {
   "cell_type": "code",
   "execution_count": 228,
   "metadata": {},
   "outputs": [],
   "source": [
    "n_epoch = 50"
   ]
  },
  {
   "cell_type": "code",
   "execution_count": 229,
   "metadata": {
    "collapsed": true,
    "jupyter": {
     "outputs_hidden": true
    }
   },
   "outputs": [
    {
     "name": "stderr",
     "output_type": "stream",
     "text": [
      "  0%|          | 0/50 [00:00<?, ?it/s]/opt/anaconda3/lib/python3.7/site-packages/torch/nn/functional.py:3447: UserWarning: Default grid_sample and affine_grid behavior has changed to align_corners=False since 1.3.0. Please specify align_corners=True if the old behavior is desired. See the documentation of grid_sample for details.\n",
      "  warnings.warn(\"Default grid_sample and affine_grid behavior has changed \"\n",
      "/opt/anaconda3/lib/python3.7/site-packages/torch/nn/functional.py:3384: UserWarning: Default grid_sample and affine_grid behavior has changed to align_corners=False since 1.3.0. Please specify align_corners=True if the old behavior is desired. See the documentation of grid_sample for details.\n",
      "  warnings.warn(\"Default grid_sample and affine_grid behavior has changed \"\n"
     ]
    },
    {
     "name": "stdout",
     "output_type": "stream",
     "text": [
      "this_theta_idx = 0\n",
      "this_theta_idx = 1\n",
      "this_theta_idx = 2\n",
      "this_theta_idx = 3\n"
     ]
    },
    {
     "name": "stderr",
     "output_type": "stream",
     "text": [
      "  2%|▏         | 1/50 [00:01<01:29,  1.82s/it]"
     ]
    },
    {
     "name": "stdout",
     "output_type": "stream",
     "text": [
      "tensor(1.7993e+10, grad_fn=<SelectBackward>)\n",
      "this_theta_idx = 0\n",
      "this_theta_idx = 1\n",
      "this_theta_idx = 2\n",
      "this_theta_idx = 3\n"
     ]
    },
    {
     "name": "stderr",
     "output_type": "stream",
     "text": [
      "  4%|▍         | 2/50 [00:03<01:31,  1.91s/it]"
     ]
    },
    {
     "name": "stdout",
     "output_type": "stream",
     "text": [
      "tensor(1.9610e+10, grad_fn=<SelectBackward>)\n",
      "this_theta_idx = 0\n",
      "this_theta_idx = 1\n",
      "this_theta_idx = 2\n",
      "this_theta_idx = 3\n"
     ]
    },
    {
     "name": "stderr",
     "output_type": "stream",
     "text": [
      "  6%|▌         | 3/50 [00:05<01:30,  1.93s/it]"
     ]
    },
    {
     "name": "stdout",
     "output_type": "stream",
     "text": [
      "tensor(1.7564e+10, grad_fn=<SelectBackward>)\n",
      "this_theta_idx = 0\n",
      "this_theta_idx = 1\n",
      "this_theta_idx = 2\n",
      "this_theta_idx = 3\n"
     ]
    },
    {
     "name": "stderr",
     "output_type": "stream",
     "text": [
      "  8%|▊         | 4/50 [00:07<01:28,  1.92s/it]"
     ]
    },
    {
     "name": "stdout",
     "output_type": "stream",
     "text": [
      "tensor(1.5750e+10, grad_fn=<SelectBackward>)\n",
      "this_theta_idx = 0\n",
      "this_theta_idx = 1\n",
      "this_theta_idx = 2\n",
      "this_theta_idx = 3\n"
     ]
    },
    {
     "name": "stderr",
     "output_type": "stream",
     "text": [
      " 10%|█         | 5/50 [00:09<01:28,  1.97s/it]"
     ]
    },
    {
     "name": "stdout",
     "output_type": "stream",
     "text": [
      "tensor(1.4120e+10, grad_fn=<SelectBackward>)\n",
      "this_theta_idx = 0\n",
      "this_theta_idx = 1\n",
      "this_theta_idx = 2\n",
      "this_theta_idx = 3\n"
     ]
    },
    {
     "name": "stderr",
     "output_type": "stream",
     "text": [
      " 12%|█▏        | 6/50 [00:11<01:25,  1.94s/it]"
     ]
    },
    {
     "name": "stdout",
     "output_type": "stream",
     "text": [
      "tensor(1.2641e+10, grad_fn=<SelectBackward>)\n",
      "this_theta_idx = 0\n",
      "this_theta_idx = 1\n",
      "this_theta_idx = 2\n",
      "this_theta_idx = 3\n"
     ]
    },
    {
     "name": "stderr",
     "output_type": "stream",
     "text": [
      " 14%|█▍        | 7/50 [00:13<01:25,  1.98s/it]"
     ]
    },
    {
     "name": "stdout",
     "output_type": "stream",
     "text": [
      "tensor(1.1287e+10, grad_fn=<SelectBackward>)\n",
      "this_theta_idx = 0\n",
      "this_theta_idx = 1\n",
      "this_theta_idx = 2\n",
      "this_theta_idx = 3\n"
     ]
    },
    {
     "name": "stderr",
     "output_type": "stream",
     "text": [
      " 16%|█▌        | 8/50 [00:15<01:21,  1.94s/it]"
     ]
    },
    {
     "name": "stdout",
     "output_type": "stream",
     "text": [
      "tensor(1.0041e+10, grad_fn=<SelectBackward>)\n",
      "this_theta_idx = 0\n",
      "this_theta_idx = 1\n",
      "this_theta_idx = 2\n",
      "this_theta_idx = 3\n"
     ]
    },
    {
     "name": "stderr",
     "output_type": "stream",
     "text": [
      " 18%|█▊        | 9/50 [00:17<01:18,  1.90s/it]"
     ]
    },
    {
     "name": "stdout",
     "output_type": "stream",
     "text": [
      "tensor(8.8940e+09, grad_fn=<SelectBackward>)\n",
      "this_theta_idx = 0\n",
      "this_theta_idx = 1\n",
      "this_theta_idx = 2\n",
      "this_theta_idx = 3\n"
     ]
    },
    {
     "name": "stderr",
     "output_type": "stream",
     "text": [
      " 20%|██        | 10/50 [00:19<01:17,  1.94s/it]"
     ]
    },
    {
     "name": "stdout",
     "output_type": "stream",
     "text": [
      "tensor(7.8376e+09, grad_fn=<SelectBackward>)\n",
      "this_theta_idx = 0\n",
      "this_theta_idx = 1\n",
      "this_theta_idx = 2\n",
      "this_theta_idx = 3\n"
     ]
    },
    {
     "name": "stderr",
     "output_type": "stream",
     "text": [
      " 22%|██▏       | 11/50 [00:21<01:17,  1.98s/it]"
     ]
    },
    {
     "name": "stdout",
     "output_type": "stream",
     "text": [
      "tensor(6.8677e+09, grad_fn=<SelectBackward>)\n",
      "this_theta_idx = 0\n",
      "this_theta_idx = 1\n",
      "this_theta_idx = 2\n",
      "this_theta_idx = 3\n"
     ]
    },
    {
     "name": "stderr",
     "output_type": "stream",
     "text": [
      " 24%|██▍       | 12/50 [00:23<01:16,  2.01s/it]"
     ]
    },
    {
     "name": "stdout",
     "output_type": "stream",
     "text": [
      "tensor(5.9806e+09, grad_fn=<SelectBackward>)\n",
      "this_theta_idx = 0\n",
      "this_theta_idx = 1\n",
      "this_theta_idx = 2\n",
      "this_theta_idx = 3\n"
     ]
    },
    {
     "name": "stderr",
     "output_type": "stream",
     "text": [
      " 26%|██▌       | 13/50 [00:25<01:12,  1.97s/it]"
     ]
    },
    {
     "name": "stdout",
     "output_type": "stream",
     "text": [
      "tensor(5.1735e+09, grad_fn=<SelectBackward>)\n",
      "this_theta_idx = 0\n",
      "this_theta_idx = 1\n",
      "this_theta_idx = 2\n",
      "this_theta_idx = 3\n"
     ]
    },
    {
     "name": "stderr",
     "output_type": "stream",
     "text": [
      " 28%|██▊       | 14/50 [00:27<01:09,  1.93s/it]"
     ]
    },
    {
     "name": "stdout",
     "output_type": "stream",
     "text": [
      "tensor(4.4435e+09, grad_fn=<SelectBackward>)\n",
      "this_theta_idx = 0\n",
      "this_theta_idx = 1\n",
      "this_theta_idx = 2\n",
      "this_theta_idx = 3\n"
     ]
    },
    {
     "name": "stderr",
     "output_type": "stream",
     "text": [
      " 30%|███       | 15/50 [00:29<01:06,  1.89s/it]"
     ]
    },
    {
     "name": "stdout",
     "output_type": "stream",
     "text": [
      "tensor(3.7876e+09, grad_fn=<SelectBackward>)\n",
      "this_theta_idx = 0\n",
      "this_theta_idx = 1\n",
      "this_theta_idx = 2\n",
      "this_theta_idx = 3\n"
     ]
    },
    {
     "name": "stderr",
     "output_type": "stream",
     "text": [
      " 32%|███▏      | 16/50 [00:31<01:04,  1.90s/it]"
     ]
    },
    {
     "name": "stdout",
     "output_type": "stream",
     "text": [
      "tensor(3.2029e+09, grad_fn=<SelectBackward>)\n",
      "this_theta_idx = 0\n",
      "this_theta_idx = 1\n",
      "this_theta_idx = 2\n",
      "this_theta_idx = 3\n"
     ]
    },
    {
     "name": "stderr",
     "output_type": "stream",
     "text": [
      " 34%|███▍      | 17/50 [00:33<01:02,  1.91s/it]"
     ]
    },
    {
     "name": "stdout",
     "output_type": "stream",
     "text": [
      "tensor(2.6862e+09, grad_fn=<SelectBackward>)\n",
      "this_theta_idx = 0\n",
      "this_theta_idx = 1\n",
      "this_theta_idx = 2\n",
      "this_theta_idx = 3\n"
     ]
    },
    {
     "name": "stderr",
     "output_type": "stream",
     "text": [
      " 36%|███▌      | 18/50 [00:34<01:01,  1.91s/it]"
     ]
    },
    {
     "name": "stdout",
     "output_type": "stream",
     "text": [
      "tensor(2.2342e+09, grad_fn=<SelectBackward>)\n",
      "this_theta_idx = 0\n",
      "this_theta_idx = 1\n",
      "this_theta_idx = 2\n",
      "this_theta_idx = 3\n"
     ]
    },
    {
     "name": "stderr",
     "output_type": "stream",
     "text": [
      " 38%|███▊      | 19/50 [00:36<01:00,  1.94s/it]"
     ]
    },
    {
     "name": "stdout",
     "output_type": "stream",
     "text": [
      "tensor(1.8430e+09, grad_fn=<SelectBackward>)\n",
      "this_theta_idx = 0\n",
      "this_theta_idx = 1\n",
      "this_theta_idx = 2\n",
      "this_theta_idx = 3\n"
     ]
    },
    {
     "name": "stderr",
     "output_type": "stream",
     "text": [
      " 40%|████      | 20/50 [00:38<00:57,  1.92s/it]"
     ]
    },
    {
     "name": "stdout",
     "output_type": "stream",
     "text": [
      "tensor(1.5085e+09, grad_fn=<SelectBackward>)\n",
      "this_theta_idx = 0\n",
      "this_theta_idx = 1\n",
      "this_theta_idx = 2\n",
      "this_theta_idx = 3\n"
     ]
    },
    {
     "name": "stderr",
     "output_type": "stream",
     "text": [
      " 42%|████▏     | 21/50 [00:40<00:56,  1.95s/it]"
     ]
    },
    {
     "name": "stdout",
     "output_type": "stream",
     "text": [
      "tensor(1.2262e+09, grad_fn=<SelectBackward>)\n",
      "this_theta_idx = 0\n",
      "this_theta_idx = 1\n",
      "this_theta_idx = 2\n",
      "this_theta_idx = 3\n"
     ]
    },
    {
     "name": "stderr",
     "output_type": "stream",
     "text": [
      " 44%|████▍     | 22/50 [00:42<00:54,  1.95s/it]"
     ]
    },
    {
     "name": "stdout",
     "output_type": "stream",
     "text": [
      "tensor(9.9740e+08, grad_fn=<SelectBackward>)\n",
      "this_theta_idx = 0\n",
      "this_theta_idx = 1\n",
      "this_theta_idx = 2\n",
      "this_theta_idx = 3\n"
     ]
    },
    {
     "name": "stderr",
     "output_type": "stream",
     "text": [
      " 46%|████▌     | 23/50 [00:44<00:52,  1.93s/it]"
     ]
    },
    {
     "name": "stdout",
     "output_type": "stream",
     "text": [
      "tensor(8.1511e+08, grad_fn=<SelectBackward>)\n",
      "this_theta_idx = 0\n",
      "this_theta_idx = 1\n",
      "this_theta_idx = 2\n",
      "this_theta_idx = 3\n"
     ]
    },
    {
     "name": "stderr",
     "output_type": "stream",
     "text": [
      " 48%|████▊     | 24/50 [00:47<00:54,  2.08s/it]"
     ]
    },
    {
     "name": "stdout",
     "output_type": "stream",
     "text": [
      "tensor(6.6649e+08, grad_fn=<SelectBackward>)\n",
      "this_theta_idx = 0\n",
      "this_theta_idx = 1\n",
      "this_theta_idx = 2\n",
      "this_theta_idx = 3\n"
     ]
    },
    {
     "name": "stderr",
     "output_type": "stream",
     "text": [
      " 50%|█████     | 25/50 [00:49<00:51,  2.06s/it]"
     ]
    },
    {
     "name": "stdout",
     "output_type": "stream",
     "text": [
      "tensor(5.5255e+08, grad_fn=<SelectBackward>)\n",
      "this_theta_idx = 0\n",
      "this_theta_idx = 1\n",
      "this_theta_idx = 2\n",
      "this_theta_idx = 3\n"
     ]
    },
    {
     "name": "stderr",
     "output_type": "stream",
     "text": [
      " 52%|█████▏    | 26/50 [00:51<00:49,  2.06s/it]"
     ]
    },
    {
     "name": "stdout",
     "output_type": "stream",
     "text": [
      "tensor(4.6715e+08, grad_fn=<SelectBackward>)\n",
      "this_theta_idx = 0\n",
      "this_theta_idx = 1\n",
      "this_theta_idx = 2\n",
      "this_theta_idx = 3\n"
     ]
    },
    {
     "name": "stderr",
     "output_type": "stream",
     "text": [
      " 54%|█████▍    | 27/50 [00:53<00:46,  2.02s/it]"
     ]
    },
    {
     "name": "stdout",
     "output_type": "stream",
     "text": [
      "tensor(4.0094e+08, grad_fn=<SelectBackward>)\n",
      "this_theta_idx = 0\n",
      "this_theta_idx = 1\n",
      "this_theta_idx = 2\n",
      "this_theta_idx = 3\n"
     ]
    },
    {
     "name": "stderr",
     "output_type": "stream",
     "text": [
      " 56%|█████▌    | 28/50 [00:55<00:43,  1.99s/it]"
     ]
    },
    {
     "name": "stdout",
     "output_type": "stream",
     "text": [
      "tensor(3.4796e+08, grad_fn=<SelectBackward>)\n",
      "this_theta_idx = 0\n",
      "this_theta_idx = 1\n",
      "this_theta_idx = 2\n",
      "this_theta_idx = 3\n"
     ]
    },
    {
     "name": "stderr",
     "output_type": "stream",
     "text": [
      " 58%|█████▊    | 29/50 [00:57<00:42,  2.03s/it]"
     ]
    },
    {
     "name": "stdout",
     "output_type": "stream",
     "text": [
      "tensor(3.0489e+08, grad_fn=<SelectBackward>)\n",
      "this_theta_idx = 0\n",
      "this_theta_idx = 1\n",
      "this_theta_idx = 2\n",
      "this_theta_idx = 3\n"
     ]
    },
    {
     "name": "stderr",
     "output_type": "stream",
     "text": [
      " 60%|██████    | 30/50 [00:59<00:40,  2.05s/it]"
     ]
    },
    {
     "name": "stdout",
     "output_type": "stream",
     "text": [
      "tensor(2.7018e+08, grad_fn=<SelectBackward>)\n",
      "this_theta_idx = 0\n",
      "this_theta_idx = 1\n",
      "this_theta_idx = 2\n",
      "this_theta_idx = 3\n"
     ]
    },
    {
     "name": "stderr",
     "output_type": "stream",
     "text": [
      " 62%|██████▏   | 31/50 [01:01<00:37,  1.98s/it]"
     ]
    },
    {
     "name": "stdout",
     "output_type": "stream",
     "text": [
      "tensor(2.4153e+08, grad_fn=<SelectBackward>)\n",
      "this_theta_idx = 0\n",
      "this_theta_idx = 1\n",
      "this_theta_idx = 2\n",
      "this_theta_idx = 3\n"
     ]
    },
    {
     "name": "stderr",
     "output_type": "stream",
     "text": [
      " 64%|██████▍   | 32/50 [01:03<00:35,  1.97s/it]"
     ]
    },
    {
     "name": "stdout",
     "output_type": "stream",
     "text": [
      "tensor(2.1806e+08, grad_fn=<SelectBackward>)\n",
      "this_theta_idx = 0\n",
      "this_theta_idx = 1\n",
      "this_theta_idx = 2\n",
      "this_theta_idx = 3\n"
     ]
    },
    {
     "name": "stderr",
     "output_type": "stream",
     "text": [
      " 66%|██████▌   | 33/50 [01:04<00:32,  1.94s/it]"
     ]
    },
    {
     "name": "stdout",
     "output_type": "stream",
     "text": [
      "tensor(1.9911e+08, grad_fn=<SelectBackward>)\n",
      "this_theta_idx = 0\n",
      "this_theta_idx = 1\n",
      "this_theta_idx = 2\n",
      "this_theta_idx = 3\n"
     ]
    },
    {
     "name": "stderr",
     "output_type": "stream",
     "text": [
      " 68%|██████▊   | 34/50 [01:06<00:31,  1.97s/it]"
     ]
    },
    {
     "name": "stdout",
     "output_type": "stream",
     "text": [
      "tensor(1.8338e+08, grad_fn=<SelectBackward>)\n",
      "this_theta_idx = 0\n",
      "this_theta_idx = 1\n",
      "this_theta_idx = 2\n",
      "this_theta_idx = 3\n"
     ]
    },
    {
     "name": "stderr",
     "output_type": "stream",
     "text": [
      " 70%|███████   | 35/50 [01:08<00:29,  1.96s/it]"
     ]
    },
    {
     "name": "stdout",
     "output_type": "stream",
     "text": [
      "tensor(1.7012e+08, grad_fn=<SelectBackward>)\n",
      "this_theta_idx = 0\n",
      "this_theta_idx = 1\n",
      "this_theta_idx = 2\n",
      "this_theta_idx = 3\n"
     ]
    },
    {
     "name": "stderr",
     "output_type": "stream",
     "text": [
      " 72%|███████▏  | 36/50 [01:10<00:27,  1.93s/it]"
     ]
    },
    {
     "name": "stdout",
     "output_type": "stream",
     "text": [
      "tensor(1.5923e+08, grad_fn=<SelectBackward>)\n",
      "this_theta_idx = 0\n",
      "this_theta_idx = 1\n",
      "this_theta_idx = 2\n",
      "this_theta_idx = 3\n"
     ]
    },
    {
     "name": "stderr",
     "output_type": "stream",
     "text": [
      " 74%|███████▍  | 37/50 [01:12<00:24,  1.91s/it]"
     ]
    },
    {
     "name": "stdout",
     "output_type": "stream",
     "text": [
      "tensor(1.5054e+08, grad_fn=<SelectBackward>)\n",
      "this_theta_idx = 0\n",
      "this_theta_idx = 1\n",
      "this_theta_idx = 2\n",
      "this_theta_idx = 3\n"
     ]
    },
    {
     "name": "stderr",
     "output_type": "stream",
     "text": [
      " 76%|███████▌  | 38/50 [01:14<00:22,  1.92s/it]"
     ]
    },
    {
     "name": "stdout",
     "output_type": "stream",
     "text": [
      "tensor(1.4319e+08, grad_fn=<SelectBackward>)\n",
      "this_theta_idx = 0\n",
      "this_theta_idx = 1\n",
      "this_theta_idx = 2\n",
      "this_theta_idx = 3\n"
     ]
    },
    {
     "name": "stderr",
     "output_type": "stream",
     "text": [
      " 78%|███████▊  | 39/50 [01:16<00:21,  1.95s/it]"
     ]
    },
    {
     "name": "stdout",
     "output_type": "stream",
     "text": [
      "tensor(1.3678e+08, grad_fn=<SelectBackward>)\n",
      "this_theta_idx = 0\n",
      "this_theta_idx = 1\n",
      "this_theta_idx = 2\n",
      "this_theta_idx = 3\n"
     ]
    },
    {
     "name": "stderr",
     "output_type": "stream",
     "text": [
      " 80%|████████  | 40/50 [01:18<00:19,  1.94s/it]"
     ]
    },
    {
     "name": "stdout",
     "output_type": "stream",
     "text": [
      "tensor(1.3113e+08, grad_fn=<SelectBackward>)\n",
      "this_theta_idx = 0\n",
      "this_theta_idx = 1\n",
      "this_theta_idx = 2\n",
      "this_theta_idx = 3\n"
     ]
    },
    {
     "name": "stderr",
     "output_type": "stream",
     "text": [
      " 82%|████████▏ | 41/50 [01:20<00:17,  1.92s/it]"
     ]
    },
    {
     "name": "stdout",
     "output_type": "stream",
     "text": [
      "tensor(1.2626e+08, grad_fn=<SelectBackward>)\n",
      "this_theta_idx = 0\n",
      "this_theta_idx = 1\n",
      "this_theta_idx = 2\n",
      "this_theta_idx = 3\n"
     ]
    },
    {
     "name": "stderr",
     "output_type": "stream",
     "text": [
      " 84%|████████▍ | 42/50 [01:22<00:15,  1.90s/it]"
     ]
    },
    {
     "name": "stdout",
     "output_type": "stream",
     "text": [
      "tensor(1.2201e+08, grad_fn=<SelectBackward>)\n",
      "this_theta_idx = 0\n",
      "this_theta_idx = 1\n",
      "this_theta_idx = 2\n",
      "this_theta_idx = 3\n"
     ]
    },
    {
     "name": "stderr",
     "output_type": "stream",
     "text": [
      " 86%|████████▌ | 43/50 [01:24<00:13,  1.89s/it]"
     ]
    },
    {
     "name": "stdout",
     "output_type": "stream",
     "text": [
      "tensor(1.1813e+08, grad_fn=<SelectBackward>)\n",
      "this_theta_idx = 0\n",
      "this_theta_idx = 1\n",
      "this_theta_idx = 2\n",
      "this_theta_idx = 3\n"
     ]
    },
    {
     "name": "stderr",
     "output_type": "stream",
     "text": [
      " 88%|████████▊ | 44/50 [01:26<00:11,  1.94s/it]"
     ]
    },
    {
     "name": "stdout",
     "output_type": "stream",
     "text": [
      "tensor(1.1458e+08, grad_fn=<SelectBackward>)\n",
      "this_theta_idx = 0\n",
      "this_theta_idx = 1\n",
      "this_theta_idx = 2\n",
      "this_theta_idx = 3\n"
     ]
    },
    {
     "name": "stderr",
     "output_type": "stream",
     "text": [
      " 90%|█████████ | 45/50 [01:27<00:09,  1.90s/it]"
     ]
    },
    {
     "name": "stdout",
     "output_type": "stream",
     "text": [
      "tensor(1.1138e+08, grad_fn=<SelectBackward>)\n",
      "this_theta_idx = 0\n",
      "this_theta_idx = 1\n",
      "this_theta_idx = 2\n",
      "this_theta_idx = 3\n"
     ]
    },
    {
     "name": "stderr",
     "output_type": "stream",
     "text": [
      " 92%|█████████▏| 46/50 [01:29<00:07,  1.94s/it]"
     ]
    },
    {
     "name": "stdout",
     "output_type": "stream",
     "text": [
      "tensor(1.0841e+08, grad_fn=<SelectBackward>)\n",
      "this_theta_idx = 0\n",
      "this_theta_idx = 1\n",
      "this_theta_idx = 2\n",
      "this_theta_idx = 3\n"
     ]
    },
    {
     "name": "stderr",
     "output_type": "stream",
     "text": [
      " 94%|█████████▍| 47/50 [01:32<00:06,  2.00s/it]"
     ]
    },
    {
     "name": "stdout",
     "output_type": "stream",
     "text": [
      "tensor(1.0566e+08, grad_fn=<SelectBackward>)\n",
      "this_theta_idx = 0\n",
      "this_theta_idx = 1\n",
      "this_theta_idx = 2\n",
      "this_theta_idx = 3\n"
     ]
    },
    {
     "name": "stderr",
     "output_type": "stream",
     "text": [
      " 96%|█████████▌| 48/50 [01:34<00:03,  1.98s/it]"
     ]
    },
    {
     "name": "stdout",
     "output_type": "stream",
     "text": [
      "tensor(1.0310e+08, grad_fn=<SelectBackward>)\n",
      "this_theta_idx = 0\n",
      "this_theta_idx = 1\n",
      "this_theta_idx = 2\n",
      "this_theta_idx = 3\n"
     ]
    },
    {
     "name": "stderr",
     "output_type": "stream",
     "text": [
      " 98%|█████████▊| 49/50 [01:35<00:01,  1.95s/it]"
     ]
    },
    {
     "name": "stdout",
     "output_type": "stream",
     "text": [
      "tensor(1.0076e+08, grad_fn=<SelectBackward>)\n",
      "this_theta_idx = 0\n",
      "this_theta_idx = 1\n",
      "this_theta_idx = 2\n",
      "this_theta_idx = 3\n"
     ]
    },
    {
     "name": "stderr",
     "output_type": "stream",
     "text": [
      "100%|██████████| 50/50 [01:37<00:00,  1.96s/it]"
     ]
    },
    {
     "name": "stdout",
     "output_type": "stream",
     "text": [
      "tensor(98693952., grad_fn=<SelectBackward>)\n"
     ]
    },
    {
     "name": "stderr",
     "output_type": "stream",
     "text": [
      "\n"
     ]
    },
    {
     "data": {
      "text/plain": [
       "[<matplotlib.lines.Line2D at 0x7fcc6b9da590>]"
      ]
     },
     "execution_count": 229,
     "metadata": {},
     "output_type": "execute_result"
    },
    {
     "data": {
      "image/png": "[encoded data removed]",
      "text/plain": [
       "<Figure size 432x288 with 1 Axes>"
      ]
     },
     "metadata": {
      "needs_background": "light"
     },
     "output_type": "display_data"
    }
   ],
   "source": [
    "loss_xp_ls = tc.zeros(n_minibatch)\n",
    "loss_theta_ls = tc.zeros(len(theta_ls))\n",
    "loss_epoch = tc.zeros(n_epoch)\n",
    "\n",
    "for epoch in tqdm(range(n_epoch)):\n",
    "    for this_theta_idx in range(len(theta_ls)):\n",
    "        print(\"this_theta_idx = %d\" %(this_theta_idx))\n",
    "        for m in range(n_minibatch):        \n",
    "            X = np.load(os.path.join(recon_path, 'sample3_recon.npy')).astype(np.float32)\n",
    "            X = tc.from_numpy(X)\n",
    "#             print(X)\n",
    "            y_hat = model[m](X, theta_st, theta_end, n_theta, this_theta_idx, sample_height_n, sample_size_n, sample_size_cm, this_aN_dic,\n",
    "                             probe_energy, probe_cts, n_det, det_size_cm, det_from_sample_cm)\n",
    "            \n",
    "#             print(\"y_hat = \")\n",
    "#             print(y_hat)\n",
    "            \n",
    "#             print(\"y_true[this_theta_idx] = \")\n",
    "#             print(y_true[this_theta_idx])\n",
    "            \n",
    "            loss = loss_fn(y_hat, y_true[this_theta_idx])\n",
    "            loss_xp_ls[m] = loss\n",
    "            optimizer[m].zero_grad()\n",
    "            loss.backward()\n",
    "            optimizer[m].step()\n",
    "            \n",
    "            \n",
    "            X[:, :, minibatch_size*m:minibatch_size*(m+1),:] = model[m].xp\n",
    "            X[:, :, minibatch_size*m:minibatch_size*(m+1),:] = X[:, :, minibatch_size*m:minibatch_size*(m+1),:].clamp(0,10)\n",
    "            X = tc.tensor(X.detach().numpy())\n",
    "            np.save(os.path.join(recon_path, 'sample3_recon.npy'), X)\n",
    "#         print(\"updated model after a theta\")\n",
    "#         print(X)    \n",
    "        loss_theta_ls[this_theta_idx] = tc.sum(loss_xp_ls)\n",
    "    loss_epoch[epoch] = tc.mean(loss_theta_ls)\n",
    "    print(loss_epoch[epoch])\n",
    "            \n",
    "plt.plot(loss_epoch.detach().numpy())          \n",
    "    \n",
    "# Check whether model.parameters() is model.x\n",
    "#     print('Is model.parameters()= model.x?', list(model.parameters())[0] is model.x, '\\n') # or print(list(model.parameters())[0] == model.x)\n",
    "#     print('Print model.x', model.x, '\\n')\n",
    "#     print('Loss for angle {}: {}'.format(i, loss.item()) )"
   ]
  },
  {
   "cell_type": "code",
   "execution_count": 230,
   "metadata": {},
   "outputs": [
    {
     "name": "stdout",
     "output_type": "stream",
     "text": [
      "torch.Size([5, 1, 5, 5])\n"
     ]
    },
    {
     "data": {
      "text/plain": [
       "Text(0.5, 1.0, 'intensity')"
      ]
     },
     "execution_count": 230,
     "metadata": {},
     "output_type": "execute_result"
    },
    {
     "data": {
      "image/png": "[encoded data removed]",
      "text/plain": [
       "<Figure size 1440x216 with 10 Axes>"
      ]
     },
     "metadata": {
      "needs_background": "light"
     },
     "output_type": "display_data"
    }
   ],
   "source": [
    "X = np.load(os.path.join(recon_path, 'sample3_recon.npy'))\n",
    "X = tc.tensor(X)\n",
    "print(X.shape)\n",
    "\n",
    "image_size = 5\n",
    "fig6 = plt.figure(figsize=(20,3))\n",
    "gs6 = gridspec.GridSpec(nrows=1, ncols=5, width_ratios=[1,1,1,1,1])\n",
    "\n",
    "fig6_ax1 = fig6.add_subplot(gs6[0,0])\n",
    "fig6_ax1.set_xticks(np.arange(0, image_size, 1))\n",
    "fig6_ax1.set_yticks(np.arange(0, image_size, 1))\n",
    "# fig6_ax1.grid(color='w', linewidth=2)\n",
    "fig6_ax1.axis('off')\n",
    "pos = fig6_ax1.imshow(X[0,0], cmap='jet', vmin=0, vmax=1.4, extent=[0, 5, 5, 0], origin='upper')\n",
    "divider = make_axes_locatable(fig6_ax1)\n",
    "cax = divider.append_axes(\"right\", size=\"5%\", pad=0.05)\n",
    "ticks = np.array([0, 0.2, 0.4, 0.6, 0.8, 1.0, 1.2, 1.4])\n",
    "cbar = fig6.colorbar(pos, cax=cax, ticks=ticks)\n",
    "cbar.ax.tick_params(labelsize=14) \n",
    "cbar.ax.set_title('intensity', size='14')\n",
    "\n",
    "fig6_ax2 = fig6.add_subplot(gs6[0,1])\n",
    "fig6_ax2.set_xticks(np.arange(0, image_size, 1))\n",
    "fig6_ax2.set_yticks(np.arange(0, image_size, 1))\n",
    "# fig6_ax2.grid(color='w', linewidth=2)\n",
    "fig6_ax2.axis('off')\n",
    "pos = fig6_ax2.imshow(X[1,0], cmap='jet', vmin=0, vmax=1.4, extent=[0, 5, 5, 0], origin='upper')\n",
    "divider = make_axes_locatable(fig6_ax2)\n",
    "cax = divider.append_axes(\"right\", size=\"5%\", pad=0.05)\n",
    "ticks = np.array([0, 0.2, 0.4, 0.6, 0.8, 1.0, 1.2, 1.4])\n",
    "cbar = fig6.colorbar(pos, cax=cax, ticks=ticks)\n",
    "cbar.ax.tick_params(labelsize=14) \n",
    "cbar.ax.set_title('intensity', size='14')\n",
    "\n",
    "fig6_ax3 = fig6.add_subplot(gs6[0,2])\n",
    "fig6_ax3.set_xticks(np.arange(0, image_size, 1))\n",
    "fig6_ax3.set_yticks(np.arange(0, image_size, 1))\n",
    "# fig6_ax3.grid(color='w', linewidth=2)\n",
    "fig6_ax3.axis('off')\n",
    "pos = fig6_ax3.imshow(X[2,0], cmap='jet', vmin=0, vmax=1.4, extent=[0, 5, 5, 0], origin='upper')\n",
    "divider = make_axes_locatable(fig6_ax3)\n",
    "cax = divider.append_axes(\"right\", size=\"5%\", pad=0.05)\n",
    "ticks = np.array([0, 0.2, 0.4, 0.6, 0.8, 1.0, 1.2, 1.4])\n",
    "cbar = fig6.colorbar(pos, cax=cax, ticks=ticks)\n",
    "cbar.ax.tick_params(labelsize=14) \n",
    "cbar.ax.set_title('intensity', size='14')\n",
    "\n",
    "fig6_ax4 = fig6.add_subplot(gs6[0,3])\n",
    "fig6_ax4.set_xticks(np.arange(0, image_size, 1))\n",
    "fig6_ax4.set_yticks(np.arange(0, image_size, 1))\n",
    "# fig6_ax4.grid(color='w', linewidth=2)\n",
    "fig6_ax4.axis('off')\n",
    "pos = fig6_ax4.imshow(X[3,0], cmap='jet', vmin=0, vmax=1.4, extent=[0, 5, 5, 0], origin='upper')\n",
    "divider = make_axes_locatable(fig6_ax4)\n",
    "cax = divider.append_axes(\"right\", size=\"5%\", pad=0.05)\n",
    "ticks = np.array([0, 0.2, 0.4, 0.6, 0.8, 1.0, 1.2, 1.4])\n",
    "cbar = fig6.colorbar(pos, cax=cax, ticks=ticks)\n",
    "cbar.ax.tick_params(labelsize=14) \n",
    "cbar.ax.set_title('intensity', size='14')\n",
    "\n",
    "fig6_ax5 = fig6.add_subplot(gs6[0,4])\n",
    "fig6_ax5.set_xticks(np.arange(0, image_size, 1))\n",
    "fig6_ax5.set_yticks(np.arange(0, image_size, 1))\n",
    "# fig6_ax5.grid(color='w', linewidth=2)\n",
    "# fig6_ax5.axis('off')\n",
    "pos = fig6_ax5.imshow(X[4,0], cmap='jet', vmin=0, vmax=1.4, extent=[0, 5, 5, 0], origin='upper')\n",
    "divider = make_axes_locatable(fig6_ax5)\n",
    "cax = divider.append_axes(\"right\", size=\"5%\", pad=0.05)\n",
    "ticks = np.array([0, 0.2, 0.4, 0.6, 0.8, 1.0, 1.2, 1.4])\n",
    "cbar = fig6.colorbar(pos, cax=cax, ticks=ticks)\n",
    "cbar.ax.tick_params(labelsize=14) \n",
    "cbar.ax.set_title('intensity', size='14')"
   ]
  },
  {
   "cell_type": "code",
   "execution_count": 174,
   "metadata": {},
   "outputs": [
    {
     "name": "stdout",
     "output_type": "stream",
     "text": [
      "uint8\n"
     ]
    },
    {
     "data": {
      "text/plain": [
       "<matplotlib.image.AxesImage at 0x7fcca2510990>"
      ]
     },
     "execution_count": 174,
     "metadata": {},
     "output_type": "execute_result"
    },
    {
     "data": {
      "image/png": "[encoded data removed]",
      "text/plain": [
       "<Figure size 432x288 with 1 Axes>"
      ]
     },
     "metadata": {
      "needs_background": "light"
     },
     "output_type": "display_data"
    }
   ],
   "source": [
    "from skimage import data\n",
    "from skimage.transform import rescale\n",
    "image = data.camera()\n",
    "print(image.dtype)\n",
    "plt.imshow(image)"
   ]
  },
  {
   "cell_type": "code",
   "execution_count": 73,
   "metadata": {},
   "outputs": [
    {
     "data": {
      "text/plain": [
       "<matplotlib.image.AxesImage at 0x7f887c1cd390>"
      ]
     },
     "execution_count": 73,
     "metadata": {},
     "output_type": "execute_result"
    },
    {
     "data": {
      "image/png": "[encoded data removed]",
      "text/plain": [
       "<Figure size 432x288 with 1 Axes>"
      ]
     },
     "metadata": {
      "needs_background": "light"
     },
     "output_type": "display_data"
    }
   ],
   "source": [
    "image_scale = rescale(image, 0.1)\n",
    "plt.imshow(image_scale)"
   ]
  },
  {
   "cell_type": "code",
   "execution_count": 74,
   "metadata": {},
   "outputs": [
    {
     "data": {
      "text/plain": [
       "(256, 256)"
      ]
     },
     "execution_count": 74,
     "metadata": {},
     "output_type": "execute_result"
    }
   ],
   "source": [
    "rescale(image, 0.5).shape"
   ]
  },
  {
   "cell_type": "code",
   "execution_count": 264,
   "metadata": {},
   "outputs": [
    {
     "data": {
      "text/plain": [
       "[<matplotlib.lines.Line2D at 0x7f8883b51a10>]"
      ]
     },
     "execution_count": 264,
     "metadata": {},
     "output_type": "execute_result"
    },
    {
     "data": {
      "image/png": "[encoded data removed]",
      "text/plain": [
       "<Figure size 432x288 with 1 Axes>"
      ]
     },
     "metadata": {
      "needs_background": "light"
     },
     "output_type": "display_data"
    }
   ],
   "source": [
    "a = tc.rand(5)\n",
    "plt.plot(a)"
   ]
  },
  {
   "cell_type": "code",
   "execution_count": null,
   "metadata": {},
   "outputs": [],
   "source": []
  }
 ],
 "metadata": {
  "kernelspec": {
   "display_name": "Python 3",
   "language": "python",
   "name": "python3"
  },
  "language_info": {
   "codemirror_mode": {
    "name": "ipython",
    "version": 3
   },
   "file_extension": ".py",
   "mimetype": "text/x-python",
   "name": "python",
   "nbconvert_exporter": "python",
   "pygments_lexer": "ipython3",
   "version": "3.7.7"
  }
 },
 "nbformat": 4,
 "nbformat_minor": 4
}
