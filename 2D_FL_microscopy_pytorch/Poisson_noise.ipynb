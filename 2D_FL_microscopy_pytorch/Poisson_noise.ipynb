{
 "cells": [
  {
   "cell_type": "code",
   "execution_count": 15,
   "metadata": {},
   "outputs": [],
   "source": [
    "import numpy as np\n",
    "import os\n",
    "import matplotlib.pyplot as plt"
   ]
  },
  {
   "cell_type": "code",
   "execution_count": 37,
   "metadata": {},
   "outputs": [],
   "source": [
    "data_path = \"./data/sample3_data\"\n",
    "f_XRF_data = \"XRF_sample3.npy\"\n",
    "f_XRT_data = \"XRT_sample3.npy\"\n",
    "\n",
    "f_XRF_data_n = \"XRF_sample3_n1e7.npy\"\n",
    "f_XRT_data_n = \"XRT_sample3_n1e7.npy\""
   ]
  },
  {
   "cell_type": "code",
   "execution_count": 38,
   "metadata": {},
   "outputs": [
    {
     "name": "stdout",
     "output_type": "stream",
     "text": [
      "(8, 5, 8)\n",
      "(8, 5)\n"
     ]
    }
   ],
   "source": [
    "XRF_data = np.load(os.path.join(data_path, f_XRF_data)).astype(np.float32) #n_theta, sample_height_n * sample_size_n, n_lines\n",
    "XRT_data = np.load(os.path.join(data_path, f_XRT_data)).astype(np.float32) #n_theta, sample_height_n * sample_size_n\n",
    "print(XRF_data.shape)\n",
    "print(XRT_data.shape)\n"
   ]
  },
  {
   "cell_type": "code",
   "execution_count": 39,
   "metadata": {},
   "outputs": [],
   "source": [
    "XRF_data_n = np.random.poisson(XRF_data)\n",
    "XRT_data_n = np.random.poisson(XRT_data)"
   ]
  },
  {
   "cell_type": "code",
   "execution_count": 40,
   "metadata": {},
   "outputs": [],
   "source": [
    "np.save(os.path.join(data_path, f_XRF_data_n), XRF_data_n)\n",
    "np.save(os.path.join(data_path, f_XRT_data_n), XRT_data_n)"
   ]
  },
  {
   "cell_type": "code",
   "execution_count": 34,
   "metadata": {},
   "outputs": [
    {
     "name": "stdout",
     "output_type": "stream",
     "text": [
      "[[0.00000000e+00 3.33142776e-22 2.04876602e-11 1.01399350e+00\n",
      "  0.00000000e+00]\n",
      " [0.00000000e+00 1.56552164e-19 2.22000882e-01 3.93962264e-01\n",
      "  1.16388641e-01]\n",
      " [0.00000000e+00 6.64007322e-22 2.04877487e-11 1.00377119e+00\n",
      "  0.00000000e+00]\n",
      " [0.00000000e+00 1.54804887e-19 2.22000867e-01 3.90468478e-01\n",
      "  1.16388641e-01]\n",
      " [0.00000000e+00 4.00112654e-08 2.01883701e-11 1.01399243e+00\n",
      "  4.04335694e-08]\n",
      " [0.00000000e+00 1.57740784e-19 2.22001165e-01 3.95212352e-01\n",
      "  1.16388686e-01]\n",
      " [0.00000000e+00 6.53963116e-22 2.04876602e-11 1.01399350e+00\n",
      "  0.00000000e+00]\n",
      " [0.00000000e+00 1.63108708e-19 2.22001210e-01 3.95212382e-01\n",
      "  1.16388701e-01]]\n"
     ]
    },
    {
     "data": {
      "image/png": "[encoded data removed]",
      "text/plain": [
       "<Figure size 432x288 with 1 Axes>"
      ]
     },
     "metadata": {
      "needs_background": "light"
     },
     "output_type": "display_data"
    }
   ],
   "source": [
    "plt.imshow(XRF_data[:,:,0])\n",
    "print(XRF_data[:,:,0])"
   ]
  },
  {
   "cell_type": "code",
   "execution_count": 35,
   "metadata": {},
   "outputs": [
    {
     "name": "stdout",
     "output_type": "stream",
     "text": [
      "[[   0    0   64 1141    0]\n",
      " [   0    1  320  571  139]\n",
      " [   0    0   41 1168    0]\n",
      " [   0    6  325  573  146]\n",
      " [   0    2   78 1136    0]\n",
      " [   0    1  356  618  127]\n",
      " [   0    2   88 1076    0]\n",
      " [   0    1  406  607  154]]\n"
     ]
    },
    {
     "data": {
      "image/png": "[encoded data removed]",
      "text/plain": [
       "<Figure size 432x288 with 1 Axes>"
      ]
     },
     "metadata": {
      "needs_background": "light"
     },
     "output_type": "display_data"
    }
   ],
   "source": [
    "plt.imshow(XRF_data_n[:,:,0])\n",
    "print(XRF_data_n[:,:,2])"
   ]
  },
  {
   "cell_type": "code",
   "execution_count": null,
   "metadata": {},
   "outputs": [],
   "source": [
    "print(np.rand.poi)"
   ]
  }
 ],
 "metadata": {
  "kernelspec": {
   "display_name": "Python 3",
   "language": "python",
   "name": "python3"
  },
  "language_info": {
   "codemirror_mode": {
    "name": "ipython",
    "version": 3
   },
   "file_extension": ".py",
   "mimetype": "text/x-python",
   "name": "python",
   "nbconvert_exporter": "python",
   "pygments_lexer": "ipython3",
   "version": "3.8.5"
  }
 },
 "nbformat": 4,
 "nbformat_minor": 4
}
