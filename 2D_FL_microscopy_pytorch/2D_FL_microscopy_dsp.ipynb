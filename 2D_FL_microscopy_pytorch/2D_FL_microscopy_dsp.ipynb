{
 "cells": [
  {
   "cell_type": "markdown",
   "metadata": {},
   "source": [
    "### import modules\n",
    "1. setup matplot.rcParams to export vectorized plots\n",
    "2. dxchange is for loading and saving .diff files"
   ]
  },
  {
   "cell_type": "code",
   "execution_count": 1,
   "metadata": {},
   "outputs": [],
   "source": [
    "import numpy as np\n",
    "import matplotlib.pyplot as plt\n",
    "from matplotlib import gridspec\n",
    "import matplotlib\n",
    "%matplotlib inline\n",
    "matplotlib.rcParams['pdf.fonttype'] = 'truetype'\n",
    "fontProperties = {'family': 'serif', 'serif': ['Helvetica'], 'weight': 'normal', 'size': 12}\n",
    "plt.rc('font', **fontProperties)\n",
    "from mpl_toolkits.axes_grid1 import make_axes_locatable\n",
    "import dxchange\n",
    "import os\n",
    "\n",
    "from skimage import data\n",
    "from skimage.transform import rescale\n"
   ]
  },
  {
   "cell_type": "code",
   "execution_count": 2,
   "metadata": {},
   "outputs": [
    {
     "name": "stdout",
     "output_type": "stream",
     "text": [
      "[[0. 0. 0. 0. 0.]\n",
      " [0. 1. 1. 1. 0.]\n",
      " [0. 1. 1. 1. 0.]\n",
      " [0. 1. 1. 1. 0.]\n",
      " [0. 0. 0. 0. 0.]]\n"
     ]
    }
   ],
   "source": [
    "padding_width = 1\n",
    "\n",
    "a = np.ones((3,3))\n",
    "a_pad = np.pad(a, (padding_width,padding_width), mode='constant')\n",
    "print(a_pad)"
   ]
  },
  {
   "cell_type": "code",
   "execution_count": 3,
   "metadata": {},
   "outputs": [],
   "source": [
    "save_path1 = 'data/sample3_pad'\n",
    "save_path2 = 'data/sample4_pad'"
   ]
  },
  {
   "cell_type": "code",
   "execution_count": 4,
   "metadata": {},
   "outputs": [],
   "source": [
    "## Create model of K and C map\n",
    "image_size = 3\n",
    "K_map = np.zeros((image_size, image_size))\n",
    "\n",
    "K_bg = 0.6\n",
    "K_dist = 0.0\n",
    "\n",
    "K_map.fill(K_bg)\n",
    "\n",
    "## upper-left rectangle\n",
    "K_map[1,1] = K_dist\n",
    "\n",
    "\n",
    "\n",
    "# K_map = rescale(K_map, 0.2)\n",
    "# plt.imshow(K_map)\n",
    "\n",
    "K_map = np.pad(K_map, (padding_width,padding_width), mode='constant', constant_values=(0,0))\n",
    "\n",
    "C_map = K_map\n",
    "\n",
    "dxchange.write_tiff(K_map, os.path.join(save_path2, \"K_map\"), dtype='float32', overwrite=True)\n",
    "dxchange.write_tiff(C_map, os.path.join(save_path1, \"C_map\"), dtype='float32', overwrite=True)"
   ]
  },
  {
   "cell_type": "code",
   "execution_count": 5,
   "metadata": {},
   "outputs": [
    {
     "data": {
      "text/plain": [
       "Text(0.5, 1.0, 'intensity')"
      ]
     },
     "execution_count": 5,
     "metadata": {},
     "output_type": "execute_result"
    },
    {
     "name": "stderr",
     "output_type": "stream",
     "text": [
      "findfont: Font family ['serif'] not found. Falling back to DejaVu Sans.\n",
      "findfont: Font family ['serif'] not found. Falling back to DejaVu Sans.\n"
     ]
    },
    {
     "data": {
      "image/png": "[encoded data removed]",
      "text/plain": [
       "<Figure size 720x720 with 2 Axes>"
      ]
     },
     "metadata": {
      "needs_background": "light"
     },
     "output_type": "display_data"
    }
   ],
   "source": [
    "## Plot model\n",
    "fig1 = plt.figure(figsize=(10,10))\n",
    "gs1 = gridspec.GridSpec(nrows=1, ncols=1, width_ratios=[1])\n",
    "fig1_ax1 = fig1.add_subplot(gs1[0,0])\n",
    "fig1_ax1.set_xticks(np.arange(0, 6, 1))\n",
    "fig1_ax1.set_yticks(np.arange(0, 6, 1))\n",
    "# fig1_ax1.grid(color='w', linewidth=2)\n",
    "pos = fig1_ax1.imshow(K_map, cmap='jet', vmin=0, vmax=1.4, extent=[0, 5, 5, 0], origin='upper')\n",
    "divider = make_axes_locatable(fig1_ax1)\n",
    "cax = divider.append_axes(\"right\", size=\"5%\", pad=0.05)\n",
    "ticks = np.array([0, 0.2, 0.4, 0.6, 0.8, 1.0, 1.2, 1.4])\n",
    "cbar = fig1.colorbar(pos, cax=cax, ticks=ticks)\n",
    "cbar.ax.tick_params(labelsize=14) \n",
    "cbar.ax.set_title('intensity', size='14')"
   ]
  },
  {
   "cell_type": "code",
   "execution_count": 6,
   "metadata": {},
   "outputs": [],
   "source": [
    "## Create model of Ga and O map\n",
    "image_size = 3\n",
    "Ga_map = np.zeros((image_size, image_size))\n",
    "\n",
    "Ga_bg = 1.20\n",
    "Ga_dist = 1.10\n",
    "\n",
    "Ga_map.fill(Ga_bg)\n",
    "Ga_map[1, 1] = Ga_dist\n",
    "\n",
    "\n",
    "Ga_map = np.pad(Ga_map, (padding_width, padding_width), mode='constant', constant_values=(0,0))\n",
    "\n",
    "O_map = Ga_map\n",
    "\n",
    "dxchange.write_tiff(Ga_map, os.path.join(save_path2, \"Ga_map\"), dtype='float32', overwrite=True)\n",
    "dxchange.write_tiff(O_map, os.path.join(save_path1, \"O_map\"), dtype='float32', overwrite=True)"
   ]
  },
  {
   "cell_type": "code",
   "execution_count": 7,
   "metadata": {},
   "outputs": [
    {
     "data": {
      "text/plain": [
       "Text(0.5, 1.0, 'intensity')"
      ]
     },
     "execution_count": 7,
     "metadata": {},
     "output_type": "execute_result"
    },
    {
     "data": {
      "image/png": "[encoded data removed]",
      "text/plain": [
       "<Figure size 720x720 with 2 Axes>"
      ]
     },
     "metadata": {
      "needs_background": "light"
     },
     "output_type": "display_data"
    }
   ],
   "source": [
    "## Plot model\n",
    "fig2 = plt.figure(figsize=(10,10))\n",
    "gs2 = gridspec.GridSpec(nrows=1, ncols=1, width_ratios=[1])\n",
    "fig2_ax1 = fig2.add_subplot(gs2[0,0])\n",
    "fig2_ax1.set_xticks(np.arange(0, image_size + padding_width, 1))\n",
    "fig2_ax1.set_yticks(np.arange(0, image_size + padding_width, 1))\n",
    "# fig2_ax1.grid(color='w', linewidth=2)\n",
    "pos = fig2_ax1.imshow(Ga_map, cmap='jet', vmin=0, vmax=1.4, extent=[0, 3, 3, 0], origin='upper')\n",
    "divider = make_axes_locatable(fig2_ax1)\n",
    "cax = divider.append_axes(\"right\", size=\"5%\", pad=0.05)\n",
    "ticks = np.array([0, 0.2, 0.4, 0.6, 0.8, 1.0, 1.2, 1.4])\n",
    "cbar = fig2.colorbar(pos, cax=cax, ticks=ticks)\n",
    "cbar.ax.tick_params(labelsize=14) \n",
    "cbar.ax.set_title('intensity', size='14')"
   ]
  },
  {
   "cell_type": "code",
   "execution_count": 8,
   "metadata": {},
   "outputs": [],
   "source": [
    "## Create model of Fe and Si map\n",
    "image_size = 3\n",
    "Fe_map = np.zeros((image_size, image_size))\n",
    "\n",
    "Fe_bg = 0.10\n",
    "Fe_dist = 0.25\n",
    "\n",
    "Fe_map.fill(Fe_bg)\n",
    "\n",
    "## upper-left rectangle\n",
    "Fe_map[1, 1] = Fe_dist\n",
    "\n",
    "Fe_map = np.pad(Fe_map,  (padding_width, padding_width), mode='constant', constant_values=(0,0))\n",
    "\n",
    "Si_map = Fe_map\n",
    "\n",
    "dxchange.write_tiff(Fe_map, os.path.join(save_path2, \"Fe_map\"), dtype='float32', overwrite=True)\n",
    "dxchange.write_tiff(Si_map, os.path.join(save_path1, \"Si_map\"), dtype='float32', overwrite=True)"
   ]
  },
  {
   "cell_type": "code",
   "execution_count": 9,
   "metadata": {},
   "outputs": [
    {
     "data": {
      "text/plain": [
       "Text(0.5, 1.0, 'intensity')"
      ]
     },
     "execution_count": 9,
     "metadata": {},
     "output_type": "execute_result"
    },
    {
     "data": {
      "image/png": "[encoded data removed]",
      "text/plain": [
       "<Figure size 720x720 with 2 Axes>"
      ]
     },
     "metadata": {
      "needs_background": "light"
     },
     "output_type": "display_data"
    }
   ],
   "source": [
    "## Plot model\n",
    "fig3 = plt.figure(figsize=(10,10))\n",
    "gs3 = gridspec.GridSpec(nrows=1, ncols=1, width_ratios=[1])\n",
    "fig3_ax1 = fig3.add_subplot(gs3[0,0])\n",
    "fig3_ax1.set_xticks(np.arange(0, image_size + padding_width, 1))\n",
    "fig3_ax1.set_yticks(np.arange(0, image_size + padding_width, 1))\n",
    "# fig3_ax1.grid(color='w', linewidth=2)\n",
    "pos = fig3_ax1.imshow(Fe_map, cmap='jet', vmin=0, vmax=1.4, extent=[0, 3, 3, 0], origin='upper')\n",
    "divider = make_axes_locatable(fig3_ax1)\n",
    "cax = divider.append_axes(\"right\", size=\"5%\", pad=0.05)\n",
    "ticks = np.array([0, 0.2, 0.4, 0.6, 0.8, 1.0, 1.2, 1.4])\n",
    "cbar = fig3.colorbar(pos, cax=cax, ticks=ticks)\n",
    "cbar.ax.tick_params(labelsize=14) \n",
    "cbar.ax.set_title('intensity', size='14')"
   ]
  },
  {
   "cell_type": "code",
   "execution_count": 10,
   "metadata": {},
   "outputs": [],
   "source": [
    "## Create model of Pd and Ca map\n",
    "image_size = 3\n",
    "Pd_map = np.zeros((image_size, image_size))\n",
    "\n",
    "Pd_bg = 0.00\n",
    "Pd_dist = 1.38\n",
    "Pd_dist_2 = 1.10\n",
    "\n",
    "Pd_map.fill(Pd_bg)\n",
    "\n",
    "## upper-left rectangle\n",
    "Pd_map[1, 1] = Pd_dist\n",
    "\n",
    "\n",
    "Pd_map = np.pad(Pd_map, (padding_width, padding_width), mode='constant', constant_values=(0,0))\n",
    "\n",
    "Ca_map = Pd_map\n",
    "\n",
    "dxchange.write_tiff(Pd_map, os.path.join(save_path2, \"Pd_map\"), dtype='float32', overwrite=True)\n",
    "dxchange.write_tiff(Ca_map, os.path.join(save_path1, \"Ca_map\"), dtype='float32', overwrite=True)"
   ]
  },
  {
   "cell_type": "code",
   "execution_count": 11,
   "metadata": {},
   "outputs": [
    {
     "data": {
      "text/plain": [
       "Text(0.5, 1.0, 'intensity')"
      ]
     },
     "execution_count": 11,
     "metadata": {},
     "output_type": "execute_result"
    },
    {
     "data": {
      "image/png": "[encoded data removed]",
      "text/plain": [
       "<Figure size 720x720 with 2 Axes>"
      ]
     },
     "metadata": {
      "needs_background": "light"
     },
     "output_type": "display_data"
    }
   ],
   "source": [
    "## Plot model\n",
    "fig4 = plt.figure(figsize=(10,10))\n",
    "gs4 = gridspec.GridSpec(nrows=1, ncols=1, width_ratios=[1])\n",
    "fig4_ax1 = fig4.add_subplot(gs4[0,0])\n",
    "fig4_ax1.set_xticks(np.arange(0, 6, 1))\n",
    "fig4_ax1.set_yticks(np.arange(0, 6, 1))\n",
    "# fig4_ax1.grid(color='w', linewidth=2)\n",
    "pos = fig4_ax1.imshow(Pd_map, cmap='jet', vmin=0, vmax=1.4, extent=[0, 5, 5, 0], origin='upper')\n",
    "divider = make_axes_locatable(fig4_ax1)\n",
    "cax = divider.append_axes(\"right\", size=\"5%\", pad=0.05)\n",
    "ticks = np.array([0, 0.2, 0.4, 0.6, 0.8, 1.0, 1.2, 1.4])\n",
    "cbar = fig4.colorbar(pos, cax=cax, ticks=ticks)\n",
    "cbar.ax.tick_params(labelsize=14) \n",
    "cbar.ax.set_title('intensity', size='14')"
   ]
  },
  {
   "cell_type": "code",
   "execution_count": 12,
   "metadata": {},
   "outputs": [],
   "source": [
    "## Create model of Pd and Ca map\n",
    "image_size = 3\n",
    "Sn_map = np.zeros((image_size, image_size))\n",
    "\n",
    "Sn_bg = 0.00\n",
    "Sn_dist = 0.60\n",
    "Sn_dist_2 = 1.10\n",
    "\n",
    "Sn_map.fill(Sn_bg)\n",
    "\n",
    "## upper-left rectangle\n",
    "Sn_map[1, 1] = Sn_dist\n",
    "Sn_map[1, 2] = Sn_dist\n",
    "\n",
    "\n",
    "Sn_map = np.pad(Sn_map, (padding_width, padding_width), mode='constant', constant_values=(0,0))\n",
    "\n",
    "Fe_map_2 = Sn_map\n",
    "\n",
    "dxchange.write_tiff(Sn_map, os.path.join(save_path2, \"Sn_map\"), dtype='float32', overwrite=True)\n",
    "dxchange.write_tiff(Fe_map_2, os.path.join(save_path1, \"Fe_map\"), dtype='float32', overwrite=True)"
   ]
  },
  {
   "cell_type": "code",
   "execution_count": 13,
   "metadata": {},
   "outputs": [
    {
     "data": {
      "text/plain": [
       "Text(0.5, 1.0, 'intensity')"
      ]
     },
     "execution_count": 13,
     "metadata": {},
     "output_type": "execute_result"
    },
    {
     "data": {
      "image/png": "[encoded data removed]",
      "text/plain": [
       "<Figure size 720x720 with 2 Axes>"
      ]
     },
     "metadata": {
      "needs_background": "light"
     },
     "output_type": "display_data"
    }
   ],
   "source": [
    "## Plot model\n",
    "fig5 = plt.figure(figsize=(10,10))\n",
    "gs5 = gridspec.GridSpec(nrows=1, ncols=1, width_ratios=[1])\n",
    "fig5_ax1 = fig5.add_subplot(gs5[0,0])\n",
    "fig5_ax1.set_xticks(np.arange(0, 6, 1))\n",
    "fig5_ax1.set_yticks(np.arange(0, 6, 1))\n",
    "# fig4_ax1.grid(color='w', linewidth=2)\n",
    "pos = fig5_ax1.imshow(Sn_map, cmap='jet', vmin=0, vmax=1.4, extent=[0, 5, 5, 0], origin='upper')\n",
    "divider = make_axes_locatable(fig5_ax1)\n",
    "cax = divider.append_axes(\"right\", size=\"5%\", pad=0.05)\n",
    "ticks = np.array([0, 0.2, 0.4, 0.6, 0.8, 1.0, 1.2, 1.4])\n",
    "cbar = fig5.colorbar(pos, cax=cax, ticks=ticks)\n",
    "cbar.ax.tick_params(labelsize=14) \n",
    "cbar.ax.set_title('intensity', size='14')"
   ]
  },
  {
   "cell_type": "code",
   "execution_count": 14,
   "metadata": {},
   "outputs": [
    {
     "data": {
      "text/plain": [
       "Text(0.5, 1.0, 'intensity')"
      ]
     },
     "execution_count": 14,
     "metadata": {},
     "output_type": "execute_result"
    },
    {
     "data": {
      "image/png": "[encoded data removed]",
      "text/plain": [
       "<Figure size 1080x216 with 10 Axes>"
      ]
     },
     "metadata": {
      "needs_background": "light"
     },
     "output_type": "display_data"
    }
   ],
   "source": [
    "## Plot all 5 models\n",
    "fig6 = plt.figure(figsize=(15,3))\n",
    "gs6 = gridspec.GridSpec(nrows=1, ncols=5, width_ratios=[1,1,1,1,1])\n",
    "\n",
    "fig6_ax1 = fig6.add_subplot(gs6[0,0])\n",
    "fig6_ax1.set_xticks(np.arange(0, image_size, 1))\n",
    "fig6_ax1.set_yticks(np.arange(0, image_size, 1))\n",
    "# fig6_ax1.grid(color='w', linewidth=2)\n",
    "fig6_ax1.axis('off')\n",
    "pos = fig6_ax1.imshow(K_map, cmap='jet', vmin=0, vmax=1.4, extent=[0, 20, 20, 0], origin='upper')\n",
    "divider = make_axes_locatable(fig6_ax1)\n",
    "cax = divider.append_axes(\"right\", size=\"5%\", pad=0.05)\n",
    "ticks = np.array([0, 0.2, 0.4, 0.6, 0.8, 1.0, 1.2, 1.4])\n",
    "cbar = fig6.colorbar(pos, cax=cax, ticks=ticks)\n",
    "cbar.ax.tick_params(labelsize=14) \n",
    "cbar.ax.set_title('intensity', size='14')\n",
    "\n",
    "fig6_ax2 = fig6.add_subplot(gs6[0,1])\n",
    "fig6_ax2.set_xticks(np.arange(0, image_size, 1))\n",
    "fig6_ax2.set_yticks(np.arange(0, image_size, 1))\n",
    "# fig6_ax2.grid(color='w', linewidth=2)\n",
    "fig6_ax2.axis('off')\n",
    "pos = fig6_ax2.imshow(Ga_map, cmap='jet', vmin=0, vmax=1.4, extent=[0, 20, 20, 0], origin='upper')\n",
    "divider = make_axes_locatable(fig6_ax2)\n",
    "cax = divider.append_axes(\"right\", size=\"5%\", pad=0.05)\n",
    "ticks = np.array([0, 0.2, 0.4, 0.6, 0.8, 1.0, 1.2, 1.4])\n",
    "cbar = fig6.colorbar(pos, cax=cax, ticks=ticks)\n",
    "cbar.ax.tick_params(labelsize=14) \n",
    "cbar.ax.set_title('intensity', size='14')\n",
    "\n",
    "fig6_ax3 = fig6.add_subplot(gs6[0,2])\n",
    "fig6_ax3.set_xticks(np.arange(0, image_size, 1))\n",
    "fig6_ax3.set_yticks(np.arange(0, image_size, 1))\n",
    "# fig6_ax3.grid(color='w', linewidth=2)\n",
    "fig6_ax3.axis('off')\n",
    "pos = fig6_ax3.imshow(Fe_map, cmap='jet', vmin=0, vmax=1.4, extent=[0, 20, 20, 0], origin='upper')\n",
    "divider = make_axes_locatable(fig6_ax3)\n",
    "cax = divider.append_axes(\"right\", size=\"5%\", pad=0.05)\n",
    "ticks = np.array([0, 0.2, 0.4, 0.6, 0.8, 1.0, 1.2, 1.4])\n",
    "cbar = fig6.colorbar(pos, cax=cax, ticks=ticks)\n",
    "cbar.ax.tick_params(labelsize=14) \n",
    "cbar.ax.set_title('intensity', size='14')\n",
    "\n",
    "fig6_ax4 = fig6.add_subplot(gs6[0,3])\n",
    "fig6_ax4.set_xticks(np.arange(0, image_size, 1))\n",
    "fig6_ax4.set_yticks(np.arange(0, image_size, 1))\n",
    "# fig6_ax4.grid(color='w', linewidth=2)\n",
    "fig6_ax4.axis('off')\n",
    "pos = fig6_ax4.imshow(Pd_map, cmap='jet', vmin=0, vmax=1.4, extent=[0, 20, 20, 0], origin='upper')\n",
    "divider = make_axes_locatable(fig6_ax4)\n",
    "cax = divider.append_axes(\"right\", size=\"5%\", pad=0.05)\n",
    "ticks = np.array([0, 0.2, 0.4, 0.6, 0.8, 1.0, 1.2, 1.4])\n",
    "cbar = fig6.colorbar(pos, cax=cax, ticks=ticks)\n",
    "cbar.ax.tick_params(labelsize=14) \n",
    "cbar.ax.set_title('intensity', size='14')\n",
    "\n",
    "fig6_ax5 = fig6.add_subplot(gs6[0,4])\n",
    "fig6_ax5.set_xticks(np.arange(0, image_size, 1))\n",
    "fig6_ax5.set_yticks(np.arange(0, image_size, 1))\n",
    "# fig6_ax5.grid(color='w', linewidth=2)\n",
    "fig6_ax5.axis('off')\n",
    "pos = fig6_ax5.imshow(Sn_map, cmap='jet', vmin=0, vmax=1.4, extent=[0, 20, 20, 0], origin='upper')\n",
    "divider = make_axes_locatable(fig6_ax5)\n",
    "cax = divider.append_axes(\"right\", size=\"5%\", pad=0.05)\n",
    "ticks = np.array([0, 0.2, 0.4, 0.6, 0.8, 1.0, 1.2, 1.4])\n",
    "cbar = fig6.colorbar(pos, cax=cax, ticks=ticks)\n",
    "cbar.ax.tick_params(labelsize=14) \n",
    "cbar.ax.set_title('intensity', size='14')"
   ]
  },
  {
   "cell_type": "code",
   "execution_count": 15,
   "metadata": {},
   "outputs": [
    {
     "data": {
      "text/plain": [
       "<matplotlib.image.AxesImage at 0x7f237c4909d0>"
      ]
     },
     "execution_count": 15,
     "metadata": {},
     "output_type": "execute_result"
    },
    {
     "data": {
      "image/png": "[encoded data removed]",
      "text/plain": [
       "<Figure size 432x288 with 1 Axes>"
      ]
     },
     "metadata": {
      "needs_background": "light"
     },
     "output_type": "display_data"
    }
   ],
   "source": [
    "sample1 = np.stack((C_map, O_map, Si_map, Ca_map, Fe_map_2))\n",
    "sample2 = np.stack((K_map, Ga_map, Fe_map, Pd_map, Sn_map))\n",
    "\n",
    "np.save(os.path.join(save_path1, 'grid_concentration.npy'), sample1)\n",
    "np.save(os.path.join(save_path2, 'grid_concentration.npy'), sample2)\n",
    "\n",
    "read_sample1 = np.load(os.path.join(save_path1 , \"grid_concentration.npy\"))\n",
    "plt.imshow(read_sample1[0], cmap='jet', vmin=0, vmax=1.4)"
   ]
  },
  {
   "cell_type": "code",
   "execution_count": 16,
   "metadata": {},
   "outputs": [],
   "source": [
    "from scipy.ndimage import rotate as sp_rotate\n",
    "import torch as tc\n",
    "import torch.nn.functional as F"
   ]
  },
  {
   "cell_type": "code",
   "execution_count": 17,
   "metadata": {},
   "outputs": [],
   "source": [
    "def rotate(arr, theta):\n",
    "    m0 = tc.tensor([tc.cos(theta), -tc.sin(theta), 0.0])\n",
    "    m1 = tc.tensor([tc.sin(theta), tc.cos(theta), 0])\n",
    "    m = tc.stack([m0, m1]).view(1, 2, 3)\n",
    "    m = m.repeat([arr.shape[0], 1, 1])\n",
    "    \n",
    "    g = F.affine_grid(m, arr.shape)\n",
    "    q = F.grid_sample(arr, g, padding_mode='border')\n",
    "    \n",
    "    return q"
   ]
  },
  {
   "cell_type": "code",
   "execution_count": 21,
   "metadata": {},
   "outputs": [
    {
     "name": "stdout",
     "output_type": "stream",
     "text": [
      "torch.Size([5, 5])\n"
     ]
    },
    {
     "name": "stderr",
     "output_type": "stream",
     "text": [
      "/home/hpphappy/anaconda3/envs/joint_XRF_XRT/lib/python3.7/site-packages/torch/nn/functional.py:3447: UserWarning: Default grid_sample and affine_grid behavior has changed to align_corners=False since 1.3.0. Please specify align_corners=True if the old behavior is desired. See the documentation of grid_sample for details.\n",
      "  warnings.warn(\"Default grid_sample and affine_grid behavior has changed \"\n",
      "/home/hpphappy/anaconda3/envs/joint_XRF_XRT/lib/python3.7/site-packages/torch/nn/functional.py:3384: UserWarning: Default grid_sample and affine_grid behavior has changed to align_corners=False since 1.3.0. Please specify align_corners=True if the old behavior is desired. See the documentation of grid_sample for details.\n",
      "  warnings.warn(\"Default grid_sample and affine_grid behavior has changed \"\n"
     ]
    },
    {
     "data": {
      "text/plain": [
       "Text(0.5, 1.0, 'intensity')"
      ]
     },
     "execution_count": 21,
     "metadata": {},
     "output_type": "execute_result"
    },
    {
     "data": {
      "image/png": "[encoded data removed]",
      "text/plain": [
       "<Figure size 1080x360 with 6 Axes>"
      ]
     },
     "metadata": {
      "needs_background": "light"
     },
     "output_type": "display_data"
    }
   ],
   "source": [
    "theta_ls = - np.linspace(0, 180, 5)\n",
    "K_map = np.load(os.path.join(save_path1 , \"grid_concentration.npy\"))\n",
    "\n",
    "K_map_45_1 = sp_rotate(K_map, theta_ls[1], axes=(1, 2), reshape=False, order=1)[3]\n",
    "\n",
    "\n",
    "K_map_tc = tc.from_numpy(np.load(os.path.join(save_path1 , \"grid_concentration.npy\")).astype(np.float32))\n",
    "K_map_tc = tc.unsqueeze(K_map_tc,1)\n",
    "\n",
    "K_map_45_2 = rotate(K_map_tc, tc.tensor(theta_ls[1], dtype=tc.float32))[3,0]\n",
    "print(K_map_45_2.shape)\n",
    "\n",
    "\n",
    "# K_map = np.load('data/sample1_pad/grid_concentration.npy')[4]\n",
    "\n",
    "# K_map_45_1 = sp_rotate(K_map, -15, reshape=False, order=1)\n",
    "# K_map_45_2 = sp_rotate(K_map, -60, reshape=False, order=2)\n",
    "\n",
    "fig7 = plt.figure(figsize=(15,5))\n",
    "gs7 = gridspec.GridSpec(nrows=1, ncols=3, width_ratios=[1,1,1])\n",
    "\n",
    "fig7_ax1 = fig7.add_subplot(gs7[0,0])\n",
    "# fig7_ax1.axis('off')\n",
    "pos = fig7_ax1.imshow(K_map[0], cmap='jet', vmin=0, vmax=1.4, extent=[0, 3, 3, 0], origin='upper')\n",
    "divider = make_axes_locatable(fig7_ax1)\n",
    "cax = divider.append_axes(\"right\", size=\"5%\", pad=0.05)\n",
    "ticks = np.array([0, 0.2, 0.4, 0.6, 0.8, 1.0, 1.2, 1.4])\n",
    "cbar = fig7.colorbar(pos, cax=cax, ticks=ticks)\n",
    "cbar.ax.tick_params(labelsize=14) \n",
    "cbar.ax.set_title('intensity', size='14')\n",
    "\n",
    "fig7_ax2 = fig7.add_subplot(gs7[0,1])\n",
    "pos = fig7_ax2.imshow(K_map_45_1, cmap='jet', vmin=0, vmax=1.4, extent=[0, 3, 3, 0], origin='upper')\n",
    "# fig7_ax2.axis('off')\n",
    "divider = make_axes_locatable(fig7_ax2)\n",
    "cax = divider.append_axes(\"right\", size=\"5%\", pad=0.05)\n",
    "ticks = np.array([0, 0.2, 0.4, 0.6, 0.8, 1.0, 1.2, 1.4])\n",
    "cbar = fig7.colorbar(pos, cax=cax, ticks=ticks)\n",
    "cbar.ax.tick_params(labelsize=14) \n",
    "cbar.ax.set_title('intensity', size='14')\n",
    "\n",
    "fig7_ax3 = fig7.add_subplot(gs7[0,2])\n",
    "pos = fig7_ax3.imshow(K_map_45_2, cmap='jet', vmin=0, vmax=1.4, extent=[0, 3, 3, 0], origin='upper')\n",
    "# fig7_ax3.axis('off')\n",
    "divider = make_axes_locatable(fig7_ax3)\n",
    "cax = divider.append_axes(\"right\", size=\"5%\", pad=0.05)\n",
    "ticks = np.array([0, 0.2, 0.4, 0.6, 0.8, 1.0, 1.2, 1.4])\n",
    "cbar = fig7.colorbar(pos, cax=cax, ticks=ticks)\n",
    "cbar.ax.tick_params(labelsize=14) \n",
    "cbar.ax.set_title('intensity', size='14')\n",
    "\n",
    "# print(K_map_45_2)\n",
    "# print(K_map_45_1)\n",
    "# print(K_map[4])"
   ]
  },
  {
   "cell_type": "code",
   "execution_count": null,
   "metadata": {},
   "outputs": [],
   "source": []
  },
  {
   "cell_type": "code",
   "execution_count": null,
   "metadata": {},
   "outputs": [],
   "source": []
  }
 ],
 "metadata": {
  "kernelspec": {
   "display_name": "Python 3",
   "language": "python",
   "name": "python3"
  },
  "language_info": {
   "codemirror_mode": {
    "name": "ipython",
    "version": 3
   },
   "file_extension": ".py",
   "mimetype": "text/x-python",
   "name": "python",
   "nbconvert_exporter": "python",
   "pygments_lexer": "ipython3",
   "version": "3.7.7"
  }
 },
 "nbformat": 4,
 "nbformat_minor": 4
}
