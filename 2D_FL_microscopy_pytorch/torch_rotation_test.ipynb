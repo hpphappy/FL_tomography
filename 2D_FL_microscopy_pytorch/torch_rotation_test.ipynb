{
 "cells": [
  {
   "cell_type": "code",
   "execution_count": 11,
   "metadata": {},
   "outputs": [],
   "source": [
    "import numpy as np\n",
    "import matplotlib.pyplot as plt\n",
    "import torch.nn.functional as F\n",
    "from matplotlib import gridspec\n",
    "from mpl_toolkits.axes_grid1 import make_axes_locatable\n",
    "\n",
    "import torch as tc\n",
    "tc.set_default_tensor_type(tc.DoubleTensor)\n",
    "# tc.set_default_tensor_type(tc.FloatTensor)\n",
    "tc.pi = tc.acos(tc.zeros(1)).item() * 2"
   ]
  },
  {
   "cell_type": "code",
   "execution_count": 12,
   "metadata": {},
   "outputs": [
    {
     "data": {
      "text/plain": [
       "finfo(resolution=1e-15, min=-1.7976931348623157e+308, max=1.7976931348623157e+308, dtype=float64)"
      ]
     },
     "execution_count": 12,
     "metadata": {},
     "output_type": "execute_result"
    }
   ],
   "source": [
    "a = tc.pi\n",
    "np.finfo(a)"
   ]
  },
  {
   "cell_type": "code",
   "execution_count": 13,
   "metadata": {},
   "outputs": [
    {
     "data": {
      "text/plain": [
       "torch.float64"
      ]
     },
     "execution_count": 13,
     "metadata": {},
     "output_type": "execute_result"
    }
   ],
   "source": [
    "a = tc.zeros(1)\n",
    "a.dtype"
   ]
  },
  {
   "cell_type": "code",
   "execution_count": 14,
   "metadata": {},
   "outputs": [
    {
     "name": "stdout",
     "output_type": "stream",
     "text": [
      "tensor([1.5708])\n"
     ]
    }
   ],
   "source": [
    "theta_d = tc.tensor([90.0])\n",
    "theta = theta_d * (tc.pi/180)\n",
    "print(theta)"
   ]
  },
  {
   "cell_type": "code",
   "execution_count": 15,
   "metadata": {},
   "outputs": [
    {
     "name": "stdout",
     "output_type": "stream",
     "text": [
      "tensor([1.0000, 0.5000])\n"
     ]
    }
   ],
   "source": [
    "x1 = tc.tensor([1])\n",
    "x2 = tc.tensor([0.5])\n",
    "X = tc.cat([x1,x2])\n",
    "print(X)"
   ]
  },
  {
   "cell_type": "markdown",
   "metadata": {},
   "source": [
    "## Rotate a 2D object with 1 channel"
   ]
  },
  {
   "cell_type": "code",
   "execution_count": 16,
   "metadata": {},
   "outputs": [
    {
     "name": "stdout",
     "output_type": "stream",
     "text": [
      "tensor([[[ 6.1232e-17, -1.0000e+00,  0.0000e+00],\n",
      "         [ 1.0000e+00,  6.1232e-17,  0.0000e+00]]])\n"
     ]
    }
   ],
   "source": [
    "m0 = tc.tensor([tc.cos(theta), -tc.sin(theta), 0.0])\n",
    "m1 = tc.tensor([tc.sin(theta), tc.cos(theta), 0])\n",
    "m = tc.stack([m0, m1]).view(1, 2, 3)\n",
    "print(m)"
   ]
  },
  {
   "cell_type": "code",
   "execution_count": 17,
   "metadata": {},
   "outputs": [
    {
     "name": "stderr",
     "output_type": "stream",
     "text": [
      "/home/hpphappy/anaconda3/envs/joint_XRF_XRT/lib/python3.7/site-packages/torch/nn/functional.py:3447: UserWarning: Default grid_sample and affine_grid behavior has changed to align_corners=False since 1.3.0. Please specify align_corners=True if the old behavior is desired. See the documentation of grid_sample for details.\n",
      "  warnings.warn(\"Default grid_sample and affine_grid behavior has changed \"\n",
      "/home/hpphappy/anaconda3/envs/joint_XRF_XRT/lib/python3.7/site-packages/torch/nn/functional.py:3384: UserWarning: Default grid_sample and affine_grid behavior has changed to align_corners=False since 1.3.0. Please specify align_corners=True if the old behavior is desired. See the documentation of grid_sample for details.\n",
      "  warnings.warn(\"Default grid_sample and affine_grid behavior has changed \"\n"
     ]
    },
    {
     "data": {
      "text/plain": [
       "<matplotlib.image.AxesImage at 0x7fcf2c06d490>"
      ]
     },
     "execution_count": 17,
     "metadata": {},
     "output_type": "execute_result"
    },
    {
     "data": {
      "image/png": "[encoded data removed]",
      "text/plain": [
       "<Figure size 720x720 with 5 Axes>"
      ]
     },
     "metadata": {
      "needs_background": "light"
     },
     "output_type": "display_data"
    }
   ],
   "source": [
    "obj = tc.ones((1,5,10,10))\n",
    "p = tc.full((1,5,5,10), 0.5)\n",
    "obj[:,:,:5,:] = p\n",
    "\n",
    "p2d = (6, 6, 6, 6)\n",
    "obj_pad = F.pad(obj, p2d, \"constant\", 0)\n",
    "\n",
    "\n",
    "g = F.affine_grid(m, obj_pad.shape)\n",
    "q = F.grid_sample(obj_pad, g, padding_mode='border')\n",
    "\n",
    "fig1 = plt.figure(figsize=(10,10))\n",
    "gs1 = gridspec.GridSpec(nrows=2, ncols=2, width_ratios=[1,1])\n",
    "\n",
    "\n",
    "fig1_ax1 = fig1.add_subplot(gs1[0])\n",
    "# fig1_ax1.grid(color='w', linewidth=2)\n",
    "pos = fig1_ax1.imshow(g[0,:,:,0], cmap='jet', vmin=-1.0, vmax=1.0, extent=[0, 22, 0, 22], origin='upper')\n",
    "# ticks = np.array([-1.0, -0.8, -0.6, -0.4, -0.2, 0, 0.2, 0.4, 0.6, 0.8, 1.0])\n",
    "# cbar = fig1.colorbar(pos, cax=cax, ticks=ticks)\n",
    "# cbar.ax.tick_params(labelsize=14) \n",
    "# cbar.ax.set_title('intensity', size='14')\n",
    "\n",
    "fig1_ax2 = fig1.add_subplot(gs1[1])\n",
    "# fig1_ax1.grid(color='w', linewidth=2)\n",
    "pos = fig1_ax2.imshow(g[0,:,:,1], cmap='jet', vmin=-1.0, vmax=1.0, extent=[0, 22, 0, 22], origin='upper')\n",
    "divider = make_axes_locatable(fig1_ax2)\n",
    "cax = divider.append_axes(\"right\", size=\"5%\", pad=0.05)\n",
    "ticks = np.array([-1.0, -0.8, -0.6, -0.4, -0.2, 0, 0.2, 0.4, 0.6, 0.8, 1.0])\n",
    "cbar = fig1.colorbar(pos, cax=cax, ticks=ticks)\n",
    "cbar.ax.tick_params(labelsize=14) \n",
    "cbar.ax.set_title('intensity', size='14')\n",
    "\n",
    "\n",
    "fig1_ax3 = fig1.add_subplot(gs1[2])\n",
    "fig1_ax3.imshow(obj_pad[0,0])\n",
    "\n",
    "fig1_ax4 = fig1.add_subplot(gs1[3])\n",
    "fig1_ax4.imshow(q[0,0])"
   ]
  },
  {
   "cell_type": "markdown",
   "metadata": {},
   "source": [
    "## Rotate a 2D object with multiple channels"
   ]
  },
  {
   "cell_type": "code",
   "execution_count": 18,
   "metadata": {},
   "outputs": [
    {
     "name": "stdout",
     "output_type": "stream",
     "text": [
      "torch.Size([2, 5, 22, 22])\n"
     ]
    },
    {
     "data": {
      "text/plain": [
       "<matplotlib.image.AxesImage at 0x7fcf2478f910>"
      ]
     },
     "execution_count": 18,
     "metadata": {},
     "output_type": "execute_result"
    },
    {
     "data": {
      "image/png": "[encoded data removed]",
      "text/plain": [
       "<Figure size 432x288 with 1 Axes>"
      ]
     },
     "metadata": {
      "needs_background": "light"
     },
     "output_type": "display_data"
    }
   ],
   "source": [
    "obj = tc.ones((2,5,10,10))  #(n_channels, height, side_1_length_of_2d_layer, side_2_length_of_2d_layer)\n",
    "p = tc.full((2,5,5,10), 0.5)\n",
    "obj[:,:,:5,:] = p\n",
    "#p3d = (6, 6, 6, 6, 6, 6)\n",
    "obj_pad = F.pad(obj, p2d, \"constant\", 0)\n",
    "\n",
    "print(obj_pad.shape)\n",
    "plt.imshow(obj_pad[0,0])"
   ]
  },
  {
   "cell_type": "code",
   "execution_count": 19,
   "metadata": {},
   "outputs": [
    {
     "name": "stdout",
     "output_type": "stream",
     "text": [
      "torch.Size([2, 2, 3])\n"
     ]
    },
    {
     "name": "stderr",
     "output_type": "stream",
     "text": [
      "/home/hpphappy/anaconda3/envs/joint_XRF_XRT/lib/python3.7/site-packages/torch/nn/functional.py:3447: UserWarning: Default grid_sample and affine_grid behavior has changed to align_corners=False since 1.3.0. Please specify align_corners=True if the old behavior is desired. See the documentation of grid_sample for details.\n",
      "  warnings.warn(\"Default grid_sample and affine_grid behavior has changed \"\n",
      "/home/hpphappy/anaconda3/envs/joint_XRF_XRT/lib/python3.7/site-packages/torch/nn/functional.py:3384: UserWarning: Default grid_sample and affine_grid behavior has changed to align_corners=False since 1.3.0. Please specify align_corners=True if the old behavior is desired. See the documentation of grid_sample for details.\n",
      "  warnings.warn(\"Default grid_sample and affine_grid behavior has changed \"\n"
     ]
    },
    {
     "data": {
      "text/plain": [
       "<matplotlib.image.AxesImage at 0x7fcf245555d0>"
      ]
     },
     "execution_count": 19,
     "metadata": {},
     "output_type": "execute_result"
    },
    {
     "data": {
      "image/png": "[encoded data removed]",
      "text/plain": [
       "<Figure size 720x720 with 5 Axes>"
      ]
     },
     "metadata": {
      "needs_background": "light"
     },
     "output_type": "display_data"
    }
   ],
   "source": [
    "m0 = tc.tensor([tc.cos(theta), -tc.sin(theta), 0.0])\n",
    "m1 = tc.tensor([tc.sin(theta), tc.cos(theta), 0])\n",
    "m = tc.stack([m0, m1]).view(1, 2, 3)\n",
    "# print(m.shape)\n",
    "m_batch = m.repeat([obj.shape[0], 1, 1])\n",
    "print(m_batch.shape)\n",
    "\n",
    "g = F.affine_grid(m_batch, obj_pad.shape)   # The affine transformation matrix\n",
    "q = F.grid_sample(obj_pad, g, padding_mode='border')\n",
    "\n",
    "fig1 = plt.figure(figsize=(10,10))\n",
    "gs1 = gridspec.GridSpec(nrows=2, ncols=2, width_ratios=[1,1])\n",
    "\n",
    "\n",
    "fig1_ax1 = fig1.add_subplot(gs1[0])\n",
    "# fig1_ax1.grid(color='w', linewidth=2)\n",
    "pos = fig1_ax1.imshow(g[0,:,:,0], cmap='jet', vmin=-1.0, vmax=1.0, extent=[0, 22, 0, 22], origin='upper')\n",
    "# divider = make_axes_locatable(fig1_ax1)\n",
    "cax = divider.append_axes(\"right\", size=\"5%\", pad=0.05)\n",
    "ticks = np.array([-1.0, -0.8, -0.6, -0.4, -0.2, 0, 0.2, 0.4, 0.6, 0.8, 1.0])\n",
    "cbar = fig1.colorbar(pos, cax=cax, ticks=ticks)\n",
    "cbar.ax.tick_params(labelsize=14) \n",
    "cbar.ax.set_title('intensity', size='14')\n",
    "\n",
    "fig1_ax2 = fig1.add_subplot(gs1[1])\n",
    "# fig1_ax1.grid(color='w', linewidth=2)\n",
    "pos = fig1_ax2.imshow(g[0,:,:,1], cmap='jet', vmin=-1.0, vmax=1.0, extent=[0, 22, 0, 22], origin='upper')\n",
    "divider = make_axes_locatable(fig1_ax2)\n",
    "cax = divider.append_axes(\"right\", size=\"5%\", pad=0.05)\n",
    "ticks = np.array([-1.0, -0.8, -0.6, -0.4, -0.2, 0, 0.2, 0.4, 0.6, 0.8, 1.0])\n",
    "cbar = fig1.colorbar(pos, cax=cax, ticks=ticks)\n",
    "cbar.ax.tick_params(labelsize=14) \n",
    "cbar.ax.set_title('intensity', size='14')\n",
    "\n",
    "\n",
    "fig1_ax3 = fig1.add_subplot(gs1[2])\n",
    "fig1_ax3.imshow(obj_pad[0,0])\n",
    "\n",
    "fig1_ax4 = fig1.add_subplot(gs1[3])\n",
    "fig1_ax4.imshow(q[0,0])"
   ]
  },
  {
   "cell_type": "code",
   "execution_count": 20,
   "metadata": {},
   "outputs": [],
   "source": [
    "IMG_DIM = 50\n",
    "transformed = np.zeros((IMG_DIM,IMG_DIM,IMG_DIM))\n",
    "transformed[:,:5,5:10] = 1\n",
    "\n",
    "\n",
    "from skimage.transform import resize\n",
    "resized = resize(transformed, (IMG_DIM, IMG_DIM, IMG_DIM), mode='constant')"
   ]
  },
  {
   "cell_type": "code",
   "execution_count": null,
   "metadata": {},
   "outputs": [],
   "source": []
  }
 ],
 "metadata": {
  "kernelspec": {
   "display_name": "Python 3",
   "language": "python",
   "name": "python3"
  },
  "language_info": {
   "codemirror_mode": {
    "name": "ipython",
    "version": 3
   },
   "file_extension": ".py",
   "mimetype": "text/x-python",
   "name": "python",
   "nbconvert_exporter": "python",
   "pygments_lexer": "ipython3",
   "version": "3.7.7"
  }
 },
 "nbformat": 4,
 "nbformat_minor": 4
}
