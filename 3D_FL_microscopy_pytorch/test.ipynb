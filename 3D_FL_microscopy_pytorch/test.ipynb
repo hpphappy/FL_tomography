{
 "cells": [
  {
   "cell_type": "code",
   "execution_count": 2,
   "metadata": {},
   "outputs": [],
   "source": [
    "import numpy as np\n",
    "import torch as tc"
   ]
  },
  {
   "cell_type": "code",
   "execution_count": 18,
   "metadata": {},
   "outputs": [
    {
     "name": "stdout",
     "output_type": "stream",
     "text": [
      "(3, 3, 6, 1)\n"
     ]
    }
   ],
   "source": [
    "a1 = np.ones((3,3,3,1))\n",
    "a2 = 2 * np.ones((3,3,3,1))\n",
    "\n",
    "ad = np.dstack((a1, a2))\n",
    "print(ad.shape)"
   ]
  },
  {
   "cell_type": "code",
   "execution_count": 19,
   "metadata": {},
   "outputs": [],
   "source": [
    "a1 = np.array([1,2,3])\n",
    "a2 = np.array([1,2,3])"
   ]
  },
  {
   "cell_type": "code",
   "execution_count": 20,
   "metadata": {},
   "outputs": [
    {
     "name": "stdout",
     "output_type": "stream",
     "text": [
      "True\n"
     ]
    }
   ],
   "source": [
    "a3 = (a1 == a2).all()\n",
    "print(a3)"
   ]
  },
  {
   "cell_type": "code",
   "execution_count": 16,
   "metadata": {},
   "outputs": [
    {
     "name": "stdout",
     "output_type": "stream",
     "text": [
      "[1 2 2]\n"
     ]
    }
   ],
   "source": [
    "a = np.clip(a1, 0,2)\n",
    "print(a)"
   ]
  },
  {
   "cell_type": "code",
   "execution_count": 7,
   "metadata": {},
   "outputs": [
    {
     "name": "stdout",
     "output_type": "stream",
     "text": [
      "(2, 3)\n",
      "(0, 3)\n",
      "[[1. 2. 3.]\n",
      " [3. 4. 5.]]\n"
     ]
    }
   ],
   "source": [
    "a = np.array([[1,2,3], [3,4,5]])\n",
    "b = np.stack((np.array([]), np.array([]), np.array([])), axis=-1)\n",
    "c = np.concatenate((a,b))\n",
    "print(a.shape)\n",
    "print(b.shape)\n",
    "print(c)"
   ]
  },
  {
   "cell_type": "code",
   "execution_count": 38,
   "metadata": {},
   "outputs": [
    {
     "name": "stdout",
     "output_type": "stream",
     "text": [
      "Norm got 77.615461700% on the test number 86.\n",
      "Norm got 77.61546170% on the test number 86.\n",
      "Norm got 77.6154617% on the test number 86.\n",
      "Norm got 77.615462% on the test number 86.\n",
      "Norm got 77.61546% on the test number 86.\n",
      "Norm got 77.6155% on the test number 86.\n",
      "Norm got 77.615% on the test number 86.\n",
      "Norm got 77.62% on the test number 86.\n",
      "Norm got 77.6% on the test number 86.\n",
      "Norm got 78% on the test number 86.\n",
      "Norm got 78% on the test number 86.\n",
      "Norm got 77.615462% on the test number 86.\n",
      "\n",
      "\n",
      "Norm got 77.62% on the test number 86.\n",
      "Norm got 77.62% on the test number 86.\n",
      "Norm got 77.615462% on the test number 86.\n",
      "    Norm got    77.62% on the test number       86.\n",
      "Norm     got 77.62   % on the test number 86      .\n"
     ]
    }
   ],
   "source": [
    "#Demonstration of output formats for strings, floats, and integers\n",
    "\n",
    "name = \"Norm\"\n",
    "mark1 = 86\n",
    "mark2 = 77.6154617\n",
    "\n",
    "\n",
    "\n",
    "#note:  the float is rounded up where necessary\n",
    "#note:  to get a percent sign printed, you must use two %% together\n",
    "print(\"%1s got %1.9f%% on the test number %1d.\" % (name,mark2,mark1))\n",
    "print(\"%1s got %1.8f%% on the test number %1d.\" % (name,mark2,mark1))\n",
    "print(\"%1s got %1.7f%% on the test number %1d.\" % (name,mark2,mark1))\n",
    "print(\"%1s got %1.6f%% on the test number %1d.\" % (name,mark2,mark1))\n",
    "print(\"%1s got %1.5f%% on the test number %1d.\" % (name,mark2,mark1))\n",
    "print(\"%1s got %1.4f%% on the test number %1d.\" % (name,mark2,mark1))\n",
    "print(\"%1s got %1.3f%% on the test number %1d.\" % (name,mark2,mark1))\n",
    "print(\"%1s got %1.2f%% on the test number %1d.\" % (name,mark2,mark1))\n",
    "print(\"%1s got %1.1f%% on the test number %1d.\" % (name,mark2,mark1))\n",
    "print(\"%1s got %1.0f%% on the test number %1d.\" % (name,mark2,mark1))\n",
    "print(\"%1s got %1.f%% on the test number %1d.\" % (name,mark2,mark1))\n",
    "print(\"%1s got %1f%% on the test number %1d.\" % (name,mark2,mark1))\n",
    "\n",
    "print(\"\\n\")\n",
    "\n",
    "#note:  for unknown length, use either a '0' or 'nothing'\n",
    "print(\"%0s got %0.2f%% on the test number %0d.\" % (name,mark2,mark1))\n",
    "print(\"%s got %.2f%% on the test number %d.\" % (name,mark2,mark1))\n",
    "print(\"%s got %f%% on the test number %d.\" % (name,mark2,mark1))\n",
    "\n",
    "print\n",
    "\n",
    "#note:  if the field is larger than the value, it is right adjusted.\n",
    "print (\"%8s got %8.2f%% on the test number %8d.\" % (name,mark2,mark1))\n",
    "#note:  the negative number left adjusts.\n",
    "print (\"%-8s got %-8.2f%% on the test number %-8d.\" % (name,mark2,mark1))"
   ]
  },
  {
   "cell_type": "code",
   "execution_count": 39,
   "metadata": {},
   "outputs": [
    {
     "name": "stdout",
     "output_type": "stream",
     "text": [
      "tensor([[[2., 2., 2., 2.]],\n",
      "\n",
      "        [[2., 2., 2., 2.]]])\n",
      "tensor([[[1., 1., 1., 1.],\n",
      "         [1., 1., 1., 1.]],\n",
      "\n",
      "        [[1., 1., 1., 1.],\n",
      "         [1., 1., 1., 1.]]])\n",
      "tensor([[[2., 2., 2., 2.],\n",
      "         [2., 2., 2., 2.]],\n",
      "\n",
      "        [[2., 2., 2., 2.],\n",
      "         [2., 2., 2., 2.]]])\n"
     ]
    }
   ],
   "source": [
    "a = 2 * tc.ones((2,1,4))\n",
    "b = tc.ones((2,2,4))\n",
    "c = a * b\n",
    "\n",
    "print(a)\n",
    "print(b)\n",
    "print(c)"
   ]
  },
  {
   "cell_type": "code",
   "execution_count": 48,
   "metadata": {},
   "outputs": [
    {
     "name": "stdout",
     "output_type": "stream",
     "text": [
      "2\n"
     ]
    }
   ],
   "source": [
    "print(np.int(2.5))"
   ]
  },
  {
   "cell_type": "code",
   "execution_count": null,
   "metadata": {},
   "outputs": [],
   "source": []
  }
 ],
 "metadata": {
  "kernelspec": {
   "display_name": "Python 3",
   "language": "python",
   "name": "python3"
  },
  "language_info": {
   "codemirror_mode": {
    "name": "ipython",
    "version": 3
   },
   "file_extension": ".py",
   "mimetype": "text/x-python",
   "name": "python",
   "nbconvert_exporter": "python",
   "pygments_lexer": "ipython3",
   "version": "3.8.5"
  }
 },
 "nbformat": 4,
 "nbformat_minor": 4
}
