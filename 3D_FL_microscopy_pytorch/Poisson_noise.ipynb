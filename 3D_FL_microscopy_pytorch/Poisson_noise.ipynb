{
 "cells": [
  {
   "cell_type": "code",
   "execution_count": 10,
   "metadata": {},
   "outputs": [],
   "source": [
    "import numpy as np\n",
    "import os\n",
    "import matplotlib.pyplot as plt"
   ]
  },
  {
   "cell_type": "code",
   "execution_count": 11,
   "metadata": {},
   "outputs": [],
   "source": [
    "data_path = \"./data/sample4_data\"\n",
    "f_XRF_data = \"XRF_sample4.npy\"\n",
    "f_XRT_data = \"XRT_sample4.npy\"\n",
    "\n",
    "f_XRF_data_n = \"XRF_sample4_n1e7.npy\"\n",
    "f_XRT_data_n = \"XRT_sample4_n1e7.npy\""
   ]
  },
  {
   "cell_type": "code",
   "execution_count": 12,
   "metadata": {},
   "outputs": [
    {
     "name": "stdout",
     "output_type": "stream",
     "text": [
      "(16, 8, 25)\n",
      "(16, 25)\n"
     ]
    }
   ],
   "source": [
    "XRF_data = np.load(os.path.join(data_path, f_XRF_data)).astype(np.float32) #n_theta, sample_height_n * sample_size_n, n_lines\n",
    "XRT_data = np.load(os.path.join(data_path, f_XRT_data)).astype(np.float32) #n_theta, sample_height_n * sample_size_n\n",
    "print(XRF_data.shape)\n",
    "print(XRT_data.shape)\n"
   ]
  },
  {
   "cell_type": "code",
   "execution_count": 13,
   "metadata": {},
   "outputs": [],
   "source": [
    "XRF_data_n = np.random.poisson(XRF_data)\n",
    "XRT_data_n = np.random.poisson(XRT_data)"
   ]
  },
  {
   "cell_type": "code",
   "execution_count": 14,
   "metadata": {},
   "outputs": [],
   "source": [
    "np.save(os.path.join(data_path, f_XRF_data_n), XRF_data_n)\n",
    "np.save(os.path.join(data_path, f_XRT_data_n), XRT_data_n)"
   ]
  },
  {
   "cell_type": "code",
   "execution_count": 15,
   "metadata": {},
   "outputs": [
    {
     "name": "stdout",
     "output_type": "stream",
     "text": [
      "[[0.0000000e+00 0.0000000e+00 0.0000000e+00 0.0000000e+00 0.0000000e+00\n",
      "  0.0000000e+00 2.8314563e+02 6.3985186e+03 4.4060523e+04 0.0000000e+00\n",
      "  0.0000000e+00 1.0048634e+02 2.4276443e+03 4.3032508e+04 0.0000000e+00\n",
      "  0.0000000e+00 8.8026917e+02 6.6756895e+03 4.4060523e+04 0.0000000e+00\n",
      "  0.0000000e+00 0.0000000e+00 0.0000000e+00 0.0000000e+00 0.0000000e+00]\n",
      " [0.0000000e+00 0.0000000e+00 0.0000000e+00 0.0000000e+00 0.0000000e+00\n",
      "  7.5735271e-02 1.6287587e+03 1.1306602e+04 3.1733373e+04 5.1661899e+03\n",
      "  2.3116330e-02 1.3206339e+03 7.3823984e+03 2.9201719e+04 5.1557236e+03\n",
      "  3.3379246e+01 2.4426802e+03 1.1981215e+04 3.1748229e+04 5.1661899e+03\n",
      "  0.0000000e+00 0.0000000e+00 0.0000000e+00 0.0000000e+00 0.0000000e+00]\n",
      " [0.0000000e+00 0.0000000e+00 0.0000000e+00 0.0000000e+00 0.0000000e+00\n",
      "  3.9928756e-04 2.1700583e+02 1.8865209e+04 2.5597965e+04 5.6162500e+03\n",
      "  1.5814761e-04 9.9782295e+01 1.5051059e+04 2.3246711e+04 5.6162500e+03\n",
      "  5.4253068e+00 9.5270068e+02 1.9731021e+04 2.5630195e+04 5.6162500e+03\n",
      "  0.0000000e+00 0.0000000e+00 0.0000000e+00 0.0000000e+00 0.0000000e+00]\n",
      " [0.0000000e+00 0.0000000e+00 0.0000000e+00 0.0000000e+00 0.0000000e+00\n",
      "  7.3933274e-02 2.2982993e+03 1.1355721e+04 3.1096250e+04 5.1662188e+03\n",
      "  2.0950764e-02 1.9698641e+03 7.5126504e+03 2.8353438e+04 5.1557705e+03\n",
      "  3.2938995e+01 2.8885295e+03 1.1932665e+04 3.1121520e+04 5.1662188e+03\n",
      "  0.0000000e+00 0.0000000e+00 0.0000000e+00 0.0000000e+00 0.0000000e+00]\n",
      " [0.0000000e+00 0.0000000e+00 0.0000000e+00 0.0000000e+00 0.0000000e+00\n",
      "  0.0000000e+00 3.8651288e+02 6.5863486e+03 4.4060520e+04 0.0000000e+00\n",
      "  0.0000000e+00 1.2638583e+02 2.4677585e+03 4.3130398e+04 0.0000000e+00\n",
      "  0.0000000e+00 8.8026929e+02 6.6756904e+03 4.4060520e+04 0.0000000e+00\n",
      "  0.0000000e+00 0.0000000e+00 0.0000000e+00 0.0000000e+00 0.0000000e+00]\n",
      " [0.0000000e+00 0.0000000e+00 0.0000000e+00 0.0000000e+00 0.0000000e+00\n",
      "  2.4088146e+01 1.1040945e+03 9.4210176e+03 3.1724182e+04 5.1661865e+03\n",
      "  6.8327279e+00 7.9378137e+02 6.3972993e+03 2.9302809e+04 5.1564678e+03\n",
      "  3.3379230e+01 2.4426802e+03 1.1981217e+04 3.1748229e+04 5.1661865e+03\n",
      "  0.0000000e+00 0.0000000e+00 0.0000000e+00 0.0000000e+00 0.0000000e+00]\n",
      " [0.0000000e+00 0.0000000e+00 0.0000000e+00 0.0000000e+00 0.0000000e+00\n",
      "  3.9090430e-03 3.1412970e+02 1.4791191e+04 2.5520691e+04 5.6162500e+03\n",
      "  1.5482676e-03 1.5285735e+02 1.2746861e+04 2.3234818e+04 5.6162500e+03\n",
      "  5.4253058e+00 9.5270081e+02 1.9731021e+04 2.5630195e+04 5.6162500e+03\n",
      "  0.0000000e+00 0.0000000e+00 0.0000000e+00 0.0000000e+00 0.0000000e+00]\n",
      " [0.0000000e+00 0.0000000e+00 0.0000000e+00 0.0000000e+00 0.0000000e+00\n",
      "  4.3775723e-03 2.3095271e+03 6.4359663e+03 2.9018951e+04 5.1662134e+03\n",
      "  1.4541389e-03 1.9934889e+03 5.0000547e+03 2.6482865e+04 5.1557656e+03\n",
      "  3.2938984e+01 2.8885286e+03 1.1932667e+04 3.1121525e+04 5.1662134e+03\n",
      "  0.0000000e+00 0.0000000e+00 0.0000000e+00 0.0000000e+00 0.0000000e+00]\n",
      " [0.0000000e+00 0.0000000e+00 0.0000000e+00 0.0000000e+00 0.0000000e+00\n",
      "  0.0000000e+00 3.8151035e+02 2.5412771e+03 4.3460020e+04 1.9510931e-03\n",
      "  0.0000000e+00 1.4155125e+02 1.4347946e+03 4.2462152e+04 1.9510931e-03\n",
      "  0.0000000e+00 8.8027045e+02 6.6756895e+03 4.4060520e+04 1.9510931e-03\n",
      "  0.0000000e+00 0.0000000e+00 0.0000000e+00 0.0000000e+00 0.0000000e+00]\n",
      " [0.0000000e+00 0.0000000e+00 0.0000000e+00 0.0000000e+00 0.0000000e+00\n",
      "  4.9388123e+00 1.3989652e+03 4.4705718e+03 2.2310688e+04 5.1470996e+03\n",
      "  1.5056549e+00 1.1854038e+03 3.8704756e+03 2.1085564e+04 5.1367080e+03\n",
      "  3.3379288e+01 2.4426819e+03 1.1981218e+04 3.1748230e+04 5.1661836e+03\n",
      "  0.0000000e+00 0.0000000e+00 0.0000000e+00 0.0000000e+00 0.0000000e+00]\n",
      " [0.0000000e+00 0.0000000e+00 0.0000000e+00 0.0000000e+00 0.0000000e+00\n",
      "  8.3429419e-05 1.5416712e+01 9.7162578e+03 1.8649393e+04 5.6162524e+03\n",
      "  3.3044358e-05 7.0892763e+00 9.3821035e+03 1.7966859e+04 5.6162524e+03\n",
      "  5.4253087e+00 9.5270044e+02 1.9731020e+04 2.5630199e+04 5.6162524e+03\n",
      "  0.0000000e+00 0.0000000e+00 0.0000000e+00 0.0000000e+00 0.0000000e+00]\n",
      " [0.0000000e+00 0.0000000e+00 0.0000000e+00 0.0000000e+00 0.0000000e+00\n",
      "  4.8549170e+00 1.7980038e+03 4.4449414e+03 1.9925691e+04 5.1471665e+03\n",
      "  1.3720953e+00 1.6186661e+03 4.0218499e+03 1.8414359e+04 5.1367998e+03\n",
      "  3.2938984e+01 2.8885278e+03 1.1932664e+04 3.1121527e+04 5.1662144e+03\n",
      "  0.0000000e+00 0.0000000e+00 0.0000000e+00 0.0000000e+00 0.0000000e+00]\n",
      " [0.0000000e+00 0.0000000e+00 0.0000000e+00 0.0000000e+00 0.0000000e+00\n",
      "  0.0000000e+00 3.0464270e+02 1.8180636e+03 4.2215117e+04 0.0000000e+00\n",
      "  0.0000000e+00 9.4707893e+01 1.0108266e+03 4.1352211e+04 0.0000000e+00\n",
      "  0.0000000e+00 8.8026917e+02 6.6756895e+03 4.4060523e+04 0.0000000e+00\n",
      "  0.0000000e+00 0.0000000e+00 0.0000000e+00 0.0000000e+00 0.0000000e+00]\n",
      " [0.0000000e+00 0.0000000e+00 0.0000000e+00 0.0000000e+00 0.0000000e+00\n",
      "  4.4049281e-03 1.7513105e+03 4.8924268e+03 2.9155607e+04 5.1616948e+03\n",
      "  1.4800942e-03 1.4113026e+03 3.6765737e+03 2.7071416e+04 5.1519927e+03\n",
      "  3.3379269e+01 2.4426797e+03 1.1981217e+04 3.1748227e+04 5.1661846e+03\n",
      "  0.0000000e+00 0.0000000e+00 0.0000000e+00 0.0000000e+00 0.0000000e+00]\n",
      " [0.0000000e+00 0.0000000e+00 0.0000000e+00 0.0000000e+00 0.0000000e+00\n",
      "  3.9090444e-03 2.5175589e+02 1.3214873e+04 2.5087658e+04 5.6162510e+03\n",
      "  1.5482676e-03 1.0936166e+02 1.1438168e+04 2.2863914e+04 5.6162510e+03\n",
      "  5.4253073e+00 9.5270068e+02 1.9731018e+04 2.5630199e+04 5.6162510e+03\n",
      "  0.0000000e+00 0.0000000e+00 0.0000000e+00 0.0000000e+00 0.0000000e+00]\n",
      " [0.0000000e+00 0.0000000e+00 0.0000000e+00 0.0000000e+00 0.0000000e+00\n",
      "  2.3639315e+01 1.3017034e+03 8.4990654e+03 3.0742287e+04 5.1662168e+03\n",
      "  7.1785808e+00 1.0572634e+03 5.8986704e+03 2.7984248e+04 5.1557686e+03\n",
      "  3.2938988e+01 2.8885295e+03 1.1932664e+04 3.1121521e+04 5.1662168e+03\n",
      "  0.0000000e+00 0.0000000e+00 0.0000000e+00 0.0000000e+00 0.0000000e+00]]\n"
     ]
    },
    {
     "data": {
      "image/png": "[encoded data removed]",
      "text/plain": [
       "<Figure size 432x288 with 1 Axes>"
      ]
     },
     "metadata": {
      "needs_background": "light"
     },
     "output_type": "display_data"
    }
   ],
   "source": [
    "plt.imshow(XRF_data[:,0,:]) #0,1,23,45,67\n",
    "print(XRF_data[:,0,:])"
   ]
  },
  {
   "cell_type": "code",
   "execution_count": 16,
   "metadata": {},
   "outputs": [
    {
     "name": "stdout",
     "output_type": "stream",
     "text": [
      "[[    0     0     0     0     0     0   301  6425 44090     0     0   109\n",
      "   2424 43143     0     0   885  6725 43966     0     0     0     0     0\n",
      "      0]\n",
      " [    0     0     0     0     0     1  1583 11269 31553  5143     0  1348\n",
      "   7326 29231  5229    38  2495 11986 31542  5152     0     0     0     0\n",
      "      0]\n",
      " [    0     0     0     0     0     0   243 18904 25499  5579     0   106\n",
      "  15230 22928  5562     9   961 19868 25462  5584     0     0     0     0\n",
      "      0]\n",
      " [    0     0     0     0     0     0  2354 11524 31207  5080     0  1982\n",
      "   7442 28045  5194    30  2957 11813 31166  5052     0     0     0     0\n",
      "      0]\n",
      " [    0     0     0     0     0     0   410  6507 43954     0     0   140\n",
      "   2526 43362     0     0   898  6710 44180     0     0     0     0     0\n",
      "      0]\n",
      " [    0     0     0     0     0    23  1155  9444 31559  5097    10   760\n",
      "   6381 29450  5055    29  2492 11830 31917  5149     0     0     0     0\n",
      "      0]\n",
      " [    0     0     0     0     0     0   345 15031 25398  5678     0   170\n",
      "  12638 23180  5620     6   968 19698 25635  5555     0     0     0     0\n",
      "      0]\n",
      " [    0     0     0     0     0     0  2265  6578 28916  5106     0  2026\n",
      "   5014 26325  5183    30  2876 11855 31051  5137     0     0     0     0\n",
      "      0]\n",
      " [    0     0     0     0     0     0   399  2469 43567     0     0   144\n",
      "   1468 42767     0     0   860  6460 44102     0     0     0     0     0\n",
      "      0]\n",
      " [    0     0     0     0     0     5  1427  4326 22443  5052     1  1225\n",
      "   3917 21150  5174    33  2403 11852 31837  5156     0     0     0     0\n",
      "      0]\n",
      " [    0     0     0     0     0     0    16  9682 18713  5611     0     5\n",
      "   9446 17982  5520     9   971 19461 25821  5545     0     0     0     0\n",
      "      0]\n",
      " [    0     0     0     0     0     6  1788  4390 19960  5198     3  1618\n",
      "   4089 18448  5139    48  2852 11971 31361  5074     0     0     0     0\n",
      "      0]\n",
      " [    0     0     0     0     0     0   321  1829 42051     0     0   103\n",
      "    968 41238     0     0   854  6620 43974     0     0     0     0     0\n",
      "      0]\n",
      " [    0     0     0     0     0     0  1761  4764 28958  5214     0  1355\n",
      "   3604 27202  5250    28  2467 11926 31922  5140     0     0     0     0\n",
      "      0]\n",
      " [    0     0     0     0     0     0   255 13175 25108  5656     0    98\n",
      "  11609 22937  5601     3   920 19364 25713  5719     0     0     0     0\n",
      "      0]\n",
      " [    0     0     0     0     0    28  1331  8493 30427  5159     6  1050\n",
      "   6023 27905  5083    38  2762 12040 31137  5217     0     0     0     0\n",
      "      0]]\n"
     ]
    },
    {
     "data": {
      "image/png": "[encoded data removed]",
      "text/plain": [
       "<Figure size 432x288 with 1 Axes>"
      ]
     },
     "metadata": {
      "needs_background": "light"
     },
     "output_type": "display_data"
    }
   ],
   "source": [
    "plt.imshow(XRF_data_n[:,0,:])\n",
    "print(XRF_data_n[:,0,:])"
   ]
  }
 ],
 "metadata": {
  "kernelspec": {
   "display_name": "Python 3",
   "language": "python",
   "name": "python3"
  },
  "language_info": {
   "codemirror_mode": {
    "name": "ipython",
    "version": 3
   },
   "file_extension": ".py",
   "mimetype": "text/x-python",
   "name": "python",
   "nbconvert_exporter": "python",
   "pygments_lexer": "ipython3",
   "version": "3.8.5"
  }
 },
 "nbformat": 4,
 "nbformat_minor": 4
}
